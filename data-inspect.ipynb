{
 "cells": [
  {
   "cell_type": "code",
   "execution_count": 1,
   "metadata": {},
   "outputs": [
    {
     "name": "stdout",
     "output_type": "stream",
     "text": [
      "Requirement already satisfied: jupyter in e:\\projects\\marjan\\mag-mm\\ul-fri-nlp-course-project-2024-2025-nlpmaxxing\\.venv\\lib\\site-packages (1.1.1)\n",
      "Requirement already satisfied: polars in e:\\projects\\marjan\\mag-mm\\ul-fri-nlp-course-project-2024-2025-nlpmaxxing\\.venv\\lib\\site-packages (1.25.2)\n",
      "Requirement already satisfied: notebook in e:\\projects\\marjan\\mag-mm\\ul-fri-nlp-course-project-2024-2025-nlpmaxxing\\.venv\\lib\\site-packages (from jupyter) (7.3.3)\n",
      "Requirement already satisfied: jupyter-console in e:\\projects\\marjan\\mag-mm\\ul-fri-nlp-course-project-2024-2025-nlpmaxxing\\.venv\\lib\\site-packages (from jupyter) (6.6.3)\n",
      "Requirement already satisfied: nbconvert in e:\\projects\\marjan\\mag-mm\\ul-fri-nlp-course-project-2024-2025-nlpmaxxing\\.venv\\lib\\site-packages (from jupyter) (7.16.6)\n",
      "Requirement already satisfied: ipykernel in e:\\projects\\marjan\\mag-mm\\ul-fri-nlp-course-project-2024-2025-nlpmaxxing\\.venv\\lib\\site-packages (from jupyter) (6.29.5)\n",
      "Requirement already satisfied: ipywidgets in e:\\projects\\marjan\\mag-mm\\ul-fri-nlp-course-project-2024-2025-nlpmaxxing\\.venv\\lib\\site-packages (from jupyter) (8.1.5)\n",
      "Requirement already satisfied: jupyterlab in e:\\projects\\marjan\\mag-mm\\ul-fri-nlp-course-project-2024-2025-nlpmaxxing\\.venv\\lib\\site-packages (from jupyter) (4.3.6)\n",
      "Requirement already satisfied: comm>=0.1.1 in e:\\projects\\marjan\\mag-mm\\ul-fri-nlp-course-project-2024-2025-nlpmaxxing\\.venv\\lib\\site-packages (from ipykernel->jupyter) (0.2.2)\n",
      "Requirement already satisfied: debugpy>=1.6.5 in e:\\projects\\marjan\\mag-mm\\ul-fri-nlp-course-project-2024-2025-nlpmaxxing\\.venv\\lib\\site-packages (from ipykernel->jupyter) (1.8.13)\n",
      "Requirement already satisfied: ipython>=7.23.1 in e:\\projects\\marjan\\mag-mm\\ul-fri-nlp-course-project-2024-2025-nlpmaxxing\\.venv\\lib\\site-packages (from ipykernel->jupyter) (9.0.2)\n",
      "Requirement already satisfied: jupyter-client>=6.1.12 in e:\\projects\\marjan\\mag-mm\\ul-fri-nlp-course-project-2024-2025-nlpmaxxing\\.venv\\lib\\site-packages (from ipykernel->jupyter) (8.6.3)\n",
      "Requirement already satisfied: jupyter-core!=5.0.*,>=4.12 in e:\\projects\\marjan\\mag-mm\\ul-fri-nlp-course-project-2024-2025-nlpmaxxing\\.venv\\lib\\site-packages (from ipykernel->jupyter) (5.7.2)\n",
      "Requirement already satisfied: matplotlib-inline>=0.1 in e:\\projects\\marjan\\mag-mm\\ul-fri-nlp-course-project-2024-2025-nlpmaxxing\\.venv\\lib\\site-packages (from ipykernel->jupyter) (0.1.7)\n",
      "Requirement already satisfied: nest-asyncio in e:\\projects\\marjan\\mag-mm\\ul-fri-nlp-course-project-2024-2025-nlpmaxxing\\.venv\\lib\\site-packages (from ipykernel->jupyter) (1.6.0)\n",
      "Requirement already satisfied: packaging in e:\\projects\\marjan\\mag-mm\\ul-fri-nlp-course-project-2024-2025-nlpmaxxing\\.venv\\lib\\site-packages (from ipykernel->jupyter) (24.2)\n",
      "Requirement already satisfied: psutil in e:\\projects\\marjan\\mag-mm\\ul-fri-nlp-course-project-2024-2025-nlpmaxxing\\.venv\\lib\\site-packages (from ipykernel->jupyter) (7.0.0)\n",
      "Requirement already satisfied: pyzmq>=24 in e:\\projects\\marjan\\mag-mm\\ul-fri-nlp-course-project-2024-2025-nlpmaxxing\\.venv\\lib\\site-packages (from ipykernel->jupyter) (26.3.0)\n",
      "Requirement already satisfied: tornado>=6.1 in e:\\projects\\marjan\\mag-mm\\ul-fri-nlp-course-project-2024-2025-nlpmaxxing\\.venv\\lib\\site-packages (from ipykernel->jupyter) (6.4.2)\n",
      "Requirement already satisfied: traitlets>=5.4.0 in e:\\projects\\marjan\\mag-mm\\ul-fri-nlp-course-project-2024-2025-nlpmaxxing\\.venv\\lib\\site-packages (from ipykernel->jupyter) (5.14.3)\n",
      "Requirement already satisfied: widgetsnbextension~=4.0.12 in e:\\projects\\marjan\\mag-mm\\ul-fri-nlp-course-project-2024-2025-nlpmaxxing\\.venv\\lib\\site-packages (from ipywidgets->jupyter) (4.0.13)\n",
      "Requirement already satisfied: jupyterlab-widgets~=3.0.12 in e:\\projects\\marjan\\mag-mm\\ul-fri-nlp-course-project-2024-2025-nlpmaxxing\\.venv\\lib\\site-packages (from ipywidgets->jupyter) (3.0.13)\n",
      "Requirement already satisfied: prompt-toolkit>=3.0.30 in e:\\projects\\marjan\\mag-mm\\ul-fri-nlp-course-project-2024-2025-nlpmaxxing\\.venv\\lib\\site-packages (from jupyter-console->jupyter) (3.0.50)\n",
      "Requirement already satisfied: pygments in e:\\projects\\marjan\\mag-mm\\ul-fri-nlp-course-project-2024-2025-nlpmaxxing\\.venv\\lib\\site-packages (from jupyter-console->jupyter) (2.19.1)\n",
      "Requirement already satisfied: async-lru>=1.0.0 in e:\\projects\\marjan\\mag-mm\\ul-fri-nlp-course-project-2024-2025-nlpmaxxing\\.venv\\lib\\site-packages (from jupyterlab->jupyter) (2.0.5)\n",
      "Requirement already satisfied: httpx>=0.25.0 in e:\\projects\\marjan\\mag-mm\\ul-fri-nlp-course-project-2024-2025-nlpmaxxing\\.venv\\lib\\site-packages (from jupyterlab->jupyter) (0.28.1)\n",
      "Requirement already satisfied: jinja2>=3.0.3 in e:\\projects\\marjan\\mag-mm\\ul-fri-nlp-course-project-2024-2025-nlpmaxxing\\.venv\\lib\\site-packages (from jupyterlab->jupyter) (3.1.6)\n",
      "Requirement already satisfied: jupyter-lsp>=2.0.0 in e:\\projects\\marjan\\mag-mm\\ul-fri-nlp-course-project-2024-2025-nlpmaxxing\\.venv\\lib\\site-packages (from jupyterlab->jupyter) (2.2.5)\n",
      "Requirement already satisfied: jupyter-server<3,>=2.4.0 in e:\\projects\\marjan\\mag-mm\\ul-fri-nlp-course-project-2024-2025-nlpmaxxing\\.venv\\lib\\site-packages (from jupyterlab->jupyter) (2.15.0)\n",
      "Requirement already satisfied: jupyterlab-server<3,>=2.27.1 in e:\\projects\\marjan\\mag-mm\\ul-fri-nlp-course-project-2024-2025-nlpmaxxing\\.venv\\lib\\site-packages (from jupyterlab->jupyter) (2.27.3)\n",
      "Requirement already satisfied: notebook-shim>=0.2 in e:\\projects\\marjan\\mag-mm\\ul-fri-nlp-course-project-2024-2025-nlpmaxxing\\.venv\\lib\\site-packages (from jupyterlab->jupyter) (0.2.4)\n",
      "Requirement already satisfied: setuptools>=40.8.0 in e:\\projects\\marjan\\mag-mm\\ul-fri-nlp-course-project-2024-2025-nlpmaxxing\\.venv\\lib\\site-packages (from jupyterlab->jupyter) (76.1.0)\n",
      "Requirement already satisfied: beautifulsoup4 in e:\\projects\\marjan\\mag-mm\\ul-fri-nlp-course-project-2024-2025-nlpmaxxing\\.venv\\lib\\site-packages (from nbconvert->jupyter) (4.13.3)\n",
      "Requirement already satisfied: bleach!=5.0.0 in e:\\projects\\marjan\\mag-mm\\ul-fri-nlp-course-project-2024-2025-nlpmaxxing\\.venv\\lib\\site-packages (from bleach[css]!=5.0.0->nbconvert->jupyter) (6.2.0)\n",
      "Requirement already satisfied: defusedxml in e:\\projects\\marjan\\mag-mm\\ul-fri-nlp-course-project-2024-2025-nlpmaxxing\\.venv\\lib\\site-packages (from nbconvert->jupyter) (0.7.1)\n",
      "Requirement already satisfied: jupyterlab-pygments in e:\\projects\\marjan\\mag-mm\\ul-fri-nlp-course-project-2024-2025-nlpmaxxing\\.venv\\lib\\site-packages (from nbconvert->jupyter) (0.3.0)\n",
      "Requirement already satisfied: markupsafe>=2.0 in e:\\projects\\marjan\\mag-mm\\ul-fri-nlp-course-project-2024-2025-nlpmaxxing\\.venv\\lib\\site-packages (from nbconvert->jupyter) (3.0.2)\n",
      "Requirement already satisfied: mistune<4,>=2.0.3 in e:\\projects\\marjan\\mag-mm\\ul-fri-nlp-course-project-2024-2025-nlpmaxxing\\.venv\\lib\\site-packages (from nbconvert->jupyter) (3.1.2)\n",
      "Requirement already satisfied: nbclient>=0.5.0 in e:\\projects\\marjan\\mag-mm\\ul-fri-nlp-course-project-2024-2025-nlpmaxxing\\.venv\\lib\\site-packages (from nbconvert->jupyter) (0.10.2)\n",
      "Requirement already satisfied: nbformat>=5.7 in e:\\projects\\marjan\\mag-mm\\ul-fri-nlp-course-project-2024-2025-nlpmaxxing\\.venv\\lib\\site-packages (from nbconvert->jupyter) (5.10.4)\n",
      "Requirement already satisfied: pandocfilters>=1.4.1 in e:\\projects\\marjan\\mag-mm\\ul-fri-nlp-course-project-2024-2025-nlpmaxxing\\.venv\\lib\\site-packages (from nbconvert->jupyter) (1.5.1)\n",
      "Requirement already satisfied: webencodings in e:\\projects\\marjan\\mag-mm\\ul-fri-nlp-course-project-2024-2025-nlpmaxxing\\.venv\\lib\\site-packages (from bleach!=5.0.0->bleach[css]!=5.0.0->nbconvert->jupyter) (0.5.1)\n",
      "Requirement already satisfied: tinycss2<1.5,>=1.1.0 in e:\\projects\\marjan\\mag-mm\\ul-fri-nlp-course-project-2024-2025-nlpmaxxing\\.venv\\lib\\site-packages (from bleach[css]!=5.0.0->nbconvert->jupyter) (1.4.0)\n",
      "Requirement already satisfied: anyio in e:\\projects\\marjan\\mag-mm\\ul-fri-nlp-course-project-2024-2025-nlpmaxxing\\.venv\\lib\\site-packages (from httpx>=0.25.0->jupyterlab->jupyter) (4.9.0)\n",
      "Requirement already satisfied: certifi in e:\\projects\\marjan\\mag-mm\\ul-fri-nlp-course-project-2024-2025-nlpmaxxing\\.venv\\lib\\site-packages (from httpx>=0.25.0->jupyterlab->jupyter) (2025.1.31)\n",
      "Requirement already satisfied: httpcore==1.* in e:\\projects\\marjan\\mag-mm\\ul-fri-nlp-course-project-2024-2025-nlpmaxxing\\.venv\\lib\\site-packages (from httpx>=0.25.0->jupyterlab->jupyter) (1.0.7)\n",
      "Requirement already satisfied: idna in e:\\projects\\marjan\\mag-mm\\ul-fri-nlp-course-project-2024-2025-nlpmaxxing\\.venv\\lib\\site-packages (from httpx>=0.25.0->jupyterlab->jupyter) (3.10)\n",
      "Requirement already satisfied: h11<0.15,>=0.13 in e:\\projects\\marjan\\mag-mm\\ul-fri-nlp-course-project-2024-2025-nlpmaxxing\\.venv\\lib\\site-packages (from httpcore==1.*->httpx>=0.25.0->jupyterlab->jupyter) (0.14.0)\n",
      "Requirement already satisfied: colorama in e:\\projects\\marjan\\mag-mm\\ul-fri-nlp-course-project-2024-2025-nlpmaxxing\\.venv\\lib\\site-packages (from ipython>=7.23.1->ipykernel->jupyter) (0.4.6)\n",
      "Requirement already satisfied: decorator in e:\\projects\\marjan\\mag-mm\\ul-fri-nlp-course-project-2024-2025-nlpmaxxing\\.venv\\lib\\site-packages (from ipython>=7.23.1->ipykernel->jupyter) (5.2.1)\n",
      "Requirement already satisfied: ipython-pygments-lexers in e:\\projects\\marjan\\mag-mm\\ul-fri-nlp-course-project-2024-2025-nlpmaxxing\\.venv\\lib\\site-packages (from ipython>=7.23.1->ipykernel->jupyter) (1.1.1)\n",
      "Requirement already satisfied: jedi>=0.16 in e:\\projects\\marjan\\mag-mm\\ul-fri-nlp-course-project-2024-2025-nlpmaxxing\\.venv\\lib\\site-packages (from ipython>=7.23.1->ipykernel->jupyter) (0.19.2)\n",
      "Requirement already satisfied: stack_data in e:\\projects\\marjan\\mag-mm\\ul-fri-nlp-course-project-2024-2025-nlpmaxxing\\.venv\\lib\\site-packages (from ipython>=7.23.1->ipykernel->jupyter) (0.6.3)\n",
      "Requirement already satisfied: python-dateutil>=2.8.2 in e:\\projects\\marjan\\mag-mm\\ul-fri-nlp-course-project-2024-2025-nlpmaxxing\\.venv\\lib\\site-packages (from jupyter-client>=6.1.12->ipykernel->jupyter) (2.9.0.post0)\n",
      "Requirement already satisfied: platformdirs>=2.5 in e:\\projects\\marjan\\mag-mm\\ul-fri-nlp-course-project-2024-2025-nlpmaxxing\\.venv\\lib\\site-packages (from jupyter-core!=5.0.*,>=4.12->ipykernel->jupyter) (4.3.6)\n",
      "Requirement already satisfied: pywin32>=300 in e:\\projects\\marjan\\mag-mm\\ul-fri-nlp-course-project-2024-2025-nlpmaxxing\\.venv\\lib\\site-packages (from jupyter-core!=5.0.*,>=4.12->ipykernel->jupyter) (310)\n",
      "Requirement already satisfied: argon2-cffi>=21.1 in e:\\projects\\marjan\\mag-mm\\ul-fri-nlp-course-project-2024-2025-nlpmaxxing\\.venv\\lib\\site-packages (from jupyter-server<3,>=2.4.0->jupyterlab->jupyter) (23.1.0)\n",
      "Requirement already satisfied: jupyter-events>=0.11.0 in e:\\projects\\marjan\\mag-mm\\ul-fri-nlp-course-project-2024-2025-nlpmaxxing\\.venv\\lib\\site-packages (from jupyter-server<3,>=2.4.0->jupyterlab->jupyter) (0.12.0)\n",
      "Requirement already satisfied: jupyter-server-terminals>=0.4.4 in e:\\projects\\marjan\\mag-mm\\ul-fri-nlp-course-project-2024-2025-nlpmaxxing\\.venv\\lib\\site-packages (from jupyter-server<3,>=2.4.0->jupyterlab->jupyter) (0.5.3)\n",
      "Requirement already satisfied: overrides>=5.0 in e:\\projects\\marjan\\mag-mm\\ul-fri-nlp-course-project-2024-2025-nlpmaxxing\\.venv\\lib\\site-packages (from jupyter-server<3,>=2.4.0->jupyterlab->jupyter) (7.7.0)\n",
      "Requirement already satisfied: prometheus-client>=0.9 in e:\\projects\\marjan\\mag-mm\\ul-fri-nlp-course-project-2024-2025-nlpmaxxing\\.venv\\lib\\site-packages (from jupyter-server<3,>=2.4.0->jupyterlab->jupyter) (0.21.1)\n",
      "Requirement already satisfied: pywinpty>=2.0.1 in e:\\projects\\marjan\\mag-mm\\ul-fri-nlp-course-project-2024-2025-nlpmaxxing\\.venv\\lib\\site-packages (from jupyter-server<3,>=2.4.0->jupyterlab->jupyter) (2.0.15)\n",
      "Requirement already satisfied: send2trash>=1.8.2 in e:\\projects\\marjan\\mag-mm\\ul-fri-nlp-course-project-2024-2025-nlpmaxxing\\.venv\\lib\\site-packages (from jupyter-server<3,>=2.4.0->jupyterlab->jupyter) (1.8.3)\n",
      "Requirement already satisfied: terminado>=0.8.3 in e:\\projects\\marjan\\mag-mm\\ul-fri-nlp-course-project-2024-2025-nlpmaxxing\\.venv\\lib\\site-packages (from jupyter-server<3,>=2.4.0->jupyterlab->jupyter) (0.18.1)\n",
      "Requirement already satisfied: websocket-client>=1.7 in e:\\projects\\marjan\\mag-mm\\ul-fri-nlp-course-project-2024-2025-nlpmaxxing\\.venv\\lib\\site-packages (from jupyter-server<3,>=2.4.0->jupyterlab->jupyter) (1.8.0)\n",
      "Requirement already satisfied: babel>=2.10 in e:\\projects\\marjan\\mag-mm\\ul-fri-nlp-course-project-2024-2025-nlpmaxxing\\.venv\\lib\\site-packages (from jupyterlab-server<3,>=2.27.1->jupyterlab->jupyter) (2.17.0)\n",
      "Requirement already satisfied: json5>=0.9.0 in e:\\projects\\marjan\\mag-mm\\ul-fri-nlp-course-project-2024-2025-nlpmaxxing\\.venv\\lib\\site-packages (from jupyterlab-server<3,>=2.27.1->jupyterlab->jupyter) (0.10.0)\n",
      "Requirement already satisfied: jsonschema>=4.18.0 in e:\\projects\\marjan\\mag-mm\\ul-fri-nlp-course-project-2024-2025-nlpmaxxing\\.venv\\lib\\site-packages (from jupyterlab-server<3,>=2.27.1->jupyterlab->jupyter) (4.23.0)\n",
      "Requirement already satisfied: requests>=2.31 in e:\\projects\\marjan\\mag-mm\\ul-fri-nlp-course-project-2024-2025-nlpmaxxing\\.venv\\lib\\site-packages (from jupyterlab-server<3,>=2.27.1->jupyterlab->jupyter) (2.32.3)\n",
      "Requirement already satisfied: fastjsonschema>=2.15 in e:\\projects\\marjan\\mag-mm\\ul-fri-nlp-course-project-2024-2025-nlpmaxxing\\.venv\\lib\\site-packages (from nbformat>=5.7->nbconvert->jupyter) (2.21.1)\n",
      "Requirement already satisfied: wcwidth in e:\\projects\\marjan\\mag-mm\\ul-fri-nlp-course-project-2024-2025-nlpmaxxing\\.venv\\lib\\site-packages (from prompt-toolkit>=3.0.30->jupyter-console->jupyter) (0.2.13)\n",
      "Requirement already satisfied: soupsieve>1.2 in e:\\projects\\marjan\\mag-mm\\ul-fri-nlp-course-project-2024-2025-nlpmaxxing\\.venv\\lib\\site-packages (from beautifulsoup4->nbconvert->jupyter) (2.6)\n",
      "Requirement already satisfied: typing-extensions>=4.0.0 in e:\\projects\\marjan\\mag-mm\\ul-fri-nlp-course-project-2024-2025-nlpmaxxing\\.venv\\lib\\site-packages (from beautifulsoup4->nbconvert->jupyter) (4.12.2)\n",
      "Requirement already satisfied: sniffio>=1.1 in e:\\projects\\marjan\\mag-mm\\ul-fri-nlp-course-project-2024-2025-nlpmaxxing\\.venv\\lib\\site-packages (from anyio->httpx>=0.25.0->jupyterlab->jupyter) (1.3.1)\n",
      "Requirement already satisfied: argon2-cffi-bindings in e:\\projects\\marjan\\mag-mm\\ul-fri-nlp-course-project-2024-2025-nlpmaxxing\\.venv\\lib\\site-packages (from argon2-cffi>=21.1->jupyter-server<3,>=2.4.0->jupyterlab->jupyter) (21.2.0)\n",
      "Requirement already satisfied: parso<0.9.0,>=0.8.4 in e:\\projects\\marjan\\mag-mm\\ul-fri-nlp-course-project-2024-2025-nlpmaxxing\\.venv\\lib\\site-packages (from jedi>=0.16->ipython>=7.23.1->ipykernel->jupyter) (0.8.4)\n",
      "Requirement already satisfied: attrs>=22.2.0 in e:\\projects\\marjan\\mag-mm\\ul-fri-nlp-course-project-2024-2025-nlpmaxxing\\.venv\\lib\\site-packages (from jsonschema>=4.18.0->jupyterlab-server<3,>=2.27.1->jupyterlab->jupyter) (25.3.0)\n",
      "Requirement already satisfied: jsonschema-specifications>=2023.03.6 in e:\\projects\\marjan\\mag-mm\\ul-fri-nlp-course-project-2024-2025-nlpmaxxing\\.venv\\lib\\site-packages (from jsonschema>=4.18.0->jupyterlab-server<3,>=2.27.1->jupyterlab->jupyter) (2024.10.1)\n",
      "Requirement already satisfied: referencing>=0.28.4 in e:\\projects\\marjan\\mag-mm\\ul-fri-nlp-course-project-2024-2025-nlpmaxxing\\.venv\\lib\\site-packages (from jsonschema>=4.18.0->jupyterlab-server<3,>=2.27.1->jupyterlab->jupyter) (0.36.2)\n",
      "Requirement already satisfied: rpds-py>=0.7.1 in e:\\projects\\marjan\\mag-mm\\ul-fri-nlp-course-project-2024-2025-nlpmaxxing\\.venv\\lib\\site-packages (from jsonschema>=4.18.0->jupyterlab-server<3,>=2.27.1->jupyterlab->jupyter) (0.23.1)\n",
      "Requirement already satisfied: python-json-logger>=2.0.4 in e:\\projects\\marjan\\mag-mm\\ul-fri-nlp-course-project-2024-2025-nlpmaxxing\\.venv\\lib\\site-packages (from jupyter-events>=0.11.0->jupyter-server<3,>=2.4.0->jupyterlab->jupyter) (3.3.0)\n",
      "Requirement already satisfied: pyyaml>=5.3 in e:\\projects\\marjan\\mag-mm\\ul-fri-nlp-course-project-2024-2025-nlpmaxxing\\.venv\\lib\\site-packages (from jupyter-events>=0.11.0->jupyter-server<3,>=2.4.0->jupyterlab->jupyter) (6.0.2)\n",
      "Requirement already satisfied: rfc3339-validator in e:\\projects\\marjan\\mag-mm\\ul-fri-nlp-course-project-2024-2025-nlpmaxxing\\.venv\\lib\\site-packages (from jupyter-events>=0.11.0->jupyter-server<3,>=2.4.0->jupyterlab->jupyter) (0.1.4)\n",
      "Requirement already satisfied: rfc3986-validator>=0.1.1 in e:\\projects\\marjan\\mag-mm\\ul-fri-nlp-course-project-2024-2025-nlpmaxxing\\.venv\\lib\\site-packages (from jupyter-events>=0.11.0->jupyter-server<3,>=2.4.0->jupyterlab->jupyter) (0.1.1)\n",
      "Requirement already satisfied: six>=1.5 in e:\\projects\\marjan\\mag-mm\\ul-fri-nlp-course-project-2024-2025-nlpmaxxing\\.venv\\lib\\site-packages (from python-dateutil>=2.8.2->jupyter-client>=6.1.12->ipykernel->jupyter) (1.17.0)\n",
      "Requirement already satisfied: charset-normalizer<4,>=2 in e:\\projects\\marjan\\mag-mm\\ul-fri-nlp-course-project-2024-2025-nlpmaxxing\\.venv\\lib\\site-packages (from requests>=2.31->jupyterlab-server<3,>=2.27.1->jupyterlab->jupyter) (3.4.1)\n",
      "Requirement already satisfied: urllib3<3,>=1.21.1 in e:\\projects\\marjan\\mag-mm\\ul-fri-nlp-course-project-2024-2025-nlpmaxxing\\.venv\\lib\\site-packages (from requests>=2.31->jupyterlab-server<3,>=2.27.1->jupyterlab->jupyter) (2.3.0)\n",
      "Requirement already satisfied: executing>=1.2.0 in e:\\projects\\marjan\\mag-mm\\ul-fri-nlp-course-project-2024-2025-nlpmaxxing\\.venv\\lib\\site-packages (from stack_data->ipython>=7.23.1->ipykernel->jupyter) (2.2.0)\n",
      "Requirement already satisfied: asttokens>=2.1.0 in e:\\projects\\marjan\\mag-mm\\ul-fri-nlp-course-project-2024-2025-nlpmaxxing\\.venv\\lib\\site-packages (from stack_data->ipython>=7.23.1->ipykernel->jupyter) (3.0.0)\n",
      "Requirement already satisfied: pure-eval in e:\\projects\\marjan\\mag-mm\\ul-fri-nlp-course-project-2024-2025-nlpmaxxing\\.venv\\lib\\site-packages (from stack_data->ipython>=7.23.1->ipykernel->jupyter) (0.2.3)\n",
      "Requirement already satisfied: fqdn in e:\\projects\\marjan\\mag-mm\\ul-fri-nlp-course-project-2024-2025-nlpmaxxing\\.venv\\lib\\site-packages (from jsonschema[format-nongpl]>=4.18.0->jupyter-events>=0.11.0->jupyter-server<3,>=2.4.0->jupyterlab->jupyter) (1.5.1)\n",
      "Requirement already satisfied: isoduration in e:\\projects\\marjan\\mag-mm\\ul-fri-nlp-course-project-2024-2025-nlpmaxxing\\.venv\\lib\\site-packages (from jsonschema[format-nongpl]>=4.18.0->jupyter-events>=0.11.0->jupyter-server<3,>=2.4.0->jupyterlab->jupyter) (20.11.0)\n",
      "Requirement already satisfied: jsonpointer>1.13 in e:\\projects\\marjan\\mag-mm\\ul-fri-nlp-course-project-2024-2025-nlpmaxxing\\.venv\\lib\\site-packages (from jsonschema[format-nongpl]>=4.18.0->jupyter-events>=0.11.0->jupyter-server<3,>=2.4.0->jupyterlab->jupyter) (3.0.0)\n",
      "Requirement already satisfied: uri-template in e:\\projects\\marjan\\mag-mm\\ul-fri-nlp-course-project-2024-2025-nlpmaxxing\\.venv\\lib\\site-packages (from jsonschema[format-nongpl]>=4.18.0->jupyter-events>=0.11.0->jupyter-server<3,>=2.4.0->jupyterlab->jupyter) (1.3.0)\n",
      "Requirement already satisfied: webcolors>=24.6.0 in e:\\projects\\marjan\\mag-mm\\ul-fri-nlp-course-project-2024-2025-nlpmaxxing\\.venv\\lib\\site-packages (from jsonschema[format-nongpl]>=4.18.0->jupyter-events>=0.11.0->jupyter-server<3,>=2.4.0->jupyterlab->jupyter) (24.11.1)\n",
      "Requirement already satisfied: cffi>=1.0.1 in e:\\projects\\marjan\\mag-mm\\ul-fri-nlp-course-project-2024-2025-nlpmaxxing\\.venv\\lib\\site-packages (from argon2-cffi-bindings->argon2-cffi>=21.1->jupyter-server<3,>=2.4.0->jupyterlab->jupyter) (1.17.1)\n",
      "Requirement already satisfied: pycparser in e:\\projects\\marjan\\mag-mm\\ul-fri-nlp-course-project-2024-2025-nlpmaxxing\\.venv\\lib\\site-packages (from cffi>=1.0.1->argon2-cffi-bindings->argon2-cffi>=21.1->jupyter-server<3,>=2.4.0->jupyterlab->jupyter) (2.22)\n",
      "Requirement already satisfied: arrow>=0.15.0 in e:\\projects\\marjan\\mag-mm\\ul-fri-nlp-course-project-2024-2025-nlpmaxxing\\.venv\\lib\\site-packages (from isoduration->jsonschema[format-nongpl]>=4.18.0->jupyter-events>=0.11.0->jupyter-server<3,>=2.4.0->jupyterlab->jupyter) (1.3.0)\n",
      "Requirement already satisfied: types-python-dateutil>=2.8.10 in e:\\projects\\marjan\\mag-mm\\ul-fri-nlp-course-project-2024-2025-nlpmaxxing\\.venv\\lib\\site-packages (from arrow>=0.15.0->isoduration->jsonschema[format-nongpl]>=4.18.0->jupyter-events>=0.11.0->jupyter-server<3,>=2.4.0->jupyterlab->jupyter) (2.9.0.20241206)\n",
      "Note: you may need to restart the kernel to use updated packages.\n"
     ]
    },
    {
     "name": "stderr",
     "output_type": "stream",
     "text": [
      "\n",
      "[notice] A new release of pip is available: 24.3.1 -> 25.0.1\n",
      "[notice] To update, run: python.exe -m pip install --upgrade pip\n"
     ]
    }
   ],
   "source": [
    "%pip install jupyter polars"
   ]
  },
  {
   "cell_type": "code",
   "execution_count": 2,
   "metadata": {},
   "outputs": [],
   "source": [
    "import polars as pl"
   ]
  },
  {
   "cell_type": "code",
   "execution_count": 3,
   "metadata": {},
   "outputs": [],
   "source": [
    "dfInputs = pl.read_csv(\"data/inputs-clean.csv\")\n",
    "\n",
    "dfOutputs = pl.read_csv(\"data/outputs.csv\")"
   ]
  },
  {
   "cell_type": "code",
   "execution_count": 4,
   "metadata": {},
   "outputs": [
    {
     "data": {
      "text/html": [
       "<div><style>\n",
       ".dataframe > thead > tr,\n",
       ".dataframe > tbody > tr {\n",
       "  text-align: right;\n",
       "  white-space: pre-wrap;\n",
       "}\n",
       "</style>\n",
       "<small>shape: (9, 24)</small><table border=\"1\" class=\"dataframe\"><thead><tr><th>statistic</th><th>LegacyId</th><th>Datum</th><th>A1</th><th>B1</th><th>C1</th><th>TitlePomembnoSLO</th><th>ContentPomembnoSLO</th><th>TitleNesreceSLO</th><th>ContentNesreceSLO</th><th>TitleZastojiSLO</th><th>ContentZastojiSLO</th><th>TitleVremeSLO</th><th>ContentVremeSLO</th><th>TitleOvireSLO</th><th>ContentOvireSLO</th><th>TitleDeloNaCestiSLO</th><th>ContentDeloNaCestiSLO</th><th>TitleOpozorilaSLO</th><th>ContentOpozorilaSLO</th><th>TitleMednarodneInformacijeSLO</th><th>ContentMednarodneInformacijeSLO</th><th>TitleSplosnoSLO</th><th>ContentSplosnoSLO</th></tr><tr><td>str</td><td>f64</td><td>str</td><td>str</td><td>str</td><td>str</td><td>str</td><td>str</td><td>str</td><td>str</td><td>str</td><td>str</td><td>str</td><td>str</td><td>str</td><td>str</td><td>str</td><td>str</td><td>str</td><td>str</td><td>str</td><td>str</td><td>str</td><td>str</td></tr></thead><tbody><tr><td>&quot;count&quot;</td><td>55001.0</td><td>&quot;55001&quot;</td><td>&quot;55001&quot;</td><td>&quot;55001&quot;</td><td>&quot;55001&quot;</td><td>&quot;54867&quot;</td><td>&quot;54873&quot;</td><td>&quot;54867&quot;</td><td>&quot;54895&quot;</td><td>&quot;54867&quot;</td><td>&quot;54867&quot;</td><td>&quot;54867&quot;</td><td>&quot;55001&quot;</td><td>&quot;54867&quot;</td><td>&quot;54943&quot;</td><td>&quot;54867&quot;</td><td>&quot;55001&quot;</td><td>&quot;54867&quot;</td><td>&quot;55001&quot;</td><td>&quot;55001&quot;</td><td>&quot;54867&quot;</td><td>&quot;55001&quot;</td><td>&quot;55001&quot;</td></tr><tr><td>&quot;null_count&quot;</td><td>0.0</td><td>&quot;0&quot;</td><td>&quot;0&quot;</td><td>&quot;0&quot;</td><td>&quot;0&quot;</td><td>&quot;134&quot;</td><td>&quot;128&quot;</td><td>&quot;134&quot;</td><td>&quot;106&quot;</td><td>&quot;134&quot;</td><td>&quot;134&quot;</td><td>&quot;134&quot;</td><td>&quot;0&quot;</td><td>&quot;134&quot;</td><td>&quot;58&quot;</td><td>&quot;134&quot;</td><td>&quot;0&quot;</td><td>&quot;134&quot;</td><td>&quot;0&quot;</td><td>&quot;0&quot;</td><td>&quot;134&quot;</td><td>&quot;0&quot;</td><td>&quot;0&quot;</td></tr><tr><td>&quot;mean&quot;</td><td>1.3270e6</td><td>null</td><td>null</td><td>null</td><td>null</td><td>null</td><td>null</td><td>null</td><td>null</td><td>null</td><td>null</td><td>null</td><td>null</td><td>null</td><td>null</td><td>null</td><td>null</td><td>null</td><td>null</td><td>null</td><td>null</td><td>null</td><td>null</td></tr><tr><td>&quot;std&quot;</td><td>22141.727651</td><td>null</td><td>null</td><td>null</td><td>null</td><td>null</td><td>null</td><td>null</td><td>null</td><td>null</td><td>null</td><td>null</td><td>null</td><td>null</td><td>null</td><td>null</td><td>null</td><td>null</td><td>null</td><td>null</td><td>null</td><td>null</td><td>null</td></tr><tr><td>&quot;min&quot;</td><td>1.283516e6</td><td>&quot;2022-01-01T00:07:07.000&quot;</td><td>&quot;&lt;p&gt;&lt;strong&gt;Dela bodo opravili …</td><td>&quot;&lt;p&gt;&lt;strong&gt;&lt;/strong&gt;&lt;/p&gt;&lt;p&gt;Dan…</td><td>&quot;NULL&quot;</td><td>&quot;&quot;</td><td>&quot;&quot;</td><td>&quot;&quot;</td><td>&quot;&quot;</td><td>&quot;&quot;</td><td>&quot;&quot;</td><td>&quot;&quot;</td><td>&quot;&quot;</td><td>&quot;&quot;</td><td>&quot;&quot;</td><td>&quot;&quot;</td><td>&quot;&quot;</td><td>&quot;&quot;</td><td>&quot;&quot;</td><td>&quot;&quot;</td><td>&quot;&quot;</td><td>&quot;&quot;</td><td>&quot;&quot;</td></tr><tr><td>&quot;25%&quot;</td><td>1.317258e6</td><td>null</td><td>null</td><td>null</td><td>null</td><td>null</td><td>null</td><td>null</td><td>null</td><td>null</td><td>null</td><td>null</td><td>null</td><td>null</td><td>null</td><td>null</td><td>null</td><td>null</td><td>null</td><td>null</td><td>null</td><td>null</td><td>null</td></tr><tr><td>&quot;50%&quot;</td><td>1.331008e6</td><td>null</td><td>null</td><td>null</td><td>null</td><td>null</td><td>null</td><td>null</td><td>null</td><td>null</td><td>null</td><td>null</td><td>null</td><td>null</td><td>null</td><td>null</td><td>null</td><td>null</td><td>null</td><td>null</td><td>null</td><td>null</td><td>null</td></tr><tr><td>&quot;75%&quot;</td><td>1.344758e6</td><td>null</td><td>null</td><td>null</td><td>null</td><td>null</td><td>null</td><td>null</td><td>null</td><td>null</td><td>null</td><td>null</td><td>null</td><td>null</td><td>null</td><td>null</td><td>null</td><td>null</td><td>null</td><td>null</td><td>null</td><td>null</td><td>null</td></tr><tr><td>&quot;max&quot;</td><td>1.358508e6</td><td>&quot;2022-12-31T23:28:04.000&quot;</td><td>&quot;NULL&quot;</td><td>&quot;NULL&quot;</td><td>&quot;NULL&quot;</td><td>&quot;Predor Karavanke&quot;</td><td>&quot;Štajerska avtocesti je zaprta …</td><td>&quot;Prometni nesreči, oviran prome…</td><td>&quot;Štajerska avtocesta:- oviran p…</td><td>&quot;Zastoji, povečan promet&quot;</td><td>&quot;Žival ovira promet na gorenjsk…</td><td>&quot;Zimske razmere&quot;</td><td>&quot;Zimske razmere:- prepoved za p…</td><td>&quot;okvara avtobusa&quot;</td><td>&quot;Živsl na cesti ovira promet na…</td><td>&quot;Delo na cesti in prireditve&quot;</td><td>&quot;Štajerska avtocesta je med Cel…</td><td>&quot;Zmske razmere&quot;</td><td>&quot;Žival na gorenjski avtocesti m…</td><td>&quot;Tovorni promet&quot;</td><td>&quot;Čakalne dobe: Starod,Obrežje, …</td><td>&quot;Zimske razmere&quot;</td><td>&quot;Škofljica - Ig, do 19. ure.Roč…</td></tr></tbody></table></div>"
      ],
      "text/plain": [
       "shape: (9, 24)\n",
       "┌───────────┬───────────┬───────────┬───────────┬───┬───────────┬───────────┬───────────┬──────────┐\n",
       "│ statistic ┆ LegacyId  ┆ Datum     ┆ A1        ┆ … ┆ TitleMedn ┆ ContentMe ┆ TitleSplo ┆ ContentS │\n",
       "│ ---       ┆ ---       ┆ ---       ┆ ---       ┆   ┆ arodneInf ┆ dnarodneI ┆ snoSLO    ┆ plosnoSL │\n",
       "│ str       ┆ f64       ┆ str       ┆ str       ┆   ┆ ormacijeS ┆ nformacij ┆ ---       ┆ O        │\n",
       "│           ┆           ┆           ┆           ┆   ┆ LO        ┆ eSL…      ┆ str       ┆ ---      │\n",
       "│           ┆           ┆           ┆           ┆   ┆ ---       ┆ ---       ┆           ┆ str      │\n",
       "│           ┆           ┆           ┆           ┆   ┆ str       ┆ str       ┆           ┆          │\n",
       "╞═══════════╪═══════════╪═══════════╪═══════════╪═══╪═══════════╪═══════════╪═══════════╪══════════╡\n",
       "│ count     ┆ 55001.0   ┆ 55001     ┆ 55001     ┆ … ┆ 55001     ┆ 54867     ┆ 55001     ┆ 55001    │\n",
       "│ null_coun ┆ 0.0       ┆ 0         ┆ 0         ┆ … ┆ 0         ┆ 134       ┆ 0         ┆ 0        │\n",
       "│ t         ┆           ┆           ┆           ┆   ┆           ┆           ┆           ┆          │\n",
       "│ mean      ┆ 1.3270e6  ┆ null      ┆ null      ┆ … ┆ null      ┆ null      ┆ null      ┆ null     │\n",
       "│ std       ┆ 22141.727 ┆ null      ┆ null      ┆ … ┆ null      ┆ null      ┆ null      ┆ null     │\n",
       "│           ┆ 651       ┆           ┆           ┆   ┆           ┆           ┆           ┆          │\n",
       "│ min       ┆ 1.283516e ┆ 2022-01-0 ┆ <p><stron ┆ … ┆           ┆           ┆           ┆          │\n",
       "│           ┆ 6         ┆ 1T00:07:0 ┆ g>Dela    ┆   ┆           ┆           ┆           ┆          │\n",
       "│           ┆           ┆ 7.000     ┆ bodo      ┆   ┆           ┆           ┆           ┆          │\n",
       "│           ┆           ┆           ┆ opravili  ┆   ┆           ┆           ┆           ┆          │\n",
       "│           ┆           ┆           ┆ …         ┆   ┆           ┆           ┆           ┆          │\n",
       "│ 25%       ┆ 1.317258e ┆ null      ┆ null      ┆ … ┆ null      ┆ null      ┆ null      ┆ null     │\n",
       "│           ┆ 6         ┆           ┆           ┆   ┆           ┆           ┆           ┆          │\n",
       "│ 50%       ┆ 1.331008e ┆ null      ┆ null      ┆ … ┆ null      ┆ null      ┆ null      ┆ null     │\n",
       "│           ┆ 6         ┆           ┆           ┆   ┆           ┆           ┆           ┆          │\n",
       "│ 75%       ┆ 1.344758e ┆ null      ┆ null      ┆ … ┆ null      ┆ null      ┆ null      ┆ null     │\n",
       "│           ┆ 6         ┆           ┆           ┆   ┆           ┆           ┆           ┆          │\n",
       "│ max       ┆ 1.358508e ┆ 2022-12-3 ┆ NULL      ┆ … ┆ Tovorni   ┆ Čakalne   ┆ Zimske    ┆ Škofljic │\n",
       "│           ┆ 6         ┆ 1T23:28:0 ┆           ┆   ┆ promet    ┆ dobe: Sta ┆ razmere   ┆ a - Ig,  │\n",
       "│           ┆           ┆ 4.000     ┆           ┆   ┆           ┆ rod,Obrež ┆           ┆ do 19.   │\n",
       "│           ┆           ┆           ┆           ┆   ┆           ┆ je, …     ┆           ┆ ure.Roč… │\n",
       "└───────────┴───────────┴───────────┴───────────┴───┴───────────┴───────────┴───────────┴──────────┘"
      ]
     },
     "execution_count": 4,
     "metadata": {},
     "output_type": "execute_result"
    }
   ],
   "source": [
    "dfInputs.describe()"
   ]
  },
  {
   "cell_type": "code",
   "execution_count": 8,
   "metadata": {},
   "outputs": [
    {
     "data": {
      "text/html": [
       "<div><style>\n",
       ".dataframe > thead > tr,\n",
       ".dataframe > tbody > tr {\n",
       "  text-align: right;\n",
       "  white-space: pre-wrap;\n",
       "}\n",
       "</style>\n",
       "<small>shape: (5, 23)</small><table border=\"1\" class=\"dataframe\"><thead><tr><th>LegacyId</th><th>Datum</th><th>A1</th><th>B1</th><th>C1</th><th>TitlePomembnoSLO</th><th>ContentPomembnoSLO</th><th>TitleNesreceSLO</th><th>ContentNesreceSLO</th><th>TitleZastojiSLO</th><th>ContentZastojiSLO</th><th>TitleVremeSLO</th><th>ContentVremeSLO</th><th>TitleOvireSLO</th><th>ContentOvireSLO</th><th>TitleDeloNaCestiSLO</th><th>ContentDeloNaCestiSLO</th><th>TitleOpozorilaSLO</th><th>ContentOpozorilaSLO</th><th>TitleMednarodneInformacijeSLO</th><th>ContentMednarodneInformacijeSLO</th><th>TitleSplosnoSLO</th><th>ContentSplosnoSLO</th></tr><tr><td>i64</td><td>str</td><td>str</td><td>str</td><td>str</td><td>str</td><td>str</td><td>str</td><td>str</td><td>str</td><td>str</td><td>str</td><td>str</td><td>str</td><td>str</td><td>str</td><td>str</td><td>str</td><td>str</td><td>str</td><td>str</td><td>str</td><td>str</td></tr></thead><tbody><tr><td>1283516</td><td>&quot;2022-01-01T00:07:07.000&quot;</td><td>&quot;NULL&quot;</td><td>&quot;&lt;p&gt;&lt;strong&gt;Vreme&lt;/strong&gt;&lt;/p&gt;&lt;…</td><td>&quot;NULL&quot;</td><td>&quot;&quot;</td><td>&quot;&quot;</td><td>&quot;&quot;</td><td>&quot;&quot;</td><td>&quot;&quot;</td><td>&quot;&quot;</td><td>&quot;&quot;</td><td>&quot;Ponekod po Sloveniji megla v p…</td><td>&quot;&quot;</td><td>&quot;&quot;</td><td>&quot;Dela&quot;</td><td>&quot;Na primorski avtocesti je pono…</td><td>&quot;Omejitve za tovorna vozila&quot;</td><td>&quot;Po Sloveniji velja med praznik…</td><td>&quot;&quot;</td><td>&quot;&quot;</td><td>&quot;&quot;</td><td>&quot;&quot;</td></tr><tr><td>1283517</td><td>&quot;2022-01-01T00:07:29.000&quot;</td><td>&quot;NULL&quot;</td><td>&quot;&lt;p&gt;&lt;strong&gt;Vreme&lt;/strong&gt;&lt;/p&gt;&lt;…</td><td>&quot;NULL&quot;</td><td>&quot;&quot;</td><td>&quot;&quot;</td><td>&quot;&quot;</td><td>&quot;&quot;</td><td>&quot;&quot;</td><td>&quot;&quot;</td><td>&quot;&quot;</td><td>&quot;Ponekod po Sloveniji megla v p…</td><td>&quot;&quot;</td><td>&quot;&quot;</td><td>&quot;Dela&quot;</td><td>&quot;Na primorski avtocesti je pono…</td><td>&quot;Omejitve za tovorna vozila&quot;</td><td>&quot;Po Sloveniji velja med praznik…</td><td>&quot;&quot;</td><td>&quot;&quot;</td><td>&quot;&quot;</td><td>&quot;&quot;</td></tr><tr><td>1283518</td><td>&quot;2022-01-01T00:07:30.000&quot;</td><td>&quot;NULL&quot;</td><td>&quot;&lt;p&gt;&lt;strong&gt;Vreme&lt;/strong&gt;&lt;/p&gt;&lt;…</td><td>&quot;NULL&quot;</td><td>&quot;&quot;</td><td>&quot;&quot;</td><td>&quot;&quot;</td><td>&quot;&quot;</td><td>&quot;&quot;</td><td>&quot;&quot;</td><td>&quot;&quot;</td><td>&quot;Ponekod po Sloveniji megla v p…</td><td>&quot;&quot;</td><td>&quot;&quot;</td><td>&quot;Dela&quot;</td><td>&quot;Na primorski avtocesti je pono…</td><td>&quot;Omejitve za tovorna vozila&quot;</td><td>&quot;Po Sloveniji velja med praznik…</td><td>&quot;&quot;</td><td>&quot;&quot;</td><td>&quot;&quot;</td><td>&quot;&quot;</td></tr><tr><td>1283519</td><td>&quot;2022-01-01T00:07:36.000&quot;</td><td>&quot;NULL&quot;</td><td>&quot;&lt;p&gt;&lt;strong&gt;Vreme&lt;/strong&gt;&lt;/p&gt;&lt;…</td><td>&quot;NULL&quot;</td><td>&quot;&quot;</td><td>&quot;&quot;</td><td>&quot;&quot;</td><td>&quot;&quot;</td><td>&quot;&quot;</td><td>&quot;&quot;</td><td>&quot;&quot;</td><td>&quot;Ponekod po Sloveniji megla v p…</td><td>&quot;&quot;</td><td>&quot;&quot;</td><td>&quot;Dela&quot;</td><td>&quot;Na primorski avtocesti je pono…</td><td>&quot;Omejitve za tovorna vozila&quot;</td><td>&quot;Po Sloveniji velja med praznik…</td><td>&quot;&quot;</td><td>&quot;&quot;</td><td>&quot;&quot;</td><td>&quot;&quot;</td></tr><tr><td>1283520</td><td>&quot;2022-01-01T00:16:26.000&quot;</td><td>&quot;NULL&quot;</td><td>&quot;&lt;p&gt;&lt;strong&gt;Vreme&lt;/strong&gt;&lt;/p&gt;&lt;…</td><td>&quot;NULL&quot;</td><td>&quot;&quot;</td><td>&quot;&quot;</td><td>&quot;&quot;</td><td>&quot;&quot;</td><td>&quot;&quot;</td><td>&quot;&quot;</td><td>&quot;&quot;</td><td>&quot;Ponekod po Sloveniji megla v p…</td><td>&quot;&quot;</td><td>&quot;&quot;</td><td>&quot;Dela&quot;</td><td>&quot;Na primorski avtocesti je pono…</td><td>&quot;Omejitve za tovorna vozila&quot;</td><td>&quot;Po Sloveniji velja med praznik…</td><td>&quot;&quot;</td><td>&quot;&quot;</td><td>&quot;&quot;</td><td>&quot;&quot;</td></tr></tbody></table></div>"
      ],
      "text/plain": [
       "shape: (5, 23)\n",
       "┌──────────┬────────────┬──────┬────────────┬───┬────────────┬────────────┬────────────┬───────────┐\n",
       "│ LegacyId ┆ Datum      ┆ A1   ┆ B1         ┆ … ┆ TitleMedna ┆ ContentMed ┆ TitleSplos ┆ ContentSp │\n",
       "│ ---      ┆ ---        ┆ ---  ┆ ---        ┆   ┆ rodneInfor ┆ narodneInf ┆ noSLO      ┆ losnoSLO  │\n",
       "│ i64      ┆ str        ┆ str  ┆ str        ┆   ┆ macijeSLO  ┆ ormacijeSL ┆ ---        ┆ ---       │\n",
       "│          ┆            ┆      ┆            ┆   ┆ ---        ┆ …          ┆ str        ┆ str       │\n",
       "│          ┆            ┆      ┆            ┆   ┆ str        ┆ ---        ┆            ┆           │\n",
       "│          ┆            ┆      ┆            ┆   ┆            ┆ str        ┆            ┆           │\n",
       "╞══════════╪════════════╪══════╪════════════╪═══╪════════════╪════════════╪════════════╪═══════════╡\n",
       "│ 1283516  ┆ 2022-01-01 ┆ NULL ┆ <p><strong ┆ … ┆            ┆            ┆            ┆           │\n",
       "│          ┆ T00:07:07. ┆      ┆ >Vreme</st ┆   ┆            ┆            ┆            ┆           │\n",
       "│          ┆ 000        ┆      ┆ rong></p>< ┆   ┆            ┆            ┆            ┆           │\n",
       "│          ┆            ┆      ┆ …          ┆   ┆            ┆            ┆            ┆           │\n",
       "│ 1283517  ┆ 2022-01-01 ┆ NULL ┆ <p><strong ┆ … ┆            ┆            ┆            ┆           │\n",
       "│          ┆ T00:07:29. ┆      ┆ >Vreme</st ┆   ┆            ┆            ┆            ┆           │\n",
       "│          ┆ 000        ┆      ┆ rong></p>< ┆   ┆            ┆            ┆            ┆           │\n",
       "│          ┆            ┆      ┆ …          ┆   ┆            ┆            ┆            ┆           │\n",
       "│ 1283518  ┆ 2022-01-01 ┆ NULL ┆ <p><strong ┆ … ┆            ┆            ┆            ┆           │\n",
       "│          ┆ T00:07:30. ┆      ┆ >Vreme</st ┆   ┆            ┆            ┆            ┆           │\n",
       "│          ┆ 000        ┆      ┆ rong></p>< ┆   ┆            ┆            ┆            ┆           │\n",
       "│          ┆            ┆      ┆ …          ┆   ┆            ┆            ┆            ┆           │\n",
       "│ 1283519  ┆ 2022-01-01 ┆ NULL ┆ <p><strong ┆ … ┆            ┆            ┆            ┆           │\n",
       "│          ┆ T00:07:36. ┆      ┆ >Vreme</st ┆   ┆            ┆            ┆            ┆           │\n",
       "│          ┆ 000        ┆      ┆ rong></p>< ┆   ┆            ┆            ┆            ┆           │\n",
       "│          ┆            ┆      ┆ …          ┆   ┆            ┆            ┆            ┆           │\n",
       "│ 1283520  ┆ 2022-01-01 ┆ NULL ┆ <p><strong ┆ … ┆            ┆            ┆            ┆           │\n",
       "│          ┆ T00:16:26. ┆      ┆ >Vreme</st ┆   ┆            ┆            ┆            ┆           │\n",
       "│          ┆ 000        ┆      ┆ rong></p>< ┆   ┆            ┆            ┆            ┆           │\n",
       "│          ┆            ┆      ┆ …          ┆   ┆            ┆            ┆            ┆           │\n",
       "└──────────┴────────────┴──────┴────────────┴───┴────────────┴────────────┴────────────┴───────────┘"
      ]
     },
     "execution_count": 8,
     "metadata": {},
     "output_type": "execute_result"
    }
   ],
   "source": [
    "dfInputs.head()"
   ]
  },
  {
   "cell_type": "code",
   "execution_count": null,
   "metadata": {},
   "outputs": [
    {
     "data": {
      "text/html": [
       "<div><style>\n",
       ".dataframe > thead > tr,\n",
       ".dataframe > tbody > tr {\n",
       "  text-align: right;\n",
       "  white-space: pre-wrap;\n",
       "}\n",
       "</style>\n",
       "<small>shape: (9, 5)</small><table border=\"1\" class=\"dataframe\"><thead><tr><th>statistic</th><th>year</th><th>month</th><th>file_name</th><th>content</th></tr><tr><td>str</td><td>f64</td><td>str</td><td>str</td><td>str</td></tr></thead><tbody><tr><td>&quot;count&quot;</td><td>28037.0</td><td>&quot;28037&quot;</td><td>&quot;28037&quot;</td><td>&quot;28037&quot;</td></tr><tr><td>&quot;null_count&quot;</td><td>0.0</td><td>&quot;0&quot;</td><td>&quot;0&quot;</td><td>&quot;0&quot;</td></tr><tr><td>&quot;mean&quot;</td><td>2022.971324</td><td>null</td><td>null</td><td>null</td></tr><tr><td>&quot;std&quot;</td><td>0.805596</td><td>null</td><td>null</td><td>null</td></tr><tr><td>&quot;min&quot;</td><td>2022.0</td><td>&quot;April&quot;</td><td>&quot;Promet&quot;</td><td>&quot;\t\t\t\t\t\t\t8.30\n",
       "\n",
       "Podatki o prometu…</td></tr><tr><td>&quot;25%&quot;</td><td>2022.0</td><td>null</td><td>null</td><td>null</td></tr><tr><td>&quot;50%&quot;</td><td>2023.0</td><td>null</td><td>null</td><td>null</td></tr><tr><td>&quot;75%&quot;</td><td>2024.0</td><td>null</td><td>null</td><td>null</td></tr><tr><td>&quot;max&quot;</td><td>2024.0</td><td>&quot;September&quot;</td><td>&quot;TMP9-2024-99&quot;</td><td>&quot;ujna prometna informacija.&nbsp;&nbsp;&nbsp;&nbsp;…</td></tr></tbody></table></div>"
      ],
      "text/plain": [
       "shape: (9, 5)\n",
       "┌────────────┬─────────────┬───────────┬──────────────┬─────────────────────────────────┐\n",
       "│ statistic  ┆ year        ┆ month     ┆ file_name    ┆ content                         │\n",
       "│ ---        ┆ ---         ┆ ---       ┆ ---          ┆ ---                             │\n",
       "│ str        ┆ f64         ┆ str       ┆ str          ┆ str                             │\n",
       "╞════════════╪═════════════╪═══════════╪══════════════╪═════════════════════════════════╡\n",
       "│ count      ┆ 28037.0     ┆ 28037     ┆ 28037        ┆ 28037                           │\n",
       "│ null_count ┆ 0.0         ┆ 0         ┆ 0            ┆ 0                               │\n",
       "│ mean       ┆ 2022.971324 ┆ null      ┆ null         ┆ null                            │\n",
       "│ std        ┆ 0.805596    ┆ null      ┆ null         ┆ null                            │\n",
       "│ min        ┆ 2022.0      ┆ April     ┆ Promet       ┆ \t\t\t\t\t\t\t8.30                     │\n",
       "│            ┆             ┆           ┆              ┆                                 │\n",
       "│            ┆             ┆           ┆              ┆ Podatki o prometu…              │\n",
       "│ 25%        ┆ 2022.0      ┆ null      ┆ null         ┆ null                            │\n",
       "│ 50%        ┆ 2023.0      ┆ null      ┆ null         ┆ null                            │\n",
       "│ 75%        ┆ 2024.0      ┆ null      ┆ null         ┆ null                            │\n",
       "│ max        ┆ 2024.0      ┆ September ┆ TMP9-2024-99 ┆ ujna prometna informacija.    … │\n",
       "└────────────┴─────────────┴───────────┴──────────────┴─────────────────────────────────┘"
      ]
     },
     "execution_count": 7,
     "metadata": {},
     "output_type": "execute_result"
    }
   ],
   "source": [
    "dfOutputs.describe()\n",
    "\n",
    "# there is one File Name: \"Promet\" in October 2022"
   ]
  },
  {
   "cell_type": "code",
   "execution_count": 9,
   "metadata": {},
   "outputs": [
    {
     "data": {
      "text/html": [
       "<div><style>\n",
       ".dataframe > thead > tr,\n",
       ".dataframe > tbody > tr {\n",
       "  text-align: right;\n",
       "  white-space: pre-wrap;\n",
       "}\n",
       "</style>\n",
       "<small>shape: (5, 4)</small><table border=\"1\" class=\"dataframe\"><thead><tr><th>year</th><th>month</th><th>file_name</th><th>content</th></tr><tr><td>i64</td><td>str</td><td>str</td><td>str</td></tr></thead><tbody><tr><td>2022</td><td>&quot;April&quot;</td><td>&quot;TMP-1&quot;</td><td>&quot;Prometne informacije&nbsp;&nbsp;&nbsp;\t&nbsp;&nbsp;&nbsp;30.…</td></tr><tr><td>2022</td><td>&quot;April&quot;</td><td>&quot;TMP-10&quot;</td><td>&quot;Prometne informacije&nbsp;&nbsp;&nbsp;\t&nbsp;&nbsp;&nbsp;30.…</td></tr><tr><td>2022</td><td>&quot;April&quot;</td><td>&quot;TMP-100&quot;</td><td>&quot;Prometne informacije&nbsp;&nbsp;&nbsp;\t&nbsp;&nbsp;&nbsp;27.…</td></tr><tr><td>2022</td><td>&quot;April&quot;</td><td>&quot;TMP-101&quot;</td><td>&quot;Prometne informacije&nbsp;&nbsp;&nbsp;\t&nbsp;&nbsp;&nbsp;27.…</td></tr><tr><td>2022</td><td>&quot;April&quot;</td><td>&quot;TMP-102&quot;</td><td>&quot;Prometne informacije&nbsp;&nbsp;&nbsp;\t&nbsp;&nbsp;&nbsp;26.…</td></tr></tbody></table></div>"
      ],
      "text/plain": [
       "shape: (5, 4)\n",
       "┌──────┬───────┬───────────┬─────────────────────────────────┐\n",
       "│ year ┆ month ┆ file_name ┆ content                         │\n",
       "│ ---  ┆ ---   ┆ ---       ┆ ---                             │\n",
       "│ i64  ┆ str   ┆ str       ┆ str                             │\n",
       "╞══════╪═══════╪═══════════╪═════════════════════════════════╡\n",
       "│ 2022 ┆ April ┆ TMP-1     ┆ Prometne informacije   \t   30.… │\n",
       "│ 2022 ┆ April ┆ TMP-10    ┆ Prometne informacije   \t   30.… │\n",
       "│ 2022 ┆ April ┆ TMP-100   ┆ Prometne informacije   \t   27.… │\n",
       "│ 2022 ┆ April ┆ TMP-101   ┆ Prometne informacije   \t   27.… │\n",
       "│ 2022 ┆ April ┆ TMP-102   ┆ Prometne informacije   \t   26.… │\n",
       "└──────┴───────┴───────────┴─────────────────────────────────┘"
      ]
     },
     "execution_count": 9,
     "metadata": {},
     "output_type": "execute_result"
    }
   ],
   "source": [
    "dfOutputs.head()"
   ]
  }
 ],
 "metadata": {
  "kernelspec": {
   "display_name": ".venv",
   "language": "python",
   "name": "python3"
  },
  "language_info": {
   "codemirror_mode": {
    "name": "ipython",
    "version": 3
   },
   "file_extension": ".py",
   "mimetype": "text/x-python",
   "name": "python",
   "nbconvert_exporter": "python",
   "pygments_lexer": "ipython3",
   "version": "3.12.9"
  }
 },
 "nbformat": 4,
 "nbformat_minor": 2
}

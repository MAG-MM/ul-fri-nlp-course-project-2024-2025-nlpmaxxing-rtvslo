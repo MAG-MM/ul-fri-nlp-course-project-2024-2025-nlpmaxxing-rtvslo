{
 "cells": [
  {
   "cell_type": "code",
   "execution_count": 84,
   "metadata": {},
   "outputs": [],
   "source": [
    "import polars as pl"
   ]
  },
  {
   "cell_type": "code",
   "execution_count": 85,
   "metadata": {},
   "outputs": [],
   "source": [
    "df_inputs = pl.read_csv(\"../data/inputs-clean.csv\")\n",
    "df_outputs = pl.read_csv(\"../data/outputs-clean.csv\")"
   ]
  },
  {
   "cell_type": "code",
   "execution_count": 86,
   "metadata": {},
   "outputs": [],
   "source": [
    "# rename some columns that are identical for inputs and outputs\n",
    "df_inputs = df_inputs.rename({\"id\": \"id_input\", \"datetime\": \"datetime_original_input\"})\n",
    "df_outputs = df_outputs.rename({\"id\": \"id_output\", \"datetime\": \"datetime_original_output\"})"
   ]
  },
  {
   "cell_type": "code",
   "execution_count": 87,
   "metadata": {},
   "outputs": [],
   "source": [
    "from datetime import datetime, timedelta\n",
    "\n",
    "# prev output time -3 min, output time -3 min \n",
    "# - timedelta(minutes=1)\n",
    "\n",
    "fmt = '%Y-%m-%d %H:%M:%S'\n",
    "\n",
    "def str_to_datetime(dt_str):\n",
    "    return datetime.strptime(dt_str, fmt)\n",
    "\n",
    "def adjust_time(dt):\n",
    "    adjusted_dt = dt - timedelta(minutes=3)\n",
    "    return adjusted_dt"
   ]
  },
  {
   "cell_type": "code",
   "execution_count": 88,
   "metadata": {},
   "outputs": [],
   "source": [
    "# add parsed datetime objects to separate columns, needed for matching inputs and outputs\n",
    "\n",
    "df_inputs = df_inputs.with_columns([\n",
    "    (pl.col(\"datetime_original_input\").map_elements(lambda x: str_to_datetime(x), return_dtype=pl.Datetime).alias('datetime_input')),\n",
    "])\n",
    "\n",
    "df_outputs = df_outputs.with_columns([\n",
    "    (pl.col(\"datetime_original_output\").map_elements(lambda x: str_to_datetime(x), return_dtype=pl.Datetime).alias('datetime_output')),\n",
    "])"
   ]
  },
  {
   "cell_type": "code",
   "execution_count": 89,
   "metadata": {},
   "outputs": [],
   "source": [
    "# sort, just in case\n",
    "df_inputs = df_inputs.sort(\"datetime_input\")\n",
    "df_outputs = df_outputs.sort(\"datetime_output\")"
   ]
  },
  {
   "cell_type": "code",
   "execution_count": 90,
   "metadata": {},
   "outputs": [],
   "source": [
    "# add different effective date as input published seconds before output cannot be valid when humans generated the outputs\n",
    "# prev output time -3 min, output time -3 min \n",
    "\n",
    "df_outputs = df_outputs.with_columns([\n",
    "    (pl.col(\"datetime_output\").map_elements(lambda x: adjust_time(x), return_dtype=pl.Datetime).alias('datetime_output_adjusted')),\n",
    "])"
   ]
  },
  {
   "cell_type": "code",
   "execution_count": 91,
   "metadata": {},
   "outputs": [],
   "source": [
    "# join, input before output\n",
    "result = df_inputs.join_asof(\n",
    "    df_outputs,\n",
    "    left_on=\"datetime_input\",\n",
    "    right_on=\"datetime_output_adjusted\",\n",
    "    strategy=\"forward\"  # finds the first output datetime after input datetime\n",
    ")\n",
    "\n",
    "# store the previous output datetime as a new column\n",
    "df_outputs = df_outputs.with_columns([\n",
    "    pl.col(\"datetime_output_adjusted\").shift(1).alias(\"prev_output_datetime\")\n",
    "])\n",
    "\n",
    "# add the previous output datetime to the results\n",
    "result = result.join(\n",
    "    df_outputs.select([\"datetime_output_adjusted\", \"prev_output_datetime\"]),\n",
    "    on=\"datetime_output_adjusted\"\n",
    ")"
   ]
  },
  {
   "cell_type": "code",
   "execution_count": 92,
   "metadata": {},
   "outputs": [],
   "source": [
    "final = result.filter(\n",
    "    (pl.col(\"datetime_input\") > pl.col(\"prev_output_datetime\")) | pl.col(\"prev_output_datetime\").is_null()\n",
    ")"
   ]
  },
  {
   "cell_type": "code",
   "execution_count": 93,
   "metadata": {},
   "outputs": [],
   "source": [
    "# sometimes, there are inputs at night after 8pm, but the next output is in the morning. We may need to ignore inputs that are older than 3 hours, or that are from the previous day\n",
    "\n",
    "# output 3fb25683-bf09-59ea-b2b4-b9b4a393dce6 has from previous night, too many inputs and they are old\n",
    "\n",
    "def check_if_input_too_old(input_dt, output_dt):\n",
    "    threshold = timedelta(hours=3)\n",
    "    diff = output_dt - input_dt\n",
    "    if diff > threshold:\n",
    "        return True\n",
    "    return False\n",
    "\n",
    "\n",
    "final = (final.with_columns(\n",
    "    pl.struct('datetime_input','datetime_output')\n",
    "    .map_elements(lambda x: check_if_input_too_old(x['datetime_input'], x['datetime_output']), return_dtype=pl.Boolean)\n",
    "    .alias('input_too_old')\n",
    "))\n",
    "\n",
    "final = final.filter(pl.col(\"input_too_old\") == False)"
   ]
  },
  {
   "cell_type": "code",
   "execution_count": 94,
   "metadata": {},
   "outputs": [
    {
     "data": {
      "text/plain": [
       "['id_input',\n",
       " 'datetime_original_input',\n",
       " 'A1',\n",
       " 'B1',\n",
       " 'C1',\n",
       " 'TitlePomembnoSLO',\n",
       " 'ContentPomembnoSLO',\n",
       " 'TitleNesreceSLO',\n",
       " 'ContentNesreceSLO',\n",
       " 'TitleZastojiSLO',\n",
       " 'ContentZastojiSLO',\n",
       " 'TitleVremeSLO',\n",
       " 'ContentVremeSLO',\n",
       " 'TitleOvireSLO',\n",
       " 'ContentOvireSLO',\n",
       " 'TitleDeloNaCestiSLO',\n",
       " 'ContentDeloNaCestiSLO',\n",
       " 'TitleOpozorilaSLO',\n",
       " 'ContentOpozorilaSLO',\n",
       " 'TitleMednarodneInformacijeSLO',\n",
       " 'ContentMednarodneInformacijeSLO',\n",
       " 'TitleSplosnoSLO',\n",
       " 'ContentSplosnoSLO',\n",
       " 'datetime_input',\n",
       " 'id_output',\n",
       " 'datetime_original_output',\n",
       " 'nujna',\n",
       " 'nova',\n",
       " 'programs',\n",
       " 'content',\n",
       " 'file_name',\n",
       " 'datetime_output',\n",
       " 'datetime_output_adjusted',\n",
       " 'prev_output_datetime',\n",
       " 'input_too_old']"
      ]
     },
     "execution_count": 94,
     "metadata": {},
     "output_type": "execute_result"
    }
   ],
   "source": [
    "final.columns"
   ]
  },
  {
   "cell_type": "code",
   "execution_count": 95,
   "metadata": {},
   "outputs": [],
   "source": [
    "final.write_csv(\"../data/dataset-full-debug.csv\")"
   ]
  },
  {
   "cell_type": "code",
   "execution_count": 96,
   "metadata": {},
   "outputs": [],
   "source": [
    "#final.filter(final['id_output'] == '80beefa5-6ea9-568c-88ec-92b024447401')"
   ]
  },
  {
   "cell_type": "code",
   "execution_count": 97,
   "metadata": {},
   "outputs": [],
   "source": [
    "final_ordered_columns = [\"id_output\", \"id_input\", \"datetime_original_input\", \"datetime_original_output\", \"nujna\", \"nova\", \"programs\", \"content\", \"A1\", \"B1\", \"C1\", \"TitlePomembnoSLO\", \"ContentPomembnoSLO\", \"TitleNesreceSLO\", \"ContentNesreceSLO\", \"TitleZastojiSLO\", \"ContentZastojiSLO\", \"TitleVremeSLO\", \"ContentVremeSLO\", \"TitleOvireSLO\", \"ContentOvireSLO\", \"TitleDeloNaCestiSLO\", \"ContentDeloNaCestiSLO\", \"TitleOpozorilaSLO\", \"ContentOpozorilaSLO\", \"TitleMednarodneInformacijeSLO\", \"ContentMednarodneInformacijeSLO\", \"TitleSplosnoSLO\", \"ContentSplosnoSLO\"]\n",
    "\n",
    "final_stripped = final.select(final_ordered_columns)\n",
    "\n",
    "final_stripped = final_stripped.rename({\"datetime_original_input\": \"datetime_input\", \"datetime_original_output\": \"datetime_output\"})"
   ]
  },
  {
   "cell_type": "code",
   "execution_count": 98,
   "metadata": {},
   "outputs": [],
   "source": [
    "final_stripped.write_csv(\"../data/dataset-full.csv\")"
   ]
  },
  {
   "cell_type": "markdown",
   "metadata": {},
   "source": [
    "### Split train and test"
   ]
  },
  {
   "cell_type": "code",
   "execution_count": 99,
   "metadata": {},
   "outputs": [],
   "source": [
    "from sklearn.model_selection import train_test_split"
   ]
  },
  {
   "cell_type": "code",
   "execution_count": 100,
   "metadata": {},
   "outputs": [],
   "source": [
    "unique_outputs = final_stripped.select([\"id_output\", \"datetime_output\"]).unique(subset=\"id_output\", maintain_order=True)"
   ]
  },
  {
   "cell_type": "code",
   "execution_count": 101,
   "metadata": {},
   "outputs": [],
   "source": [
    "train, test = train_test_split(unique_outputs, test_size=0.20, shuffle=False)"
   ]
  },
  {
   "cell_type": "code",
   "execution_count": 102,
   "metadata": {},
   "outputs": [],
   "source": [
    "df_train = final_stripped.filter(\n",
    "    pl.col(\"id_output\").is_in(train[\"id_output\"]),\n",
    ")\n",
    "\n",
    "df_test = final_stripped.filter(\n",
    "    pl.col(\"id_output\").is_in(test[\"id_output\"]),\n",
    ")"
   ]
  },
  {
   "cell_type": "code",
   "execution_count": 103,
   "metadata": {},
   "outputs": [],
   "source": [
    "df_train.write_csv(\"../data/dataset-train.csv\")\n",
    "df_test.write_csv(\"../data/dataset-test.csv\")"
   ]
  },
  {
   "cell_type": "code",
   "execution_count": 104,
   "metadata": {},
   "outputs": [
    {
     "data": {
      "text/html": [
       "<div><style>\n",
       ".dataframe > thead > tr,\n",
       ".dataframe > tbody > tr {\n",
       "  text-align: right;\n",
       "  white-space: pre-wrap;\n",
       "}\n",
       "</style>\n",
       "<small>shape: (9, 30)</small><table border=\"1\" class=\"dataframe\"><thead><tr><th>statistic</th><th>id_output</th><th>id_input</th><th>datetime_input</th><th>datetime_output</th><th>nujna</th><th>nova</th><th>programs</th><th>content</th><th>A1</th><th>B1</th><th>C1</th><th>TitlePomembnoSLO</th><th>ContentPomembnoSLO</th><th>TitleNesreceSLO</th><th>ContentNesreceSLO</th><th>TitleZastojiSLO</th><th>ContentZastojiSLO</th><th>TitleVremeSLO</th><th>ContentVremeSLO</th><th>TitleOvireSLO</th><th>ContentOvireSLO</th><th>TitleDeloNaCestiSLO</th><th>ContentDeloNaCestiSLO</th><th>TitleOpozorilaSLO</th><th>ContentOpozorilaSLO</th><th>TitleMednarodneInformacijeSLO</th><th>ContentMednarodneInformacijeSLO</th><th>TitleSplosnoSLO</th><th>ContentSplosnoSLO</th></tr><tr><td>str</td><td>str</td><td>str</td><td>str</td><td>str</td><td>f64</td><td>f64</td><td>str</td><td>str</td><td>str</td><td>str</td><td>str</td><td>str</td><td>str</td><td>str</td><td>str</td><td>str</td><td>str</td><td>str</td><td>str</td><td>str</td><td>str</td><td>str</td><td>str</td><td>str</td><td>str</td><td>str</td><td>str</td><td>str</td><td>str</td></tr></thead><tbody><tr><td>&quot;count&quot;</td><td>&quot;35009&quot;</td><td>&quot;35009&quot;</td><td>&quot;35009&quot;</td><td>&quot;35009&quot;</td><td>35009.0</td><td>35009.0</td><td>&quot;35009&quot;</td><td>&quot;35009&quot;</td><td>&quot;35009&quot;</td><td>&quot;35009&quot;</td><td>&quot;35009&quot;</td><td>&quot;0&quot;</td><td>&quot;2561&quot;</td><td>&quot;0&quot;</td><td>&quot;16978&quot;</td><td>&quot;122&quot;</td><td>&quot;26775&quot;</td><td>&quot;837&quot;</td><td>&quot;9005&quot;</td><td>&quot;74&quot;</td><td>&quot;22725&quot;</td><td>&quot;10470&quot;</td><td>&quot;35009&quot;</td><td>&quot;6399&quot;</td><td>&quot;7930&quot;</td><td>&quot;23970&quot;</td><td>&quot;6725&quot;</td><td>&quot;31351&quot;</td><td>&quot;10254&quot;</td></tr><tr><td>&quot;null_count&quot;</td><td>&quot;0&quot;</td><td>&quot;0&quot;</td><td>&quot;0&quot;</td><td>&quot;0&quot;</td><td>0.0</td><td>0.0</td><td>&quot;0&quot;</td><td>&quot;0&quot;</td><td>&quot;0&quot;</td><td>&quot;0&quot;</td><td>&quot;0&quot;</td><td>&quot;35009&quot;</td><td>&quot;32448&quot;</td><td>&quot;35009&quot;</td><td>&quot;18031&quot;</td><td>&quot;34887&quot;</td><td>&quot;8234&quot;</td><td>&quot;34172&quot;</td><td>&quot;26004&quot;</td><td>&quot;34935&quot;</td><td>&quot;12284&quot;</td><td>&quot;24539&quot;</td><td>&quot;0&quot;</td><td>&quot;28610&quot;</td><td>&quot;27079&quot;</td><td>&quot;11039&quot;</td><td>&quot;28284&quot;</td><td>&quot;3658&quot;</td><td>&quot;24755&quot;</td></tr><tr><td>&quot;mean&quot;</td><td>null</td><td>null</td><td>null</td><td>null</td><td>0.004884</td><td>0.048502</td><td>null</td><td>null</td><td>null</td><td>null</td><td>null</td><td>null</td><td>null</td><td>null</td><td>null</td><td>null</td><td>null</td><td>null</td><td>null</td><td>null</td><td>null</td><td>null</td><td>null</td><td>null</td><td>null</td><td>null</td><td>null</td><td>null</td><td>null</td></tr><tr><td>&quot;std&quot;</td><td>null</td><td>null</td><td>null</td><td>null</td><td>0.069719</td><td>0.214827</td><td>null</td><td>null</td><td>null</td><td>null</td><td>null</td><td>null</td><td>null</td><td>null</td><td>null</td><td>null</td><td>null</td><td>null</td><td>null</td><td>null</td><td>null</td><td>null</td><td>null</td><td>null</td><td>null</td><td>null</td><td>null</td><td>null</td><td>null</td></tr><tr><td>&quot;min&quot;</td><td>&quot;00019211-9609-5556-9ce3-0d2daa…</td><td>&quot;00013a62-33b6-5afb-aad0-034f36…</td><td>&quot;2024-05-01 04:57:16&quot;</td><td>&quot;2024-05-01 07:00:00&quot;</td><td>0.0</td><td>0.0</td><td>&quot;&quot;</td><td>&quot;NOVA Prometna informacija&nbsp;&nbsp;&nbsp;&nbsp;&nbsp;…</td><td>&quot;NULL&quot;</td><td>&quot;Burja \n",
       "\n",
       " Na vipavski hitri ces…</td><td>&quot;NULL&quot;</td><td>null</td><td>&quot;Avtocesta med razcepom Gabrk i…</td><td>null</td><td>&quot; \n",
       "\n",
       " Na cesti Krvavi Potok - Ko…</td><td>&quot;Zastoji, povečan promet&quot;</td><td>&quot; \n",
       "\n",
       " Na glavnih in regionalnih …</td><td>&quot;Burja&quot;</td><td>&quot; \n",
       "\n",
       " Cesta Brestanica - Gaj - S…</td><td>&quot;Italija&quot;</td><td>&quot; \n",
       "\n",
       "&nbsp;&nbsp;\n",
       "\n",
       " Na cesti Kočevje - Lju…</td><td>&quot;Delovne zapore&quot;</td><td>&quot; \n",
       "\n",
       " Cesta Litija - Zagorje, pr…</td><td>&quot;Prireditve&quot;</td><td>&quot; \n",
       "\n",
       " Več.&quot;</td><td>&quot;Prireditve&quot;</td><td>&quot; \n",
       "\n",
       " Prireditve na povezavi.&quot;</td><td>&quot;Italija&quot;</td><td>&quot; \n",
       "\n",
       " Na cesti Ormož - Središče …</td></tr><tr><td>&quot;25%&quot;</td><td>null</td><td>null</td><td>null</td><td>null</td><td>0.0</td><td>0.0</td><td>null</td><td>null</td><td>null</td><td>null</td><td>null</td><td>null</td><td>null</td><td>null</td><td>null</td><td>null</td><td>null</td><td>null</td><td>null</td><td>null</td><td>null</td><td>null</td><td>null</td><td>null</td><td>null</td><td>null</td><td>null</td><td>null</td><td>null</td></tr><tr><td>&quot;50%&quot;</td><td>null</td><td>null</td><td>null</td><td>null</td><td>0.0</td><td>0.0</td><td>null</td><td>null</td><td>null</td><td>null</td><td>null</td><td>null</td><td>null</td><td>null</td><td>null</td><td>null</td><td>null</td><td>null</td><td>null</td><td>null</td><td>null</td><td>null</td><td>null</td><td>null</td><td>null</td><td>null</td><td>null</td><td>null</td><td>null</td></tr><tr><td>&quot;75%&quot;</td><td>null</td><td>null</td><td>null</td><td>null</td><td>0.0</td><td>0.0</td><td>null</td><td>null</td><td>null</td><td>null</td><td>null</td><td>null</td><td>null</td><td>null</td><td>null</td><td>null</td><td>null</td><td>null</td><td>null</td><td>null</td><td>null</td><td>null</td><td>null</td><td>null</td><td>null</td><td>null</td><td>null</td><td>null</td><td>null</td></tr><tr><td>&quot;max&quot;</td><td>&quot;ffe6165f-d231-59e6-99c8-3e8cdd…</td><td>&quot;fffcc5ca-6395-521e-9d3d-b9391b…</td><td>&quot;2024-12-31 20:24:03&quot;</td><td>&quot;2024-12-31 21:00:00&quot;</td><td>1.0</td><td>1.0</td><td>&quot;3,2&quot;</td><td>&quot;rometne informacije&nbsp;&nbsp;&nbsp;&nbsp;&nbsp;&nbsp;&nbsp;16. …</td><td>&quot;Pozor! \n",
       "\n",
       " Štajersko avtocesto …</td><td>&quot;ovire \n",
       "\n",
       " Na primorski avtocest…</td><td>&quot;NULL&quot;</td><td>null</td><td>&quot;Štajersko avtocesto med Rogozo…</td><td>null</td><td>&quot;Železniki - Petrovo Brdo, pri …</td><td>&quot;Zastoji, povečan promet&quot;</td><td>&quot;Štajerska:- na avtocesti med Ž…</td><td>&quot;Burja&quot;</td><td>&quot;Zimske razmere:- Prepoved za p…</td><td>&quot;Okvari vozil&quot;</td><td>&quot;Živali, oviran promet:- na vip…</td><td>&quot;Popolne zapore&quot;</td><td>&quot;Štajerske avtoceste med Blagov…</td><td>&quot;ovire&quot;</td><td>&quot;Štajerska avtocesta bo zaprta …</td><td>&quot;Vreme&quot;</td><td>&quot;• Zastoj tovornih vozil je na …</td><td>&quot;Tovorni promet&quot;</td><td>&quot;Zaradi tehnične okvare ne delu…</td></tr></tbody></table></div>"
      ],
      "text/plain": [
       "shape: (9, 30)\n",
       "┌───────────┬───────────┬───────────┬───────────┬───┬───────────┬───────────┬───────────┬──────────┐\n",
       "│ statistic ┆ id_output ┆ id_input  ┆ datetime_ ┆ … ┆ TitleMedn ┆ ContentMe ┆ TitleSplo ┆ ContentS │\n",
       "│ ---       ┆ ---       ┆ ---       ┆ input     ┆   ┆ arodneInf ┆ dnarodneI ┆ snoSLO    ┆ plosnoSL │\n",
       "│ str       ┆ str       ┆ str       ┆ ---       ┆   ┆ ormacijeS ┆ nformacij ┆ ---       ┆ O        │\n",
       "│           ┆           ┆           ┆ str       ┆   ┆ LO        ┆ eSL…      ┆ str       ┆ ---      │\n",
       "│           ┆           ┆           ┆           ┆   ┆ ---       ┆ ---       ┆           ┆ str      │\n",
       "│           ┆           ┆           ┆           ┆   ┆ str       ┆ str       ┆           ┆          │\n",
       "╞═══════════╪═══════════╪═══════════╪═══════════╪═══╪═══════════╪═══════════╪═══════════╪══════════╡\n",
       "│ count     ┆ 35009     ┆ 35009     ┆ 35009     ┆ … ┆ 23970     ┆ 6725      ┆ 31351     ┆ 10254    │\n",
       "│ null_coun ┆ 0         ┆ 0         ┆ 0         ┆ … ┆ 11039     ┆ 28284     ┆ 3658      ┆ 24755    │\n",
       "│ t         ┆           ┆           ┆           ┆   ┆           ┆           ┆           ┆          │\n",
       "│ mean      ┆ null      ┆ null      ┆ null      ┆ … ┆ null      ┆ null      ┆ null      ┆ null     │\n",
       "│ std       ┆ null      ┆ null      ┆ null      ┆ … ┆ null      ┆ null      ┆ null      ┆ null     │\n",
       "│ min       ┆ 00019211- ┆ 00013a62- ┆ 2024-05-0 ┆ … ┆ Prireditv ┆           ┆ Italija   ┆          │\n",
       "│           ┆ 9609-5556 ┆ 33b6-5afb ┆ 1         ┆   ┆ e         ┆           ┆           ┆          │\n",
       "│           ┆ -9ce3-0d2 ┆ -aad0-034 ┆ 04:57:16  ┆   ┆           ┆ Prireditv ┆           ┆ Na cesti │\n",
       "│           ┆ daa…      ┆ f36…      ┆           ┆   ┆           ┆ e na      ┆           ┆ Ormož -  │\n",
       "│           ┆           ┆           ┆           ┆   ┆           ┆ povezavi. ┆           ┆ Središče │\n",
       "│           ┆           ┆           ┆           ┆   ┆           ┆           ┆           ┆ …        │\n",
       "│ 25%       ┆ null      ┆ null      ┆ null      ┆ … ┆ null      ┆ null      ┆ null      ┆ null     │\n",
       "│ 50%       ┆ null      ┆ null      ┆ null      ┆ … ┆ null      ┆ null      ┆ null      ┆ null     │\n",
       "│ 75%       ┆ null      ┆ null      ┆ null      ┆ … ┆ null      ┆ null      ┆ null      ┆ null     │\n",
       "│ max       ┆ ffe6165f- ┆ fffcc5ca- ┆ 2024-12-3 ┆ … ┆ Vreme     ┆ • Zastoj  ┆ Tovorni   ┆ Zaradi   │\n",
       "│           ┆ d231-59e6 ┆ 6395-521e ┆ 1         ┆   ┆           ┆ tovornih  ┆ promet    ┆ tehnične │\n",
       "│           ┆ -99c8-3e8 ┆ -9d3d-b93 ┆ 20:24:03  ┆   ┆           ┆ vozil je  ┆           ┆ okvare   │\n",
       "│           ┆ cdd…      ┆ 91b…      ┆           ┆   ┆           ┆ na …      ┆           ┆ ne delu… │\n",
       "└───────────┴───────────┴───────────┴───────────┴───┴───────────┴───────────┴───────────┴──────────┘"
      ]
     },
     "execution_count": 104,
     "metadata": {},
     "output_type": "execute_result"
    }
   ],
   "source": [
    "df_test.unique(subset=\"id_output\", maintain_order=True).describe()\n",
    "df_test.describe()"
   ]
  },
  {
   "cell_type": "code",
   "execution_count": 105,
   "metadata": {},
   "outputs": [
    {
     "data": {
      "text/html": [
       "<div><style>\n",
       ".dataframe > thead > tr,\n",
       ".dataframe > tbody > tr {\n",
       "  text-align: right;\n",
       "  white-space: pre-wrap;\n",
       "}\n",
       "</style>\n",
       "<small>shape: (9, 3)</small><table border=\"1\" class=\"dataframe\"><thead><tr><th>statistic</th><th>id_output</th><th>datetime_output</th></tr><tr><td>str</td><td>str</td><td>str</td></tr></thead><tbody><tr><td>&quot;count&quot;</td><td>&quot;4625&quot;</td><td>&quot;4625&quot;</td></tr><tr><td>&quot;null_count&quot;</td><td>&quot;0&quot;</td><td>&quot;0&quot;</td></tr><tr><td>&quot;mean&quot;</td><td>null</td><td>null</td></tr><tr><td>&quot;std&quot;</td><td>null</td><td>null</td></tr><tr><td>&quot;min&quot;</td><td>&quot;00019211-9609-5556-9ce3-0d2daa…</td><td>&quot;2024-05-01 07:00:00&quot;</td></tr><tr><td>&quot;25%&quot;</td><td>null</td><td>null</td></tr><tr><td>&quot;50%&quot;</td><td>null</td><td>null</td></tr><tr><td>&quot;75%&quot;</td><td>null</td><td>null</td></tr><tr><td>&quot;max&quot;</td><td>&quot;ffe6165f-d231-59e6-99c8-3e8cdd…</td><td>&quot;2024-12-31 21:00:00&quot;</td></tr></tbody></table></div>"
      ],
      "text/plain": [
       "shape: (9, 3)\n",
       "┌────────────┬─────────────────────────────────┬─────────────────────┐\n",
       "│ statistic  ┆ id_output                       ┆ datetime_output     │\n",
       "│ ---        ┆ ---                             ┆ ---                 │\n",
       "│ str        ┆ str                             ┆ str                 │\n",
       "╞════════════╪═════════════════════════════════╪═════════════════════╡\n",
       "│ count      ┆ 4625                            ┆ 4625                │\n",
       "│ null_count ┆ 0                               ┆ 0                   │\n",
       "│ mean       ┆ null                            ┆ null                │\n",
       "│ std        ┆ null                            ┆ null                │\n",
       "│ min        ┆ 00019211-9609-5556-9ce3-0d2daa… ┆ 2024-05-01 07:00:00 │\n",
       "│ 25%        ┆ null                            ┆ null                │\n",
       "│ 50%        ┆ null                            ┆ null                │\n",
       "│ 75%        ┆ null                            ┆ null                │\n",
       "│ max        ┆ ffe6165f-d231-59e6-99c8-3e8cdd… ┆ 2024-12-31 21:00:00 │\n",
       "└────────────┴─────────────────────────────────┴─────────────────────┘"
      ]
     },
     "execution_count": 105,
     "metadata": {},
     "output_type": "execute_result"
    }
   ],
   "source": [
    "test.describe()"
   ]
  }
 ],
 "metadata": {
  "kernelspec": {
   "display_name": ".venv",
   "language": "python",
   "name": "python3"
  },
  "language_info": {
   "codemirror_mode": {
    "name": "ipython",
    "version": 3
   },
   "file_extension": ".py",
   "mimetype": "text/x-python",
   "name": "python",
   "nbconvert_exporter": "python",
   "pygments_lexer": "ipython3",
   "version": "3.12.9"
  }
 },
 "nbformat": 4,
 "nbformat_minor": 2
}

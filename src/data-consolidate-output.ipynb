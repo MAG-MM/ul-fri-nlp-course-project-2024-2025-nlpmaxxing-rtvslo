{
 "cells": [
  {
   "cell_type": "markdown",
   "metadata": {},
   "source": [
    "### Parse the expected outputs from RTF files and store them in a csv"
   ]
  },
  {
   "cell_type": "code",
   "execution_count": 5,
   "metadata": {},
   "outputs": [],
   "source": [
    "import polars as pl"
   ]
  },
  {
   "cell_type": "code",
   "execution_count": 6,
   "metadata": {},
   "outputs": [],
   "source": [
    "from os import listdir, path\n",
    "\n",
    "year_directories = \"../data/raw/Podatki - rtvslo.si\"\n",
    "\n",
    "years = listdir(year_directories)\n",
    "\n",
    "file_list = []\n",
    "\n",
    "for year in years:\n",
    "    year_path = year_directories + \"/\" + year\n",
    "\n",
    "    if path.isdir(year_path) != True:\n",
    "        continue\n",
    "\n",
    "    year_months = listdir(year_path)\n",
    "\n",
    "    year_stripped = year.replace(\"Promet \", \"\")\n",
    "\n",
    "    for month in year_months:\n",
    "        month_path = year_path + \"/\" + month\n",
    "\n",
    "        month_files = listdir(month_path)\n",
    "        \n",
    "        month_stripped = month.replace(\" \" + year_stripped, \"\")\n",
    "\n",
    "        for single_file in month_files:\n",
    "\n",
    "            file_stripped = single_file.replace(\".rtf\", \"\")\n",
    "\n",
    "            file_list.append({\n",
    "                \"year\": year_stripped,\n",
    "                \"month\": month_stripped,\n",
    "                \"file_name\": file_stripped,\n",
    "                \"path\": month_path + \"/\" + single_file,\n",
    "            })"
   ]
  },
  {
   "cell_type": "code",
   "execution_count": 7,
   "metadata": {},
   "outputs": [
    {
     "name": "stderr",
     "output_type": "stream",
     "text": [
      "100%|██████████| 28037/28037 [00:30<00:00, 905.66it/s]\n"
     ]
    }
   ],
   "source": [
    "from tqdm import tqdm\n",
    "from striprtf import striprtf\n",
    "\n",
    "outputs = {\n",
    "    \"year\": [],\n",
    "    \"month\": [],\n",
    "    \"file_name\": [],\n",
    "    \"content\": []\n",
    "}\n",
    "\n",
    "for item in tqdm(file_list):\n",
    "    with open(item['path'], 'r') as file:\n",
    "        raw_content = file.read()\n",
    "        text = striprtf.rtf_to_text(raw_content)\n",
    "\n",
    "        outputs[\"year\"].append(item['year'])\n",
    "        outputs[\"month\"].append(item['month'])\n",
    "        outputs[\"file_name\"].append(item['file_name'])\n",
    "        outputs[\"content\"].append(text)"
   ]
  },
  {
   "cell_type": "code",
   "execution_count": 8,
   "metadata": {},
   "outputs": [],
   "source": [
    "dfOutputs = pl.DataFrame(outputs)"
   ]
  },
  {
   "cell_type": "code",
   "execution_count": 9,
   "metadata": {},
   "outputs": [
    {
     "data": {
      "text/html": [
       "<div><style>\n",
       ".dataframe > thead > tr,\n",
       ".dataframe > tbody > tr {\n",
       "  text-align: right;\n",
       "  white-space: pre-wrap;\n",
       "}\n",
       "</style>\n",
       "<small>shape: (5, 4)</small><table border=\"1\" class=\"dataframe\"><thead><tr><th>year</th><th>month</th><th>file_name</th><th>content</th></tr><tr><td>str</td><td>str</td><td>str</td><td>str</td></tr></thead><tbody><tr><td>&quot;2022&quot;</td><td>&quot;April&quot;</td><td>&quot;TMP-1&quot;</td><td>&quot;Prometne informacije&nbsp;&nbsp;&nbsp;\t&nbsp;&nbsp;&nbsp;30.…</td></tr><tr><td>&quot;2022&quot;</td><td>&quot;April&quot;</td><td>&quot;TMP-10&quot;</td><td>&quot;Prometne informacije&nbsp;&nbsp;&nbsp;\t&nbsp;&nbsp;&nbsp;30.…</td></tr><tr><td>&quot;2022&quot;</td><td>&quot;April&quot;</td><td>&quot;TMP-100&quot;</td><td>&quot;Prometne informacije&nbsp;&nbsp;&nbsp;\t&nbsp;&nbsp;&nbsp;27.…</td></tr><tr><td>&quot;2022&quot;</td><td>&quot;April&quot;</td><td>&quot;TMP-101&quot;</td><td>&quot;Prometne informacije&nbsp;&nbsp;&nbsp;\t&nbsp;&nbsp;&nbsp;27.…</td></tr><tr><td>&quot;2022&quot;</td><td>&quot;April&quot;</td><td>&quot;TMP-102&quot;</td><td>&quot;Prometne informacije&nbsp;&nbsp;&nbsp;\t&nbsp;&nbsp;&nbsp;26.…</td></tr></tbody></table></div>"
      ],
      "text/plain": [
       "shape: (5, 4)\n",
       "┌──────┬───────┬───────────┬─────────────────────────────────┐\n",
       "│ year ┆ month ┆ file_name ┆ content                         │\n",
       "│ ---  ┆ ---   ┆ ---       ┆ ---                             │\n",
       "│ str  ┆ str   ┆ str       ┆ str                             │\n",
       "╞══════╪═══════╪═══════════╪═════════════════════════════════╡\n",
       "│ 2022 ┆ April ┆ TMP-1     ┆ Prometne informacije   \t   30.… │\n",
       "│ 2022 ┆ April ┆ TMP-10    ┆ Prometne informacije   \t   30.… │\n",
       "│ 2022 ┆ April ┆ TMP-100   ┆ Prometne informacije   \t   27.… │\n",
       "│ 2022 ┆ April ┆ TMP-101   ┆ Prometne informacije   \t   27.… │\n",
       "│ 2022 ┆ April ┆ TMP-102   ┆ Prometne informacije   \t   26.… │\n",
       "└──────┴───────┴───────────┴─────────────────────────────────┘"
      ]
     },
     "execution_count": 9,
     "metadata": {},
     "output_type": "execute_result"
    }
   ],
   "source": [
    "dfOutputs.head()"
   ]
  },
  {
   "cell_type": "code",
   "execution_count": 10,
   "metadata": {},
   "outputs": [
    {
     "data": {
      "text/html": [
       "<div><style>\n",
       ".dataframe > thead > tr,\n",
       ".dataframe > tbody > tr {\n",
       "  text-align: right;\n",
       "  white-space: pre-wrap;\n",
       "}\n",
       "</style>\n",
       "<small>shape: (9, 5)</small><table border=\"1\" class=\"dataframe\"><thead><tr><th>statistic</th><th>year</th><th>month</th><th>file_name</th><th>content</th></tr><tr><td>str</td><td>str</td><td>str</td><td>str</td><td>str</td></tr></thead><tbody><tr><td>&quot;count&quot;</td><td>&quot;28037&quot;</td><td>&quot;28037&quot;</td><td>&quot;28037&quot;</td><td>&quot;28037&quot;</td></tr><tr><td>&quot;null_count&quot;</td><td>&quot;0&quot;</td><td>&quot;0&quot;</td><td>&quot;0&quot;</td><td>&quot;0&quot;</td></tr><tr><td>&quot;mean&quot;</td><td>null</td><td>null</td><td>null</td><td>null</td></tr><tr><td>&quot;std&quot;</td><td>null</td><td>null</td><td>null</td><td>null</td></tr><tr><td>&quot;min&quot;</td><td>&quot;2022&quot;</td><td>&quot;April&quot;</td><td>&quot;Promet&quot;</td><td>&quot;\t\t\t\t\t\t\t8.30\n",
       "\n",
       "Podatki o prometu…</td></tr><tr><td>&quot;25%&quot;</td><td>null</td><td>null</td><td>null</td><td>null</td></tr><tr><td>&quot;50%&quot;</td><td>null</td><td>null</td><td>null</td><td>null</td></tr><tr><td>&quot;75%&quot;</td><td>null</td><td>null</td><td>null</td><td>null</td></tr><tr><td>&quot;max&quot;</td><td>&quot;2024&quot;</td><td>&quot;September&quot;</td><td>&quot;TMP9-2024-99&quot;</td><td>&quot;ujna prometna informacija.&nbsp;&nbsp;&nbsp;&nbsp;…</td></tr></tbody></table></div>"
      ],
      "text/plain": [
       "shape: (9, 5)\n",
       "┌────────────┬───────┬───────────┬──────────────┬─────────────────────────────────┐\n",
       "│ statistic  ┆ year  ┆ month     ┆ file_name    ┆ content                         │\n",
       "│ ---        ┆ ---   ┆ ---       ┆ ---          ┆ ---                             │\n",
       "│ str        ┆ str   ┆ str       ┆ str          ┆ str                             │\n",
       "╞════════════╪═══════╪═══════════╪══════════════╪═════════════════════════════════╡\n",
       "│ count      ┆ 28037 ┆ 28037     ┆ 28037        ┆ 28037                           │\n",
       "│ null_count ┆ 0     ┆ 0         ┆ 0            ┆ 0                               │\n",
       "│ mean       ┆ null  ┆ null      ┆ null         ┆ null                            │\n",
       "│ std        ┆ null  ┆ null      ┆ null         ┆ null                            │\n",
       "│ min        ┆ 2022  ┆ April     ┆ Promet       ┆ \t\t\t\t\t\t\t8.30                     │\n",
       "│            ┆       ┆           ┆              ┆                                 │\n",
       "│            ┆       ┆           ┆              ┆ Podatki o prometu…              │\n",
       "│ 25%        ┆ null  ┆ null      ┆ null         ┆ null                            │\n",
       "│ 50%        ┆ null  ┆ null      ┆ null         ┆ null                            │\n",
       "│ 75%        ┆ null  ┆ null      ┆ null         ┆ null                            │\n",
       "│ max        ┆ 2024  ┆ September ┆ TMP9-2024-99 ┆ ujna prometna informacija.    … │\n",
       "└────────────┴───────┴───────────┴──────────────┴─────────────────────────────────┘"
      ]
     },
     "execution_count": 10,
     "metadata": {},
     "output_type": "execute_result"
    }
   ],
   "source": [
    "dfOutputs.describe()"
   ]
  },
  {
   "cell_type": "code",
   "execution_count": 11,
   "metadata": {},
   "outputs": [],
   "source": [
    "dfOutputs.write_csv(\"../data/outputs.csv\")"
   ]
  }
 ],
 "metadata": {
  "kernelspec": {
   "display_name": ".venv",
   "language": "python",
   "name": "python3"
  },
  "language_info": {
   "codemirror_mode": {
    "name": "ipython",
    "version": 3
   },
   "file_extension": ".py",
   "mimetype": "text/x-python",
   "name": "python",
   "nbconvert_exporter": "python",
   "pygments_lexer": "ipython3",
   "version": "3.12.2"
  }
 },
 "nbformat": 4,
 "nbformat_minor": 2
}

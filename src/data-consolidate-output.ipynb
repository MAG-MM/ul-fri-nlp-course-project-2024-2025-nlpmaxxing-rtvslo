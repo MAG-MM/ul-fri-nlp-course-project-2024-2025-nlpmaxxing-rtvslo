{
 "cells": [
  {
   "cell_type": "markdown",
   "metadata": {},
   "source": [
    "### Parse the expected outputs from RTF files and store them in a csv"
   ]
  },
  {
   "cell_type": "code",
   "execution_count": 42,
   "metadata": {},
   "outputs": [],
   "source": [
    "import polars as pl"
   ]
  },
  {
   "cell_type": "markdown",
   "metadata": {},
   "source": [
    "### Read RTF files and consolidate them as a single CSV"
   ]
  },
  {
   "cell_type": "code",
   "execution_count": 43,
   "metadata": {},
   "outputs": [],
   "source": [
    "from os import listdir, path\n",
    "\n",
    "year_directories = \"../data/raw/Podatki - rtvslo.si\"\n",
    "\n",
    "years = listdir(year_directories)\n",
    "\n",
    "file_list = []\n",
    "\n",
    "for year in years:\n",
    "    year_path = year_directories + \"/\" + year\n",
    "\n",
    "    if path.isdir(year_path) != True:\n",
    "        continue\n",
    "\n",
    "    year_months = listdir(year_path)\n",
    "\n",
    "    year_stripped = year.replace(\"Promet \", \"\")\n",
    "\n",
    "    for month in year_months:\n",
    "        month_path = year_path + \"/\" + month\n",
    "\n",
    "        month_files = listdir(month_path)\n",
    "        \n",
    "        month_stripped = month.replace(\" \" + year_stripped, \"\")\n",
    "\n",
    "        for single_file in month_files:\n",
    "\n",
    "            file_stripped = single_file.replace(\".rtf\", \"\")\n",
    "\n",
    "            file_list.append({\n",
    "                \"year\": year_stripped,\n",
    "                \"month\": month_stripped,\n",
    "                \"file_name\": file_stripped,\n",
    "                \"path\": month_path + \"/\" + single_file,\n",
    "            })"
   ]
  },
  {
   "cell_type": "code",
   "execution_count": 44,
   "metadata": {},
   "outputs": [
    {
     "name": "stderr",
     "output_type": "stream",
     "text": [
      "100%|██████████| 28037/28037 [00:04<00:00, 5745.76it/s]\n"
     ]
    }
   ],
   "source": [
    "from tqdm import tqdm\n",
    "from striprtf import striprtf\n",
    "\n",
    "outputs = {\n",
    "    \"year\": [],\n",
    "    \"month\": [],\n",
    "    \"file_name\": [],\n",
    "    \"content\": []\n",
    "}\n",
    "\n",
    "for item in tqdm(file_list):\n",
    "    with open(item['path'], 'r') as file:\n",
    "        raw_content = file.read()\n",
    "        text = striprtf.rtf_to_text(raw_content)\n",
    "        text = text.replace(\"\\n\\n\", \" \\n\\n \").replace(\"\\n\\x00\", \"\").strip()\n",
    "\n",
    "        outputs[\"year\"].append(item['year'])\n",
    "        outputs[\"month\"].append(item['month'])\n",
    "        outputs[\"file_name\"].append(item['file_name'])\n",
    "        outputs[\"content\"].append(text)"
   ]
  },
  {
   "cell_type": "code",
   "execution_count": 45,
   "metadata": {},
   "outputs": [],
   "source": [
    "dfOutputs = pl.DataFrame(outputs)"
   ]
  },
  {
   "cell_type": "code",
   "execution_count": 46,
   "metadata": {},
   "outputs": [
    {
     "data": {
      "text/html": [
       "<div><style>\n",
       ".dataframe > thead > tr,\n",
       ".dataframe > tbody > tr {\n",
       "  text-align: right;\n",
       "  white-space: pre-wrap;\n",
       "}\n",
       "</style>\n",
       "<small>shape: (9, 5)</small><table border=\"1\" class=\"dataframe\"><thead><tr><th>statistic</th><th>year</th><th>month</th><th>file_name</th><th>content</th></tr><tr><td>str</td><td>str</td><td>str</td><td>str</td><td>str</td></tr></thead><tbody><tr><td>&quot;count&quot;</td><td>&quot;28037&quot;</td><td>&quot;28037&quot;</td><td>&quot;28037&quot;</td><td>&quot;28037&quot;</td></tr><tr><td>&quot;null_count&quot;</td><td>&quot;0&quot;</td><td>&quot;0&quot;</td><td>&quot;0&quot;</td><td>&quot;0&quot;</td></tr><tr><td>&quot;mean&quot;</td><td>null</td><td>null</td><td>null</td><td>null</td></tr><tr><td>&quot;std&quot;</td><td>null</td><td>null</td><td>null</td><td>null</td></tr><tr><td>&quot;min&quot;</td><td>&quot;2022&quot;</td><td>&quot;April&quot;</td><td>&quot;Promet&quot;</td><td>&quot;&quot;</td></tr><tr><td>&quot;25%&quot;</td><td>null</td><td>null</td><td>null</td><td>null</td></tr><tr><td>&quot;50%&quot;</td><td>null</td><td>null</td><td>null</td><td>null</td></tr><tr><td>&quot;75%&quot;</td><td>null</td><td>null</td><td>null</td><td>null</td></tr><tr><td>&quot;max&quot;</td><td>&quot;2024&quot;</td><td>&quot;September&quot;</td><td>&quot;TMP9-2024-99&quot;</td><td>&quot;Štajerska avtocesta je med pri…</td></tr></tbody></table></div>"
      ],
      "text/plain": [
       "shape: (9, 5)\n",
       "┌────────────┬───────┬───────────┬──────────────┬─────────────────────────────────┐\n",
       "│ statistic  ┆ year  ┆ month     ┆ file_name    ┆ content                         │\n",
       "│ ---        ┆ ---   ┆ ---       ┆ ---          ┆ ---                             │\n",
       "│ str        ┆ str   ┆ str       ┆ str          ┆ str                             │\n",
       "╞════════════╪═══════╪═══════════╪══════════════╪═════════════════════════════════╡\n",
       "│ count      ┆ 28037 ┆ 28037     ┆ 28037        ┆ 28037                           │\n",
       "│ null_count ┆ 0     ┆ 0         ┆ 0            ┆ 0                               │\n",
       "│ mean       ┆ null  ┆ null      ┆ null         ┆ null                            │\n",
       "│ std        ┆ null  ┆ null      ┆ null         ┆ null                            │\n",
       "│ min        ┆ 2022  ┆ April     ┆ Promet       ┆                                 │\n",
       "│ 25%        ┆ null  ┆ null      ┆ null         ┆ null                            │\n",
       "│ 50%        ┆ null  ┆ null      ┆ null         ┆ null                            │\n",
       "│ 75%        ┆ null  ┆ null      ┆ null         ┆ null                            │\n",
       "│ max        ┆ 2024  ┆ September ┆ TMP9-2024-99 ┆ Štajerska avtocesta je med pri… │\n",
       "└────────────┴───────┴───────────┴──────────────┴─────────────────────────────────┘"
      ]
     },
     "execution_count": 46,
     "metadata": {},
     "output_type": "execute_result"
    }
   ],
   "source": [
    "dfOutputs.describe()"
   ]
  },
  {
   "cell_type": "markdown",
   "metadata": {},
   "source": [
    "### Extract some extra data from content"
   ]
  },
  {
   "cell_type": "code",
   "execution_count": 47,
   "metadata": {},
   "outputs": [],
   "source": [
    "import re\n",
    "\n",
    "def isNujna(text):\n",
    "    if re.search('Nujna prometna informacija', text, re.IGNORECASE):\n",
    "        return 1\n",
    "    if re.search('Nujna prometne informacije', text, re.IGNORECASE):\n",
    "        return 1\n",
    "    if re.search('Nujne prometna informacija', text, re.IGNORECASE):\n",
    "        return 1\n",
    "    if re.search('Nujne prometne informacije', text, re.IGNORECASE):\n",
    "        return 1\n",
    "    \n",
    "    return 0\n",
    "\n",
    "def isNova(text):\n",
    "    if re.search('Nova prometna informacija', text, re.IGNORECASE):\n",
    "        return 1\n",
    "    if re.search('Nova prometne informacije', text, re.IGNORECASE):\n",
    "        return 1\n",
    "    if re.search('Nove prometna informacija', text, re.IGNORECASE):\n",
    "        return 1\n",
    "    if re.search('Nove prometne informacije', text, re.IGNORECASE):\n",
    "        return 1\n",
    "    \n",
    "    return 0"
   ]
  },
  {
   "cell_type": "code",
   "execution_count": 48,
   "metadata": {},
   "outputs": [],
   "source": [
    "# extract things like 1., 2. in 3. program\n",
    "\n",
    "# Alex\n",
    "def clean_programs(programs):\n",
    "    if isinstance(programs, str):\n",
    "        if re.match(r\"^\\d{2},\", programs):\n",
    "            return programs[3:]\n",
    "    return programs\n",
    "\n",
    "def extractPrograms(text):\n",
    "    pattern = r'(\\d+\\.)\\s*(?:in|,|&)?\\s*(?=\\d+\\.|program)'\n",
    "\n",
    "    matches = re.findall(pattern, text)\n",
    "\n",
    "    m = []\n",
    "\n",
    "    for match in matches:\n",
    "        p = match.strip().replace(\".\", \"\")\n",
    "        if int(p) <= 3:\n",
    "            m.append(p)\n",
    "\n",
    "    p = \",\".join(m)\n",
    "\n",
    "    return clean_programs(p)"
   ]
  },
  {
   "cell_type": "code",
   "execution_count": 49,
   "metadata": {},
   "outputs": [],
   "source": [
    "dfOutputs = dfOutputs.with_columns([\n",
    "    (pl.col(\"content\").map_elements(lambda x: isNujna(x), return_dtype=pl.Int8).alias('nujna')),\n",
    "    (pl.col(\"content\").map_elements(lambda x: isNova(x), return_dtype=pl.Int8).alias('nova')),\n",
    "    (pl.col(\"content\").map_elements(lambda x: extractPrograms(x), return_dtype=pl.String).alias('programs')),\n",
    "])"
   ]
  },
  {
   "cell_type": "markdown",
   "metadata": {},
   "source": [
    "### Extract Date and Time from the content and generate IDs"
   ]
  },
  {
   "cell_type": "code",
   "execution_count": 50,
   "metadata": {},
   "outputs": [],
   "source": [
    "import re\n",
    "\n",
    "def matchDatetime(text: str):\n",
    "    pattern = (\n",
    "        r'(\\d{1,2}(?:\\s*\\.\\s*00)?)'     # Day (e.g., 15 or 11.00)\n",
    "        r'(?:\\s?\\.*?\\,?\\s?)'                # Separator (dot, comma or space)\n",
    "        r'(\\d{1,2})'                    # Month\n",
    "        r'(?:\\s?\\.*?\\,?\\s?)'                # Separator (dot, comma or space)\n",
    "        r'(\\d{2,4})'                    # Year\n",
    "        r'\\s*(?:-\\s*)?'                 # spaces and Optional dash separator\n",
    "        r'(\\d{1,2}\\s?[.:,]?\\s?\\d{2})'    # Time (with optional separator)\n",
    "    )\n",
    "\n",
    "    matches = re.search(pattern, text)\n",
    "\n",
    "    dateString = None\n",
    "    timeString = None\n",
    "\n",
    "    try:\n",
    "        if matches:\n",
    "            day = matches.group(1).strip().replace(\" \", \"\")\n",
    "            month = matches.group(2).strip()\n",
    "            year = matches.group(3).strip()\n",
    "\n",
    "            # fix some dates that are like 13.00\n",
    "            if day.find(\".00\") != -1:\n",
    "                day = day.replace(\".00\", \"\")\n",
    "\n",
    "            # fix two digit years\n",
    "            if len(year) == 2:\n",
    "                year = \"20\" + year\n",
    "\n",
    "            # add leading zeroes where needed\n",
    "            if len(day) == 1:\n",
    "                day = \"0\" + day\n",
    "            if len(month) == 1:\n",
    "                month = \"0\" + month\n",
    "\n",
    "            dateString = day + '.' + month + '.' + year\n",
    "            \n",
    "            timeString = matches.group(4).strip()\n",
    "\n",
    "        \n",
    "            timeString = timeString.replace(\".\", \":\").replace(\"..\", \":\").replace(\",\", \":\").replace(\" \", \"\")\n",
    "        \n",
    "        # check if separator exists, if not add, to change time like 1300 to 13:00\n",
    "        if timeString.find(\":\") == -1:\n",
    "            timeString = timeString[:len(timeString)-2] + \":\" + timeString[len(timeString)-2:]\n",
    "    except:\n",
    "        pass\n",
    "\n",
    "    return dateString, timeString"
   ]
  },
  {
   "cell_type": "code",
   "execution_count": 51,
   "metadata": {},
   "outputs": [],
   "source": [
    "from datetime import datetime\n",
    "\n",
    "def parseDiffFormats(dateString: str, timeString: str):\n",
    "    # https://docs.python.org/3/library/datetime.html#strftime-and-strptime-format-codes\n",
    "    possible_formats = [\n",
    "        '%d.%m.%Y - %H:%M',\n",
    "    ]\n",
    "\n",
    "    date = \"0000-00-00\"\n",
    "    time = \"00:00:00\"\n",
    "\n",
    "    try:\n",
    "        dt_string = dateString.replace(\" \", \"\") + \" - \" + timeString\n",
    "    except AttributeError:\n",
    "        return date, time\n",
    "\n",
    "    for fmt in possible_formats:\n",
    "        try:\n",
    "            dt = datetime.strptime(dt_string, fmt)\n",
    "            date = dt.strftime('%Y-%m-%d')\n",
    "            time = dt.strftime('%H:%M:%S')\n",
    "            break\n",
    "        except ValueError:\n",
    "            continue\n",
    "\n",
    "    return date, time"
   ]
  },
  {
   "cell_type": "code",
   "execution_count": 52,
   "metadata": {},
   "outputs": [],
   "source": [
    "import uuid\n",
    "\n",
    "def generate_id(content):\n",
    "    return str(uuid.uuid5(uuid.NAMESPACE_URL, content))"
   ]
  },
  {
   "cell_type": "code",
   "execution_count": 53,
   "metadata": {},
   "outputs": [],
   "source": [
    "def extractDatetime(text):\n",
    "    # split text by \"\\n\\n\" and match first item, same for nujna, nova and programs\n",
    "    rawDate, rawTime = matchDatetime(text)\n",
    "\n",
    "    date = \"0000-00-00\"\n",
    "    time = \"00:00:00\"\n",
    "\n",
    "    date, time = parseDiffFormats(rawDate, rawTime)\n",
    "    \n",
    "    return {\n",
    "        \"datetime\": date + \" \" + time\n",
    "    }"
   ]
  },
  {
   "cell_type": "code",
   "execution_count": 54,
   "metadata": {},
   "outputs": [],
   "source": [
    "dfOutputs = dfOutputs.with_columns([\n",
    "    (pl.col(\"content\").map_elements(lambda x: extractDatetime(x)['datetime'], return_dtype=pl.String).alias('datetime')),\n",
    "])\n",
    "\n",
    "dfOutputs = dfOutputs.with_columns([\n",
    "    (pl.col(\"datetime\").map_elements(lambda x: generate_id(x), return_dtype=pl.String).alias('id')),\n",
    "])"
   ]
  },
  {
   "cell_type": "code",
   "execution_count": 55,
   "metadata": {},
   "outputs": [],
   "source": [
    "dfOutputs = dfOutputs.select([\"id\", \"datetime\", \"nujna\", \"nova\", \"programs\", \"content\", \"file_name\"]) # \"year\", \"month\""
   ]
  },
  {
   "cell_type": "code",
   "execution_count": 56,
   "metadata": {},
   "outputs": [],
   "source": [
    "dfOutputs = dfOutputs.sort(\"datetime\")"
   ]
  },
  {
   "cell_type": "code",
   "execution_count": 57,
   "metadata": {},
   "outputs": [],
   "source": [
    "dfOutputsBad = dfOutputs.filter(pl.col(\"datetime\").str.contains(\"0000-00-00\"))\n",
    "\n",
    "dfOutputsBad.write_csv(\"../data/outputs-bad-dates.csv\")"
   ]
  },
  {
   "cell_type": "code",
   "execution_count": 58,
   "metadata": {},
   "outputs": [],
   "source": [
    "dfOutputsClean = dfOutputs.filter(pl.col(\"datetime\").str.contains(\"0000-00-00\").not_())\n",
    "\n",
    "dfOutputsClean.write_csv(\"../data/outputs-clean.csv\")"
   ]
  },
  {
   "cell_type": "code",
   "execution_count": 59,
   "metadata": {},
   "outputs": [
    {
     "data": {
      "text/plain": [
       "{'id': 'a1af76d5-5e74-53c4-bca1-d8e8a05ce0b7',\n",
       " 'datetime': '0000-00-00 00:00:00',\n",
       " 'nujna': 0,\n",
       " 'nova': 0,\n",
       " 'programs': '',\n",
       " 'content': 'ZA ODDAJO:  \\n\\n Še vedno je 6-kilometrski zastoj pred predorom Karavanke proti Avstriji. Vozniki namenjenim proti Kranjski Gori in Jesenicam uporabite izvoz Lesce, saj je izvoz Jesenice-vzhod proti Avstriji je zaprt.  \\n\\n Gost promet z zastoji, ki je bil cel dan na primorski avtocesti proti Ljubljani, se je umiril. Nekaj gneče je še od Vrhnike proti Ljubljani.  \\n\\n Na mejnih prehodih Gruškovje in Starod vozniki osebnih vozil na izstop iz države čakajo do 1 uro, na Obrežju, Dragonji, v Jelšanah in Sečovljah pa pol ure. \\nPri vstopu v Slovenijo v Gruškovju vozniki čakajo 2 uri, v Jelšanah pa pol ure.',\n",
       " 'file_name': 'TMP-29'}"
      ]
     },
     "execution_count": 59,
     "metadata": {},
     "output_type": "execute_result"
    }
   ],
   "source": [
    "dfOutputs.row(1, named=True)"
   ]
  },
  {
   "cell_type": "code",
   "execution_count": 60,
   "metadata": {},
   "outputs": [
    {
     "data": {
      "text/html": [
       "<div><style>\n",
       ".dataframe > thead > tr,\n",
       ".dataframe > tbody > tr {\n",
       "  text-align: right;\n",
       "  white-space: pre-wrap;\n",
       "}\n",
       "</style>\n",
       "<small>shape: (9, 8)</small><table border=\"1\" class=\"dataframe\"><thead><tr><th>statistic</th><th>id</th><th>datetime</th><th>nujna</th><th>nova</th><th>programs</th><th>content</th><th>file_name</th></tr><tr><td>str</td><td>str</td><td>str</td><td>f64</td><td>f64</td><td>str</td><td>str</td><td>str</td></tr></thead><tbody><tr><td>&quot;count&quot;</td><td>&quot;430&quot;</td><td>&quot;430&quot;</td><td>430.0</td><td>430.0</td><td>&quot;430&quot;</td><td>&quot;430&quot;</td><td>&quot;430&quot;</td></tr><tr><td>&quot;null_count&quot;</td><td>&quot;0&quot;</td><td>&quot;0&quot;</td><td>0.0</td><td>0.0</td><td>&quot;0&quot;</td><td>&quot;0&quot;</td><td>&quot;0&quot;</td></tr><tr><td>&quot;mean&quot;</td><td>null</td><td>null</td><td>0.025581</td><td>0.004651</td><td>null</td><td>null</td><td>null</td></tr><tr><td>&quot;std&quot;</td><td>null</td><td>null</td><td>0.158067</td><td>0.06812</td><td>null</td><td>null</td><td>null</td></tr><tr><td>&quot;min&quot;</td><td>&quot;a1af76d5-5e74-53c4-bca1-d8e8a0…</td><td>&quot;0000-00-00 00:00:00&quot;</td><td>0.0</td><td>0.0</td><td>&quot;&quot;</td><td>&quot;&quot;</td><td>&quot;TMP-135&quot;</td></tr><tr><td>&quot;25%&quot;</td><td>null</td><td>null</td><td>0.0</td><td>0.0</td><td>null</td><td>null</td><td>null</td></tr><tr><td>&quot;50%&quot;</td><td>null</td><td>null</td><td>0.0</td><td>0.0</td><td>null</td><td>null</td><td>null</td></tr><tr><td>&quot;75%&quot;</td><td>null</td><td>null</td><td>0.0</td><td>0.0</td><td>null</td><td>null</td><td>null</td></tr><tr><td>&quot;max&quot;</td><td>&quot;a1af76d5-5e74-53c4-bca1-d8e8a0…</td><td>&quot;0000-00-00 00:00:00&quot;</td><td>1.0</td><td>1.0</td><td>&quot;3,1&quot;</td><td>&quot;Štajerska avtocesta je med pri…</td><td>&quot;TMP9-2024-721&quot;</td></tr></tbody></table></div>"
      ],
      "text/plain": [
       "shape: (9, 8)\n",
       "┌────────────┬─────────────┬────────────┬──────────┬──────────┬──────────┬────────────┬────────────┐\n",
       "│ statistic  ┆ id          ┆ datetime   ┆ nujna    ┆ nova     ┆ programs ┆ content    ┆ file_name  │\n",
       "│ ---        ┆ ---         ┆ ---        ┆ ---      ┆ ---      ┆ ---      ┆ ---        ┆ ---        │\n",
       "│ str        ┆ str         ┆ str        ┆ f64      ┆ f64      ┆ str      ┆ str        ┆ str        │\n",
       "╞════════════╪═════════════╪════════════╪══════════╪══════════╪══════════╪════════════╪════════════╡\n",
       "│ count      ┆ 430         ┆ 430        ┆ 430.0    ┆ 430.0    ┆ 430      ┆ 430        ┆ 430        │\n",
       "│ null_count ┆ 0           ┆ 0          ┆ 0.0      ┆ 0.0      ┆ 0        ┆ 0          ┆ 0          │\n",
       "│ mean       ┆ null        ┆ null       ┆ 0.025581 ┆ 0.004651 ┆ null     ┆ null       ┆ null       │\n",
       "│ std        ┆ null        ┆ null       ┆ 0.158067 ┆ 0.06812  ┆ null     ┆ null       ┆ null       │\n",
       "│ min        ┆ a1af76d5-5e ┆ 0000-00-00 ┆ 0.0      ┆ 0.0      ┆          ┆            ┆ TMP-135    │\n",
       "│            ┆ 74-53c4-bca ┆ 00:00:00   ┆          ┆          ┆          ┆            ┆            │\n",
       "│            ┆ 1-d8e8a0…   ┆            ┆          ┆          ┆          ┆            ┆            │\n",
       "│ 25%        ┆ null        ┆ null       ┆ 0.0      ┆ 0.0      ┆ null     ┆ null       ┆ null       │\n",
       "│ 50%        ┆ null        ┆ null       ┆ 0.0      ┆ 0.0      ┆ null     ┆ null       ┆ null       │\n",
       "│ 75%        ┆ null        ┆ null       ┆ 0.0      ┆ 0.0      ┆ null     ┆ null       ┆ null       │\n",
       "│ max        ┆ a1af76d5-5e ┆ 0000-00-00 ┆ 1.0      ┆ 1.0      ┆ 3,1      ┆ Štajerska  ┆ TMP9-2024- │\n",
       "│            ┆ 74-53c4-bca ┆ 00:00:00   ┆          ┆          ┆          ┆ avtocesta  ┆ 721        │\n",
       "│            ┆ 1-d8e8a0…   ┆            ┆          ┆          ┆          ┆ je med     ┆            │\n",
       "│            ┆             ┆            ┆          ┆          ┆          ┆ pri…       ┆            │\n",
       "└────────────┴─────────────┴────────────┴──────────┴──────────┴──────────┴────────────┴────────────┘"
      ]
     },
     "execution_count": 60,
     "metadata": {},
     "output_type": "execute_result"
    }
   ],
   "source": [
    "dfOutputsBad.describe()"
   ]
  },
  {
   "cell_type": "code",
   "execution_count": 61,
   "metadata": {},
   "outputs": [
    {
     "data": {
      "text/html": [
       "<div><style>\n",
       ".dataframe > thead > tr,\n",
       ".dataframe > tbody > tr {\n",
       "  text-align: right;\n",
       "  white-space: pre-wrap;\n",
       "}\n",
       "</style>\n",
       "<small>shape: (9, 8)</small><table border=\"1\" class=\"dataframe\"><thead><tr><th>statistic</th><th>id</th><th>datetime</th><th>nujna</th><th>nova</th><th>programs</th><th>content</th><th>file_name</th></tr><tr><td>str</td><td>str</td><td>str</td><td>f64</td><td>f64</td><td>str</td><td>str</td><td>str</td></tr></thead><tbody><tr><td>&quot;count&quot;</td><td>&quot;27607&quot;</td><td>&quot;27607&quot;</td><td>27607.0</td><td>27607.0</td><td>&quot;27607&quot;</td><td>&quot;27607&quot;</td><td>&quot;27607&quot;</td></tr><tr><td>&quot;null_count&quot;</td><td>&quot;0&quot;</td><td>&quot;0&quot;</td><td>0.0</td><td>0.0</td><td>&quot;0&quot;</td><td>&quot;0&quot;</td><td>&quot;0&quot;</td></tr><tr><td>&quot;mean&quot;</td><td>null</td><td>null</td><td>0.008295</td><td>0.065237</td><td>null</td><td>null</td><td>null</td></tr><tr><td>&quot;std&quot;</td><td>null</td><td>null</td><td>0.0907</td><td>0.246948</td><td>null</td><td>null</td><td>null</td></tr><tr><td>&quot;min&quot;</td><td>&quot;00019211-9609-5556-9ce3-0d2daa…</td><td>&quot;2022-01-01 06:00:00&quot;</td><td>0.0</td><td>0.0</td><td>&quot;&quot;</td><td>&quot;*NE UPORABLJAJ ZA VAJO \n",
       "\n",
       " Prom…</td><td>&quot;Promet&quot;</td></tr><tr><td>&quot;25%&quot;</td><td>null</td><td>null</td><td>0.0</td><td>0.0</td><td>null</td><td>null</td><td>null</td></tr><tr><td>&quot;50%&quot;</td><td>null</td><td>null</td><td>0.0</td><td>0.0</td><td>null</td><td>null</td><td>null</td></tr><tr><td>&quot;75%&quot;</td><td>null</td><td>null</td><td>0.0</td><td>0.0</td><td>null</td><td>null</td><td>null</td></tr><tr><td>&quot;max&quot;</td><td>&quot;fffbbef5-2d94-54ea-944d-a6313c…</td><td>&quot;2024-12-31 21:00:00&quot;</td><td>1.0</td><td>1.0</td><td>&quot;3,2&quot;</td><td>&quot;ujna prometna informacija.&nbsp;&nbsp;&nbsp;&nbsp;…</td><td>&quot;TMP9-2024-99&quot;</td></tr></tbody></table></div>"
      ],
      "text/plain": [
       "shape: (9, 8)\n",
       "┌────────────┬─────────────┬────────────┬──────────┬──────────┬──────────┬────────────┬────────────┐\n",
       "│ statistic  ┆ id          ┆ datetime   ┆ nujna    ┆ nova     ┆ programs ┆ content    ┆ file_name  │\n",
       "│ ---        ┆ ---         ┆ ---        ┆ ---      ┆ ---      ┆ ---      ┆ ---        ┆ ---        │\n",
       "│ str        ┆ str         ┆ str        ┆ f64      ┆ f64      ┆ str      ┆ str        ┆ str        │\n",
       "╞════════════╪═════════════╪════════════╪══════════╪══════════╪══════════╪════════════╪════════════╡\n",
       "│ count      ┆ 27607       ┆ 27607      ┆ 27607.0  ┆ 27607.0  ┆ 27607    ┆ 27607      ┆ 27607      │\n",
       "│ null_count ┆ 0           ┆ 0          ┆ 0.0      ┆ 0.0      ┆ 0        ┆ 0          ┆ 0          │\n",
       "│ mean       ┆ null        ┆ null       ┆ 0.008295 ┆ 0.065237 ┆ null     ┆ null       ┆ null       │\n",
       "│ std        ┆ null        ┆ null       ┆ 0.0907   ┆ 0.246948 ┆ null     ┆ null       ┆ null       │\n",
       "│ min        ┆ 00019211-96 ┆ 2022-01-01 ┆ 0.0      ┆ 0.0      ┆          ┆ *NE        ┆ Promet     │\n",
       "│            ┆ 09-5556-9ce ┆ 06:00:00   ┆          ┆          ┆          ┆ UPORABLJAJ ┆            │\n",
       "│            ┆ 3-0d2daa…   ┆            ┆          ┆          ┆          ┆ ZA VAJO    ┆            │\n",
       "│            ┆             ┆            ┆          ┆          ┆          ┆            ┆            │\n",
       "│            ┆             ┆            ┆          ┆          ┆          ┆  Prom…     ┆            │\n",
       "│ 25%        ┆ null        ┆ null       ┆ 0.0      ┆ 0.0      ┆ null     ┆ null       ┆ null       │\n",
       "│ 50%        ┆ null        ┆ null       ┆ 0.0      ┆ 0.0      ┆ null     ┆ null       ┆ null       │\n",
       "│ 75%        ┆ null        ┆ null       ┆ 0.0      ┆ 0.0      ┆ null     ┆ null       ┆ null       │\n",
       "│ max        ┆ fffbbef5-2d ┆ 2024-12-31 ┆ 1.0      ┆ 1.0      ┆ 3,2      ┆ ujna       ┆ TMP9-2024- │\n",
       "│            ┆ 94-54ea-944 ┆ 21:00:00   ┆          ┆          ┆          ┆ prometna   ┆ 99         │\n",
       "│            ┆ d-a6313c…   ┆            ┆          ┆          ┆          ┆ informacij ┆            │\n",
       "│            ┆             ┆            ┆          ┆          ┆          ┆ a.    …    ┆            │\n",
       "└────────────┴─────────────┴────────────┴──────────┴──────────┴──────────┴────────────┴────────────┘"
      ]
     },
     "execution_count": 61,
     "metadata": {},
     "output_type": "execute_result"
    }
   ],
   "source": [
    "dfOutputsClean.describe()"
   ]
  },
  {
   "cell_type": "code",
   "execution_count": 62,
   "metadata": {},
   "outputs": [],
   "source": [
    "# 28 037 = 27 607 - 430"
   ]
  }
 ],
 "metadata": {
  "kernelspec": {
   "display_name": ".venv",
   "language": "python",
   "name": "python3"
  },
  "language_info": {
   "codemirror_mode": {
    "name": "ipython",
    "version": 3
   },
   "file_extension": ".py",
   "mimetype": "text/x-python",
   "name": "python",
   "nbconvert_exporter": "python",
   "pygments_lexer": "ipython3",
   "version": "3.12.9"
  }
 },
 "nbformat": 4,
 "nbformat_minor": 2
}

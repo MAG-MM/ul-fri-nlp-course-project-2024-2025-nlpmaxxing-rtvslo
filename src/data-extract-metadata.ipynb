{
 "cells": [
  {
   "cell_type": "code",
   "execution_count": 1,
   "metadata": {},
   "outputs": [],
   "source": [
    "import polars as pl"
   ]
  },
  {
   "cell_type": "code",
   "execution_count": 2,
   "metadata": {},
   "outputs": [],
   "source": [
    "dfOutputs = pl.read_csv(\"../data/outputs.csv\")"
   ]
  },
  {
   "cell_type": "code",
   "execution_count": 3,
   "metadata": {},
   "outputs": [],
   "source": [
    "import re\n",
    "\n",
    "def isNujna(text):\n",
    "    if re.search('Nujna prometna informacija', text, re.IGNORECASE):\n",
    "        return 1\n",
    "    if re.search('Nujne prometne informacije', text, re.IGNORECASE):\n",
    "        return 1\n",
    "    \n",
    "    return 0\n",
    "\n",
    "def isNova(text):\n",
    "    if re.search('Nova prometna informacija', text, re.IGNORECASE):\n",
    "        return 1\n",
    "    if re.search('Nove prometne informacije', text, re.IGNORECASE):\n",
    "        return 1\n",
    "    \n",
    "    return 0"
   ]
  },
  {
   "cell_type": "code",
   "execution_count": 4,
   "metadata": {},
   "outputs": [],
   "source": [
    "# extract things like 1., 2. in 3. program\n",
    "\n",
    "def extractPrograms(text):\n",
    "    pattern = r'(\\d+\\.)\\s*(?:in|,|&)?\\s*(?=\\d+\\.|program)'\n",
    "\n",
    "    matches = re.findall(pattern, text)\n",
    "\n",
    "    m = []\n",
    "\n",
    "    for match in matches:\n",
    "        p = match.strip().replace(\".\", \"\")\n",
    "        if int(p) <= 3:\n",
    "            m.append(p)\n",
    "\n",
    "    return \",\".join(m)"
   ]
  },
  {
   "cell_type": "code",
   "execution_count": 5,
   "metadata": {},
   "outputs": [],
   "source": [
    "dfOutputs = dfOutputs.with_columns([\n",
    "    (pl.col(\"content\").map_elements(lambda x: isNujna(x), return_dtype=pl.Int8).alias('nujna')),\n",
    "    (pl.col(\"content\").map_elements(lambda x: isNova(x), return_dtype=pl.Int8).alias('nova')),\n",
    "    (pl.col(\"content\").map_elements(lambda x: extractPrograms(x), return_dtype=pl.String).alias('programs')),\n",
    "])"
   ]
  },
  {
   "cell_type": "code",
   "execution_count": 6,
   "metadata": {},
   "outputs": [
    {
     "data": {
      "text/html": [
       "<div><style>\n",
       ".dataframe > thead > tr,\n",
       ".dataframe > tbody > tr {\n",
       "  text-align: right;\n",
       "  white-space: pre-wrap;\n",
       "}\n",
       "</style>\n",
       "<small>shape: (5, 9)</small><table border=\"1\" class=\"dataframe\"><thead><tr><th>year</th><th>month</th><th>file_name</th><th>content</th><th>date</th><th>time</th><th>nujna</th><th>nova</th><th>programs</th></tr><tr><td>i64</td><td>str</td><td>str</td><td>str</td><td>str</td><td>str</td><td>i8</td><td>i8</td><td>str</td></tr></thead><tbody><tr><td>2022</td><td>&quot;April&quot;</td><td>&quot;TMP-1&quot;</td><td>&quot;Prometne informacije&nbsp;&nbsp;&nbsp;\t&nbsp;&nbsp;&nbsp;30.…</td><td>&quot;2022-04-30&quot;</td><td>&quot;18:30&quot;</td><td>0</td><td>0</td><td>&quot;1,2&quot;</td></tr><tr><td>2022</td><td>&quot;April&quot;</td><td>&quot;TMP-10&quot;</td><td>&quot;Prometne informacije&nbsp;&nbsp;&nbsp;\t&nbsp;&nbsp;&nbsp;30.…</td><td>&quot;2022-04-30&quot;</td><td>&quot;13:00&quot;</td><td>0</td><td>0</td><td>&quot;1,3&quot;</td></tr><tr><td>2022</td><td>&quot;April&quot;</td><td>&quot;TMP-100&quot;</td><td>&quot;Prometne informacije&nbsp;&nbsp;&nbsp;\t&nbsp;&nbsp;&nbsp;27.…</td><td>&quot;2022-04-27&quot;</td><td>&quot;06:30&quot;</td><td>0</td><td>0</td><td>&quot;1&quot;</td></tr><tr><td>2022</td><td>&quot;April&quot;</td><td>&quot;TMP-101&quot;</td><td>&quot;Prometne informacije&nbsp;&nbsp;&nbsp;\t&nbsp;&nbsp;&nbsp;27.…</td><td>&quot;2022-04-27&quot;</td><td>&quot;06:00&quot;</td><td>0</td><td>0</td><td>&quot;1,2&quot;</td></tr><tr><td>2022</td><td>&quot;April&quot;</td><td>&quot;TMP-102&quot;</td><td>&quot;Prometne informacije&nbsp;&nbsp;&nbsp;\t&nbsp;&nbsp;&nbsp;26.…</td><td>&quot;2022-04-26&quot;</td><td>&quot;20:00&quot;</td><td>0</td><td>0</td><td>&quot;2&quot;</td></tr></tbody></table></div>"
      ],
      "text/plain": [
       "shape: (5, 9)\n",
       "┌──────┬───────┬───────────┬─────────────────────────────────┬───┬───────┬───────┬──────┬──────────┐\n",
       "│ year ┆ month ┆ file_name ┆ content                         ┆ … ┆ time  ┆ nujna ┆ nova ┆ programs │\n",
       "│ ---  ┆ ---   ┆ ---       ┆ ---                             ┆   ┆ ---   ┆ ---   ┆ ---  ┆ ---      │\n",
       "│ i64  ┆ str   ┆ str       ┆ str                             ┆   ┆ str   ┆ i8    ┆ i8   ┆ str      │\n",
       "╞══════╪═══════╪═══════════╪═════════════════════════════════╪═══╪═══════╪═══════╪══════╪══════════╡\n",
       "│ 2022 ┆ April ┆ TMP-1     ┆ Prometne informacije   \t   30.… ┆ … ┆ 18:30 ┆ 0     ┆ 0    ┆ 1,2      │\n",
       "│ 2022 ┆ April ┆ TMP-10    ┆ Prometne informacije   \t   30.… ┆ … ┆ 13:00 ┆ 0     ┆ 0    ┆ 1,3      │\n",
       "│ 2022 ┆ April ┆ TMP-100   ┆ Prometne informacije   \t   27.… ┆ … ┆ 06:30 ┆ 0     ┆ 0    ┆ 1        │\n",
       "│ 2022 ┆ April ┆ TMP-101   ┆ Prometne informacije   \t   27.… ┆ … ┆ 06:00 ┆ 0     ┆ 0    ┆ 1,2      │\n",
       "│ 2022 ┆ April ┆ TMP-102   ┆ Prometne informacije   \t   26.… ┆ … ┆ 20:00 ┆ 0     ┆ 0    ┆ 2        │\n",
       "└──────┴───────┴───────────┴─────────────────────────────────┴───┴───────┴───────┴──────┴──────────┘"
      ]
     },
     "execution_count": 6,
     "metadata": {},
     "output_type": "execute_result"
    }
   ],
   "source": [
    "dfOutputs.head()"
   ]
  },
  {
   "cell_type": "code",
   "execution_count": 7,
   "metadata": {},
   "outputs": [],
   "source": [
    "dfOutputs.write_csv(\"../data/outputs.csv\")"
   ]
  }
 ],
 "metadata": {
  "kernelspec": {
   "display_name": ".venv",
   "language": "python",
   "name": "python3"
  },
  "language_info": {
   "codemirror_mode": {
    "name": "ipython",
    "version": 3
   },
   "file_extension": ".py",
   "mimetype": "text/x-python",
   "name": "python",
   "nbconvert_exporter": "python",
   "pygments_lexer": "ipython3",
   "version": "3.12.9"
  }
 },
 "nbformat": 4,
 "nbformat_minor": 2
}

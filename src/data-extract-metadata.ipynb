{
 "cells": [
  {
   "cell_type": "code",
   "execution_count": 1,
   "metadata": {},
   "outputs": [],
   "source": [
    "import polars as pl"
   ]
  },
  {
   "cell_type": "code",
   "execution_count": 2,
   "metadata": {},
   "outputs": [],
   "source": [
    "dfOutputs = pl.read_csv(\"../data/outputs.csv\")"
   ]
  },
  {
   "cell_type": "code",
   "execution_count": 3,
   "metadata": {},
   "outputs": [],
   "source": [
    "import re\n",
    "\n",
    "def isNujna(text):\n",
    "    if re.search('Nujna prometna informacija', text, re.IGNORECASE):\n",
    "        return 1\n",
    "    if re.search('Nujne prometne informacije', text, re.IGNORECASE):\n",
    "        return 1\n",
    "    \n",
    "    return 0\n",
    "\n",
    "def isNova(text):\n",
    "    if re.search('Nova prometna informacija', text, re.IGNORECASE):\n",
    "        return 1\n",
    "    if re.search('Nove prometne informacije', text, re.IGNORECASE):\n",
    "        return 1\n",
    "    \n",
    "    return 0"
   ]
  },
  {
   "cell_type": "code",
   "execution_count": 4,
   "metadata": {},
   "outputs": [],
   "source": [
    "# extract things like 1., 2. in 3. program\n",
    "\n",
    "def extractPrograms(text):\n",
    "    pattern = r'(\\d+\\.)\\s*(?:in|,|&)?\\s*(?=\\d+\\.|program)'\n",
    "\n",
    "    matches = re.findall(pattern, text)\n",
    "\n",
    "    m = []\n",
    "\n",
    "    for match in matches:\n",
    "        p = match.strip().replace(\".\", \"\")\n",
    "        if int(p) <= 3:\n",
    "            m.append(p)\n",
    "\n",
    "    return \",\".join(m)"
   ]
  },
  {
   "cell_type": "code",
   "execution_count": 5,
   "metadata": {},
   "outputs": [],
   "source": [
    "dfOutputs = dfOutputs.with_columns([\n",
    "    (pl.col(\"content\").map_elements(lambda x: isNujna(x), return_dtype=pl.Int8).alias('nujna')),\n",
    "    (pl.col(\"content\").map_elements(lambda x: isNova(x), return_dtype=pl.Int8).alias('nova')),\n",
    "    (pl.col(\"content\").map_elements(lambda x: extractPrograms(x), return_dtype=pl.String).alias('programs')),\n",
    "])"
   ]
  },
  {
   "cell_type": "code",
   "execution_count": 8,
   "metadata": {},
   "outputs": [],
   "source": [
    "dfOutputs = dfOutputs.select([\"id\", \"date\", \"time\", \"nujna\", \"nova\", \"programs\", \"content\", \"file_name\", \"year\", \"month\"])"
   ]
  },
  {
   "cell_type": "code",
   "execution_count": 9,
   "metadata": {},
   "outputs": [
    {
     "data": {
      "text/html": [
       "<div><style>\n",
       ".dataframe > thead > tr,\n",
       ".dataframe > tbody > tr {\n",
       "  text-align: right;\n",
       "  white-space: pre-wrap;\n",
       "}\n",
       "</style>\n",
       "<small>shape: (5, 10)</small><table border=\"1\" class=\"dataframe\"><thead><tr><th>id</th><th>date</th><th>time</th><th>nujna</th><th>nova</th><th>programs</th><th>content</th><th>file_name</th><th>year</th><th>month</th></tr><tr><td>str</td><td>str</td><td>str</td><td>i8</td><td>i8</td><td>str</td><td>str</td><td>str</td><td>i64</td><td>str</td></tr></thead><tbody><tr><td>&quot;f16895dd-6f45-50da-8ce6-966d44…</td><td>&quot;2022-01-01&quot;</td><td>&quot;06:00:00&quot;</td><td>0</td><td>0</td><td>&quot;01,1,2&quot;</td><td>&quot;Prometne informacije&nbsp;&nbsp;&nbsp;&nbsp;&nbsp;&nbsp;&nbsp;01.…</td><td>&quot;TMP-808&quot;</td><td>2022</td><td>&quot;Januar&quot;</td></tr><tr><td>&quot;6e542c9c-2559-5837-9c0b-23b455…</td><td>&quot;2022-01-01&quot;</td><td>&quot;06:30:00&quot;</td><td>0</td><td>0</td><td>&quot;01,1,2&quot;</td><td>&quot;Prometne informacije&nbsp;&nbsp;&nbsp;&nbsp;&nbsp;&nbsp;&nbsp;01.…</td><td>&quot;TMP-807&quot;</td><td>2022</td><td>&quot;Januar&quot;</td></tr><tr><td>&quot;376bf2cd-fd6a-51ff-bed5-ad53a4…</td><td>&quot;2022-01-01&quot;</td><td>&quot;07:00:00&quot;</td><td>0</td><td>0</td><td>&quot;01,1,2&quot;</td><td>&quot;Prometne informacije&nbsp;&nbsp;&nbsp;&nbsp;&nbsp;&nbsp;&nbsp;01.…</td><td>&quot;TMP-806&quot;</td><td>2022</td><td>&quot;Januar&quot;</td></tr><tr><td>&quot;ba3714f5-35dc-539d-8c25-7da7f9…</td><td>&quot;2022-01-01&quot;</td><td>&quot;08:00:00&quot;</td><td>0</td><td>0</td><td>&quot;01,1,3&quot;</td><td>&quot;Prometne informacije&nbsp;&nbsp;&nbsp;&nbsp;&nbsp;&nbsp;&nbsp;01.…</td><td>&quot;TMP-805&quot;</td><td>2022</td><td>&quot;Januar&quot;</td></tr><tr><td>&quot;3db9bb19-c329-5d58-a723-039465…</td><td>&quot;2022-01-01&quot;</td><td>&quot;08:30:00&quot;</td><td>0</td><td>0</td><td>&quot;01,2&quot;</td><td>&quot;Prometne informacije&nbsp;&nbsp;&nbsp;&nbsp;&nbsp;&nbsp;&nbsp;01.…</td><td>&quot;TMP-804&quot;</td><td>2022</td><td>&quot;Januar&quot;</td></tr></tbody></table></div>"
      ],
      "text/plain": [
       "shape: (5, 10)\n",
       "┌─────────────────┬────────────┬──────────┬───────┬───┬────────────────┬───────────┬──────┬────────┐\n",
       "│ id              ┆ date       ┆ time     ┆ nujna ┆ … ┆ content        ┆ file_name ┆ year ┆ month  │\n",
       "│ ---             ┆ ---        ┆ ---      ┆ ---   ┆   ┆ ---            ┆ ---       ┆ ---  ┆ ---    │\n",
       "│ str             ┆ str        ┆ str      ┆ i8    ┆   ┆ str            ┆ str       ┆ i64  ┆ str    │\n",
       "╞═════════════════╪════════════╪══════════╪═══════╪═══╪════════════════╪═══════════╪══════╪════════╡\n",
       "│ f16895dd-6f45-5 ┆ 2022-01-01 ┆ 06:00:00 ┆ 0     ┆ … ┆ Prometne       ┆ TMP-808   ┆ 2022 ┆ Januar │\n",
       "│ 0da-8ce6-966d44 ┆            ┆          ┆       ┆   ┆ informacije    ┆           ┆      ┆        │\n",
       "│ …               ┆            ┆          ┆       ┆   ┆ 01.…           ┆           ┆      ┆        │\n",
       "│ 6e542c9c-2559-5 ┆ 2022-01-01 ┆ 06:30:00 ┆ 0     ┆ … ┆ Prometne       ┆ TMP-807   ┆ 2022 ┆ Januar │\n",
       "│ 837-9c0b-23b455 ┆            ┆          ┆       ┆   ┆ informacije    ┆           ┆      ┆        │\n",
       "│ …               ┆            ┆          ┆       ┆   ┆ 01.…           ┆           ┆      ┆        │\n",
       "│ 376bf2cd-fd6a-5 ┆ 2022-01-01 ┆ 07:00:00 ┆ 0     ┆ … ┆ Prometne       ┆ TMP-806   ┆ 2022 ┆ Januar │\n",
       "│ 1ff-bed5-ad53a4 ┆            ┆          ┆       ┆   ┆ informacije    ┆           ┆      ┆        │\n",
       "│ …               ┆            ┆          ┆       ┆   ┆ 01.…           ┆           ┆      ┆        │\n",
       "│ ba3714f5-35dc-5 ┆ 2022-01-01 ┆ 08:00:00 ┆ 0     ┆ … ┆ Prometne       ┆ TMP-805   ┆ 2022 ┆ Januar │\n",
       "│ 39d-8c25-7da7f9 ┆            ┆          ┆       ┆   ┆ informacije    ┆           ┆      ┆        │\n",
       "│ …               ┆            ┆          ┆       ┆   ┆ 01.…           ┆           ┆      ┆        │\n",
       "│ 3db9bb19-c329-5 ┆ 2022-01-01 ┆ 08:30:00 ┆ 0     ┆ … ┆ Prometne       ┆ TMP-804   ┆ 2022 ┆ Januar │\n",
       "│ d58-a723-039465 ┆            ┆          ┆       ┆   ┆ informacije    ┆           ┆      ┆        │\n",
       "│ …               ┆            ┆          ┆       ┆   ┆ 01.…           ┆           ┆      ┆        │\n",
       "└─────────────────┴────────────┴──────────┴───────┴───┴────────────────┴───────────┴──────┴────────┘"
      ]
     },
     "execution_count": 9,
     "metadata": {},
     "output_type": "execute_result"
    }
   ],
   "source": [
    "dfOutputs.head()"
   ]
  },
  {
   "cell_type": "code",
   "execution_count": 10,
   "metadata": {},
   "outputs": [],
   "source": [
    "dfOutputs.write_csv(\"../data/outputs.csv\")"
   ]
  }
 ],
 "metadata": {
  "kernelspec": {
   "display_name": ".venv",
   "language": "python",
   "name": "python3"
  },
  "language_info": {
   "codemirror_mode": {
    "name": "ipython",
    "version": 3
   },
   "file_extension": ".py",
   "mimetype": "text/x-python",
   "name": "python",
   "nbconvert_exporter": "python",
   "pygments_lexer": "ipython3",
   "version": "3.12.9"
  }
 },
 "nbformat": 4,
 "nbformat_minor": 2
}

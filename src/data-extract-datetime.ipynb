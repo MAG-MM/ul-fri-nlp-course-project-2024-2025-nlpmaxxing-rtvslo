{
 "cells": [
  {
   "cell_type": "code",
   "execution_count": 3,
   "metadata": {},
   "outputs": [],
   "source": [
    "import polars as pl"
   ]
  },
  {
   "cell_type": "code",
   "execution_count": 4,
   "metadata": {},
   "outputs": [],
   "source": [
    "dfOutputs = pl.read_csv(\"../data/outputs.csv\")"
   ]
  },
  {
   "cell_type": "code",
   "execution_count": null,
   "metadata": {},
   "outputs": [],
   "source": [
    "import re\n",
    "\n",
    "def matchDatetime(text: str):\n",
    "    # pattern = r'(\\d{1,2}\\.\\s?\\d{1,2}\\.\\s?\\d{2,4})\\s+(\\d{1,2}\\.\\d{2})'\n",
    "\n",
    "    #  extend to match bad dates like 11.00.09. 2022        06.00\n",
    "    pattern = r'(\\d{1,2}(\\.\\d{1,2})?\\.\\s?\\d{1,2}\\.\\s?\\d{2,4})\\s+(\\d{1,2}\\.\\d{2})'\n",
    "\n",
    "    matches = re.search(pattern, text)\n",
    "\n",
    "    d = None\n",
    "    t = None\n",
    "\n",
    "    if matches:\n",
    "        d = matches.group(1)\n",
    "        t = matches.group(2)\n",
    "\n",
    "    return d, t"
   ]
  },
  {
   "cell_type": "code",
   "execution_count": 23,
   "metadata": {},
   "outputs": [],
   "source": [
    "from datetime import datetime\n",
    "\n",
    "def parseDiffFormats(dateString: str, timeString: str):\n",
    "    possible_formats = [\n",
    "        '%d.%m.%Y - %H.%M',\n",
    "        '%d.%m.%y - %H.%M',\n",
    "        '%d.00.%m.%Y - %H.%M',\n",
    "        '%d.00.%m.%y - %H.%M',\n",
    "    ]\n",
    "\n",
    "    dt_string = dateString.replace(\" \", \"\") + \" - \" + timeString\n",
    "\n",
    "    dt = \"00-00-0000 00:00\"\n",
    "\n",
    "    for fmt in possible_formats:\n",
    "        try:\n",
    "            dt = datetime.strptime(dt_string, fmt).strftime('%Y-%m-%d %H:%M')\n",
    "            break\n",
    "        except ValueError:\n",
    "            continue\n",
    "\n",
    "    return dt\n",
    "\n",
    "    "
   ]
  },
  {
   "cell_type": "code",
   "execution_count": 22,
   "metadata": {},
   "outputs": [],
   "source": [
    "from datetime import datetime\n",
    "\n",
    "def extractDatetime(text):\n",
    "    rawDate, rawTime = matchDatetime(text)\n",
    "\n",
    "    if rawDate != None & rawTime != None:\n",
    "\n",
    "        dt = parseDiffFormats(rawDate, rawTime)\n",
    "        \n",
    "\n",
    "        #date = datetime.strptime(rawDate, '%d. %m. %Y').strftime('%Y-%m-%d')\n",
    "        #time = datetime.strptime(rawTime, '%H.%M').strftime('%H:%M')\n",
    "\n",
    "        # https://docs.python.org/3/library/datetime.html#strftime-and-strptime-format-codes\n",
    "        \n",
    "        \n",
    "\n",
    "        #print(f\"Date: {date}\")\n",
    "        #print(f\"Time: {time}\")\n",
    "        return dt\n",
    "    else:\n",
    "        #print(\"No date and time found.\")\n",
    "        return \"00-00-0000 00:00\""
   ]
  },
  {
   "cell_type": "code",
   "execution_count": 6,
   "metadata": {},
   "outputs": [],
   "source": [
    "dfOutputs = dfOutputs.with_columns([\n",
    "    (pl.col(\"content\").map_elements(lambda x: extractDatetime(x), return_dtype=pl.String).alias('time'))\n",
    "])"
   ]
  },
  {
   "cell_type": "code",
   "execution_count": 7,
   "metadata": {},
   "outputs": [
    {
     "data": {
      "text/html": [
       "<div><style>\n",
       ".dataframe > thead > tr,\n",
       ".dataframe > tbody > tr {\n",
       "  text-align: right;\n",
       "  white-space: pre-wrap;\n",
       "}\n",
       "</style>\n",
       "<small>shape: (5, 5)</small><table border=\"1\" class=\"dataframe\"><thead><tr><th>year</th><th>month</th><th>file_name</th><th>content</th><th>time</th></tr><tr><td>i64</td><td>str</td><td>str</td><td>str</td><td>str</td></tr></thead><tbody><tr><td>2022</td><td>&quot;September&quot;</td><td>&quot;TMP-540&quot;</td><td>&quot;Prometne informacije&nbsp;&nbsp;&nbsp;&nbsp;&nbsp;&nbsp;10. …</td><td>&quot;2022-09-10 10:00&quot;</td></tr><tr><td>2022</td><td>&quot;September&quot;</td><td>&quot;TMP-226&quot;</td><td>&quot;NOVE Prometne informacije&nbsp;&nbsp;&nbsp;&nbsp;&nbsp;…</td><td>&quot;2022-09-22 09:00&quot;</td></tr><tr><td>2022</td><td>&quot;September&quot;</td><td>&quot;TMP-232&quot;</td><td>&quot;Prometne informacije&nbsp;&nbsp;&nbsp;&nbsp;&nbsp;&nbsp;22. …</td><td>&quot;2022-09-22 06:30&quot;</td></tr><tr><td>2022</td><td>&quot;September&quot;</td><td>&quot;TMP-554&quot;</td><td>&quot;Prometne informacije&nbsp;&nbsp;&nbsp;&nbsp;&nbsp;&nbsp;09. …</td><td>&quot;2022-09-09 16:30&quot;</td></tr><tr><td>2022</td><td>&quot;September&quot;</td><td>&quot;TMP-9&quot;</td><td>&quot;Prometne informacije&nbsp;&nbsp;&nbsp;\t&nbsp;&nbsp;&nbsp;30.…</td><td>&quot;2022-09-30 14:30&quot;</td></tr></tbody></table></div>"
      ],
      "text/plain": [
       "shape: (5, 5)\n",
       "┌──────┬───────────┬───────────┬─────────────────────────────────┬──────────────────┐\n",
       "│ year ┆ month     ┆ file_name ┆ content                         ┆ time             │\n",
       "│ ---  ┆ ---       ┆ ---       ┆ ---                             ┆ ---              │\n",
       "│ i64  ┆ str       ┆ str       ┆ str                             ┆ str              │\n",
       "╞══════╪═══════════╪═══════════╪═════════════════════════════════╪══════════════════╡\n",
       "│ 2022 ┆ September ┆ TMP-540   ┆ Prometne informacije      10. … ┆ 2022-09-10 10:00 │\n",
       "│ 2022 ┆ September ┆ TMP-226   ┆ NOVE Prometne informacije     … ┆ 2022-09-22 09:00 │\n",
       "│ 2022 ┆ September ┆ TMP-232   ┆ Prometne informacije      22. … ┆ 2022-09-22 06:30 │\n",
       "│ 2022 ┆ September ┆ TMP-554   ┆ Prometne informacije      09. … ┆ 2022-09-09 16:30 │\n",
       "│ 2022 ┆ September ┆ TMP-9     ┆ Prometne informacije   \t   30.… ┆ 2022-09-30 14:30 │\n",
       "└──────┴───────────┴───────────┴─────────────────────────────────┴──────────────────┘"
      ]
     },
     "execution_count": 7,
     "metadata": {},
     "output_type": "execute_result"
    }
   ],
   "source": [
    "dfOutputs.head()"
   ]
  },
  {
   "cell_type": "code",
   "execution_count": 8,
   "metadata": {},
   "outputs": [],
   "source": [
    "dfOutputs.write_csv(\"../data/outputs.csv\")"
   ]
  }
 ],
 "metadata": {
  "kernelspec": {
   "display_name": ".venv",
   "language": "python",
   "name": "python3"
  },
  "language_info": {
   "codemirror_mode": {
    "name": "ipython",
    "version": 3
   },
   "file_extension": ".py",
   "mimetype": "text/x-python",
   "name": "python",
   "nbconvert_exporter": "python",
   "pygments_lexer": "ipython3",
   "version": "3.12.4"
  }
 },
 "nbformat": 4,
 "nbformat_minor": 2
}

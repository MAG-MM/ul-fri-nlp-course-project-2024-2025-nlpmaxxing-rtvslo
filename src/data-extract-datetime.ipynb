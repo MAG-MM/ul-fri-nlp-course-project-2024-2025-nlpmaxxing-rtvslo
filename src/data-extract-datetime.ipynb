{
 "cells": [
  {
   "cell_type": "code",
   "execution_count": 56,
   "metadata": {},
   "outputs": [],
   "source": [
    "import polars as pl"
   ]
  },
  {
   "cell_type": "code",
   "execution_count": 57,
   "metadata": {},
   "outputs": [],
   "source": [
    "dfOutputs = pl.read_csv(\"../data/outputs.csv\")"
   ]
  },
  {
   "cell_type": "code",
   "execution_count": 58,
   "metadata": {},
   "outputs": [],
   "source": [
    "import re\n",
    "from datetime import datetime\n",
    "\n",
    "def extractDatetime(text):\n",
    "    pattern = r'(\\d{1,2}\\.\\s?\\d{1,2}\\.\\s?\\d{2,4})\\s+(\\d{1,2}\\.\\d{2})'\n",
    "\n",
    "    matches = re.search(pattern, text)\n",
    "\n",
    "    if matches:\n",
    "        rawDate = matches.group(1)\n",
    "        rawTime = matches.group(2)\n",
    "\n",
    "        #date = datetime.strptime(rawDate, '%d. %m. %Y').strftime('%Y-%m-%d')\n",
    "        #time = datetime.strptime(rawTime, '%H.%M').strftime('%H:%M')\n",
    "\n",
    "        # https://docs.python.org/3/library/datetime.html#strftime-and-strptime-format-codes\n",
    "        \n",
    "        try:\n",
    "            dt = datetime.strptime(rawDate.replace(\" \", \"\") + \" - \" + rawTime, '%d.%m.%Y - %H.%M').strftime('%Y-%m-%d %H:%M')\n",
    "        except ValueError:\n",
    "            try:\n",
    "                dt = datetime.strptime(rawDate.replace(\" \", \"\") + \" - \" + rawTime, '%d.%m.%y - %H.%M').strftime('%Y-%m-%d %H:%M') # year with two digits\n",
    "            except ValueError:\n",
    "                dt = \"00-00-0000 00:00\"\n",
    "\n",
    "        #print(f\"Date: {date}\")\n",
    "        #print(f\"Time: {time}\")\n",
    "        return dt\n",
    "    else:\n",
    "        #print(\"No date and time found.\")\n",
    "        return \"00-00-0000 00:00\""
   ]
  },
  {
   "cell_type": "code",
   "execution_count": 59,
   "metadata": {},
   "outputs": [],
   "source": [
    "dfOutputs = dfOutputs.with_columns([\n",
    "    (pl.col(\"content\").map_elements(lambda x: extractDatetime(x), return_dtype=pl.String).alias('time'))\n",
    "])"
   ]
  },
  {
   "cell_type": "code",
   "execution_count": 60,
   "metadata": {},
   "outputs": [
    {
     "data": {
      "text/html": [
       "<div><style>\n",
       ".dataframe > thead > tr,\n",
       ".dataframe > tbody > tr {\n",
       "  text-align: right;\n",
       "  white-space: pre-wrap;\n",
       "}\n",
       "</style>\n",
       "<small>shape: (5, 5)</small><table border=\"1\" class=\"dataframe\"><thead><tr><th>year</th><th>month</th><th>file_name</th><th>content</th><th>time</th></tr><tr><td>i64</td><td>str</td><td>str</td><td>str</td><td>str</td></tr></thead><tbody><tr><td>2022</td><td>&quot;April&quot;</td><td>&quot;TMP-1&quot;</td><td>&quot;Prometne informacije&nbsp;&nbsp;&nbsp;\t&nbsp;&nbsp;&nbsp;30.…</td><td>&quot;2022-04-30 18:30&quot;</td></tr><tr><td>2022</td><td>&quot;April&quot;</td><td>&quot;TMP-10&quot;</td><td>&quot;Prometne informacije&nbsp;&nbsp;&nbsp;\t&nbsp;&nbsp;&nbsp;30.…</td><td>&quot;2022-04-30 13:00&quot;</td></tr><tr><td>2022</td><td>&quot;April&quot;</td><td>&quot;TMP-100&quot;</td><td>&quot;Prometne informacije&nbsp;&nbsp;&nbsp;\t&nbsp;&nbsp;&nbsp;27.…</td><td>&quot;2022-04-27 06:30&quot;</td></tr><tr><td>2022</td><td>&quot;April&quot;</td><td>&quot;TMP-101&quot;</td><td>&quot;Prometne informacije&nbsp;&nbsp;&nbsp;\t&nbsp;&nbsp;&nbsp;27.…</td><td>&quot;2022-04-27 06:00&quot;</td></tr><tr><td>2022</td><td>&quot;April&quot;</td><td>&quot;TMP-102&quot;</td><td>&quot;Prometne informacije&nbsp;&nbsp;&nbsp;\t&nbsp;&nbsp;&nbsp;26.…</td><td>&quot;2022-04-26 20:00&quot;</td></tr></tbody></table></div>"
      ],
      "text/plain": [
       "shape: (5, 5)\n",
       "┌──────┬───────┬───────────┬─────────────────────────────────┬──────────────────┐\n",
       "│ year ┆ month ┆ file_name ┆ content                         ┆ time             │\n",
       "│ ---  ┆ ---   ┆ ---       ┆ ---                             ┆ ---              │\n",
       "│ i64  ┆ str   ┆ str       ┆ str                             ┆ str              │\n",
       "╞══════╪═══════╪═══════════╪═════════════════════════════════╪══════════════════╡\n",
       "│ 2022 ┆ April ┆ TMP-1     ┆ Prometne informacije   \t   30.… ┆ 2022-04-30 18:30 │\n",
       "│ 2022 ┆ April ┆ TMP-10    ┆ Prometne informacije   \t   30.… ┆ 2022-04-30 13:00 │\n",
       "│ 2022 ┆ April ┆ TMP-100   ┆ Prometne informacije   \t   27.… ┆ 2022-04-27 06:30 │\n",
       "│ 2022 ┆ April ┆ TMP-101   ┆ Prometne informacije   \t   27.… ┆ 2022-04-27 06:00 │\n",
       "│ 2022 ┆ April ┆ TMP-102   ┆ Prometne informacije   \t   26.… ┆ 2022-04-26 20:00 │\n",
       "└──────┴───────┴───────────┴─────────────────────────────────┴──────────────────┘"
      ]
     },
     "execution_count": 60,
     "metadata": {},
     "output_type": "execute_result"
    }
   ],
   "source": [
    "dfOutputs.head()"
   ]
  },
  {
   "cell_type": "code",
   "execution_count": 61,
   "metadata": {},
   "outputs": [],
   "source": [
    "dfOutputs.write_csv(\"../data/outputs.csv\")"
   ]
  }
 ],
 "metadata": {
  "kernelspec": {
   "display_name": ".venv",
   "language": "python",
   "name": "python3"
  },
  "language_info": {
   "codemirror_mode": {
    "name": "ipython",
    "version": 3
   },
   "file_extension": ".py",
   "mimetype": "text/x-python",
   "name": "python",
   "nbconvert_exporter": "python",
   "pygments_lexer": "ipython3",
   "version": "3.12.9"
  }
 },
 "nbformat": 4,
 "nbformat_minor": 2
}

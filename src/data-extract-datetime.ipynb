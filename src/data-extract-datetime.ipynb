{
 "cells": [
  {
   "cell_type": "code",
   "execution_count": 74,
   "metadata": {},
   "outputs": [],
   "source": [
    "import polars as pl"
   ]
  },
  {
   "cell_type": "code",
   "execution_count": 75,
   "metadata": {},
   "outputs": [],
   "source": [
    "dfOutputs = pl.read_csv(\"../data/outputs.csv\")"
   ]
  },
  {
   "cell_type": "code",
   "execution_count": 76,
   "metadata": {},
   "outputs": [],
   "source": [
    "import re\n",
    "\n",
    "def matchDatetime(text: str):\n",
    "    pattern = (\n",
    "        r'(\\d{1,2}(?:\\s*\\.\\s*00)?)'     # Day (e.g., 15 or 11.00)\n",
    "        r'(?:\\s?\\.*?\\,?\\s?)'                # Separator (dot, comma or space)\n",
    "        r'(\\d{1,2})'                    # Month\n",
    "        r'(?:\\s?\\.*?\\,?\\s?)'                # Separator (dot, comma or space)\n",
    "        r'(\\d{2,4})'                    # Year\n",
    "        r'\\s*(?:-\\s*)?'                 # spaces and Optional dash separator\n",
    "        r'(\\d{1,2}\\s?[.:,]?\\s?\\d{2})'    # Time (with optional separator)\n",
    "    )\n",
    "\n",
    "    matches = re.search(pattern, text)\n",
    "\n",
    "    dateString = None\n",
    "    timeString = None\n",
    "\n",
    "    try:\n",
    "        if matches:\n",
    "            day = matches.group(1).strip().replace(\" \", \"\")\n",
    "            month = matches.group(2).strip()\n",
    "            year = matches.group(3).strip()\n",
    "\n",
    "            # fix some dates that are like 13.00\n",
    "            if day.find(\".00\") != -1:\n",
    "                day = day.replace(\".00\", \"\")\n",
    "\n",
    "            # fix two digit years\n",
    "            if len(year) == 2:\n",
    "                year = \"20\" + year\n",
    "\n",
    "            # add leading zeroes where needed\n",
    "            if len(day) == 1:\n",
    "                day = \"0\" + day\n",
    "            if len(month) == 1:\n",
    "                month = \"0\" + month\n",
    "\n",
    "            dateString = day + '.' + month + '.' + year\n",
    "            \n",
    "            timeString = matches.group(4).strip()\n",
    "\n",
    "        \n",
    "            timeString = timeString.replace(\".\", \":\").replace(\"..\", \":\").replace(\",\", \":\").replace(\" \", \"\")\n",
    "        \n",
    "        # check if separator exists, if not add, to change time like 1300 to 13:00\n",
    "        if timeString.find(\":\") == -1:\n",
    "            timeString = timeString[:len(timeString)-2] + \":\" + timeString[len(timeString)-2:]\n",
    "    except:\n",
    "        pass\n",
    "\n",
    "    return dateString, timeString"
   ]
  },
  {
   "cell_type": "code",
   "execution_count": 77,
   "metadata": {},
   "outputs": [],
   "source": [
    "from datetime import datetime\n",
    "\n",
    "def parseDiffFormats(dateString: str, timeString: str):\n",
    "    # https://docs.python.org/3/library/datetime.html#strftime-and-strptime-format-codes\n",
    "    possible_formats = [\n",
    "        '%d.%m.%Y - %H:%M',\n",
    "    ]\n",
    "\n",
    "    date = \"0000-00-00\"\n",
    "    time = \"00:00\"\n",
    "\n",
    "    try:\n",
    "        dt_string = dateString.replace(\" \", \"\") + \" - \" + timeString\n",
    "    except AttributeError:\n",
    "        return date, time\n",
    "\n",
    "    for fmt in possible_formats:\n",
    "        try:\n",
    "            dt = datetime.strptime(dt_string, fmt)\n",
    "            date = dt.strftime('%Y-%m-%d')\n",
    "            time = dt.strftime('%H:%M')\n",
    "            break\n",
    "        except ValueError:\n",
    "            continue\n",
    "\n",
    "    return date, time"
   ]
  },
  {
   "cell_type": "code",
   "execution_count": 78,
   "metadata": {},
   "outputs": [],
   "source": [
    "from datetime import datetime\n",
    "\n",
    "def extractDatetime(text):\n",
    "    rawDate, rawTime = matchDatetime(text)\n",
    "\n",
    "    date = \"0000-00-00\"\n",
    "    time = \"00:00\"\n",
    "\n",
    "    date, time = parseDiffFormats(rawDate, rawTime)\n",
    "    \n",
    "    return {\n",
    "        \"date\": date,\n",
    "        \"time\": time\n",
    "    }"
   ]
  },
  {
   "cell_type": "code",
   "execution_count": 79,
   "metadata": {},
   "outputs": [],
   "source": [
    "dfOutputs = dfOutputs.with_columns([\n",
    "    (pl.col(\"content\").map_elements(lambda x: extractDatetime(x)['date'], return_dtype=pl.String).alias('date')),\n",
    "    (pl.col(\"content\").map_elements(lambda x: extractDatetime(x)['time'], return_dtype=pl.String).alias('time'))\n",
    "])"
   ]
  },
  {
   "cell_type": "code",
   "execution_count": 80,
   "metadata": {},
   "outputs": [
    {
     "data": {
      "text/html": [
       "<div><style>\n",
       ".dataframe > thead > tr,\n",
       ".dataframe > tbody > tr {\n",
       "  text-align: right;\n",
       "  white-space: pre-wrap;\n",
       "}\n",
       "</style>\n",
       "<small>shape: (5, 6)</small><table border=\"1\" class=\"dataframe\"><thead><tr><th>year</th><th>month</th><th>file_name</th><th>content</th><th>date</th><th>time</th></tr><tr><td>i64</td><td>str</td><td>str</td><td>str</td><td>str</td><td>str</td></tr></thead><tbody><tr><td>2022</td><td>&quot;April&quot;</td><td>&quot;TMP-1&quot;</td><td>&quot;Prometne informacije&nbsp;&nbsp;&nbsp;\t&nbsp;&nbsp;&nbsp;30.…</td><td>&quot;2022-04-30&quot;</td><td>&quot;18:30&quot;</td></tr><tr><td>2022</td><td>&quot;April&quot;</td><td>&quot;TMP-10&quot;</td><td>&quot;Prometne informacije&nbsp;&nbsp;&nbsp;\t&nbsp;&nbsp;&nbsp;30.…</td><td>&quot;2022-04-30&quot;</td><td>&quot;13:00&quot;</td></tr><tr><td>2022</td><td>&quot;April&quot;</td><td>&quot;TMP-100&quot;</td><td>&quot;Prometne informacije&nbsp;&nbsp;&nbsp;\t&nbsp;&nbsp;&nbsp;27.…</td><td>&quot;2022-04-27&quot;</td><td>&quot;06:30&quot;</td></tr><tr><td>2022</td><td>&quot;April&quot;</td><td>&quot;TMP-101&quot;</td><td>&quot;Prometne informacije&nbsp;&nbsp;&nbsp;\t&nbsp;&nbsp;&nbsp;27.…</td><td>&quot;2022-04-27&quot;</td><td>&quot;06:00&quot;</td></tr><tr><td>2022</td><td>&quot;April&quot;</td><td>&quot;TMP-102&quot;</td><td>&quot;Prometne informacije&nbsp;&nbsp;&nbsp;\t&nbsp;&nbsp;&nbsp;26.…</td><td>&quot;2022-04-26&quot;</td><td>&quot;20:00&quot;</td></tr></tbody></table></div>"
      ],
      "text/plain": [
       "shape: (5, 6)\n",
       "┌──────┬───────┬───────────┬─────────────────────────────────┬────────────┬───────┐\n",
       "│ year ┆ month ┆ file_name ┆ content                         ┆ date       ┆ time  │\n",
       "│ ---  ┆ ---   ┆ ---       ┆ ---                             ┆ ---        ┆ ---   │\n",
       "│ i64  ┆ str   ┆ str       ┆ str                             ┆ str        ┆ str   │\n",
       "╞══════╪═══════╪═══════════╪═════════════════════════════════╪════════════╪═══════╡\n",
       "│ 2022 ┆ April ┆ TMP-1     ┆ Prometne informacije   \t   30.… ┆ 2022-04-30 ┆ 18:30 │\n",
       "│ 2022 ┆ April ┆ TMP-10    ┆ Prometne informacije   \t   30.… ┆ 2022-04-30 ┆ 13:00 │\n",
       "│ 2022 ┆ April ┆ TMP-100   ┆ Prometne informacije   \t   27.… ┆ 2022-04-27 ┆ 06:30 │\n",
       "│ 2022 ┆ April ┆ TMP-101   ┆ Prometne informacije   \t   27.… ┆ 2022-04-27 ┆ 06:00 │\n",
       "│ 2022 ┆ April ┆ TMP-102   ┆ Prometne informacije   \t   26.… ┆ 2022-04-26 ┆ 20:00 │\n",
       "└──────┴───────┴───────────┴─────────────────────────────────┴────────────┴───────┘"
      ]
     },
     "execution_count": 80,
     "metadata": {},
     "output_type": "execute_result"
    }
   ],
   "source": [
    "dfOutputs.head()"
   ]
  },
  {
   "cell_type": "code",
   "execution_count": 81,
   "metadata": {},
   "outputs": [],
   "source": [
    "dfOutputs.filter(pl.col(\"date\") != \"0000-00-00\").write_csv(\"../data/outputs.csv\")"
   ]
  },
  {
   "cell_type": "code",
   "execution_count": 82,
   "metadata": {},
   "outputs": [],
   "source": [
    "dfBadDates = dfOutputs.filter(pl.col(\"date\") == \"0000-00-00\")"
   ]
  },
  {
   "cell_type": "code",
   "execution_count": 83,
   "metadata": {},
   "outputs": [
    {
     "data": {
      "text/html": [
       "<div><style>\n",
       ".dataframe > thead > tr,\n",
       ".dataframe > tbody > tr {\n",
       "  text-align: right;\n",
       "  white-space: pre-wrap;\n",
       "}\n",
       "</style>\n",
       "<small>shape: (9, 7)</small><table border=\"1\" class=\"dataframe\"><thead><tr><th>statistic</th><th>year</th><th>month</th><th>file_name</th><th>content</th><th>date</th><th>time</th></tr><tr><td>str</td><td>f64</td><td>str</td><td>str</td><td>str</td><td>str</td><td>str</td></tr></thead><tbody><tr><td>&quot;count&quot;</td><td>430.0</td><td>&quot;430&quot;</td><td>&quot;430&quot;</td><td>&quot;430&quot;</td><td>&quot;430&quot;</td><td>&quot;430&quot;</td></tr><tr><td>&quot;null_count&quot;</td><td>0.0</td><td>&quot;0&quot;</td><td>&quot;0&quot;</td><td>&quot;0&quot;</td><td>&quot;0&quot;</td><td>&quot;0&quot;</td></tr><tr><td>&quot;mean&quot;</td><td>2023.930233</td><td>null</td><td>null</td><td>null</td><td>null</td><td>null</td></tr><tr><td>&quot;std&quot;</td><td>0.327123</td><td>null</td><td>null</td><td>null</td><td>null</td><td>null</td></tr><tr><td>&quot;min&quot;</td><td>2022.0</td><td>&quot;April&quot;</td><td>&quot;TMP-135&quot;</td><td>&quot;\t\t\t\t\t\t\t8.30\n",
       "\n",
       "Podatki o prometu…</td><td>&quot;0000-00-00&quot;</td><td>&quot;00:00&quot;</td></tr><tr><td>&quot;25%&quot;</td><td>2024.0</td><td>null</td><td>null</td><td>null</td><td>null</td><td>null</td></tr><tr><td>&quot;50%&quot;</td><td>2024.0</td><td>null</td><td>null</td><td>null</td><td>null</td><td>null</td></tr><tr><td>&quot;75%&quot;</td><td>2024.0</td><td>null</td><td>null</td><td>null</td><td>null</td><td>null</td></tr><tr><td>&quot;max&quot;</td><td>2024.0</td><td>&quot;September&quot;</td><td>&quot;TMP9-2024-721&quot;</td><td>&quot;promet 8.15\n",
       "\n",
       "\n",
       "\n",
       "\n",
       "\n",
       "Na štajerski …</td><td>&quot;0000-00-00&quot;</td><td>&quot;00:00&quot;</td></tr></tbody></table></div>"
      ],
      "text/plain": [
       "shape: (9, 7)\n",
       "┌────────────┬─────────────┬───────────┬───────────────┬────────────────────┬────────────┬───────┐\n",
       "│ statistic  ┆ year        ┆ month     ┆ file_name     ┆ content            ┆ date       ┆ time  │\n",
       "│ ---        ┆ ---         ┆ ---       ┆ ---           ┆ ---                ┆ ---        ┆ ---   │\n",
       "│ str        ┆ f64         ┆ str       ┆ str           ┆ str                ┆ str        ┆ str   │\n",
       "╞════════════╪═════════════╪═══════════╪═══════════════╪════════════════════╪════════════╪═══════╡\n",
       "│ count      ┆ 430.0       ┆ 430       ┆ 430           ┆ 430                ┆ 430        ┆ 430   │\n",
       "│ null_count ┆ 0.0         ┆ 0         ┆ 0             ┆ 0                  ┆ 0          ┆ 0     │\n",
       "│ mean       ┆ 2023.930233 ┆ null      ┆ null          ┆ null               ┆ null       ┆ null  │\n",
       "│ std        ┆ 0.327123    ┆ null      ┆ null          ┆ null               ┆ null       ┆ null  │\n",
       "│ min        ┆ 2022.0      ┆ April     ┆ TMP-135       ┆ \t\t\t\t\t\t\t8.30        ┆ 0000-00-00 ┆ 00:00 │\n",
       "│            ┆             ┆           ┆               ┆                    ┆            ┆       │\n",
       "│            ┆             ┆           ┆               ┆ Podatki o prometu… ┆            ┆       │\n",
       "│ 25%        ┆ 2024.0      ┆ null      ┆ null          ┆ null               ┆ null       ┆ null  │\n",
       "│ 50%        ┆ 2024.0      ┆ null      ┆ null          ┆ null               ┆ null       ┆ null  │\n",
       "│ 75%        ┆ 2024.0      ┆ null      ┆ null          ┆ null               ┆ null       ┆ null  │\n",
       "│ max        ┆ 2024.0      ┆ September ┆ TMP9-2024-721 ┆ promet 8.15        ┆ 0000-00-00 ┆ 00:00 │\n",
       "│            ┆             ┆           ┆               ┆                    ┆            ┆       │\n",
       "│            ┆             ┆           ┆               ┆                    ┆            ┆       │\n",
       "│            ┆             ┆           ┆               ┆                    ┆            ┆       │\n",
       "│            ┆             ┆           ┆               ┆                    ┆            ┆       │\n",
       "│            ┆             ┆           ┆               ┆                    ┆            ┆       │\n",
       "│            ┆             ┆           ┆               ┆ Na štajerski …     ┆            ┆       │\n",
       "└────────────┴─────────────┴───────────┴───────────────┴────────────────────┴────────────┴───────┘"
      ]
     },
     "execution_count": 83,
     "metadata": {},
     "output_type": "execute_result"
    }
   ],
   "source": [
    "dfBadDates.write_csv(\"../data/outputs-bad-dates.csv\")\n",
    "\n",
    "dfBadDates.describe()"
   ]
  },
  {
   "cell_type": "code",
   "execution_count": 84,
   "metadata": {},
   "outputs": [
    {
     "data": {
      "text/plain": [
       "{'date': '2022-07-15', 'time': '10:00'}"
      ]
     },
     "execution_count": 84,
     "metadata": {},
     "output_type": "execute_result"
    }
   ],
   "source": [
    "extractDatetime(\"15. 07 2022         10.00 \")"
   ]
  }
 ],
 "metadata": {
  "kernelspec": {
   "display_name": ".venv",
   "language": "python",
   "name": "python3"
  },
  "language_info": {
   "codemirror_mode": {
    "name": "ipython",
    "version": 3
   },
   "file_extension": ".py",
   "mimetype": "text/x-python",
   "name": "python",
   "nbconvert_exporter": "python",
   "pygments_lexer": "ipython3",
   "version": "3.12.9"
  }
 },
 "nbformat": 4,
 "nbformat_minor": 2
}

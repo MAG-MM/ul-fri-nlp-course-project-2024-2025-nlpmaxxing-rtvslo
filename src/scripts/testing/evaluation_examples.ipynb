{
 "cells": [
  {
   "cell_type": "markdown",
   "id": "d97bda0d",
   "metadata": {},
   "source": [
    "### Notebook for testing evalutation examples"
   ]
  },
  {
   "cell_type": "code",
   "execution_count": 1,
   "id": "c4db932e",
   "metadata": {
    "ExecuteTime": {
     "end_time": "2025-05-22T00:48:27.208066Z",
     "start_time": "2025-05-22T00:48:19.005506Z"
    }
   },
   "outputs": [
    {
     "name": "stderr",
     "output_type": "stream",
     "text": [
      "C:\\Users\\Subic\\AppData\\Local\\Programs\\Python\\Python312\\Lib\\site-packages\\tqdm\\auto.py:21: TqdmWarning: IProgress not found. Please update jupyter and ipywidgets. See https://ipywidgets.readthedocs.io/en/stable/user_install.html\n",
      "  from .autonotebook import tqdm as notebook_tqdm\n",
      "Downloading https://raw.githubusercontent.com/clarinsi/classla-resources/main/resources_2.2.json: 15.9kB [00:00, 15.9MB/s]                   \n",
      "2025-05-22 02:48:25 INFO: Downloading these customized packages for language: sl (Slovenian)...\n",
      "========================\n",
      "| Processor | Package  |\n",
      "------------------------\n",
      "| tokenize  | standard |\n",
      "| pos       | standard |\n",
      "| lemma     | standard |\n",
      "| depparse  | standard |\n",
      "| ner       | standard |\n",
      "| pretrain  | standard |\n",
      "========================\n",
      "\n",
      "2025-05-22 02:48:26 INFO: File exists: C:\\Users\\Subic\\classla_resources\\sl\\pos\\standard.pt.\n",
      "2025-05-22 02:48:26 INFO: File exists: C:\\Users\\Subic\\classla_resources\\sl\\lemma\\standard.pt.\n",
      "2025-05-22 02:48:26 INFO: File exists: C:\\Users\\Subic\\classla_resources\\sl\\depparse\\standard.pt.\n",
      "2025-05-22 02:48:27 INFO: File exists: C:\\Users\\Subic\\classla_resources\\sl\\ner\\standard.pt.\n",
      "2025-05-22 02:48:27 INFO: File exists: C:\\Users\\Subic\\classla_resources\\sl\\pretrain\\standard.pt.\n",
      "2025-05-22 02:48:27 INFO: Finished downloading models and saved to C:\\Users\\Subic\\classla_resources.\n"
     ]
    }
   ],
   "source": [
    "import pandas as pd\n",
    "from evaluate_reports import TrafficReportEvaluator"
   ]
  },
  {
   "cell_type": "code",
   "execution_count": 2,
   "id": "546984e9",
   "metadata": {
    "ExecuteTime": {
     "end_time": "2025-05-22T00:48:27.214338Z",
     "start_time": "2025-05-22T00:48:27.209058Z"
    }
   },
   "outputs": [],
   "source": [
    "examples = [\n",
    "    [\n",
    "        \"Zaradi prometne nesreče je zaprta avtocesta A1 pri Celju.\", \n",
    "        \"Na avtocesti A1 pri Celju je zaradi nesreče zaprt promet.\"\n",
    "    ],\n",
    "    [\n",
    "        \"Zaradi prometne nesreče je zaprta štajerska avtocesta pri Celju.\",\n",
    "        \"Zaradi prometne nesreče je zaprta gorenjska avtocesta pri Celju.\",\n",
    "    ],\n",
    "    [\n",
    "        \"Zaradi prometne nesreče je zaprta štajerska avtocesta pri Celju v smeri proti Mariboru.\",\n",
    "        \"Zaradi prometne nesreče je zaprta štajerska avtocesta pri Brežicah v smeri proti Ljubljani.\",\n",
    "    ],\n",
    "    [\n",
    "        \"Zaradi prometne nesreče je zaprta škofjeloška obvoznica.\",\n",
    "        \"Posledice prometne nesreče so na škofjeloški obvoznici so popolnoma odpravljene.\",\n",
    "    ],\n",
    "    [\n",
    "        \"Zaradi prometne nesreče je zaprta škofjeloška obvoznica.\",\n",
    "        \"Na škofjeloški obvoznici se je zgodila prometna nesreča, zaradi česar je cesta zaprta.\",\n",
    "    ],\n",
    "    [\n",
    "        \"Na primorski avtocesti je med počivališčem Studenec in Postojno zaradi nesreče oviran promet proti Ljubljani.\",\n",
    "        \"Na primorski avtocesti sta med počivališčem Studenec in Postojno zaradi nesreče zaprta oba pasova proti Ljubljani.\"\n",
    "    ],\n",
    "    [\n",
    "        \"Koper, Postojna, Sežana, Ilirska Bistrica\",\n",
    "        \"Maribor, Murska Sobota, Lendava, Ljutomer\"\n",
    "    ],\n",
    "    [\n",
    "        \"Gorenjska avtocesta\",\n",
    "        \"Štajerska avtocesta\"\n",
    "    ],\n",
    "    [\n",
    "        \"Fakulteta za računalništvo in informatiko\", \n",
    "        \"Fakulteta za računalništvo ter informatiko\"\n",
    "    ],\n",
    "    [\n",
    "        \"Danes je lep dan, saj je lepo, sončno vreme.\",\n",
    "        \"Na nebu sije sonce, kar je lepo.\"\n",
    "    ],\n",
    "    [\n",
    "        \"Danes je lep dan, saj je lepo, sončno vreme.\",\n",
    "        \"Danes pada sneg in dež.\"\n",
    "    ],\n",
    "    [\n",
    "        \"Nek naključni testni niz.\",\n",
    "        \"Komaj čakam na poletje, da se mi ni treba več s faksom ukvarjat.\"\n",
    "    ],\n",
    "    [\n",
    "        \"ja\",\n",
    "        \"ne\"\n",
    "    ],\n",
    "]"
   ]
  },
  {
   "cell_type": "code",
   "execution_count": 3,
   "id": "f65ec4e8",
   "metadata": {
    "ExecuteTime": {
     "end_time": "2025-05-22T00:48:27.220200Z",
     "start_time": "2025-05-22T00:48:27.215333Z"
    }
   },
   "outputs": [],
   "source": [
    "generated = [i[0] for i in examples]\n",
    "references = [i[1] for i in examples]"
   ]
  },
  {
   "cell_type": "code",
   "execution_count": 4,
   "id": "ed1119ce",
   "metadata": {
    "ExecuteTime": {
     "end_time": "2025-05-22T00:48:27.224743Z",
     "start_time": "2025-05-22T00:48:27.221199Z"
    }
   },
   "outputs": [],
   "source": [
    "evaluator = TrafficReportEvaluator()\n",
    "# evaluator = TrafficReportEvaluator(model='bert-base-multilingual-cased')"
   ]
  },
  {
   "cell_type": "code",
   "outputs": [],
   "source": [
    "named_entities_results = evaluator.named_entity_evaluation(generated, references)"
   ],
   "metadata": {
    "collapsed": false,
    "ExecuteTime": {
     "end_time": "2025-05-22T00:48:30.600713Z",
     "start_time": "2025-05-22T00:48:27.225741Z"
    }
   },
   "id": "5187c4f435586d7d",
   "execution_count": 5
  },
  {
   "cell_type": "code",
   "execution_count": 6,
   "id": "d47176a7",
   "metadata": {
    "ExecuteTime": {
     "end_time": "2025-05-22T00:48:35.851386Z",
     "start_time": "2025-05-22T00:48:30.601710Z"
    }
   },
   "outputs": [],
   "source": [
    "bertscore_results = evaluator.bert_scores(generated, references)\n",
    "length_res_avg, length_results = evaluator.length_diff(generated, references)"
   ]
  },
  {
   "cell_type": "code",
   "execution_count": 7,
   "id": "eafd6d97e090773b",
   "metadata": {
    "collapsed": false,
    "ExecuteTime": {
     "end_time": "2025-05-22T00:48:35.858428Z",
     "start_time": "2025-05-22T00:48:35.852382Z"
    }
   },
   "outputs": [],
   "source": [
    "df = pd.DataFrame({\n",
    "    'Generated': generated,\n",
    "    'Reference': references,\n",
    "    'NE F1': named_entities_results['f1'],\n",
    "    'NE P': named_entities_results['precision'],\n",
    "    'NE R': named_entities_results['recall'],\n",
    "    'BS F1': bertscore_results['bertscore_f1'],\n",
    "    'BS P': bertscore_results['bertscore_precision'],\n",
    "    'BS R': bertscore_results['bertscore_recall'],\n",
    "    'Len diff': length_results\n",
    "})"
   ]
  },
  {
   "cell_type": "code",
   "execution_count": 8,
   "id": "921dbe733f7c4990",
   "metadata": {
    "collapsed": false,
    "ExecuteTime": {
     "end_time": "2025-05-22T00:48:35.880240Z",
     "start_time": "2025-05-22T00:48:35.859425Z"
    }
   },
   "outputs": [
    {
     "data": {
      "text/plain": "                                            Generated  \\\n0   Zaradi prometne nesreče je zaprta avtocesta A1...   \n1   Zaradi prometne nesreče je zaprta štajerska av...   \n2   Zaradi prometne nesreče je zaprta štajerska av...   \n3   Zaradi prometne nesreče je zaprta škofjeloška ...   \n4   Zaradi prometne nesreče je zaprta škofjeloška ...   \n5   Na primorski avtocesti je med počivališčem Stu...   \n6           Koper, Postojna, Sežana, Ilirska Bistrica   \n7                                 Gorenjska avtocesta   \n8           Fakulteta za računalništvo in informatiko   \n9        Danes je lep dan, saj je lepo, sončno vreme.   \n10       Danes je lep dan, saj je lepo, sončno vreme.   \n11                          Nek naključni testni niz.   \n12                                                 ja   \n\n                                            Reference  NE F1  NE P  NE R  \\\n0   Na avtocesti A1 pri Celju je zaradi nesreče za...    1.0   1.0   1.0   \n1   Zaradi prometne nesreče je zaprta gorenjska av...    1.0   1.0   1.0   \n2   Zaradi prometne nesreče je zaprta štajerska av...    0.0   0.0   0.0   \n3   Posledice prometne nesreče so na škofjeloški o...    1.0   1.0   1.0   \n4   Na škofjeloški obvoznici se je zgodila prometn...    1.0   1.0   1.0   \n5   Na primorski avtocesti sta med počivališčem St...    1.0   1.0   1.0   \n6           Maribor, Murska Sobota, Lendava, Ljutomer    0.0   0.0   0.0   \n7                                 Štajerska avtocesta    0.0   0.0   0.0   \n8          Fakulteta za računalništvo ter informatiko    0.0   0.0   0.0   \n9                    Na nebu sije sonce, kar je lepo.    1.0   1.0   1.0   \n10                            Danes pada sneg in dež.    1.0   1.0   1.0   \n11  Komaj čakam na poletje, da se mi ni treba več ...    1.0   1.0   1.0   \n12                                                 ne    1.0   1.0   1.0   \n\n    BS F1   BS P   BS R  Len diff  \n0   0.973  0.974  0.973    -0.100  \n1   0.984  0.979  0.988     0.000  \n2   0.986  0.986  0.986     0.000  \n3   0.945  0.953  0.938    -0.300  \n4   0.961  0.967  0.955    -0.462  \n5   0.980  0.984  0.976    -0.062  \n6   0.825  0.831  0.820     0.000  \n7   0.927  0.926  0.927     0.000  \n8   0.966  0.982  0.950     0.000  \n9   0.927  0.911  0.944     0.286  \n10  0.901  0.880  0.923     0.800  \n11  0.867  0.866  0.868    -0.692  \n12  0.929  0.929  0.929     0.000  ",
      "text/html": "<div>\n<style scoped>\n    .dataframe tbody tr th:only-of-type {\n        vertical-align: middle;\n    }\n\n    .dataframe tbody tr th {\n        vertical-align: top;\n    }\n\n    .dataframe thead th {\n        text-align: right;\n    }\n</style>\n<table border=\"1\" class=\"dataframe\">\n  <thead>\n    <tr style=\"text-align: right;\">\n      <th></th>\n      <th>Generated</th>\n      <th>Reference</th>\n      <th>NE F1</th>\n      <th>NE P</th>\n      <th>NE R</th>\n      <th>BS F1</th>\n      <th>BS P</th>\n      <th>BS R</th>\n      <th>Len diff</th>\n    </tr>\n  </thead>\n  <tbody>\n    <tr>\n      <th>0</th>\n      <td>Zaradi prometne nesreče je zaprta avtocesta A1...</td>\n      <td>Na avtocesti A1 pri Celju je zaradi nesreče za...</td>\n      <td>1.0</td>\n      <td>1.0</td>\n      <td>1.0</td>\n      <td>0.973</td>\n      <td>0.974</td>\n      <td>0.973</td>\n      <td>-0.100</td>\n    </tr>\n    <tr>\n      <th>1</th>\n      <td>Zaradi prometne nesreče je zaprta štajerska av...</td>\n      <td>Zaradi prometne nesreče je zaprta gorenjska av...</td>\n      <td>1.0</td>\n      <td>1.0</td>\n      <td>1.0</td>\n      <td>0.984</td>\n      <td>0.979</td>\n      <td>0.988</td>\n      <td>0.000</td>\n    </tr>\n    <tr>\n      <th>2</th>\n      <td>Zaradi prometne nesreče je zaprta štajerska av...</td>\n      <td>Zaradi prometne nesreče je zaprta štajerska av...</td>\n      <td>0.0</td>\n      <td>0.0</td>\n      <td>0.0</td>\n      <td>0.986</td>\n      <td>0.986</td>\n      <td>0.986</td>\n      <td>0.000</td>\n    </tr>\n    <tr>\n      <th>3</th>\n      <td>Zaradi prometne nesreče je zaprta škofjeloška ...</td>\n      <td>Posledice prometne nesreče so na škofjeloški o...</td>\n      <td>1.0</td>\n      <td>1.0</td>\n      <td>1.0</td>\n      <td>0.945</td>\n      <td>0.953</td>\n      <td>0.938</td>\n      <td>-0.300</td>\n    </tr>\n    <tr>\n      <th>4</th>\n      <td>Zaradi prometne nesreče je zaprta škofjeloška ...</td>\n      <td>Na škofjeloški obvoznici se je zgodila prometn...</td>\n      <td>1.0</td>\n      <td>1.0</td>\n      <td>1.0</td>\n      <td>0.961</td>\n      <td>0.967</td>\n      <td>0.955</td>\n      <td>-0.462</td>\n    </tr>\n    <tr>\n      <th>5</th>\n      <td>Na primorski avtocesti je med počivališčem Stu...</td>\n      <td>Na primorski avtocesti sta med počivališčem St...</td>\n      <td>1.0</td>\n      <td>1.0</td>\n      <td>1.0</td>\n      <td>0.980</td>\n      <td>0.984</td>\n      <td>0.976</td>\n      <td>-0.062</td>\n    </tr>\n    <tr>\n      <th>6</th>\n      <td>Koper, Postojna, Sežana, Ilirska Bistrica</td>\n      <td>Maribor, Murska Sobota, Lendava, Ljutomer</td>\n      <td>0.0</td>\n      <td>0.0</td>\n      <td>0.0</td>\n      <td>0.825</td>\n      <td>0.831</td>\n      <td>0.820</td>\n      <td>0.000</td>\n    </tr>\n    <tr>\n      <th>7</th>\n      <td>Gorenjska avtocesta</td>\n      <td>Štajerska avtocesta</td>\n      <td>0.0</td>\n      <td>0.0</td>\n      <td>0.0</td>\n      <td>0.927</td>\n      <td>0.926</td>\n      <td>0.927</td>\n      <td>0.000</td>\n    </tr>\n    <tr>\n      <th>8</th>\n      <td>Fakulteta za računalništvo in informatiko</td>\n      <td>Fakulteta za računalništvo ter informatiko</td>\n      <td>0.0</td>\n      <td>0.0</td>\n      <td>0.0</td>\n      <td>0.966</td>\n      <td>0.982</td>\n      <td>0.950</td>\n      <td>0.000</td>\n    </tr>\n    <tr>\n      <th>9</th>\n      <td>Danes je lep dan, saj je lepo, sončno vreme.</td>\n      <td>Na nebu sije sonce, kar je lepo.</td>\n      <td>1.0</td>\n      <td>1.0</td>\n      <td>1.0</td>\n      <td>0.927</td>\n      <td>0.911</td>\n      <td>0.944</td>\n      <td>0.286</td>\n    </tr>\n    <tr>\n      <th>10</th>\n      <td>Danes je lep dan, saj je lepo, sončno vreme.</td>\n      <td>Danes pada sneg in dež.</td>\n      <td>1.0</td>\n      <td>1.0</td>\n      <td>1.0</td>\n      <td>0.901</td>\n      <td>0.880</td>\n      <td>0.923</td>\n      <td>0.800</td>\n    </tr>\n    <tr>\n      <th>11</th>\n      <td>Nek naključni testni niz.</td>\n      <td>Komaj čakam na poletje, da se mi ni treba več ...</td>\n      <td>1.0</td>\n      <td>1.0</td>\n      <td>1.0</td>\n      <td>0.867</td>\n      <td>0.866</td>\n      <td>0.868</td>\n      <td>-0.692</td>\n    </tr>\n    <tr>\n      <th>12</th>\n      <td>ja</td>\n      <td>ne</td>\n      <td>1.0</td>\n      <td>1.0</td>\n      <td>1.0</td>\n      <td>0.929</td>\n      <td>0.929</td>\n      <td>0.929</td>\n      <td>0.000</td>\n    </tr>\n  </tbody>\n</table>\n</div>"
     },
     "execution_count": 8,
     "metadata": {},
     "output_type": "execute_result"
    }
   ],
   "source": [
    "pd.set_option('display.max_rows', None)\n",
    "df.round(3)"
   ]
  },
  {
   "cell_type": "code",
   "execution_count": 8,
   "id": "5f2a2275c07e52f0",
   "metadata": {
    "collapsed": false,
    "ExecuteTime": {
     "end_time": "2025-05-22T00:48:35.883239Z",
     "start_time": "2025-05-22T00:48:35.881240Z"
    }
   },
   "outputs": [],
   "source": []
  }
 ],
 "metadata": {
  "kernelspec": {
   "display_name": ".venv",
   "language": "python",
   "name": "python3"
  },
  "language_info": {
   "codemirror_mode": {
    "name": "ipython",
    "version": 3
   },
   "file_extension": ".py",
   "mimetype": "text/x-python",
   "name": "python",
   "nbconvert_exporter": "python",
   "pygments_lexer": "ipython3",
   "version": "3.12.2"
  }
 },
 "nbformat": 4,
 "nbformat_minor": 5
}

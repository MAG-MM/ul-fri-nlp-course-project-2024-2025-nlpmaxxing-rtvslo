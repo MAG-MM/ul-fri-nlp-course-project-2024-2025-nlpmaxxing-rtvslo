{
 "cells": [
  {
   "cell_type": "markdown",
   "id": "d97bda0d",
   "metadata": {},
   "source": [
    "### Notebook for testing evaluation examples"
   ]
  },
  {
   "cell_type": "code",
   "execution_count": 9,
   "id": "c4db932e",
   "metadata": {
    "ExecuteTime": {
     "end_time": "2025-05-27T23:46:01.121675Z",
     "start_time": "2025-05-27T23:46:01.117728Z"
    }
   },
   "outputs": [],
   "source": [
    "import pandas as pd\n",
    "from evaluate_reports import TrafficReportEvaluator"
   ]
  },
  {
   "cell_type": "code",
   "execution_count": 10,
   "id": "546984e9",
   "metadata": {
    "ExecuteTime": {
     "end_time": "2025-05-27T23:46:01.127931Z",
     "start_time": "2025-05-27T23:46:01.122674Z"
    }
   },
   "outputs": [],
   "source": [
    "examples = [\n",
    "    # actual traffic reports\n",
    "    [\n",
    "        \"Podatki o prometu. V ljubljanski kotlini megla zmanjšuje vidljivost. Zaradi del je na vzhodni mariborski obvoznici v obe smeri zaprt prehitevalni pas med razcepom Dragučova in priključkom Maribor-vzhod.\",\n",
    "        \"Podatki o prometu. Ponekod po državi megla zmanjšuje vidljivost. Zaradi del je na vzhodni mariborski obvoznici v obe smeri zaprt prehitevalni pas med razcepom Dragučova in priključkom Pesnica.\"\n",
    "    ],\n",
    "    [\n",
    "        \"Podatki o prometu. Na dolenjski avtocesti proti Obrežju je zaradi del nastal zastoj med Grosupljim in Višnjo Goro. Opozarjamo na nevarnost naleta.\",\n",
    "        \"Podatki o prometu. Na dolenjski avtocesti proti Obrežju je zaradi del nastal zastoj med Grosupljim in Višnjo Goro. Opozarjamo na nevarnost naleta. Prav tako so zaradi del zastoji na severni ljubljanski obvoznici med priključkom Tomačevo in razcepom Zadobrova v obe smeri. Zaradi pokvarjenega vozila je na štajerski avtocesti proti Mariboru zaprt pas za počasna vozila med Dramljami in Slovenskimi Konjicami pred predorom Pletovarje.\"\n",
    "    ],\n",
    "    [\n",
    "        \"Na primorski avtocesti proti Kopru bo promet zaradi del od 6-ih do 16-ih med Brezovico in Vrhniko potekal po enem pasu. Prav tako zaradi del bo cesta Litija-Zagorje ob Savi od pol 8-ih do 17-ih zaprta pri Šklendrovcu. Cesta čez prelaz Vršič je zaprta zaradi snega. Na dolenjski avtocesti je med priključkoma Novo mesto-zahod in Mirna Peč promet proti Ljubljani oviran zaradi predmeta na vozišču.\",\n",
    "        \"Na primorski avtocesti proti Kopru bo promet zaradi del od 6-ih do 16-ih med Brezovico in Vrhniko potekal po enem pasu. Prav tako zaradi del bo cesta Litija-Zagorje ob Savi od pol 8-ih do 17-ih zaprta pri Šklendrovcu.\"\n",
    "    ],\n",
    "    \n",
    "    # traffic report based examples\n",
    "    [\n",
    "        \"Zaradi prometne nesreče je zaprta avtocesta A1 pri Celju.\", \n",
    "        \"Na avtocesti A1 pri Celju je zaradi nesreče zaprt promet.\"\n",
    "    ],\n",
    "    [\n",
    "        \"Zaradi prometne nesreče je zaprta štajerska avtocesta pri Celju.\",\n",
    "        \"Zaradi prometne nesreče je zaprta gorenjska avtocesta pri Celju.\",\n",
    "    ],\n",
    "    [\n",
    "        \"Zaradi prometne nesreče je zaprta štajerska avtocesta pri Celju v smeri proti Mariboru.\",\n",
    "        \"Zaradi prometne nesreče je zaprta štajerska avtocesta pri Brežicah v smeri proti Ljubljani.\",\n",
    "    ],\n",
    "    [\n",
    "        \"Zaradi prometne nesreče je zaprta škofjeloška obvoznica.\",\n",
    "        \"Posledice prometne nesreče so na škofjeloški obvoznici so popolnoma odpravljene.\",\n",
    "    ],\n",
    "    [\n",
    "        \"Zaradi prometne nesreče je zaprta škofjeloška obvoznica.\",\n",
    "        \"Na škofjeloški obvoznici se je zgodila prometna nesreča, zaradi česar je cesta zaprta.\",\n",
    "    ],\n",
    "    [\n",
    "        \"Na primorski avtocesti je med počivališčem Studenec in Postojno zaradi nesreče oviran promet proti Ljubljani.\",\n",
    "        \"Na primorski avtocesti sta med počivališčem Studenec in Postojno zaradi nesreče zaprta oba pasova proti Ljubljani.\"\n",
    "    ],\n",
    "    [\n",
    "        \"Na gorenjski avtocesti je zaradi prometne nesreče zaprt vozni pas pri izvozu Vodice proti Ljubljani.\",\n",
    "        \"Na gorenjski avtocesti je zaradi prometne nesreče zaprt vozni pas pri izvozu Vodice proti Kranju.\"\n",
    "    ],\n",
    "    [\n",
    "        \"Na gorenjski avtocesti je zaradi prometne nesreče zaprt vozni pas pri izvozu Brnik proti Ljubljani.\",\n",
    "        \"Na gorenjski avtocesti je zaradi prometne nesreče zaprt vozni pas pri izvozu Vodice proti Kranju.\"\n",
    "    ],\n",
    "    \n",
    "    # other examples\n",
    "    [\n",
    "        \"Koper, Postojna, Sežana, Ilirska Bistrica\",\n",
    "        \"Maribor, Murska Sobota, Lendava, Ljutomer\"\n",
    "    ],\n",
    "    [\n",
    "        \"Gorenjska avtocesta\",\n",
    "        \"Štajerska avtocesta\"\n",
    "    ],\n",
    "    [\n",
    "        \"Fakulteta za računalništvo in informatiko\", \n",
    "        \"Fakulteta za računalništvo ter informatiko\"\n",
    "    ],\n",
    "    [\n",
    "        \"Danes je lep dan, saj je lepo, sončno vreme.\",\n",
    "        \"Na nebu sije sonce, kar je lepo.\"\n",
    "    ],\n",
    "    [\n",
    "        \"Danes je lep dan, saj je lepo, sončno vreme.\",\n",
    "        \"Danes pada sneg in dež.\"\n",
    "    ],\n",
    "    [\n",
    "        \"Nek naključni testni niz.\",\n",
    "        \"Komaj čakam na poletje, da se mi ni treba več s faksom ukvarjat.\"\n",
    "    ],\n",
    "    [\n",
    "        \"ja\",\n",
    "        \"ne\"\n",
    "    ],\n",
    "]"
   ]
  },
  {
   "cell_type": "code",
   "execution_count": 11,
   "id": "f65ec4e8",
   "metadata": {
    "ExecuteTime": {
     "end_time": "2025-05-27T23:46:01.132803Z",
     "start_time": "2025-05-27T23:46:01.128931Z"
    }
   },
   "outputs": [],
   "source": [
    "generated = [i[0] for i in examples]\n",
    "references = [i[1] for i in examples]"
   ]
  },
  {
   "cell_type": "code",
   "execution_count": 12,
   "id": "ed1119ce",
   "metadata": {
    "ExecuteTime": {
     "end_time": "2025-05-27T23:46:01.137295Z",
     "start_time": "2025-05-27T23:46:01.133802Z"
    }
   },
   "outputs": [],
   "source": [
    "evaluator = TrafficReportEvaluator()\n",
    "# evaluator = TrafficReportEvaluator(model='bert-base-multilingual-cased')"
   ]
  },
  {
   "cell_type": "code",
   "execution_count": 13,
   "id": "5187c4f435586d7d",
   "metadata": {
    "collapsed": false,
    "ExecuteTime": {
     "end_time": "2025-05-27T23:46:27.961161Z",
     "start_time": "2025-05-27T23:46:01.138292Z"
    }
   },
   "outputs": [],
   "source": [
    "named_entities_results = evaluator.named_entity_evaluation(generated, references, lemmatize=True, extended=True)"
   ]
  },
  {
   "cell_type": "code",
   "execution_count": 14,
   "id": "d47176a7",
   "metadata": {
    "ExecuteTime": {
     "end_time": "2025-05-27T23:46:30.948650Z",
     "start_time": "2025-05-27T23:46:27.962160Z"
    }
   },
   "outputs": [],
   "source": [
    "bertscore_results = evaluator.bert_scores(generated, references)\n",
    "length_res_avg, length_results = evaluator.length_diff(generated, references)"
   ]
  },
  {
   "cell_type": "code",
   "execution_count": 15,
   "id": "eafd6d97e090773b",
   "metadata": {
    "collapsed": false,
    "ExecuteTime": {
     "end_time": "2025-05-27T23:46:30.953151Z",
     "start_time": "2025-05-27T23:46:30.949644Z"
    }
   },
   "outputs": [],
   "source": [
    "df = pd.DataFrame({\n",
    "    'Generated': generated,\n",
    "    'Reference': references,\n",
    "    'NE F1': named_entities_results['f1'],\n",
    "    'NE P': named_entities_results['precision'],\n",
    "    'NE R': named_entities_results['recall'],\n",
    "    'BS F1': bertscore_results['bertscore_f1'],\n",
    "    'BS P': bertscore_results['bertscore_precision'],\n",
    "    'BS R': bertscore_results['bertscore_recall'],\n",
    "    'Len diff': length_results\n",
    "})"
   ]
  },
  {
   "cell_type": "code",
   "execution_count": 16,
   "id": "921dbe733f7c4990",
   "metadata": {
    "collapsed": false,
    "ExecuteTime": {
     "end_time": "2025-05-27T23:46:30.967424Z",
     "start_time": "2025-05-27T23:46:30.954150Z"
    }
   },
   "outputs": [
    {
     "data": {
      "text/plain": "                                            Generated  \\\n0   Podatki o prometu. V ljubljanski kotlini megla...   \n1   Podatki o prometu. Na dolenjski avtocesti prot...   \n2   Na primorski avtocesti proti Kopru bo promet z...   \n3   Zaradi prometne nesreče je zaprta avtocesta A1...   \n4   Zaradi prometne nesreče je zaprta štajerska av...   \n5   Zaradi prometne nesreče je zaprta štajerska av...   \n6   Zaradi prometne nesreče je zaprta škofjeloška ...   \n7   Zaradi prometne nesreče je zaprta škofjeloška ...   \n8   Na primorski avtocesti je med počivališčem Stu...   \n9   Na gorenjski avtocesti je zaradi prometne nesr...   \n10  Na gorenjski avtocesti je zaradi prometne nesr...   \n11          Koper, Postojna, Sežana, Ilirska Bistrica   \n12                                Gorenjska avtocesta   \n13          Fakulteta za računalništvo in informatiko   \n14       Danes je lep dan, saj je lepo, sončno vreme.   \n15       Danes je lep dan, saj je lepo, sončno vreme.   \n16                          Nek naključni testni niz.   \n17                                                 ja   \n\n                                            Reference  NE F1   NE P   NE R  \\\n0   Podatki o prometu. Ponekod po državi megla zma...    0.4  0.333  0.500   \n1   Podatki o prometu. Na dolenjski avtocesti prot...    0.5  1.000  0.333   \n2   Na primorski avtocesti proti Kopru bo promet z...    0.8  0.667  1.000   \n3   Na avtocesti A1 pri Celju je zaradi nesreče za...    1.0  1.000  1.000   \n4   Zaradi prometne nesreče je zaprta gorenjska av...    1.0  1.000  1.000   \n5   Zaradi prometne nesreče je zaprta štajerska av...    0.0  0.000  0.000   \n6   Posledice prometne nesreče so na škofjeloški o...    1.0  1.000  1.000   \n7   Na škofjeloški obvoznici se je zgodila prometn...    1.0  1.000  1.000   \n8   Na primorski avtocesti sta med počivališčem St...    1.0  1.000  1.000   \n9   Na gorenjski avtocesti je zaradi prometne nesr...    0.5  0.500  0.500   \n10  Na gorenjski avtocesti je zaradi prometne nesr...    0.0  0.000  0.000   \n11          Maribor, Murska Sobota, Lendava, Ljutomer    0.0  0.000  0.000   \n12                                Štajerska avtocesta    0.0  0.000  0.000   \n13         Fakulteta za računalništvo ter informatiko    1.0  1.000  1.000   \n14                   Na nebu sije sonce, kar je lepo.    1.0  1.000  1.000   \n15                            Danes pada sneg in dež.    1.0  1.000  1.000   \n16  Komaj čakam na poletje, da se mi ni treba več ...    1.0  1.000  1.000   \n17                                                 ne    1.0  1.000  1.000   \n\n    BS F1   BS P   BS R  Len diff  \n0   0.968  0.966  0.971     0.000  \n1   0.942  0.988  0.900    -0.651  \n2   0.963  0.935  0.992     0.711  \n3   0.973  0.974  0.973    -0.100  \n4   0.984  0.979  0.988     0.000  \n5   0.986  0.986  0.986     0.000  \n6   0.945  0.953  0.938    -0.300  \n7   0.961  0.967  0.955    -0.462  \n8   0.980  0.984  0.976    -0.062  \n9   0.995  0.994  0.995     0.000  \n10  0.984  0.985  0.982     0.000  \n11  0.825  0.831  0.820     0.000  \n12  0.927  0.926  0.927     0.000  \n13  0.966  0.982  0.950     0.000  \n14  0.927  0.911  0.944     0.286  \n15  0.901  0.880  0.923     0.800  \n16  0.867  0.866  0.868    -0.692  \n17  0.929  0.929  0.929     0.000  ",
      "text/html": "<div>\n<style scoped>\n    .dataframe tbody tr th:only-of-type {\n        vertical-align: middle;\n    }\n\n    .dataframe tbody tr th {\n        vertical-align: top;\n    }\n\n    .dataframe thead th {\n        text-align: right;\n    }\n</style>\n<table border=\"1\" class=\"dataframe\">\n  <thead>\n    <tr style=\"text-align: right;\">\n      <th></th>\n      <th>Generated</th>\n      <th>Reference</th>\n      <th>NE F1</th>\n      <th>NE P</th>\n      <th>NE R</th>\n      <th>BS F1</th>\n      <th>BS P</th>\n      <th>BS R</th>\n      <th>Len diff</th>\n    </tr>\n  </thead>\n  <tbody>\n    <tr>\n      <th>0</th>\n      <td>Podatki o prometu. V ljubljanski kotlini megla...</td>\n      <td>Podatki o prometu. Ponekod po državi megla zma...</td>\n      <td>0.4</td>\n      <td>0.333</td>\n      <td>0.500</td>\n      <td>0.968</td>\n      <td>0.966</td>\n      <td>0.971</td>\n      <td>0.000</td>\n    </tr>\n    <tr>\n      <th>1</th>\n      <td>Podatki o prometu. Na dolenjski avtocesti prot...</td>\n      <td>Podatki o prometu. Na dolenjski avtocesti prot...</td>\n      <td>0.5</td>\n      <td>1.000</td>\n      <td>0.333</td>\n      <td>0.942</td>\n      <td>0.988</td>\n      <td>0.900</td>\n      <td>-0.651</td>\n    </tr>\n    <tr>\n      <th>2</th>\n      <td>Na primorski avtocesti proti Kopru bo promet z...</td>\n      <td>Na primorski avtocesti proti Kopru bo promet z...</td>\n      <td>0.8</td>\n      <td>0.667</td>\n      <td>1.000</td>\n      <td>0.963</td>\n      <td>0.935</td>\n      <td>0.992</td>\n      <td>0.711</td>\n    </tr>\n    <tr>\n      <th>3</th>\n      <td>Zaradi prometne nesreče je zaprta avtocesta A1...</td>\n      <td>Na avtocesti A1 pri Celju je zaradi nesreče za...</td>\n      <td>1.0</td>\n      <td>1.000</td>\n      <td>1.000</td>\n      <td>0.973</td>\n      <td>0.974</td>\n      <td>0.973</td>\n      <td>-0.100</td>\n    </tr>\n    <tr>\n      <th>4</th>\n      <td>Zaradi prometne nesreče je zaprta štajerska av...</td>\n      <td>Zaradi prometne nesreče je zaprta gorenjska av...</td>\n      <td>1.0</td>\n      <td>1.000</td>\n      <td>1.000</td>\n      <td>0.984</td>\n      <td>0.979</td>\n      <td>0.988</td>\n      <td>0.000</td>\n    </tr>\n    <tr>\n      <th>5</th>\n      <td>Zaradi prometne nesreče je zaprta štajerska av...</td>\n      <td>Zaradi prometne nesreče je zaprta štajerska av...</td>\n      <td>0.0</td>\n      <td>0.000</td>\n      <td>0.000</td>\n      <td>0.986</td>\n      <td>0.986</td>\n      <td>0.986</td>\n      <td>0.000</td>\n    </tr>\n    <tr>\n      <th>6</th>\n      <td>Zaradi prometne nesreče je zaprta škofjeloška ...</td>\n      <td>Posledice prometne nesreče so na škofjeloški o...</td>\n      <td>1.0</td>\n      <td>1.000</td>\n      <td>1.000</td>\n      <td>0.945</td>\n      <td>0.953</td>\n      <td>0.938</td>\n      <td>-0.300</td>\n    </tr>\n    <tr>\n      <th>7</th>\n      <td>Zaradi prometne nesreče je zaprta škofjeloška ...</td>\n      <td>Na škofjeloški obvoznici se je zgodila prometn...</td>\n      <td>1.0</td>\n      <td>1.000</td>\n      <td>1.000</td>\n      <td>0.961</td>\n      <td>0.967</td>\n      <td>0.955</td>\n      <td>-0.462</td>\n    </tr>\n    <tr>\n      <th>8</th>\n      <td>Na primorski avtocesti je med počivališčem Stu...</td>\n      <td>Na primorski avtocesti sta med počivališčem St...</td>\n      <td>1.0</td>\n      <td>1.000</td>\n      <td>1.000</td>\n      <td>0.980</td>\n      <td>0.984</td>\n      <td>0.976</td>\n      <td>-0.062</td>\n    </tr>\n    <tr>\n      <th>9</th>\n      <td>Na gorenjski avtocesti je zaradi prometne nesr...</td>\n      <td>Na gorenjski avtocesti je zaradi prometne nesr...</td>\n      <td>0.5</td>\n      <td>0.500</td>\n      <td>0.500</td>\n      <td>0.995</td>\n      <td>0.994</td>\n      <td>0.995</td>\n      <td>0.000</td>\n    </tr>\n    <tr>\n      <th>10</th>\n      <td>Na gorenjski avtocesti je zaradi prometne nesr...</td>\n      <td>Na gorenjski avtocesti je zaradi prometne nesr...</td>\n      <td>0.0</td>\n      <td>0.000</td>\n      <td>0.000</td>\n      <td>0.984</td>\n      <td>0.985</td>\n      <td>0.982</td>\n      <td>0.000</td>\n    </tr>\n    <tr>\n      <th>11</th>\n      <td>Koper, Postojna, Sežana, Ilirska Bistrica</td>\n      <td>Maribor, Murska Sobota, Lendava, Ljutomer</td>\n      <td>0.0</td>\n      <td>0.000</td>\n      <td>0.000</td>\n      <td>0.825</td>\n      <td>0.831</td>\n      <td>0.820</td>\n      <td>0.000</td>\n    </tr>\n    <tr>\n      <th>12</th>\n      <td>Gorenjska avtocesta</td>\n      <td>Štajerska avtocesta</td>\n      <td>0.0</td>\n      <td>0.000</td>\n      <td>0.000</td>\n      <td>0.927</td>\n      <td>0.926</td>\n      <td>0.927</td>\n      <td>0.000</td>\n    </tr>\n    <tr>\n      <th>13</th>\n      <td>Fakulteta za računalništvo in informatiko</td>\n      <td>Fakulteta za računalništvo ter informatiko</td>\n      <td>1.0</td>\n      <td>1.000</td>\n      <td>1.000</td>\n      <td>0.966</td>\n      <td>0.982</td>\n      <td>0.950</td>\n      <td>0.000</td>\n    </tr>\n    <tr>\n      <th>14</th>\n      <td>Danes je lep dan, saj je lepo, sončno vreme.</td>\n      <td>Na nebu sije sonce, kar je lepo.</td>\n      <td>1.0</td>\n      <td>1.000</td>\n      <td>1.000</td>\n      <td>0.927</td>\n      <td>0.911</td>\n      <td>0.944</td>\n      <td>0.286</td>\n    </tr>\n    <tr>\n      <th>15</th>\n      <td>Danes je lep dan, saj je lepo, sončno vreme.</td>\n      <td>Danes pada sneg in dež.</td>\n      <td>1.0</td>\n      <td>1.000</td>\n      <td>1.000</td>\n      <td>0.901</td>\n      <td>0.880</td>\n      <td>0.923</td>\n      <td>0.800</td>\n    </tr>\n    <tr>\n      <th>16</th>\n      <td>Nek naključni testni niz.</td>\n      <td>Komaj čakam na poletje, da se mi ni treba več ...</td>\n      <td>1.0</td>\n      <td>1.000</td>\n      <td>1.000</td>\n      <td>0.867</td>\n      <td>0.866</td>\n      <td>0.868</td>\n      <td>-0.692</td>\n    </tr>\n    <tr>\n      <th>17</th>\n      <td>ja</td>\n      <td>ne</td>\n      <td>1.0</td>\n      <td>1.000</td>\n      <td>1.000</td>\n      <td>0.929</td>\n      <td>0.929</td>\n      <td>0.929</td>\n      <td>0.000</td>\n    </tr>\n  </tbody>\n</table>\n</div>"
     },
     "execution_count": 16,
     "metadata": {},
     "output_type": "execute_result"
    }
   ],
   "source": [
    "pd.set_option('display.max_rows', None)\n",
    "df.round(3)"
   ]
  },
  {
   "cell_type": "code",
   "execution_count": 16,
   "id": "5f2a2275c07e52f0",
   "metadata": {
    "collapsed": false,
    "ExecuteTime": {
     "end_time": "2025-05-27T23:46:30.970421Z",
     "start_time": "2025-05-27T23:46:30.968420Z"
    }
   },
   "outputs": [],
   "source": []
  }
 ],
 "metadata": {
  "kernelspec": {
   "display_name": ".venv",
   "language": "python",
   "name": "python3"
  },
  "language_info": {
   "codemirror_mode": {
    "name": "ipython",
    "version": 3
   },
   "file_extension": ".py",
   "mimetype": "text/x-python",
   "name": "python",
   "nbconvert_exporter": "python",
   "pygments_lexer": "ipython3",
   "version": "3.12.2"
  }
 },
 "nbformat": 4,
 "nbformat_minor": 5
}

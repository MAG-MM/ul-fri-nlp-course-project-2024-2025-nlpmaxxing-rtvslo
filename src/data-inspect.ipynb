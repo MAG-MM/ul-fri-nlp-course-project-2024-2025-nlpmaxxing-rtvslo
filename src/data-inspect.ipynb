{
 "cells": [
  {
   "cell_type": "code",
   "execution_count": 90,
   "metadata": {},
   "outputs": [],
   "source": [
    "import polars as pl"
   ]
  },
  {
   "cell_type": "code",
   "execution_count": 91,
   "metadata": {},
   "outputs": [],
   "source": [
    "dfInputs = pl.read_csv(\"../data/inputs-clean.csv\")\n",
    "\n",
    "dfOutputs = pl.read_csv(\"../data/outputs.csv\")"
   ]
  },
  {
   "cell_type": "code",
   "execution_count": 92,
   "metadata": {},
   "outputs": [
    {
     "data": {
      "text/html": [
       "<div><style>\n",
       ".dataframe > thead > tr,\n",
       ".dataframe > tbody > tr {\n",
       "  text-align: right;\n",
       "  white-space: pre-wrap;\n",
       "}\n",
       "</style>\n",
       "<small>shape: (9, 24)</small><table border=\"1\" class=\"dataframe\"><thead><tr><th>statistic</th><th>LegacyId</th><th>Datum</th><th>A1</th><th>B1</th><th>C1</th><th>TitlePomembnoSLO</th><th>ContentPomembnoSLO</th><th>TitleNesreceSLO</th><th>ContentNesreceSLO</th><th>TitleZastojiSLO</th><th>ContentZastojiSLO</th><th>TitleVremeSLO</th><th>ContentVremeSLO</th><th>TitleOvireSLO</th><th>ContentOvireSLO</th><th>TitleDeloNaCestiSLO</th><th>ContentDeloNaCestiSLO</th><th>TitleOpozorilaSLO</th><th>ContentOpozorilaSLO</th><th>TitleMednarodneInformacijeSLO</th><th>ContentMednarodneInformacijeSLO</th><th>TitleSplosnoSLO</th><th>ContentSplosnoSLO</th></tr><tr><td>str</td><td>f64</td><td>str</td><td>str</td><td>str</td><td>str</td><td>str</td><td>str</td><td>str</td><td>str</td><td>str</td><td>str</td><td>str</td><td>str</td><td>str</td><td>str</td><td>str</td><td>str</td><td>str</td><td>str</td><td>str</td><td>str</td><td>str</td><td>str</td></tr></thead><tbody><tr><td>&quot;count&quot;</td><td>55001.0</td><td>&quot;55001&quot;</td><td>&quot;55001&quot;</td><td>&quot;55001&quot;</td><td>&quot;55001&quot;</td><td>&quot;54867&quot;</td><td>&quot;54873&quot;</td><td>&quot;54867&quot;</td><td>&quot;54895&quot;</td><td>&quot;54867&quot;</td><td>&quot;54867&quot;</td><td>&quot;54867&quot;</td><td>&quot;55001&quot;</td><td>&quot;54867&quot;</td><td>&quot;54943&quot;</td><td>&quot;54867&quot;</td><td>&quot;55001&quot;</td><td>&quot;54867&quot;</td><td>&quot;55001&quot;</td><td>&quot;55001&quot;</td><td>&quot;54867&quot;</td><td>&quot;55001&quot;</td><td>&quot;55001&quot;</td></tr><tr><td>&quot;null_count&quot;</td><td>0.0</td><td>&quot;0&quot;</td><td>&quot;0&quot;</td><td>&quot;0&quot;</td><td>&quot;0&quot;</td><td>&quot;134&quot;</td><td>&quot;128&quot;</td><td>&quot;134&quot;</td><td>&quot;106&quot;</td><td>&quot;134&quot;</td><td>&quot;134&quot;</td><td>&quot;134&quot;</td><td>&quot;0&quot;</td><td>&quot;134&quot;</td><td>&quot;58&quot;</td><td>&quot;134&quot;</td><td>&quot;0&quot;</td><td>&quot;134&quot;</td><td>&quot;0&quot;</td><td>&quot;0&quot;</td><td>&quot;134&quot;</td><td>&quot;0&quot;</td><td>&quot;0&quot;</td></tr><tr><td>&quot;mean&quot;</td><td>1.3270e6</td><td>null</td><td>null</td><td>null</td><td>null</td><td>null</td><td>null</td><td>null</td><td>null</td><td>null</td><td>null</td><td>null</td><td>null</td><td>null</td><td>null</td><td>null</td><td>null</td><td>null</td><td>null</td><td>null</td><td>null</td><td>null</td><td>null</td></tr><tr><td>&quot;std&quot;</td><td>22141.727651</td><td>null</td><td>null</td><td>null</td><td>null</td><td>null</td><td>null</td><td>null</td><td>null</td><td>null</td><td>null</td><td>null</td><td>null</td><td>null</td><td>null</td><td>null</td><td>null</td><td>null</td><td>null</td><td>null</td><td>null</td><td>null</td><td>null</td></tr><tr><td>&quot;min&quot;</td><td>1.283516e6</td><td>&quot;2022-01-01T00:07:07.000&quot;</td><td>&quot;&lt;p&gt;&lt;strong&gt;Dela bodo opravili …</td><td>&quot;&lt;p&gt;&lt;strong&gt;&lt;/strong&gt;&lt;/p&gt;&lt;p&gt;Dan…</td><td>&quot;NULL&quot;</td><td>&quot;&quot;</td><td>&quot;&quot;</td><td>&quot;&quot;</td><td>&quot;&quot;</td><td>&quot;&quot;</td><td>&quot;&quot;</td><td>&quot;&quot;</td><td>&quot;&quot;</td><td>&quot;&quot;</td><td>&quot;&quot;</td><td>&quot;&quot;</td><td>&quot;&quot;</td><td>&quot;&quot;</td><td>&quot;&quot;</td><td>&quot;&quot;</td><td>&quot;&quot;</td><td>&quot;&quot;</td><td>&quot;&quot;</td></tr><tr><td>&quot;25%&quot;</td><td>1.317258e6</td><td>null</td><td>null</td><td>null</td><td>null</td><td>null</td><td>null</td><td>null</td><td>null</td><td>null</td><td>null</td><td>null</td><td>null</td><td>null</td><td>null</td><td>null</td><td>null</td><td>null</td><td>null</td><td>null</td><td>null</td><td>null</td><td>null</td></tr><tr><td>&quot;50%&quot;</td><td>1.331008e6</td><td>null</td><td>null</td><td>null</td><td>null</td><td>null</td><td>null</td><td>null</td><td>null</td><td>null</td><td>null</td><td>null</td><td>null</td><td>null</td><td>null</td><td>null</td><td>null</td><td>null</td><td>null</td><td>null</td><td>null</td><td>null</td><td>null</td></tr><tr><td>&quot;75%&quot;</td><td>1.344758e6</td><td>null</td><td>null</td><td>null</td><td>null</td><td>null</td><td>null</td><td>null</td><td>null</td><td>null</td><td>null</td><td>null</td><td>null</td><td>null</td><td>null</td><td>null</td><td>null</td><td>null</td><td>null</td><td>null</td><td>null</td><td>null</td><td>null</td></tr><tr><td>&quot;max&quot;</td><td>1.358508e6</td><td>&quot;2022-12-31T23:28:04.000&quot;</td><td>&quot;NULL&quot;</td><td>&quot;NULL&quot;</td><td>&quot;NULL&quot;</td><td>&quot;Predor Karavanke&quot;</td><td>&quot;Štajerska avtocesti je zaprta …</td><td>&quot;Prometni nesreči, oviran prome…</td><td>&quot;Štajerska avtocesta:- oviran p…</td><td>&quot;Zastoji, povečan promet&quot;</td><td>&quot;Žival ovira promet na gorenjsk…</td><td>&quot;Zimske razmere&quot;</td><td>&quot;Zimske razmere:- prepoved za p…</td><td>&quot;okvara avtobusa&quot;</td><td>&quot;Živsl na cesti ovira promet na…</td><td>&quot;Delo na cesti in prireditve&quot;</td><td>&quot;Štajerska avtocesta je med Cel…</td><td>&quot;Zmske razmere&quot;</td><td>&quot;Žival na gorenjski avtocesti m…</td><td>&quot;Tovorni promet&quot;</td><td>&quot;Čakalne dobe: Starod,Obrežje, …</td><td>&quot;Zimske razmere&quot;</td><td>&quot;Škofljica - Ig, do 19. ure.Roč…</td></tr></tbody></table></div>"
      ],
      "text/plain": [
       "shape: (9, 24)\n",
       "┌───────────┬───────────┬───────────┬───────────┬───┬───────────┬───────────┬───────────┬──────────┐\n",
       "│ statistic ┆ LegacyId  ┆ Datum     ┆ A1        ┆ … ┆ TitleMedn ┆ ContentMe ┆ TitleSplo ┆ ContentS │\n",
       "│ ---       ┆ ---       ┆ ---       ┆ ---       ┆   ┆ arodneInf ┆ dnarodneI ┆ snoSLO    ┆ plosnoSL │\n",
       "│ str       ┆ f64       ┆ str       ┆ str       ┆   ┆ ormacijeS ┆ nformacij ┆ ---       ┆ O        │\n",
       "│           ┆           ┆           ┆           ┆   ┆ LO        ┆ eSL…      ┆ str       ┆ ---      │\n",
       "│           ┆           ┆           ┆           ┆   ┆ ---       ┆ ---       ┆           ┆ str      │\n",
       "│           ┆           ┆           ┆           ┆   ┆ str       ┆ str       ┆           ┆          │\n",
       "╞═══════════╪═══════════╪═══════════╪═══════════╪═══╪═══════════╪═══════════╪═══════════╪══════════╡\n",
       "│ count     ┆ 55001.0   ┆ 55001     ┆ 55001     ┆ … ┆ 55001     ┆ 54867     ┆ 55001     ┆ 55001    │\n",
       "│ null_coun ┆ 0.0       ┆ 0         ┆ 0         ┆ … ┆ 0         ┆ 134       ┆ 0         ┆ 0        │\n",
       "│ t         ┆           ┆           ┆           ┆   ┆           ┆           ┆           ┆          │\n",
       "│ mean      ┆ 1.3270e6  ┆ null      ┆ null      ┆ … ┆ null      ┆ null      ┆ null      ┆ null     │\n",
       "│ std       ┆ 22141.727 ┆ null      ┆ null      ┆ … ┆ null      ┆ null      ┆ null      ┆ null     │\n",
       "│           ┆ 651       ┆           ┆           ┆   ┆           ┆           ┆           ┆          │\n",
       "│ min       ┆ 1.283516e ┆ 2022-01-0 ┆ <p><stron ┆ … ┆           ┆           ┆           ┆          │\n",
       "│           ┆ 6         ┆ 1T00:07:0 ┆ g>Dela    ┆   ┆           ┆           ┆           ┆          │\n",
       "│           ┆           ┆ 7.000     ┆ bodo      ┆   ┆           ┆           ┆           ┆          │\n",
       "│           ┆           ┆           ┆ opravili  ┆   ┆           ┆           ┆           ┆          │\n",
       "│           ┆           ┆           ┆ …         ┆   ┆           ┆           ┆           ┆          │\n",
       "│ 25%       ┆ 1.317258e ┆ null      ┆ null      ┆ … ┆ null      ┆ null      ┆ null      ┆ null     │\n",
       "│           ┆ 6         ┆           ┆           ┆   ┆           ┆           ┆           ┆          │\n",
       "│ 50%       ┆ 1.331008e ┆ null      ┆ null      ┆ … ┆ null      ┆ null      ┆ null      ┆ null     │\n",
       "│           ┆ 6         ┆           ┆           ┆   ┆           ┆           ┆           ┆          │\n",
       "│ 75%       ┆ 1.344758e ┆ null      ┆ null      ┆ … ┆ null      ┆ null      ┆ null      ┆ null     │\n",
       "│           ┆ 6         ┆           ┆           ┆   ┆           ┆           ┆           ┆          │\n",
       "│ max       ┆ 1.358508e ┆ 2022-12-3 ┆ NULL      ┆ … ┆ Tovorni   ┆ Čakalne   ┆ Zimske    ┆ Škofljic │\n",
       "│           ┆ 6         ┆ 1T23:28:0 ┆           ┆   ┆ promet    ┆ dobe: Sta ┆ razmere   ┆ a - Ig,  │\n",
       "│           ┆           ┆ 4.000     ┆           ┆   ┆           ┆ rod,Obrež ┆           ┆ do 19.   │\n",
       "│           ┆           ┆           ┆           ┆   ┆           ┆ je, …     ┆           ┆ ure.Roč… │\n",
       "└───────────┴───────────┴───────────┴───────────┴───┴───────────┴───────────┴───────────┴──────────┘"
      ]
     },
     "execution_count": 92,
     "metadata": {},
     "output_type": "execute_result"
    }
   ],
   "source": [
    "dfInputs.describe()"
   ]
  },
  {
   "cell_type": "code",
   "execution_count": 93,
   "metadata": {},
   "outputs": [
    {
     "data": {
      "text/plain": [
       "38883"
      ]
     },
     "execution_count": 93,
     "metadata": {},
     "output_type": "execute_result"
    }
   ],
   "source": [
    "dfInputs.n_unique(subset=[\"A1\", \"B1\", \"C1\"])"
   ]
  },
  {
   "cell_type": "code",
   "execution_count": 94,
   "metadata": {},
   "outputs": [
    {
     "data": {
      "text/html": [
       "<div><style>\n",
       ".dataframe > thead > tr,\n",
       ".dataframe > tbody > tr {\n",
       "  text-align: right;\n",
       "  white-space: pre-wrap;\n",
       "}\n",
       "</style>\n",
       "<small>shape: (5, 23)</small><table border=\"1\" class=\"dataframe\"><thead><tr><th>LegacyId</th><th>Datum</th><th>A1</th><th>B1</th><th>C1</th><th>TitlePomembnoSLO</th><th>ContentPomembnoSLO</th><th>TitleNesreceSLO</th><th>ContentNesreceSLO</th><th>TitleZastojiSLO</th><th>ContentZastojiSLO</th><th>TitleVremeSLO</th><th>ContentVremeSLO</th><th>TitleOvireSLO</th><th>ContentOvireSLO</th><th>TitleDeloNaCestiSLO</th><th>ContentDeloNaCestiSLO</th><th>TitleOpozorilaSLO</th><th>ContentOpozorilaSLO</th><th>TitleMednarodneInformacijeSLO</th><th>ContentMednarodneInformacijeSLO</th><th>TitleSplosnoSLO</th><th>ContentSplosnoSLO</th></tr><tr><td>i64</td><td>str</td><td>str</td><td>str</td><td>str</td><td>str</td><td>str</td><td>str</td><td>str</td><td>str</td><td>str</td><td>str</td><td>str</td><td>str</td><td>str</td><td>str</td><td>str</td><td>str</td><td>str</td><td>str</td><td>str</td><td>str</td><td>str</td></tr></thead><tbody><tr><td>1283516</td><td>&quot;2022-01-01T00:07:07.000&quot;</td><td>&quot;NULL&quot;</td><td>&quot;&lt;p&gt;&lt;strong&gt;Vreme&lt;/strong&gt;&lt;/p&gt;&lt;…</td><td>&quot;NULL&quot;</td><td>&quot;&quot;</td><td>&quot;&quot;</td><td>&quot;&quot;</td><td>&quot;&quot;</td><td>&quot;&quot;</td><td>&quot;&quot;</td><td>&quot;&quot;</td><td>&quot;Ponekod po Sloveniji megla v p…</td><td>&quot;&quot;</td><td>&quot;&quot;</td><td>&quot;Dela&quot;</td><td>&quot;Na primorski avtocesti je pono…</td><td>&quot;Omejitve za tovorna vozila&quot;</td><td>&quot;Po Sloveniji velja med praznik…</td><td>&quot;&quot;</td><td>&quot;&quot;</td><td>&quot;&quot;</td><td>&quot;&quot;</td></tr><tr><td>1283517</td><td>&quot;2022-01-01T00:07:29.000&quot;</td><td>&quot;NULL&quot;</td><td>&quot;&lt;p&gt;&lt;strong&gt;Vreme&lt;/strong&gt;&lt;/p&gt;&lt;…</td><td>&quot;NULL&quot;</td><td>&quot;&quot;</td><td>&quot;&quot;</td><td>&quot;&quot;</td><td>&quot;&quot;</td><td>&quot;&quot;</td><td>&quot;&quot;</td><td>&quot;&quot;</td><td>&quot;Ponekod po Sloveniji megla v p…</td><td>&quot;&quot;</td><td>&quot;&quot;</td><td>&quot;Dela&quot;</td><td>&quot;Na primorski avtocesti je pono…</td><td>&quot;Omejitve za tovorna vozila&quot;</td><td>&quot;Po Sloveniji velja med praznik…</td><td>&quot;&quot;</td><td>&quot;&quot;</td><td>&quot;&quot;</td><td>&quot;&quot;</td></tr><tr><td>1283518</td><td>&quot;2022-01-01T00:07:30.000&quot;</td><td>&quot;NULL&quot;</td><td>&quot;&lt;p&gt;&lt;strong&gt;Vreme&lt;/strong&gt;&lt;/p&gt;&lt;…</td><td>&quot;NULL&quot;</td><td>&quot;&quot;</td><td>&quot;&quot;</td><td>&quot;&quot;</td><td>&quot;&quot;</td><td>&quot;&quot;</td><td>&quot;&quot;</td><td>&quot;&quot;</td><td>&quot;Ponekod po Sloveniji megla v p…</td><td>&quot;&quot;</td><td>&quot;&quot;</td><td>&quot;Dela&quot;</td><td>&quot;Na primorski avtocesti je pono…</td><td>&quot;Omejitve za tovorna vozila&quot;</td><td>&quot;Po Sloveniji velja med praznik…</td><td>&quot;&quot;</td><td>&quot;&quot;</td><td>&quot;&quot;</td><td>&quot;&quot;</td></tr><tr><td>1283519</td><td>&quot;2022-01-01T00:07:36.000&quot;</td><td>&quot;NULL&quot;</td><td>&quot;&lt;p&gt;&lt;strong&gt;Vreme&lt;/strong&gt;&lt;/p&gt;&lt;…</td><td>&quot;NULL&quot;</td><td>&quot;&quot;</td><td>&quot;&quot;</td><td>&quot;&quot;</td><td>&quot;&quot;</td><td>&quot;&quot;</td><td>&quot;&quot;</td><td>&quot;&quot;</td><td>&quot;Ponekod po Sloveniji megla v p…</td><td>&quot;&quot;</td><td>&quot;&quot;</td><td>&quot;Dela&quot;</td><td>&quot;Na primorski avtocesti je pono…</td><td>&quot;Omejitve za tovorna vozila&quot;</td><td>&quot;Po Sloveniji velja med praznik…</td><td>&quot;&quot;</td><td>&quot;&quot;</td><td>&quot;&quot;</td><td>&quot;&quot;</td></tr><tr><td>1283520</td><td>&quot;2022-01-01T00:16:26.000&quot;</td><td>&quot;NULL&quot;</td><td>&quot;&lt;p&gt;&lt;strong&gt;Vreme&lt;/strong&gt;&lt;/p&gt;&lt;…</td><td>&quot;NULL&quot;</td><td>&quot;&quot;</td><td>&quot;&quot;</td><td>&quot;&quot;</td><td>&quot;&quot;</td><td>&quot;&quot;</td><td>&quot;&quot;</td><td>&quot;&quot;</td><td>&quot;Ponekod po Sloveniji megla v p…</td><td>&quot;&quot;</td><td>&quot;&quot;</td><td>&quot;Dela&quot;</td><td>&quot;Na primorski avtocesti je pono…</td><td>&quot;Omejitve za tovorna vozila&quot;</td><td>&quot;Po Sloveniji velja med praznik…</td><td>&quot;&quot;</td><td>&quot;&quot;</td><td>&quot;&quot;</td><td>&quot;&quot;</td></tr></tbody></table></div>"
      ],
      "text/plain": [
       "shape: (5, 23)\n",
       "┌──────────┬────────────┬──────┬────────────┬───┬────────────┬────────────┬────────────┬───────────┐\n",
       "│ LegacyId ┆ Datum      ┆ A1   ┆ B1         ┆ … ┆ TitleMedna ┆ ContentMed ┆ TitleSplos ┆ ContentSp │\n",
       "│ ---      ┆ ---        ┆ ---  ┆ ---        ┆   ┆ rodneInfor ┆ narodneInf ┆ noSLO      ┆ losnoSLO  │\n",
       "│ i64      ┆ str        ┆ str  ┆ str        ┆   ┆ macijeSLO  ┆ ormacijeSL ┆ ---        ┆ ---       │\n",
       "│          ┆            ┆      ┆            ┆   ┆ ---        ┆ …          ┆ str        ┆ str       │\n",
       "│          ┆            ┆      ┆            ┆   ┆ str        ┆ ---        ┆            ┆           │\n",
       "│          ┆            ┆      ┆            ┆   ┆            ┆ str        ┆            ┆           │\n",
       "╞══════════╪════════════╪══════╪════════════╪═══╪════════════╪════════════╪════════════╪═══════════╡\n",
       "│ 1283516  ┆ 2022-01-01 ┆ NULL ┆ <p><strong ┆ … ┆            ┆            ┆            ┆           │\n",
       "│          ┆ T00:07:07. ┆      ┆ >Vreme</st ┆   ┆            ┆            ┆            ┆           │\n",
       "│          ┆ 000        ┆      ┆ rong></p>< ┆   ┆            ┆            ┆            ┆           │\n",
       "│          ┆            ┆      ┆ …          ┆   ┆            ┆            ┆            ┆           │\n",
       "│ 1283517  ┆ 2022-01-01 ┆ NULL ┆ <p><strong ┆ … ┆            ┆            ┆            ┆           │\n",
       "│          ┆ T00:07:29. ┆      ┆ >Vreme</st ┆   ┆            ┆            ┆            ┆           │\n",
       "│          ┆ 000        ┆      ┆ rong></p>< ┆   ┆            ┆            ┆            ┆           │\n",
       "│          ┆            ┆      ┆ …          ┆   ┆            ┆            ┆            ┆           │\n",
       "│ 1283518  ┆ 2022-01-01 ┆ NULL ┆ <p><strong ┆ … ┆            ┆            ┆            ┆           │\n",
       "│          ┆ T00:07:30. ┆      ┆ >Vreme</st ┆   ┆            ┆            ┆            ┆           │\n",
       "│          ┆ 000        ┆      ┆ rong></p>< ┆   ┆            ┆            ┆            ┆           │\n",
       "│          ┆            ┆      ┆ …          ┆   ┆            ┆            ┆            ┆           │\n",
       "│ 1283519  ┆ 2022-01-01 ┆ NULL ┆ <p><strong ┆ … ┆            ┆            ┆            ┆           │\n",
       "│          ┆ T00:07:36. ┆      ┆ >Vreme</st ┆   ┆            ┆            ┆            ┆           │\n",
       "│          ┆ 000        ┆      ┆ rong></p>< ┆   ┆            ┆            ┆            ┆           │\n",
       "│          ┆            ┆      ┆ …          ┆   ┆            ┆            ┆            ┆           │\n",
       "│ 1283520  ┆ 2022-01-01 ┆ NULL ┆ <p><strong ┆ … ┆            ┆            ┆            ┆           │\n",
       "│          ┆ T00:16:26. ┆      ┆ >Vreme</st ┆   ┆            ┆            ┆            ┆           │\n",
       "│          ┆ 000        ┆      ┆ rong></p>< ┆   ┆            ┆            ┆            ┆           │\n",
       "│          ┆            ┆      ┆ …          ┆   ┆            ┆            ┆            ┆           │\n",
       "└──────────┴────────────┴──────┴────────────┴───┴────────────┴────────────┴────────────┴───────────┘"
      ]
     },
     "execution_count": 94,
     "metadata": {},
     "output_type": "execute_result"
    }
   ],
   "source": [
    "dfInputs.head()"
   ]
  },
  {
   "cell_type": "code",
   "execution_count": 95,
   "metadata": {},
   "outputs": [
    {
     "data": {
      "text/html": [
       "<div><style>\n",
       ".dataframe > thead > tr,\n",
       ".dataframe > tbody > tr {\n",
       "  text-align: right;\n",
       "  white-space: pre-wrap;\n",
       "}\n",
       "</style>\n",
       "<small>shape: (9, 6)</small><table border=\"1\" class=\"dataframe\"><thead><tr><th>statistic</th><th>year</th><th>month</th><th>file_name</th><th>content</th><th>time</th></tr><tr><td>str</td><td>f64</td><td>str</td><td>str</td><td>str</td><td>str</td></tr></thead><tbody><tr><td>&quot;count&quot;</td><td>28037.0</td><td>&quot;28037&quot;</td><td>&quot;28037&quot;</td><td>&quot;28037&quot;</td><td>&quot;28037&quot;</td></tr><tr><td>&quot;null_count&quot;</td><td>0.0</td><td>&quot;0&quot;</td><td>&quot;0&quot;</td><td>&quot;0&quot;</td><td>&quot;0&quot;</td></tr><tr><td>&quot;mean&quot;</td><td>2022.971324</td><td>null</td><td>null</td><td>null</td><td>null</td></tr><tr><td>&quot;std&quot;</td><td>0.805596</td><td>null</td><td>null</td><td>null</td><td>null</td></tr><tr><td>&quot;min&quot;</td><td>2022.0</td><td>&quot;April&quot;</td><td>&quot;Promet&quot;</td><td>&quot;\t\t\t\t\t\t\t8.30\n",
       "\n",
       "Podatki o prometu…</td><td>&quot;00-00-0000 00:00&quot;</td></tr><tr><td>&quot;25%&quot;</td><td>2022.0</td><td>null</td><td>null</td><td>null</td><td>null</td></tr><tr><td>&quot;50%&quot;</td><td>2023.0</td><td>null</td><td>null</td><td>null</td><td>null</td></tr><tr><td>&quot;75%&quot;</td><td>2024.0</td><td>null</td><td>null</td><td>null</td><td>null</td></tr><tr><td>&quot;max&quot;</td><td>2024.0</td><td>&quot;September&quot;</td><td>&quot;TMP9-2024-99&quot;</td><td>&quot;ujna prometna informacija.&nbsp;&nbsp;&nbsp;&nbsp;…</td><td>&quot;2024-12-31 21:00&quot;</td></tr></tbody></table></div>"
      ],
      "text/plain": [
       "shape: (9, 6)\n",
       "┌────────────┬─────────────┬───────────┬──────────────┬────────────────────┬──────────────────┐\n",
       "│ statistic  ┆ year        ┆ month     ┆ file_name    ┆ content            ┆ time             │\n",
       "│ ---        ┆ ---         ┆ ---       ┆ ---          ┆ ---                ┆ ---              │\n",
       "│ str        ┆ f64         ┆ str       ┆ str          ┆ str                ┆ str              │\n",
       "╞════════════╪═════════════╪═══════════╪══════════════╪════════════════════╪══════════════════╡\n",
       "│ count      ┆ 28037.0     ┆ 28037     ┆ 28037        ┆ 28037              ┆ 28037            │\n",
       "│ null_count ┆ 0.0         ┆ 0         ┆ 0            ┆ 0                  ┆ 0                │\n",
       "│ mean       ┆ 2022.971324 ┆ null      ┆ null         ┆ null               ┆ null             │\n",
       "│ std        ┆ 0.805596    ┆ null      ┆ null         ┆ null               ┆ null             │\n",
       "│ min        ┆ 2022.0      ┆ April     ┆ Promet       ┆ \t\t\t\t\t\t\t8.30        ┆ 00-00-0000 00:00 │\n",
       "│            ┆             ┆           ┆              ┆                    ┆                  │\n",
       "│            ┆             ┆           ┆              ┆ Podatki o prometu… ┆                  │\n",
       "│ 25%        ┆ 2022.0      ┆ null      ┆ null         ┆ null               ┆ null             │\n",
       "│ 50%        ┆ 2023.0      ┆ null      ┆ null         ┆ null               ┆ null             │\n",
       "│ 75%        ┆ 2024.0      ┆ null      ┆ null         ┆ null               ┆ null             │\n",
       "│ max        ┆ 2024.0      ┆ September ┆ TMP9-2024-99 ┆ ujna prometna      ┆ 2024-12-31 21:00 │\n",
       "│            ┆             ┆           ┆              ┆ informacija.    …  ┆                  │\n",
       "└────────────┴─────────────┴───────────┴──────────────┴────────────────────┴──────────────────┘"
      ]
     },
     "execution_count": 95,
     "metadata": {},
     "output_type": "execute_result"
    }
   ],
   "source": [
    "dfOutputs.describe()\n",
    "\n",
    "# there is one File Name: \"Promet\" in October 2022"
   ]
  },
  {
   "cell_type": "code",
   "execution_count": 96,
   "metadata": {},
   "outputs": [
    {
     "data": {
      "text/html": [
       "<div><style>\n",
       ".dataframe > thead > tr,\n",
       ".dataframe > tbody > tr {\n",
       "  text-align: right;\n",
       "  white-space: pre-wrap;\n",
       "}\n",
       "</style>\n",
       "<small>shape: (5, 5)</small><table border=\"1\" class=\"dataframe\"><thead><tr><th>year</th><th>month</th><th>file_name</th><th>content</th><th>time</th></tr><tr><td>i64</td><td>str</td><td>str</td><td>str</td><td>str</td></tr></thead><tbody><tr><td>2022</td><td>&quot;April&quot;</td><td>&quot;TMP-1&quot;</td><td>&quot;Prometne informacije&nbsp;&nbsp;&nbsp;\t&nbsp;&nbsp;&nbsp;30.…</td><td>&quot;2022-04-30 18:30&quot;</td></tr><tr><td>2022</td><td>&quot;April&quot;</td><td>&quot;TMP-10&quot;</td><td>&quot;Prometne informacije&nbsp;&nbsp;&nbsp;\t&nbsp;&nbsp;&nbsp;30.…</td><td>&quot;2022-04-30 13:00&quot;</td></tr><tr><td>2022</td><td>&quot;April&quot;</td><td>&quot;TMP-100&quot;</td><td>&quot;Prometne informacije&nbsp;&nbsp;&nbsp;\t&nbsp;&nbsp;&nbsp;27.…</td><td>&quot;2022-04-27 06:30&quot;</td></tr><tr><td>2022</td><td>&quot;April&quot;</td><td>&quot;TMP-101&quot;</td><td>&quot;Prometne informacije&nbsp;&nbsp;&nbsp;\t&nbsp;&nbsp;&nbsp;27.…</td><td>&quot;2022-04-27 06:00&quot;</td></tr><tr><td>2022</td><td>&quot;April&quot;</td><td>&quot;TMP-102&quot;</td><td>&quot;Prometne informacije&nbsp;&nbsp;&nbsp;\t&nbsp;&nbsp;&nbsp;26.…</td><td>&quot;2022-04-26 20:00&quot;</td></tr></tbody></table></div>"
      ],
      "text/plain": [
       "shape: (5, 5)\n",
       "┌──────┬───────┬───────────┬─────────────────────────────────┬──────────────────┐\n",
       "│ year ┆ month ┆ file_name ┆ content                         ┆ time             │\n",
       "│ ---  ┆ ---   ┆ ---       ┆ ---                             ┆ ---              │\n",
       "│ i64  ┆ str   ┆ str       ┆ str                             ┆ str              │\n",
       "╞══════╪═══════╪═══════════╪═════════════════════════════════╪══════════════════╡\n",
       "│ 2022 ┆ April ┆ TMP-1     ┆ Prometne informacije   \t   30.… ┆ 2022-04-30 18:30 │\n",
       "│ 2022 ┆ April ┆ TMP-10    ┆ Prometne informacije   \t   30.… ┆ 2022-04-30 13:00 │\n",
       "│ 2022 ┆ April ┆ TMP-100   ┆ Prometne informacije   \t   27.… ┆ 2022-04-27 06:30 │\n",
       "│ 2022 ┆ April ┆ TMP-101   ┆ Prometne informacije   \t   27.… ┆ 2022-04-27 06:00 │\n",
       "│ 2022 ┆ April ┆ TMP-102   ┆ Prometne informacije   \t   26.… ┆ 2022-04-26 20:00 │\n",
       "└──────┴───────┴───────────┴─────────────────────────────────┴──────────────────┘"
      ]
     },
     "execution_count": 96,
     "metadata": {},
     "output_type": "execute_result"
    }
   ],
   "source": [
    "dfOutputs.head()"
   ]
  },
  {
   "cell_type": "code",
   "execution_count": null,
   "metadata": {},
   "outputs": [],
   "source": [
    "#### bellow check the data for a single day"
   ]
  },
  {
   "cell_type": "code",
   "execution_count": 98,
   "metadata": {},
   "outputs": [],
   "source": [
    "dfOutputsFiltered = dfOutputs.filter(\n",
    "    pl.col(\"time\").str.contains(\"2022-04-30\")\n",
    ")\n",
    "\n",
    "dfOutputsFiltered = dfOutputsFiltered.sort(pl.col(\"time\"))"
   ]
  },
  {
   "cell_type": "code",
   "execution_count": 99,
   "metadata": {},
   "outputs": [
    {
     "data": {
      "text/html": [
       "<div><style>\n",
       ".dataframe > thead > tr,\n",
       ".dataframe > tbody > tr {\n",
       "  text-align: right;\n",
       "  white-space: pre-wrap;\n",
       "}\n",
       "</style>\n",
       "<small>shape: (9, 6)</small><table border=\"1\" class=\"dataframe\"><thead><tr><th>statistic</th><th>year</th><th>month</th><th>file_name</th><th>content</th><th>time</th></tr><tr><td>str</td><td>f64</td><td>str</td><td>str</td><td>str</td><td>str</td></tr></thead><tbody><tr><td>&quot;count&quot;</td><td>24.0</td><td>&quot;24&quot;</td><td>&quot;24&quot;</td><td>&quot;24&quot;</td><td>&quot;24&quot;</td></tr><tr><td>&quot;null_count&quot;</td><td>0.0</td><td>&quot;0&quot;</td><td>&quot;0&quot;</td><td>&quot;0&quot;</td><td>&quot;0&quot;</td></tr><tr><td>&quot;mean&quot;</td><td>2022.0</td><td>null</td><td>null</td><td>null</td><td>null</td></tr><tr><td>&quot;std&quot;</td><td>0.0</td><td>null</td><td>null</td><td>null</td><td>null</td></tr><tr><td>&quot;min&quot;</td><td>2022.0</td><td>&quot;April&quot;</td><td>&quot;TMP&quot;</td><td>&quot;NOVE prometne informacije&nbsp;&nbsp;&nbsp;\t …</td><td>&quot;2022-04-30 06:00&quot;</td></tr><tr><td>&quot;25%&quot;</td><td>2022.0</td><td>null</td><td>null</td><td>null</td><td>null</td></tr><tr><td>&quot;50%&quot;</td><td>2022.0</td><td>null</td><td>null</td><td>null</td><td>null</td></tr><tr><td>&quot;75%&quot;</td><td>2022.0</td><td>null</td><td>null</td><td>null</td><td>null</td></tr><tr><td>&quot;max&quot;</td><td>2022.0</td><td>&quot;April&quot;</td><td>&quot;TMP-9&quot;</td><td>&quot;Prometne informacije&nbsp;&nbsp;&nbsp;\t&nbsp;&nbsp;&nbsp;30.…</td><td>&quot;2022-04-30 20:00&quot;</td></tr></tbody></table></div>"
      ],
      "text/plain": [
       "shape: (9, 6)\n",
       "┌────────────┬────────┬───────┬───────────┬─────────────────────────────────┬──────────────────┐\n",
       "│ statistic  ┆ year   ┆ month ┆ file_name ┆ content                         ┆ time             │\n",
       "│ ---        ┆ ---    ┆ ---   ┆ ---       ┆ ---                             ┆ ---              │\n",
       "│ str        ┆ f64    ┆ str   ┆ str       ┆ str                             ┆ str              │\n",
       "╞════════════╪════════╪═══════╪═══════════╪═════════════════════════════════╪══════════════════╡\n",
       "│ count      ┆ 24.0   ┆ 24    ┆ 24        ┆ 24                              ┆ 24               │\n",
       "│ null_count ┆ 0.0    ┆ 0     ┆ 0         ┆ 0                               ┆ 0                │\n",
       "│ mean       ┆ 2022.0 ┆ null  ┆ null      ┆ null                            ┆ null             │\n",
       "│ std        ┆ 0.0    ┆ null  ┆ null      ┆ null                            ┆ null             │\n",
       "│ min        ┆ 2022.0 ┆ April ┆ TMP       ┆ NOVE prometne informacije   \t … ┆ 2022-04-30 06:00 │\n",
       "│ 25%        ┆ 2022.0 ┆ null  ┆ null      ┆ null                            ┆ null             │\n",
       "│ 50%        ┆ 2022.0 ┆ null  ┆ null      ┆ null                            ┆ null             │\n",
       "│ 75%        ┆ 2022.0 ┆ null  ┆ null      ┆ null                            ┆ null             │\n",
       "│ max        ┆ 2022.0 ┆ April ┆ TMP-9     ┆ Prometne informacije   \t   30.… ┆ 2022-04-30 20:00 │\n",
       "└────────────┴────────┴───────┴───────────┴─────────────────────────────────┴──────────────────┘"
      ]
     },
     "execution_count": 99,
     "metadata": {},
     "output_type": "execute_result"
    }
   ],
   "source": [
    "dfOutputsFiltered.describe()"
   ]
  },
  {
   "cell_type": "code",
   "execution_count": 100,
   "metadata": {},
   "outputs": [],
   "source": [
    "dfInputsFiltered = dfInputs.filter(\n",
    "    pl.col(\"Datum\").str.contains(\"2022-04-30\")\n",
    ")\n",
    "\n",
    "dfInputsFiltered = dfInputsFiltered.sort(pl.col(\"Datum\"))"
   ]
  },
  {
   "cell_type": "code",
   "execution_count": 101,
   "metadata": {},
   "outputs": [
    {
     "data": {
      "text/html": [
       "<div><style>\n",
       ".dataframe > thead > tr,\n",
       ".dataframe > tbody > tr {\n",
       "  text-align: right;\n",
       "  white-space: pre-wrap;\n",
       "}\n",
       "</style>\n",
       "<small>shape: (9, 24)</small><table border=\"1\" class=\"dataframe\"><thead><tr><th>statistic</th><th>LegacyId</th><th>Datum</th><th>A1</th><th>B1</th><th>C1</th><th>TitlePomembnoSLO</th><th>ContentPomembnoSLO</th><th>TitleNesreceSLO</th><th>ContentNesreceSLO</th><th>TitleZastojiSLO</th><th>ContentZastojiSLO</th><th>TitleVremeSLO</th><th>ContentVremeSLO</th><th>TitleOvireSLO</th><th>ContentOvireSLO</th><th>TitleDeloNaCestiSLO</th><th>ContentDeloNaCestiSLO</th><th>TitleOpozorilaSLO</th><th>ContentOpozorilaSLO</th><th>TitleMednarodneInformacijeSLO</th><th>ContentMednarodneInformacijeSLO</th><th>TitleSplosnoSLO</th><th>ContentSplosnoSLO</th></tr><tr><td>str</td><td>f64</td><td>str</td><td>str</td><td>str</td><td>str</td><td>str</td><td>str</td><td>str</td><td>str</td><td>str</td><td>str</td><td>str</td><td>str</td><td>str</td><td>str</td><td>str</td><td>str</td><td>str</td><td>str</td><td>str</td><td>str</td><td>str</td><td>str</td></tr></thead><tbody><tr><td>&quot;count&quot;</td><td>133.0</td><td>&quot;133&quot;</td><td>&quot;133&quot;</td><td>&quot;133&quot;</td><td>&quot;133&quot;</td><td>&quot;133&quot;</td><td>&quot;133&quot;</td><td>&quot;133&quot;</td><td>&quot;133&quot;</td><td>&quot;133&quot;</td><td>&quot;133&quot;</td><td>&quot;133&quot;</td><td>&quot;133&quot;</td><td>&quot;133&quot;</td><td>&quot;133&quot;</td><td>&quot;133&quot;</td><td>&quot;133&quot;</td><td>&quot;133&quot;</td><td>&quot;133&quot;</td><td>&quot;133&quot;</td><td>&quot;133&quot;</td><td>&quot;133&quot;</td><td>&quot;133&quot;</td></tr><tr><td>&quot;null_count&quot;</td><td>0.0</td><td>&quot;0&quot;</td><td>&quot;0&quot;</td><td>&quot;0&quot;</td><td>&quot;0&quot;</td><td>&quot;0&quot;</td><td>&quot;0&quot;</td><td>&quot;0&quot;</td><td>&quot;0&quot;</td><td>&quot;0&quot;</td><td>&quot;0&quot;</td><td>&quot;0&quot;</td><td>&quot;0&quot;</td><td>&quot;0&quot;</td><td>&quot;0&quot;</td><td>&quot;0&quot;</td><td>&quot;0&quot;</td><td>&quot;0&quot;</td><td>&quot;0&quot;</td><td>&quot;0&quot;</td><td>&quot;0&quot;</td><td>&quot;0&quot;</td><td>&quot;0&quot;</td></tr><tr><td>&quot;mean&quot;</td><td>1.319329e6</td><td>null</td><td>null</td><td>null</td><td>null</td><td>null</td><td>null</td><td>null</td><td>null</td><td>null</td><td>null</td><td>null</td><td>null</td><td>null</td><td>null</td><td>null</td><td>null</td><td>null</td><td>null</td><td>null</td><td>null</td><td>null</td><td>null</td></tr><tr><td>&quot;std&quot;</td><td>38.53786</td><td>null</td><td>null</td><td>null</td><td>null</td><td>null</td><td>null</td><td>null</td><td>null</td><td>null</td><td>null</td><td>null</td><td>null</td><td>null</td><td>null</td><td>null</td><td>null</td><td>null</td><td>null</td><td>null</td><td>null</td><td>null</td><td>null</td></tr><tr><td>&quot;min&quot;</td><td>1.319263e6</td><td>&quot;2022-04-30T00:32:29.000&quot;</td><td>&quot;&lt;p&gt;&lt;strong&gt;Pozor!&lt;/strong&gt;&lt;/p&gt;…</td><td>&quot;&lt;p&gt;&lt;strong&gt;Mejni prehodi&lt;/stro…</td><td>&quot;NULL&quot;</td><td>&quot;&quot;</td><td>&quot;&quot;</td><td>&quot;&quot;</td><td>&quot;&quot;</td><td>&quot;&quot;</td><td>&quot;&quot;</td><td>&quot;&quot;</td><td>&quot;&quot;</td><td>&quot;&quot;</td><td>&quot;&quot;</td><td>&quot;&quot;</td><td>&quot;&quot;</td><td>&quot;&quot;</td><td>&quot;&quot;</td><td>&quot;&quot;</td><td>&quot;&quot;</td><td>&quot;Tovorni promet&quot;</td><td>&quot;Zaradi praznikov bo po Sloveni…</td></tr><tr><td>&quot;25%&quot;</td><td>1.319296e6</td><td>null</td><td>null</td><td>null</td><td>null</td><td>null</td><td>null</td><td>null</td><td>null</td><td>null</td><td>null</td><td>null</td><td>null</td><td>null</td><td>null</td><td>null</td><td>null</td><td>null</td><td>null</td><td>null</td><td>null</td><td>null</td><td>null</td></tr><tr><td>&quot;50%&quot;</td><td>1.319329e6</td><td>null</td><td>null</td><td>null</td><td>null</td><td>null</td><td>null</td><td>null</td><td>null</td><td>null</td><td>null</td><td>null</td><td>null</td><td>null</td><td>null</td><td>null</td><td>null</td><td>null</td><td>null</td><td>null</td><td>null</td><td>null</td><td>null</td></tr><tr><td>&quot;75%&quot;</td><td>1.319362e6</td><td>null</td><td>null</td><td>null</td><td>null</td><td>null</td><td>null</td><td>null</td><td>null</td><td>null</td><td>null</td><td>null</td><td>null</td><td>null</td><td>null</td><td>null</td><td>null</td><td>null</td><td>null</td><td>null</td><td>null</td><td>null</td><td>null</td></tr><tr><td>&quot;max&quot;</td><td>1.319395e6</td><td>&quot;2022-04-30T23:36:27.000&quot;</td><td>&quot;NULL&quot;</td><td>&quot;&lt;p&gt;&lt;strong&gt;Zastoji&lt;/strong&gt;&lt;/p…</td><td>&quot;NULL&quot;</td><td>&quot;&quot;</td><td>&quot;Štajerska avtocesta je med pri…</td><td>&quot;&quot;</td><td>&quot;Za osebna vozila je obvoz po v…</td><td>&quot;&quot;</td><td>&quot;Na regionalni cesti Ljubljana …</td><td>&quot;&quot;</td><td>&quot;&quot;</td><td>&quot;&quot;</td><td>&quot;Žival na vozišču ovira promet …</td><td>&quot;&quot;</td><td>&quot;&quot;</td><td>&quot;&quot;</td><td>&quot;Na avtocesti od Sežane proti M…</td><td>&quot;&quot;</td><td>&quot;Čakalna doba je na mejnih preh…</td><td>&quot;Tovorni promet&quot;</td><td>&quot;Zaradi praznikov bo po Sloveni…</td></tr></tbody></table></div>"
      ],
      "text/plain": [
       "shape: (9, 24)\n",
       "┌───────────┬───────────┬───────────┬───────────┬───┬───────────┬───────────┬───────────┬──────────┐\n",
       "│ statistic ┆ LegacyId  ┆ Datum     ┆ A1        ┆ … ┆ TitleMedn ┆ ContentMe ┆ TitleSplo ┆ ContentS │\n",
       "│ ---       ┆ ---       ┆ ---       ┆ ---       ┆   ┆ arodneInf ┆ dnarodneI ┆ snoSLO    ┆ plosnoSL │\n",
       "│ str       ┆ f64       ┆ str       ┆ str       ┆   ┆ ormacijeS ┆ nformacij ┆ ---       ┆ O        │\n",
       "│           ┆           ┆           ┆           ┆   ┆ LO        ┆ eSL…      ┆ str       ┆ ---      │\n",
       "│           ┆           ┆           ┆           ┆   ┆ ---       ┆ ---       ┆           ┆ str      │\n",
       "│           ┆           ┆           ┆           ┆   ┆ str       ┆ str       ┆           ┆          │\n",
       "╞═══════════╪═══════════╪═══════════╪═══════════╪═══╪═══════════╪═══════════╪═══════════╪══════════╡\n",
       "│ count     ┆ 133.0     ┆ 133       ┆ 133       ┆ … ┆ 133       ┆ 133       ┆ 133       ┆ 133      │\n",
       "│ null_coun ┆ 0.0       ┆ 0         ┆ 0         ┆ … ┆ 0         ┆ 0         ┆ 0         ┆ 0        │\n",
       "│ t         ┆           ┆           ┆           ┆   ┆           ┆           ┆           ┆          │\n",
       "│ mean      ┆ 1.319329e ┆ null      ┆ null      ┆ … ┆ null      ┆ null      ┆ null      ┆ null     │\n",
       "│           ┆ 6         ┆           ┆           ┆   ┆           ┆           ┆           ┆          │\n",
       "│ std       ┆ 38.53786  ┆ null      ┆ null      ┆ … ┆ null      ┆ null      ┆ null      ┆ null     │\n",
       "│ min       ┆ 1.319263e ┆ 2022-04-3 ┆ <p><stron ┆ … ┆           ┆           ┆ Tovorni   ┆ Zaradi   │\n",
       "│           ┆ 6         ┆ 0T00:32:2 ┆ g>Pozor!< ┆   ┆           ┆           ┆ promet    ┆ prazniko │\n",
       "│           ┆           ┆ 9.000     ┆ /strong>< ┆   ┆           ┆           ┆           ┆ v bo po  │\n",
       "│           ┆           ┆           ┆ /p>…      ┆   ┆           ┆           ┆           ┆ Sloveni… │\n",
       "│ 25%       ┆ 1.319296e ┆ null      ┆ null      ┆ … ┆ null      ┆ null      ┆ null      ┆ null     │\n",
       "│           ┆ 6         ┆           ┆           ┆   ┆           ┆           ┆           ┆          │\n",
       "│ 50%       ┆ 1.319329e ┆ null      ┆ null      ┆ … ┆ null      ┆ null      ┆ null      ┆ null     │\n",
       "│           ┆ 6         ┆           ┆           ┆   ┆           ┆           ┆           ┆          │\n",
       "│ 75%       ┆ 1.319362e ┆ null      ┆ null      ┆ … ┆ null      ┆ null      ┆ null      ┆ null     │\n",
       "│           ┆ 6         ┆           ┆           ┆   ┆           ┆           ┆           ┆          │\n",
       "│ max       ┆ 1.319395e ┆ 2022-04-3 ┆ NULL      ┆ … ┆           ┆ Čakalna   ┆ Tovorni   ┆ Zaradi   │\n",
       "│           ┆ 6         ┆ 0T23:36:2 ┆           ┆   ┆           ┆ doba je   ┆ promet    ┆ prazniko │\n",
       "│           ┆           ┆ 7.000     ┆           ┆   ┆           ┆ na mejnih ┆           ┆ v bo po  │\n",
       "│           ┆           ┆           ┆           ┆   ┆           ┆ preh…     ┆           ┆ Sloveni… │\n",
       "└───────────┴───────────┴───────────┴───────────┴───┴───────────┴───────────┴───────────┴──────────┘"
      ]
     },
     "execution_count": 101,
     "metadata": {},
     "output_type": "execute_result"
    }
   ],
   "source": [
    "dfInputsFiltered.describe()"
   ]
  },
  {
   "cell_type": "code",
   "execution_count": 104,
   "metadata": {},
   "outputs": [
    {
     "data": {
      "text/html": [
       "<div><style>\n",
       ".dataframe > thead > tr,\n",
       ".dataframe > tbody > tr {\n",
       "  text-align: right;\n",
       "  white-space: pre-wrap;\n",
       "}\n",
       "</style>\n",
       "<small>shape: (5, 23)</small><table border=\"1\" class=\"dataframe\"><thead><tr><th>LegacyId</th><th>Datum</th><th>A1</th><th>B1</th><th>C1</th><th>TitlePomembnoSLO</th><th>ContentPomembnoSLO</th><th>TitleNesreceSLO</th><th>ContentNesreceSLO</th><th>TitleZastojiSLO</th><th>ContentZastojiSLO</th><th>TitleVremeSLO</th><th>ContentVremeSLO</th><th>TitleOvireSLO</th><th>ContentOvireSLO</th><th>TitleDeloNaCestiSLO</th><th>ContentDeloNaCestiSLO</th><th>TitleOpozorilaSLO</th><th>ContentOpozorilaSLO</th><th>TitleMednarodneInformacijeSLO</th><th>ContentMednarodneInformacijeSLO</th><th>TitleSplosnoSLO</th><th>ContentSplosnoSLO</th></tr><tr><td>i64</td><td>str</td><td>str</td><td>str</td><td>str</td><td>str</td><td>str</td><td>str</td><td>str</td><td>str</td><td>str</td><td>str</td><td>str</td><td>str</td><td>str</td><td>str</td><td>str</td><td>str</td><td>str</td><td>str</td><td>str</td><td>str</td><td>str</td></tr></thead><tbody><tr><td>1319263</td><td>&quot;2022-04-30T00:32:29.000&quot;</td><td>&quot;NULL&quot;</td><td>&quot;&lt;p&gt;&lt;strong&gt;Ovire&lt;/strong&gt;&lt;/p&gt;&lt;…</td><td>&quot;NULL&quot;</td><td>&quot;&quot;</td><td>&quot;&quot;</td><td>&quot;&quot;</td><td>&quot;&quot;</td><td>&quot;&quot;</td><td>&quot;&quot;</td><td>&quot;&quot;</td><td>&quot;&quot;</td><td>&quot;&quot;</td><td>&quot;A5, Lendava - Maribor, priklju…</td><td>&quot;&quot;</td><td>&quot;&quot;</td><td>&quot;&quot;</td><td>&quot;&quot;</td><td>&quot;&quot;</td><td>&quot;Čakalna doba je na Gruškovju.&quot;</td><td>&quot;Tovorni promet&quot;</td><td>&quot;Zaradi praznikov bo po Sloveni…</td></tr><tr><td>1319264</td><td>&quot;2022-04-30T00:32:58.000&quot;</td><td>&quot;NULL&quot;</td><td>&quot;&lt;p&gt;&lt;strong&gt;Ovire&lt;/strong&gt;&lt;/p&gt;&lt;…</td><td>&quot;NULL&quot;</td><td>&quot;&quot;</td><td>&quot;&quot;</td><td>&quot;&quot;</td><td>&quot;&quot;</td><td>&quot;&quot;</td><td>&quot;&quot;</td><td>&quot;&quot;</td><td>&quot;&quot;</td><td>&quot;&quot;</td><td>&quot;A2, Obrežje - Ljubljana, prikl…</td><td>&quot;&quot;</td><td>&quot;&quot;</td><td>&quot;&quot;</td><td>&quot;&quot;</td><td>&quot;&quot;</td><td>&quot;Čakalna doba je na Gruškovju.&quot;</td><td>&quot;Tovorni promet&quot;</td><td>&quot;Zaradi praznikov bo po Sloveni…</td></tr><tr><td>1319265</td><td>&quot;2022-04-30T01:01:09.000&quot;</td><td>&quot;NULL&quot;</td><td>&quot;&lt;p&gt;&lt;strong&gt;Ovire&lt;/strong&gt;&lt;/p&gt;&lt;…</td><td>&quot;NULL&quot;</td><td>&quot;&quot;</td><td>&quot;&quot;</td><td>&quot;&quot;</td><td>&quot;&quot;</td><td>&quot;&quot;</td><td>&quot;&quot;</td><td>&quot;&quot;</td><td>&quot;&quot;</td><td>&quot;&quot;</td><td>&quot;A2, Obrežje - Ljubljana, prikl…</td><td>&quot;&quot;</td><td>&quot;&quot;</td><td>&quot;&quot;</td><td>&quot;&quot;</td><td>&quot;&quot;</td><td>&quot;Čakalna doba je na Gruškovju.&quot;</td><td>&quot;Tovorni promet&quot;</td><td>&quot;Zaradi praznikov bo po Sloveni…</td></tr><tr><td>1319266</td><td>&quot;2022-04-30T01:10:45.000&quot;</td><td>&quot;NULL&quot;</td><td>&quot;&lt;p&gt;&lt;strong&gt;Mejni prehodi&lt;/stro…</td><td>&quot;NULL&quot;</td><td>&quot;&quot;</td><td>&quot;&quot;</td><td>&quot;&quot;</td><td>&quot;&quot;</td><td>&quot;&quot;</td><td>&quot;&quot;</td><td>&quot;&quot;</td><td>&quot;&quot;</td><td>&quot;&quot;</td><td>&quot;&quot;</td><td>&quot;&quot;</td><td>&quot;&quot;</td><td>&quot;&quot;</td><td>&quot;&quot;</td><td>&quot;&quot;</td><td>&quot;Čakalna doba je na Gruškovju.&quot;</td><td>&quot;Tovorni promet&quot;</td><td>&quot;Zaradi praznikov bo po Sloveni…</td></tr><tr><td>1319267</td><td>&quot;2022-04-30T01:38:36.000&quot;</td><td>&quot;NULL&quot;</td><td>&quot;&lt;p&gt;&lt;strong&gt;Tovorni promet&lt;/str…</td><td>&quot;NULL&quot;</td><td>&quot;&quot;</td><td>&quot;&quot;</td><td>&quot;&quot;</td><td>&quot;&quot;</td><td>&quot;&quot;</td><td>&quot;&quot;</td><td>&quot;&quot;</td><td>&quot;&quot;</td><td>&quot;&quot;</td><td>&quot;&quot;</td><td>&quot;&quot;</td><td>&quot;&quot;</td><td>&quot;&quot;</td><td>&quot;&quot;</td><td>&quot;&quot;</td><td>&quot;&quot;</td><td>&quot;Tovorni promet&quot;</td><td>&quot;Zaradi praznikov bo po Sloveni…</td></tr></tbody></table></div>"
      ],
      "text/plain": [
       "shape: (5, 23)\n",
       "┌──────────┬────────────┬──────┬────────────┬───┬────────────┬────────────┬────────────┬───────────┐\n",
       "│ LegacyId ┆ Datum      ┆ A1   ┆ B1         ┆ … ┆ TitleMedna ┆ ContentMed ┆ TitleSplos ┆ ContentSp │\n",
       "│ ---      ┆ ---        ┆ ---  ┆ ---        ┆   ┆ rodneInfor ┆ narodneInf ┆ noSLO      ┆ losnoSLO  │\n",
       "│ i64      ┆ str        ┆ str  ┆ str        ┆   ┆ macijeSLO  ┆ ormacijeSL ┆ ---        ┆ ---       │\n",
       "│          ┆            ┆      ┆            ┆   ┆ ---        ┆ …          ┆ str        ┆ str       │\n",
       "│          ┆            ┆      ┆            ┆   ┆ str        ┆ ---        ┆            ┆           │\n",
       "│          ┆            ┆      ┆            ┆   ┆            ┆ str        ┆            ┆           │\n",
       "╞══════════╪════════════╪══════╪════════════╪═══╪════════════╪════════════╪════════════╪═══════════╡\n",
       "│ 1319263  ┆ 2022-04-30 ┆ NULL ┆ <p><strong ┆ … ┆            ┆ Čakalna    ┆ Tovorni    ┆ Zaradi    │\n",
       "│          ┆ T00:32:29. ┆      ┆ >Ovire</st ┆   ┆            ┆ doba je na ┆ promet     ┆ praznikov │\n",
       "│          ┆ 000        ┆      ┆ rong></p>< ┆   ┆            ┆ Gruškovju. ┆            ┆ bo po     │\n",
       "│          ┆            ┆      ┆ …          ┆   ┆            ┆            ┆            ┆ Sloveni…  │\n",
       "│ 1319264  ┆ 2022-04-30 ┆ NULL ┆ <p><strong ┆ … ┆            ┆ Čakalna    ┆ Tovorni    ┆ Zaradi    │\n",
       "│          ┆ T00:32:58. ┆      ┆ >Ovire</st ┆   ┆            ┆ doba je na ┆ promet     ┆ praznikov │\n",
       "│          ┆ 000        ┆      ┆ rong></p>< ┆   ┆            ┆ Gruškovju. ┆            ┆ bo po     │\n",
       "│          ┆            ┆      ┆ …          ┆   ┆            ┆            ┆            ┆ Sloveni…  │\n",
       "│ 1319265  ┆ 2022-04-30 ┆ NULL ┆ <p><strong ┆ … ┆            ┆ Čakalna    ┆ Tovorni    ┆ Zaradi    │\n",
       "│          ┆ T01:01:09. ┆      ┆ >Ovire</st ┆   ┆            ┆ doba je na ┆ promet     ┆ praznikov │\n",
       "│          ┆ 000        ┆      ┆ rong></p>< ┆   ┆            ┆ Gruškovju. ┆            ┆ bo po     │\n",
       "│          ┆            ┆      ┆ …          ┆   ┆            ┆            ┆            ┆ Sloveni…  │\n",
       "│ 1319266  ┆ 2022-04-30 ┆ NULL ┆ <p><strong ┆ … ┆            ┆ Čakalna    ┆ Tovorni    ┆ Zaradi    │\n",
       "│          ┆ T01:10:45. ┆      ┆ >Mejni pre ┆   ┆            ┆ doba je na ┆ promet     ┆ praznikov │\n",
       "│          ┆ 000        ┆      ┆ hodi</stro ┆   ┆            ┆ Gruškovju. ┆            ┆ bo po     │\n",
       "│          ┆            ┆      ┆ …          ┆   ┆            ┆            ┆            ┆ Sloveni…  │\n",
       "│ 1319267  ┆ 2022-04-30 ┆ NULL ┆ <p><strong ┆ … ┆            ┆            ┆ Tovorni    ┆ Zaradi    │\n",
       "│          ┆ T01:38:36. ┆      ┆ >Tovorni   ┆   ┆            ┆            ┆ promet     ┆ praznikov │\n",
       "│          ┆ 000        ┆      ┆ promet</st ┆   ┆            ┆            ┆            ┆ bo po     │\n",
       "│          ┆            ┆      ┆ r…         ┆   ┆            ┆            ┆            ┆ Sloveni…  │\n",
       "└──────────┴────────────┴──────┴────────────┴───┴────────────┴────────────┴────────────┴───────────┘"
      ]
     },
     "execution_count": 104,
     "metadata": {},
     "output_type": "execute_result"
    }
   ],
   "source": [
    "dfInputsFiltered.head()"
   ]
  },
  {
   "cell_type": "code",
   "execution_count": 105,
   "metadata": {},
   "outputs": [
    {
     "data": {
      "text/html": [
       "<div><style>\n",
       ".dataframe > thead > tr,\n",
       ".dataframe > tbody > tr {\n",
       "  text-align: right;\n",
       "  white-space: pre-wrap;\n",
       "}\n",
       "</style>\n",
       "<small>shape: (5, 5)</small><table border=\"1\" class=\"dataframe\"><thead><tr><th>year</th><th>month</th><th>file_name</th><th>content</th><th>time</th></tr><tr><td>i64</td><td>str</td><td>str</td><td>str</td><td>str</td></tr></thead><tbody><tr><td>2022</td><td>&quot;April&quot;</td><td>&quot;TMP-23&quot;</td><td>&quot;Prometne informacije&nbsp;&nbsp;&nbsp;\t&nbsp;&nbsp;&nbsp;30.…</td><td>&quot;2022-04-30 06:00&quot;</td></tr><tr><td>2022</td><td>&quot;April&quot;</td><td>&quot;TMP-22&quot;</td><td>&quot;Prometne informacije&nbsp;&nbsp;&nbsp;\t&nbsp;&nbsp;&nbsp;30.…</td><td>&quot;2022-04-30 06:30&quot;</td></tr><tr><td>2022</td><td>&quot;April&quot;</td><td>&quot;TMP-21&quot;</td><td>&quot;Prometne informacije&nbsp;&nbsp;&nbsp;\t&nbsp;&nbsp;&nbsp;30.…</td><td>&quot;2022-04-30 07:00&quot;</td></tr><tr><td>2022</td><td>&quot;April&quot;</td><td>&quot;TMP-20&quot;</td><td>&quot;Prometne informacije&nbsp;&nbsp;&nbsp;\t&nbsp;&nbsp;&nbsp;30.…</td><td>&quot;2022-04-30 08:00&quot;</td></tr><tr><td>2022</td><td>&quot;April&quot;</td><td>&quot;TMP-19&quot;</td><td>&quot;Prometne informacije&nbsp;&nbsp;&nbsp;\t&nbsp;&nbsp;&nbsp;30.…</td><td>&quot;2022-04-30 08:30&quot;</td></tr></tbody></table></div>"
      ],
      "text/plain": [
       "shape: (5, 5)\n",
       "┌──────┬───────┬───────────┬─────────────────────────────────┬──────────────────┐\n",
       "│ year ┆ month ┆ file_name ┆ content                         ┆ time             │\n",
       "│ ---  ┆ ---   ┆ ---       ┆ ---                             ┆ ---              │\n",
       "│ i64  ┆ str   ┆ str       ┆ str                             ┆ str              │\n",
       "╞══════╪═══════╪═══════════╪═════════════════════════════════╪══════════════════╡\n",
       "│ 2022 ┆ April ┆ TMP-23    ┆ Prometne informacije   \t   30.… ┆ 2022-04-30 06:00 │\n",
       "│ 2022 ┆ April ┆ TMP-22    ┆ Prometne informacije   \t   30.… ┆ 2022-04-30 06:30 │\n",
       "│ 2022 ┆ April ┆ TMP-21    ┆ Prometne informacije   \t   30.… ┆ 2022-04-30 07:00 │\n",
       "│ 2022 ┆ April ┆ TMP-20    ┆ Prometne informacije   \t   30.… ┆ 2022-04-30 08:00 │\n",
       "│ 2022 ┆ April ┆ TMP-19    ┆ Prometne informacije   \t   30.… ┆ 2022-04-30 08:30 │\n",
       "└──────┴───────┴───────────┴─────────────────────────────────┴──────────────────┘"
      ]
     },
     "execution_count": 105,
     "metadata": {},
     "output_type": "execute_result"
    }
   ],
   "source": [
    "dfOutputsFiltered.head()"
   ]
  },
  {
   "cell_type": "code",
   "execution_count": null,
   "metadata": {},
   "outputs": [],
   "source": [
    "### most outputs start at 6 am, only a few reports for 5 am or 4am"
   ]
  }
 ],
 "metadata": {
  "kernelspec": {
   "display_name": ".venv",
   "language": "python",
   "name": "python3"
  },
  "language_info": {
   "codemirror_mode": {
    "name": "ipython",
    "version": 3
   },
   "file_extension": ".py",
   "mimetype": "text/x-python",
   "name": "python",
   "nbconvert_exporter": "python",
   "pygments_lexer": "ipython3",
   "version": "3.12.9"
  }
 },
 "nbformat": 4,
 "nbformat_minor": 2
}

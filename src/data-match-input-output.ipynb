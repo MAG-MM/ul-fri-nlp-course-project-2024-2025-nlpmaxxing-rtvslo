{
 "cells": [
  {
   "cell_type": "code",
   "execution_count": 3,
   "metadata": {},
   "outputs": [],
   "source": [
    "import polars as pl"
   ]
  },
  {
   "cell_type": "code",
   "execution_count": 4,
   "metadata": {},
   "outputs": [],
   "source": [
    "dfInputs = pl.read_csv(\"../data/inputs-clean.csv\")\n",
    "\n",
    "dfOutputs = pl.read_csv(\"../data/outputs.csv\")"
   ]
  },
  {
   "cell_type": "code",
   "execution_count": 5,
   "metadata": {},
   "outputs": [],
   "source": [
    "def dump_input_by_id(id):\n",
    "    l = dfInputs.filter(pl.col(\"id\") == id)\n",
    "    for item in l.rows(named=True):\n",
    "        print(item)\n",
    "\n",
    "def dump_output_by_id(id):\n",
    "    l = dfOutputs.filter(pl.col(\"id\") == id)\n",
    "    for item in l.rows(named=True):\n",
    "        print(item)"
   ]
  },
  {
   "cell_type": "code",
   "execution_count": 6,
   "metadata": {},
   "outputs": [],
   "source": [
    "date = \"2022-02-02\"\n",
    "\n",
    "dfInputsOneDay = dfInputs.filter(pl.col(\"date\") == date)\n",
    "\n",
    "dfOutputsOneDay = dfOutputs.filter(pl.col(\"date\") == date)"
   ]
  },
  {
   "cell_type": "code",
   "execution_count": 7,
   "metadata": {},
   "outputs": [
    {
     "data": {
      "text/html": [
       "<div><style>\n",
       ".dataframe > thead > tr,\n",
       ".dataframe > tbody > tr {\n",
       "  text-align: right;\n",
       "  white-space: pre-wrap;\n",
       "}\n",
       "</style>\n",
       "<small>shape: (132, 24)</small><table border=\"1\" class=\"dataframe\"><thead><tr><th>id</th><th>date</th><th>time</th><th>A1</th><th>B1</th><th>C1</th><th>TitlePomembnoSLO</th><th>ContentPomembnoSLO</th><th>TitleNesreceSLO</th><th>ContentNesreceSLO</th><th>TitleZastojiSLO</th><th>ContentZastojiSLO</th><th>TitleVremeSLO</th><th>ContentVremeSLO</th><th>TitleOvireSLO</th><th>ContentOvireSLO</th><th>TitleDeloNaCestiSLO</th><th>ContentDeloNaCestiSLO</th><th>TitleOpozorilaSLO</th><th>ContentOpozorilaSLO</th><th>TitleMednarodneInformacijeSLO</th><th>ContentMednarodneInformacijeSLO</th><th>TitleSplosnoSLO</th><th>ContentSplosnoSLO</th></tr><tr><td>str</td><td>str</td><td>str</td><td>str</td><td>str</td><td>str</td><td>str</td><td>str</td><td>str</td><td>str</td><td>str</td><td>str</td><td>str</td><td>str</td><td>str</td><td>str</td><td>str</td><td>str</td><td>str</td><td>str</td><td>str</td><td>str</td><td>str</td><td>str</td></tr></thead><tbody><tr><td>&quot;fe8ae10d-bab1-5ac8-822f-407911…</td><td>&quot;2022-02-02&quot;</td><td>&quot;01:23:24&quot;</td><td>&quot;NULL&quot;</td><td>&quot;&lt;p&gt;&lt;strong&gt;Nesreče&lt;/strong&gt;&lt;/p…</td><td>&quot;NULL&quot;</td><td>&quot;&quot;</td><td>&quot;&quot;</td><td>&quot;&quot;</td><td>&quot;Na podravski avtocesti je med …</td><td>&quot;&quot;</td><td>&quot;&quot;</td><td>&quot;Zimske razmere&quot;</td><td>&quot;&quot;</td><td>&quot;&quot;</td><td>&quot;Ponekod po državi megla v paso…</td><td>&quot;Dela&quot;</td><td>&quot;Regionalna cesta Javornik - Go…</td><td>&quot;&quot;</td><td>&quot;&quot;</td><td>&quot;&quot;</td><td>&quot;Čakalna doba je na mejnih preh…</td><td>&quot;&quot;</td><td>&quot;&quot;</td></tr><tr><td>&quot;8c06c762-209c-5258-8812-b83d14…</td><td>&quot;2022-02-02&quot;</td><td>&quot;02:43:21&quot;</td><td>&quot;NULL&quot;</td><td>&quot;&lt;p&gt;&lt;strong&gt;Nesreče&lt;/strong&gt;&lt;/p…</td><td>&quot;NULL&quot;</td><td>&quot;&quot;</td><td>&quot;&quot;</td><td>&quot;&quot;</td><td>&quot;Na podravski avtocesti je med …</td><td>&quot;&quot;</td><td>&quot;&quot;</td><td>&quot;Zimske razmere&quot;</td><td>&quot;&quot;</td><td>&quot;&quot;</td><td>&quot;Ponekod po državi megla v paso…</td><td>&quot;Dela&quot;</td><td>&quot;Regionalna cesta Javornik - Go…</td><td>&quot;&quot;</td><td>&quot;&quot;</td><td>&quot;&quot;</td><td>&quot;Čakalna doba je na mejnih preh…</td><td>&quot;&quot;</td><td>&quot;&quot;</td></tr><tr><td>&quot;1ef03b99-6e3e-5d8c-99af-50ff9e…</td><td>&quot;2022-02-02&quot;</td><td>&quot;02:44:37&quot;</td><td>&quot;NULL&quot;</td><td>&quot;&lt;p&gt;&lt;strong&gt;Nesreče&lt;/strong&gt;&lt;/p…</td><td>&quot;NULL&quot;</td><td>&quot;&quot;</td><td>&quot;&quot;</td><td>&quot;&quot;</td><td>&quot;Na podravski avtocesti je med …</td><td>&quot;&quot;</td><td>&quot;&quot;</td><td>&quot;Zimske razmere&quot;</td><td>&quot;&quot;</td><td>&quot;&quot;</td><td>&quot;Ponekod po državi megla v paso…</td><td>&quot;Dela&quot;</td><td>&quot;Regionalna cesta Javornik - Go…</td><td>&quot;&quot;</td><td>&quot;&quot;</td><td>&quot;&quot;</td><td>&quot;Čakalna doba je na mejnih preh…</td><td>&quot;&quot;</td><td>&quot;&quot;</td></tr><tr><td>&quot;7f00e296-ce7e-599e-bc29-01568b…</td><td>&quot;2022-02-02&quot;</td><td>&quot;03:41:39&quot;</td><td>&quot;NULL&quot;</td><td>&quot;&lt;p&gt;&lt;strong&gt;Ovire&lt;/strong&gt;&lt;/p&gt;&lt;…</td><td>&quot;NULL&quot;</td><td>&quot;&quot;</td><td>&quot;&quot;</td><td>&quot;&quot;</td><td>&quot;&quot;</td><td>&quot;&quot;</td><td>&quot;&quot;</td><td>&quot;Zimske razmere&quot;</td><td>&quot;&quot;</td><td>&quot;&quot;</td><td>&quot;Ponekod po državi megla v paso…</td><td>&quot;Dela&quot;</td><td>&quot;Regionalna cesta Javornik - Go…</td><td>&quot;&quot;</td><td>&quot;&quot;</td><td>&quot;&quot;</td><td>&quot;Čakalna doba je na mejnih preh…</td><td>&quot;&quot;</td><td>&quot;&quot;</td></tr><tr><td>&quot;cf062606-0883-5aa2-8868-caab52…</td><td>&quot;2022-02-02&quot;</td><td>&quot;04:44:06&quot;</td><td>&quot;NULL&quot;</td><td>&quot;&lt;p&gt;&lt;strong&gt;Ovire&lt;/strong&gt;&lt;/p&gt;&lt;…</td><td>&quot;NULL&quot;</td><td>&quot;&quot;</td><td>&quot;&quot;</td><td>&quot;&quot;</td><td>&quot;&quot;</td><td>&quot;&quot;</td><td>&quot;&quot;</td><td>&quot;Zimske razmere&quot;</td><td>&quot;&quot;</td><td>&quot;&quot;</td><td>&quot;Ponekod po državi megla v paso…</td><td>&quot;Dela&quot;</td><td>&quot;Regionalna cesta Javornik - Go…</td><td>&quot;&quot;</td><td>&quot;&quot;</td><td>&quot;&quot;</td><td>&quot;Čakalna doba je na mejnih preh…</td><td>&quot;&quot;</td><td>&quot;&quot;</td></tr><tr><td>&hellip;</td><td>&hellip;</td><td>&hellip;</td><td>&hellip;</td><td>&hellip;</td><td>&hellip;</td><td>&hellip;</td><td>&hellip;</td><td>&hellip;</td><td>&hellip;</td><td>&hellip;</td><td>&hellip;</td><td>&hellip;</td><td>&hellip;</td><td>&hellip;</td><td>&hellip;</td><td>&hellip;</td><td>&hellip;</td><td>&hellip;</td><td>&hellip;</td><td>&hellip;</td><td>&hellip;</td><td>&hellip;</td><td>&hellip;</td></tr><tr><td>&quot;f7b690f3-02b4-58cf-835b-f730a8…</td><td>&quot;2022-02-02&quot;</td><td>&quot;23:03:56&quot;</td><td>&quot;NULL&quot;</td><td>&quot;&lt;p&gt;&lt;strong&gt;Mejni prehodi&lt;/stro…</td><td>&quot;NULL&quot;</td><td>&quot;&quot;</td><td>&quot;&quot;</td><td>&quot;&quot;</td><td>&quot;&quot;</td><td>&quot;&quot;</td><td>&quot;&quot;</td><td>&quot;Zimske razmere&quot;</td><td>&quot;&quot;</td><td>&quot;&quot;</td><td>&quot;&quot;</td><td>&quot;Dela&quot;</td><td>&quot;Na razcepu Zadobrova je zaprt …</td><td>&quot;&quot;</td><td>&quot;&quot;</td><td>&quot;&quot;</td><td>&quot;Čakalna doba je na mejnem preh…</td><td>&quot;&quot;</td><td>&quot;&quot;</td></tr><tr><td>&quot;4f43c47f-d795-57f0-b652-b4703f…</td><td>&quot;2022-02-02&quot;</td><td>&quot;23:03:59&quot;</td><td>&quot;NULL&quot;</td><td>&quot;&lt;p&gt;&lt;strong&gt;Mejni prehodi&lt;/stro…</td><td>&quot;NULL&quot;</td><td>&quot;&quot;</td><td>&quot;&quot;</td><td>&quot;&quot;</td><td>&quot;&quot;</td><td>&quot;&quot;</td><td>&quot;&quot;</td><td>&quot;Zimske razmere&quot;</td><td>&quot;&quot;</td><td>&quot;&quot;</td><td>&quot;&quot;</td><td>&quot;Dela&quot;</td><td>&quot;Na razcepu Zadobrova je zaprt …</td><td>&quot;&quot;</td><td>&quot;&quot;</td><td>&quot;&quot;</td><td>&quot;Čakalna doba je na mejnem preh…</td><td>&quot;&quot;</td><td>&quot;&quot;</td></tr><tr><td>&quot;17324abf-e7c0-57b8-994a-af5c99…</td><td>&quot;2022-02-02&quot;</td><td>&quot;23:06:53&quot;</td><td>&quot;NULL&quot;</td><td>&quot;&lt;p&gt;&lt;strong&gt;Mejni prehodi&lt;/stro…</td><td>&quot;NULL&quot;</td><td>&quot;&quot;</td><td>&quot;&quot;</td><td>&quot;&quot;</td><td>&quot;&quot;</td><td>&quot;&quot;</td><td>&quot;&quot;</td><td>&quot;Zimske razmere&quot;</td><td>&quot;&quot;</td><td>&quot;&quot;</td><td>&quot;&quot;</td><td>&quot;Dela&quot;</td><td>&quot;Na razcepu Zadobrova je zaprt …</td><td>&quot;&quot;</td><td>&quot;&quot;</td><td>&quot;&quot;</td><td>&quot;Čakalna doba je na mejnem preh…</td><td>&quot;&quot;</td><td>&quot;&quot;</td></tr><tr><td>&quot;a54ad1c0-703b-516a-875a-040b6c…</td><td>&quot;2022-02-02&quot;</td><td>&quot;23:13:52&quot;</td><td>&quot;NULL&quot;</td><td>&quot;&lt;p&gt;&lt;strong&gt;Mejni prehodi&lt;/stro…</td><td>&quot;NULL&quot;</td><td>&quot;&quot;</td><td>&quot;&quot;</td><td>&quot;&quot;</td><td>&quot;&quot;</td><td>&quot;&quot;</td><td>&quot;&quot;</td><td>&quot;Zimske razmere&quot;</td><td>&quot;&quot;</td><td>&quot;&quot;</td><td>&quot;&quot;</td><td>&quot;Dela&quot;</td><td>&quot;Na razcepu Zadobrova je zaprt …</td><td>&quot;&quot;</td><td>&quot;&quot;</td><td>&quot;&quot;</td><td>&quot;Čakalna doba je na mejnem preh…</td><td>&quot;&quot;</td><td>&quot;&quot;</td></tr><tr><td>&quot;74b36417-6830-5ba6-9553-1a1b6e…</td><td>&quot;2022-02-02&quot;</td><td>&quot;23:16:09&quot;</td><td>&quot;NULL&quot;</td><td>&quot;&lt;p&gt;&lt;strong&gt;Mejni prehodi&lt;/stro…</td><td>&quot;NULL&quot;</td><td>&quot;&quot;</td><td>&quot;&quot;</td><td>&quot;&quot;</td><td>&quot;&quot;</td><td>&quot;&quot;</td><td>&quot;&quot;</td><td>&quot;Zimske razmere&quot;</td><td>&quot;&quot;</td><td>&quot;&quot;</td><td>&quot;&quot;</td><td>&quot;Dela&quot;</td><td>&quot;Na razcepu Zadobrova je zaprt …</td><td>&quot;&quot;</td><td>&quot;&quot;</td><td>&quot;&quot;</td><td>&quot;Čakalna doba je na mejnem preh…</td><td>&quot;&quot;</td><td>&quot;&quot;</td></tr></tbody></table></div>"
      ],
      "text/plain": [
       "shape: (132, 24)\n",
       "┌────────────┬────────────┬──────────┬──────┬───┬────────────┬────────────┬────────────┬───────────┐\n",
       "│ id         ┆ date       ┆ time     ┆ A1   ┆ … ┆ TitleMedna ┆ ContentMed ┆ TitleSplos ┆ ContentSp │\n",
       "│ ---        ┆ ---        ┆ ---      ┆ ---  ┆   ┆ rodneInfor ┆ narodneInf ┆ noSLO      ┆ losnoSLO  │\n",
       "│ str        ┆ str        ┆ str      ┆ str  ┆   ┆ macijeSLO  ┆ ormacijeSL ┆ ---        ┆ ---       │\n",
       "│            ┆            ┆          ┆      ┆   ┆ ---        ┆ …          ┆ str        ┆ str       │\n",
       "│            ┆            ┆          ┆      ┆   ┆ str        ┆ ---        ┆            ┆           │\n",
       "│            ┆            ┆          ┆      ┆   ┆            ┆ str        ┆            ┆           │\n",
       "╞════════════╪════════════╪══════════╪══════╪═══╪════════════╪════════════╪════════════╪═══════════╡\n",
       "│ fe8ae10d-b ┆ 2022-02-02 ┆ 01:23:24 ┆ NULL ┆ … ┆            ┆ Čakalna    ┆            ┆           │\n",
       "│ ab1-5ac8-8 ┆            ┆          ┆      ┆   ┆            ┆ doba je na ┆            ┆           │\n",
       "│ 22f-407911 ┆            ┆          ┆      ┆   ┆            ┆ mejnih     ┆            ┆           │\n",
       "│ …          ┆            ┆          ┆      ┆   ┆            ┆ preh…      ┆            ┆           │\n",
       "│ 8c06c762-2 ┆ 2022-02-02 ┆ 02:43:21 ┆ NULL ┆ … ┆            ┆ Čakalna    ┆            ┆           │\n",
       "│ 09c-5258-8 ┆            ┆          ┆      ┆   ┆            ┆ doba je na ┆            ┆           │\n",
       "│ 812-b83d14 ┆            ┆          ┆      ┆   ┆            ┆ mejnih     ┆            ┆           │\n",
       "│ …          ┆            ┆          ┆      ┆   ┆            ┆ preh…      ┆            ┆           │\n",
       "│ 1ef03b99-6 ┆ 2022-02-02 ┆ 02:44:37 ┆ NULL ┆ … ┆            ┆ Čakalna    ┆            ┆           │\n",
       "│ e3e-5d8c-9 ┆            ┆          ┆      ┆   ┆            ┆ doba je na ┆            ┆           │\n",
       "│ 9af-50ff9e ┆            ┆          ┆      ┆   ┆            ┆ mejnih     ┆            ┆           │\n",
       "│ …          ┆            ┆          ┆      ┆   ┆            ┆ preh…      ┆            ┆           │\n",
       "│ 7f00e296-c ┆ 2022-02-02 ┆ 03:41:39 ┆ NULL ┆ … ┆            ┆ Čakalna    ┆            ┆           │\n",
       "│ e7e-599e-b ┆            ┆          ┆      ┆   ┆            ┆ doba je na ┆            ┆           │\n",
       "│ c29-01568b ┆            ┆          ┆      ┆   ┆            ┆ mejnih     ┆            ┆           │\n",
       "│ …          ┆            ┆          ┆      ┆   ┆            ┆ preh…      ┆            ┆           │\n",
       "│ cf062606-0 ┆ 2022-02-02 ┆ 04:44:06 ┆ NULL ┆ … ┆            ┆ Čakalna    ┆            ┆           │\n",
       "│ 883-5aa2-8 ┆            ┆          ┆      ┆   ┆            ┆ doba je na ┆            ┆           │\n",
       "│ 868-caab52 ┆            ┆          ┆      ┆   ┆            ┆ mejnih     ┆            ┆           │\n",
       "│ …          ┆            ┆          ┆      ┆   ┆            ┆ preh…      ┆            ┆           │\n",
       "│ …          ┆ …          ┆ …        ┆ …    ┆ … ┆ …          ┆ …          ┆ …          ┆ …         │\n",
       "│ f7b690f3-0 ┆ 2022-02-02 ┆ 23:03:56 ┆ NULL ┆ … ┆            ┆ Čakalna    ┆            ┆           │\n",
       "│ 2b4-58cf-8 ┆            ┆          ┆      ┆   ┆            ┆ doba je na ┆            ┆           │\n",
       "│ 35b-f730a8 ┆            ┆          ┆      ┆   ┆            ┆ mejnem     ┆            ┆           │\n",
       "│ …          ┆            ┆          ┆      ┆   ┆            ┆ preh…      ┆            ┆           │\n",
       "│ 4f43c47f-d ┆ 2022-02-02 ┆ 23:03:59 ┆ NULL ┆ … ┆            ┆ Čakalna    ┆            ┆           │\n",
       "│ 795-57f0-b ┆            ┆          ┆      ┆   ┆            ┆ doba je na ┆            ┆           │\n",
       "│ 652-b4703f ┆            ┆          ┆      ┆   ┆            ┆ mejnem     ┆            ┆           │\n",
       "│ …          ┆            ┆          ┆      ┆   ┆            ┆ preh…      ┆            ┆           │\n",
       "│ 17324abf-e ┆ 2022-02-02 ┆ 23:06:53 ┆ NULL ┆ … ┆            ┆ Čakalna    ┆            ┆           │\n",
       "│ 7c0-57b8-9 ┆            ┆          ┆      ┆   ┆            ┆ doba je na ┆            ┆           │\n",
       "│ 94a-af5c99 ┆            ┆          ┆      ┆   ┆            ┆ mejnem     ┆            ┆           │\n",
       "│ …          ┆            ┆          ┆      ┆   ┆            ┆ preh…      ┆            ┆           │\n",
       "│ a54ad1c0-7 ┆ 2022-02-02 ┆ 23:13:52 ┆ NULL ┆ … ┆            ┆ Čakalna    ┆            ┆           │\n",
       "│ 03b-516a-8 ┆            ┆          ┆      ┆   ┆            ┆ doba je na ┆            ┆           │\n",
       "│ 75a-040b6c ┆            ┆          ┆      ┆   ┆            ┆ mejnem     ┆            ┆           │\n",
       "│ …          ┆            ┆          ┆      ┆   ┆            ┆ preh…      ┆            ┆           │\n",
       "│ 74b36417-6 ┆ 2022-02-02 ┆ 23:16:09 ┆ NULL ┆ … ┆            ┆ Čakalna    ┆            ┆           │\n",
       "│ 830-5ba6-9 ┆            ┆          ┆      ┆   ┆            ┆ doba je na ┆            ┆           │\n",
       "│ 553-1a1b6e ┆            ┆          ┆      ┆   ┆            ┆ mejnem     ┆            ┆           │\n",
       "│ …          ┆            ┆          ┆      ┆   ┆            ┆ preh…      ┆            ┆           │\n",
       "└────────────┴────────────┴──────────┴──────┴───┴────────────┴────────────┴────────────┴───────────┘"
      ]
     },
     "execution_count": 7,
     "metadata": {},
     "output_type": "execute_result"
    }
   ],
   "source": [
    "dfInputsOneDay "
   ]
  },
  {
   "cell_type": "code",
   "execution_count": 8,
   "metadata": {},
   "outputs": [
    {
     "data": {
      "text/html": [
       "<div><style>\n",
       ".dataframe > thead > tr,\n",
       ".dataframe > tbody > tr {\n",
       "  text-align: right;\n",
       "  white-space: pre-wrap;\n",
       "}\n",
       "</style>\n",
       "<small>shape: (26, 10)</small><table border=\"1\" class=\"dataframe\"><thead><tr><th>id</th><th>date</th><th>time</th><th>nujna</th><th>nova</th><th>programs</th><th>content</th><th>file_name</th><th>year</th><th>month</th></tr><tr><td>str</td><td>str</td><td>str</td><td>i64</td><td>i64</td><td>str</td><td>str</td><td>str</td><td>i64</td><td>str</td></tr></thead><tbody><tr><td>&quot;a7658a11-91dc-5ed1-98ed-87f7ec…</td><td>&quot;2022-02-02&quot;</td><td>&quot;05:30:00&quot;</td><td>0</td><td>0</td><td>&quot;2,1,2&quot;</td><td>&quot;Prometne informacije&nbsp;&nbsp;&nbsp;&nbsp;&nbsp;&nbsp;&nbsp;2. …</td><td>&quot;TMP-698&quot;</td><td>2022</td><td>&quot;Februar&quot;</td></tr><tr><td>&quot;6b668640-b7a5-5b7f-ab35-4f2730…</td><td>&quot;2022-02-02&quot;</td><td>&quot;06:00:00&quot;</td><td>0</td><td>0</td><td>&quot;2,1,2&quot;</td><td>&quot;Prometne informacije&nbsp;&nbsp;&nbsp;&nbsp;&nbsp;&nbsp;&nbsp;2. …</td><td>&quot;TMP-697&quot;</td><td>2022</td><td>&quot;Februar&quot;</td></tr><tr><td>&quot;c186b72a-7124-53e6-a7ac-4822eb…</td><td>&quot;2022-02-02&quot;</td><td>&quot;06:30:00&quot;</td><td>0</td><td>0</td><td>&quot;2,1,2&quot;</td><td>&quot;Prometne informacije&nbsp;&nbsp;&nbsp;&nbsp;&nbsp;&nbsp;&nbsp;2. …</td><td>&quot;TMP-696&quot;</td><td>2022</td><td>&quot;Februar&quot;</td></tr><tr><td>&quot;5c2b60c2-c534-5500-b09a-00b300…</td><td>&quot;2022-02-02&quot;</td><td>&quot;07:00:00&quot;</td><td>0</td><td>1</td><td>&quot;2,1,2&quot;</td><td>&quot;NOVE Prometne informacije&nbsp;&nbsp;&nbsp;&nbsp;&nbsp;…</td><td>&quot;TMP-695&quot;</td><td>2022</td><td>&quot;Februar&quot;</td></tr><tr><td>&quot;38c81a27-b726-573d-999b-0add71…</td><td>&quot;2022-02-02&quot;</td><td>&quot;08:00:00&quot;</td><td>0</td><td>0</td><td>&quot;2,1,3&quot;</td><td>&quot;Prometne informacije&nbsp;&nbsp;&nbsp;&nbsp;&nbsp;&nbsp;&nbsp;2. …</td><td>&quot;TMP-694&quot;</td><td>2022</td><td>&quot;Februar&quot;</td></tr><tr><td>&hellip;</td><td>&hellip;</td><td>&hellip;</td><td>&hellip;</td><td>&hellip;</td><td>&hellip;</td><td>&hellip;</td><td>&hellip;</td><td>&hellip;</td><td>&hellip;</td></tr><tr><td>&quot;2e53fde7-ffb8-54e7-93ee-e25a29…</td><td>&quot;2022-02-02&quot;</td><td>&quot;17:30:00&quot;</td><td>0</td><td>0</td><td>&quot;2,2&quot;</td><td>&quot;Prometne informacije&nbsp;&nbsp;&nbsp;&nbsp;&nbsp;&nbsp;&nbsp;2. …</td><td>&quot;TMP-677&quot;</td><td>2022</td><td>&quot;Februar&quot;</td></tr><tr><td>&quot;cf7f2766-9a2c-5dac-8895-b372b7…</td><td>&quot;2022-02-02&quot;</td><td>&quot;18:00:00&quot;</td><td>0</td><td>0</td><td>&quot;2,1,3&quot;</td><td>&quot;Prometne informacije&nbsp;&nbsp;&nbsp;&nbsp;&nbsp;&nbsp;&nbsp;2. …</td><td>&quot;TMP-676&quot;</td><td>2022</td><td>&quot;Februar&quot;</td></tr><tr><td>&quot;80beefa5-6ea9-568c-88ec-92b024…</td><td>&quot;2022-02-02&quot;</td><td>&quot;18:30:00&quot;</td><td>0</td><td>0</td><td>&quot;2,1,3&quot;</td><td>&quot;Prometne informacije&nbsp;&nbsp;&nbsp;&nbsp;&nbsp;&nbsp;&nbsp;2. …</td><td>&quot;TMP-675&quot;</td><td>2022</td><td>&quot;Februar&quot;</td></tr><tr><td>&quot;80beefa5-6ea9-568c-88ec-92b024…</td><td>&quot;2022-02-02&quot;</td><td>&quot;18:30:00&quot;</td><td>0</td><td>1</td><td>&quot;2,1,3&quot;</td><td>&quot;NOVA Prometne informacije&nbsp;&nbsp;&nbsp;&nbsp;&nbsp;…</td><td>&quot;TMP-674&quot;</td><td>2022</td><td>&quot;Februar&quot;</td></tr><tr><td>&quot;e5b22c8e-0923-5209-9576-5d26cb…</td><td>&quot;2022-02-02&quot;</td><td>&quot;20:00:00&quot;</td><td>0</td><td>0</td><td>&quot;2,2&quot;</td><td>&quot;Prometne informacije&nbsp;&nbsp;&nbsp;&nbsp;&nbsp;&nbsp;&nbsp;2. …</td><td>&quot;TMP-673&quot;</td><td>2022</td><td>&quot;Februar&quot;</td></tr></tbody></table></div>"
      ],
      "text/plain": [
       "shape: (26, 10)\n",
       "┌────────────────┬────────────┬──────────┬───────┬───┬────────────────┬───────────┬──────┬─────────┐\n",
       "│ id             ┆ date       ┆ time     ┆ nujna ┆ … ┆ content        ┆ file_name ┆ year ┆ month   │\n",
       "│ ---            ┆ ---        ┆ ---      ┆ ---   ┆   ┆ ---            ┆ ---       ┆ ---  ┆ ---     │\n",
       "│ str            ┆ str        ┆ str      ┆ i64   ┆   ┆ str            ┆ str       ┆ i64  ┆ str     │\n",
       "╞════════════════╪════════════╪══════════╪═══════╪═══╪════════════════╪═══════════╪══════╪═════════╡\n",
       "│ a7658a11-91dc- ┆ 2022-02-02 ┆ 05:30:00 ┆ 0     ┆ … ┆ Prometne       ┆ TMP-698   ┆ 2022 ┆ Februar │\n",
       "│ 5ed1-98ed-87f7 ┆            ┆          ┆       ┆   ┆ informacije    ┆           ┆      ┆         │\n",
       "│ ec…            ┆            ┆          ┆       ┆   ┆ 2. …           ┆           ┆      ┆         │\n",
       "│ 6b668640-b7a5- ┆ 2022-02-02 ┆ 06:00:00 ┆ 0     ┆ … ┆ Prometne       ┆ TMP-697   ┆ 2022 ┆ Februar │\n",
       "│ 5b7f-ab35-4f27 ┆            ┆          ┆       ┆   ┆ informacije    ┆           ┆      ┆         │\n",
       "│ 30…            ┆            ┆          ┆       ┆   ┆ 2. …           ┆           ┆      ┆         │\n",
       "│ c186b72a-7124- ┆ 2022-02-02 ┆ 06:30:00 ┆ 0     ┆ … ┆ Prometne       ┆ TMP-696   ┆ 2022 ┆ Februar │\n",
       "│ 53e6-a7ac-4822 ┆            ┆          ┆       ┆   ┆ informacije    ┆           ┆      ┆         │\n",
       "│ eb…            ┆            ┆          ┆       ┆   ┆ 2. …           ┆           ┆      ┆         │\n",
       "│ 5c2b60c2-c534- ┆ 2022-02-02 ┆ 07:00:00 ┆ 0     ┆ … ┆ NOVE Prometne  ┆ TMP-695   ┆ 2022 ┆ Februar │\n",
       "│ 5500-b09a-00b3 ┆            ┆          ┆       ┆   ┆ informacije    ┆           ┆      ┆         │\n",
       "│ 00…            ┆            ┆          ┆       ┆   ┆ …              ┆           ┆      ┆         │\n",
       "│ 38c81a27-b726- ┆ 2022-02-02 ┆ 08:00:00 ┆ 0     ┆ … ┆ Prometne       ┆ TMP-694   ┆ 2022 ┆ Februar │\n",
       "│ 573d-999b-0add ┆            ┆          ┆       ┆   ┆ informacije    ┆           ┆      ┆         │\n",
       "│ 71…            ┆            ┆          ┆       ┆   ┆ 2. …           ┆           ┆      ┆         │\n",
       "│ …              ┆ …          ┆ …        ┆ …     ┆ … ┆ …              ┆ …         ┆ …    ┆ …       │\n",
       "│ 2e53fde7-ffb8- ┆ 2022-02-02 ┆ 17:30:00 ┆ 0     ┆ … ┆ Prometne       ┆ TMP-677   ┆ 2022 ┆ Februar │\n",
       "│ 54e7-93ee-e25a ┆            ┆          ┆       ┆   ┆ informacije    ┆           ┆      ┆         │\n",
       "│ 29…            ┆            ┆          ┆       ┆   ┆ 2. …           ┆           ┆      ┆         │\n",
       "│ cf7f2766-9a2c- ┆ 2022-02-02 ┆ 18:00:00 ┆ 0     ┆ … ┆ Prometne       ┆ TMP-676   ┆ 2022 ┆ Februar │\n",
       "│ 5dac-8895-b372 ┆            ┆          ┆       ┆   ┆ informacije    ┆           ┆      ┆         │\n",
       "│ b7…            ┆            ┆          ┆       ┆   ┆ 2. …           ┆           ┆      ┆         │\n",
       "│ 80beefa5-6ea9- ┆ 2022-02-02 ┆ 18:30:00 ┆ 0     ┆ … ┆ Prometne       ┆ TMP-675   ┆ 2022 ┆ Februar │\n",
       "│ 568c-88ec-92b0 ┆            ┆          ┆       ┆   ┆ informacije    ┆           ┆      ┆         │\n",
       "│ 24…            ┆            ┆          ┆       ┆   ┆ 2. …           ┆           ┆      ┆         │\n",
       "│ 80beefa5-6ea9- ┆ 2022-02-02 ┆ 18:30:00 ┆ 0     ┆ … ┆ NOVA Prometne  ┆ TMP-674   ┆ 2022 ┆ Februar │\n",
       "│ 568c-88ec-92b0 ┆            ┆          ┆       ┆   ┆ informacije    ┆           ┆      ┆         │\n",
       "│ 24…            ┆            ┆          ┆       ┆   ┆ …              ┆           ┆      ┆         │\n",
       "│ e5b22c8e-0923- ┆ 2022-02-02 ┆ 20:00:00 ┆ 0     ┆ … ┆ Prometne       ┆ TMP-673   ┆ 2022 ┆ Februar │\n",
       "│ 5209-9576-5d26 ┆            ┆          ┆       ┆   ┆ informacije    ┆           ┆      ┆         │\n",
       "│ cb…            ┆            ┆          ┆       ┆   ┆ 2. …           ┆           ┆      ┆         │\n",
       "└────────────────┴────────────┴──────────┴───────┴───┴────────────────┴───────────┴──────┴─────────┘"
      ]
     },
     "execution_count": 8,
     "metadata": {},
     "output_type": "execute_result"
    }
   ],
   "source": [
    "dfOutputsOneDay"
   ]
  },
  {
   "cell_type": "code",
   "execution_count": 9,
   "metadata": {},
   "outputs": [
    {
     "name": "stdout",
     "output_type": "stream",
     "text": [
      "{'id': '80beefa5-6ea9-568c-88ec-92b024447401', 'date': '2022-02-02', 'time': '18:30:00', 'nujna': 0, 'nova': 0, 'programs': '2,1,3', 'content': 'Prometne informacije       2. 2. 2022       18.30      1. in 3.  program \\n\\nPodatki o prometu. \\n\\nŠtajerska avtocesta je zaprta proti Mariboru zaradi gorečega vozila med predorom Golo Rebro in priključkom Slovenske Konjice. Obvoz je po regionalni cesti Celje - Vojnik - Frankolovo - Slovenske Konjice.\\n\\nMed priključkoma Celje - center in Celje - vzhod je oviran promet proti Mariboru zaradi pokvarjenega vozila.\\n\\nNa mejnem prehodu Obrežje vozniki tovornih vozil na vstop v Slovenijo čakajo več kot 2 uri, v Gruškovju pa do dve uri.\\n\\n\\x00', 'file_name': 'TMP-675', 'year': 2022, 'month': 'Februar'}\n",
      "{'id': '80beefa5-6ea9-568c-88ec-92b024447401', 'date': '2022-02-02', 'time': '18:30:00', 'nujna': 0, 'nova': 1, 'programs': '2,1,3', 'content': 'NOVA Prometne informacije       2. 2. 2022       18.30      1. in 3.  program \\n\\nPodatki o prometu. \\n\\n\\n\\nŠtajerska avtocesta je  spet prevozna proti Mariboru  med predorom Golo Rebro in priključkom Slovenske Konjice. Še vedno je tam zastoj.\\n\\nNa mejnem prehodu Obrežje vozniki tovornih vozil na vstop v Slovenijo čakajo več kot 2 uri, v Gruškovju pa do dve uri.\\n\\x00', 'file_name': 'TMP-674', 'year': 2022, 'month': 'Februar'}\n"
     ]
    }
   ],
   "source": [
    "dump_output_by_id(\"80beefa5-6ea9-568c-88ec-92b024447401\")"
   ]
  },
  {
   "cell_type": "code",
   "execution_count": 10,
   "metadata": {},
   "outputs": [],
   "source": [
    "# get previous item, get next item ( by time because output: 80beefa5-6ea9-568c-88ec-92b024447401 has a duplicate id, but different content)"
   ]
  },
  {
   "cell_type": "code",
   "execution_count": 56,
   "metadata": {},
   "outputs": [],
   "source": [
    "# get by date time range\n",
    "\n",
    "from datetime import datetime\n",
    "\n",
    "date_format = \"%Y-%m-%d %H:%M:%S\"\n",
    "\n",
    "def parse_date(date, time):\n",
    "    return datetime.strptime(date + \" \" + time, date_format)\n",
    "\n",
    "def get_previous_output_by_id(id):\n",
    "    df = dfOutputs.with_row_index(\"index\")\n",
    "\n",
    "    l = df.filter(pl.col(\"id\") == id)\n",
    "\n",
    "    if len(l) > 0:\n",
    "        main_item = l[0]\n",
    "    else:\n",
    "        return None\n",
    "\n",
    "    main_item_dt = parse_date(main_item[\"date\"][0], main_item[\"time\"][0])\n",
    "\n",
    "    previous_item = main_item\n",
    "\n",
    "    counter = 0\n",
    "    index = main_item[\"index\"][0]\n",
    "    while parse_date(previous_item[\"date\"][0], previous_item[\"time\"][0]) == main_item_dt:\n",
    "        counter += 1\n",
    "        index -= 1\n",
    "        if counter > 100:\n",
    "            break\n",
    "        \n",
    "        li = df.filter(pl.col(\"index\") == index)\n",
    "        current_item = li[0] if len(li) > 0 else None\n",
    "        if not current_item.is_empty():\n",
    "            previous_item = current_item\n",
    "\n",
    "    if parse_date(previous_item[\"date\"][0], previous_item[\"time\"][0]) == main_item_dt:\n",
    "        return None\n",
    "    \n",
    "    return previous_item\n",
    "\n"
   ]
  },
  {
   "cell_type": "code",
   "execution_count": 42,
   "metadata": {},
   "outputs": [
    {
     "data": {
      "text/html": [
       "<div><style>\n",
       ".dataframe > thead > tr,\n",
       ".dataframe > tbody > tr {\n",
       "  text-align: right;\n",
       "  white-space: pre-wrap;\n",
       "}\n",
       "</style>\n",
       "<small>shape: (1, 11)</small><table border=\"1\" class=\"dataframe\"><thead><tr><th>index</th><th>id</th><th>date</th><th>time</th><th>nujna</th><th>nova</th><th>programs</th><th>content</th><th>file_name</th><th>year</th><th>month</th></tr><tr><td>u32</td><td>str</td><td>str</td><td>str</td><td>i64</td><td>i64</td><td>str</td><td>str</td><td>str</td><td>i64</td><td>str</td></tr></thead><tbody><tr><td>856</td><td>&quot;cf7f2766-9a2c-5dac-8895-b372b7…</td><td>&quot;2022-02-02&quot;</td><td>&quot;18:00:00&quot;</td><td>0</td><td>0</td><td>&quot;2,1,3&quot;</td><td>&quot;Prometne informacije&nbsp;&nbsp;&nbsp;&nbsp;&nbsp;&nbsp;&nbsp;2. …</td><td>&quot;TMP-676&quot;</td><td>2022</td><td>&quot;Februar&quot;</td></tr></tbody></table></div>"
      ],
      "text/plain": [
       "shape: (1, 11)\n",
       "┌───────┬────────────────┬────────────┬──────────┬───┬────────────────┬───────────┬──────┬─────────┐\n",
       "│ index ┆ id             ┆ date       ┆ time     ┆ … ┆ content        ┆ file_name ┆ year ┆ month   │\n",
       "│ ---   ┆ ---            ┆ ---        ┆ ---      ┆   ┆ ---            ┆ ---       ┆ ---  ┆ ---     │\n",
       "│ u32   ┆ str            ┆ str        ┆ str      ┆   ┆ str            ┆ str       ┆ i64  ┆ str     │\n",
       "╞═══════╪════════════════╪════════════╪══════════╪═══╪════════════════╪═══════════╪══════╪═════════╡\n",
       "│ 856   ┆ cf7f2766-9a2c- ┆ 2022-02-02 ┆ 18:00:00 ┆ … ┆ Prometne       ┆ TMP-676   ┆ 2022 ┆ Februar │\n",
       "│       ┆ 5dac-8895-b372 ┆            ┆          ┆   ┆ informacije    ┆           ┆      ┆         │\n",
       "│       ┆ b7…            ┆            ┆          ┆   ┆ 2. …           ┆           ┆      ┆         │\n",
       "└───────┴────────────────┴────────────┴──────────┴───┴────────────────┴───────────┴──────┴─────────┘"
      ]
     },
     "execution_count": 42,
     "metadata": {},
     "output_type": "execute_result"
    }
   ],
   "source": [
    "get_previous_output_by_id(\"80beefa5-6ea9-568c-88ec-92b024447401\")\n",
    "\n",
    "# we find the previous item. Then we find inputs with timestamps between those"
   ]
  },
  {
   "cell_type": "code",
   "execution_count": null,
   "metadata": {},
   "outputs": [],
   "source": [
    "# then we find all inputs between the item and the previous item, maybe add some threshold\n",
    "\n",
    "def get_all_inputs_between(start_date, start_time, end_date, end_time):\n",
    "    start = parse_date(start_date, start_time)\n",
    "    end = parse_date(end_date, end_time)\n",
    "\n",
    "    # MAYBE ADD SOME THRESHOLD SO THAT WE DO NOT ASSUME AN ITEM PUBLISHED A FEW SECONDS AGO WAS PROCESSED\n",
    "    # use time delta https://www.geeksforgeeks.org/basic-datetime-operations-in-python/\n",
    "\n",
    "    df = dfInputs.with_row_index(\"index\")\n",
    "\n",
    "    df = df.with_columns(\n",
    "        (pl.col('date') + \" \" + pl.col('time')).alias('dt')\n",
    "    )\n",
    "\n",
    "    selected = df.filter(\n",
    "        ((pl.col(\"dt\").str.strptime(pl.Datetime, date_format) > start) & (pl.col(\"dt\").str.strptime(pl.Datetime, date_format) < end)),\n",
    "    )\n",
    "\n",
    "    return selected\n"
   ]
  },
  {
   "cell_type": "code",
   "execution_count": 64,
   "metadata": {},
   "outputs": [
    {
     "data": {
      "text/html": [
       "<div><style>\n",
       ".dataframe > thead > tr,\n",
       ".dataframe > tbody > tr {\n",
       "  text-align: right;\n",
       "  white-space: pre-wrap;\n",
       "}\n",
       "</style>\n",
       "<small>shape: (5, 26)</small><table border=\"1\" class=\"dataframe\"><thead><tr><th>index</th><th>id</th><th>date</th><th>time</th><th>A1</th><th>B1</th><th>C1</th><th>TitlePomembnoSLO</th><th>ContentPomembnoSLO</th><th>TitleNesreceSLO</th><th>ContentNesreceSLO</th><th>TitleZastojiSLO</th><th>ContentZastojiSLO</th><th>TitleVremeSLO</th><th>ContentVremeSLO</th><th>TitleOvireSLO</th><th>ContentOvireSLO</th><th>TitleDeloNaCestiSLO</th><th>ContentDeloNaCestiSLO</th><th>TitleOpozorilaSLO</th><th>ContentOpozorilaSLO</th><th>TitleMednarodneInformacijeSLO</th><th>ContentMednarodneInformacijeSLO</th><th>TitleSplosnoSLO</th><th>ContentSplosnoSLO</th><th>dt</th></tr><tr><td>u32</td><td>str</td><td>str</td><td>str</td><td>str</td><td>str</td><td>str</td><td>str</td><td>str</td><td>str</td><td>str</td><td>str</td><td>str</td><td>str</td><td>str</td><td>str</td><td>str</td><td>str</td><td>str</td><td>str</td><td>str</td><td>str</td><td>str</td><td>str</td><td>str</td><td>str</td></tr></thead><tbody><tr><td>3716</td><td>&quot;aff0d3e5-5a72-5f55-b637-03bbe2…</td><td>&quot;2022-02-02&quot;</td><td>&quot;18:01:44&quot;</td><td>&quot;NULL&quot;</td><td>&quot;&lt;p&gt;&lt;strong&gt;Zastoji&lt;/strong&gt;&lt;/p…</td><td>&quot;NULL&quot;</td><td>&quot;&quot;</td><td>&quot;&quot;</td><td>&quot;&quot;</td><td>&quot;&quot;</td><td>&quot;&quot;</td><td>&quot;Na štajerski avtocesti od Dram…</td><td>&quot;Zimske razmere&quot;</td><td>&quot;&quot;</td><td>&quot;&quot;</td><td>&quot;Na pomurski avtocesti je med D…</td><td>&quot;Dela&quot;</td><td>&quot;Regionalna cesta Javornik - Go…</td><td>&quot;&quot;</td><td>&quot;&quot;</td><td>&quot;&quot;</td><td>&quot;Čakalna doba je na mejnih preh…</td><td>&quot;&quot;</td><td>&quot;&quot;</td><td>&quot;2022-02-02 18:01:44&quot;</td></tr><tr><td>3717</td><td>&quot;e3ae3917-44fc-5dfb-a995-deff2f…</td><td>&quot;2022-02-02&quot;</td><td>&quot;18:10:11&quot;</td><td>&quot;NULL&quot;</td><td>&quot;&lt;p&gt;&lt;strong&gt;Zastoji&lt;/strong&gt;&lt;/p…</td><td>&quot;NULL&quot;</td><td>&quot;&quot;</td><td>&quot;&quot;</td><td>&quot;&quot;</td><td>&quot;&quot;</td><td>&quot;&quot;</td><td>&quot;Na štajerski avtocesti od Dram…</td><td>&quot;Zimske razmere&quot;</td><td>&quot;&quot;</td><td>&quot;&quot;</td><td>&quot;&quot;</td><td>&quot;Dela&quot;</td><td>&quot;Regionalna cesta Javornik - Go…</td><td>&quot;&quot;</td><td>&quot;&quot;</td><td>&quot;&quot;</td><td>&quot;Čakalna doba je na mejnih preh…</td><td>&quot;&quot;</td><td>&quot;&quot;</td><td>&quot;2022-02-02 18:10:11&quot;</td></tr><tr><td>3718</td><td>&quot;f21339ee-2716-546d-946d-5d069a…</td><td>&quot;2022-02-02&quot;</td><td>&quot;18:21:05&quot;</td><td>&quot;NULL&quot;</td><td>&quot;&lt;p&gt;&lt;strong&gt;Zastoji&lt;/strong&gt;&lt;/p…</td><td>&quot;NULL&quot;</td><td>&quot;&quot;</td><td>&quot;&quot;</td><td>&quot;&quot;</td><td>&quot;&quot;</td><td>&quot;&quot;</td><td>&quot;Na štajerski avtocesti od Dram…</td><td>&quot;Zimske razmere&quot;</td><td>&quot;&quot;</td><td>&quot;&quot;</td><td>&quot;Na štajerski avtocesti je med …</td><td>&quot;Dela&quot;</td><td>&quot;Regionalna cesta Javornik - Go…</td><td>&quot;&quot;</td><td>&quot;&quot;</td><td>&quot;&quot;</td><td>&quot;Čakalna doba je na mejnih preh…</td><td>&quot;&quot;</td><td>&quot;&quot;</td><td>&quot;2022-02-02 18:21:05&quot;</td></tr><tr><td>3719</td><td>&quot;437f8c5d-d7ac-5d11-9259-fe4285…</td><td>&quot;2022-02-02&quot;</td><td>&quot;18:21:19&quot;</td><td>&quot;NULL&quot;</td><td>&quot;&lt;p&gt;&lt;strong&gt;Ovire&lt;/strong&gt;&lt;/p&gt;&lt;…</td><td>&quot;NULL&quot;</td><td>&quot;&quot;</td><td>&quot;&quot;</td><td>&quot;&quot;</td><td>&quot;&quot;</td><td>&quot;&quot;</td><td>&quot;&quot;</td><td>&quot;Zimske razmere&quot;</td><td>&quot;&quot;</td><td>&quot;&quot;</td><td>&quot;Na štajerski avtocesti je med …</td><td>&quot;Dela&quot;</td><td>&quot;Regionalna cesta Javornik - Go…</td><td>&quot;&quot;</td><td>&quot;&quot;</td><td>&quot;&quot;</td><td>&quot;Čakalna doba je na mejnih preh…</td><td>&quot;&quot;</td><td>&quot;&quot;</td><td>&quot;2022-02-02 18:21:19&quot;</td></tr><tr><td>3720</td><td>&quot;aedf07a6-5537-56c8-8bb1-d3bc89…</td><td>&quot;2022-02-02&quot;</td><td>&quot;18:27:47&quot;</td><td>&quot;NULL&quot;</td><td>&quot;&lt;p&gt;&lt;strong&gt;Mejni prehodi&lt;/stro…</td><td>&quot;NULL&quot;</td><td>&quot;&quot;</td><td>&quot;&quot;</td><td>&quot;&quot;</td><td>&quot;&quot;</td><td>&quot;&quot;</td><td>&quot;&quot;</td><td>&quot;Zimske razmere&quot;</td><td>&quot;&quot;</td><td>&quot;&quot;</td><td>&quot;&quot;</td><td>&quot;Dela&quot;</td><td>&quot;Regionalna cesta Javornik - Go…</td><td>&quot;&quot;</td><td>&quot;&quot;</td><td>&quot;&quot;</td><td>&quot;Čakalna doba je na mejnih preh…</td><td>&quot;&quot;</td><td>&quot;&quot;</td><td>&quot;2022-02-02 18:27:47&quot;</td></tr></tbody></table></div>"
      ],
      "text/plain": [
       "shape: (5, 26)\n",
       "┌───────┬────────────┬────────────┬──────────┬───┬────────────┬────────────┬───────────┬───────────┐\n",
       "│ index ┆ id         ┆ date       ┆ time     ┆ … ┆ ContentMed ┆ TitleSplos ┆ ContentSp ┆ dt        │\n",
       "│ ---   ┆ ---        ┆ ---        ┆ ---      ┆   ┆ narodneInf ┆ noSLO      ┆ losnoSLO  ┆ ---       │\n",
       "│ u32   ┆ str        ┆ str        ┆ str      ┆   ┆ ormacijeSL ┆ ---        ┆ ---       ┆ str       │\n",
       "│       ┆            ┆            ┆          ┆   ┆ …          ┆ str        ┆ str       ┆           │\n",
       "│       ┆            ┆            ┆          ┆   ┆ ---        ┆            ┆           ┆           │\n",
       "│       ┆            ┆            ┆          ┆   ┆ str        ┆            ┆           ┆           │\n",
       "╞═══════╪════════════╪════════════╪══════════╪═══╪════════════╪════════════╪═══════════╪═══════════╡\n",
       "│ 3716  ┆ aff0d3e5-5 ┆ 2022-02-02 ┆ 18:01:44 ┆ … ┆ Čakalna    ┆            ┆           ┆ 2022-02-0 │\n",
       "│       ┆ a72-5f55-b ┆            ┆          ┆   ┆ doba je na ┆            ┆           ┆ 2         │\n",
       "│       ┆ 637-03bbe2 ┆            ┆          ┆   ┆ mejnih     ┆            ┆           ┆ 18:01:44  │\n",
       "│       ┆ …          ┆            ┆          ┆   ┆ preh…      ┆            ┆           ┆           │\n",
       "│ 3717  ┆ e3ae3917-4 ┆ 2022-02-02 ┆ 18:10:11 ┆ … ┆ Čakalna    ┆            ┆           ┆ 2022-02-0 │\n",
       "│       ┆ 4fc-5dfb-a ┆            ┆          ┆   ┆ doba je na ┆            ┆           ┆ 2         │\n",
       "│       ┆ 995-deff2f ┆            ┆          ┆   ┆ mejnih     ┆            ┆           ┆ 18:10:11  │\n",
       "│       ┆ …          ┆            ┆          ┆   ┆ preh…      ┆            ┆           ┆           │\n",
       "│ 3718  ┆ f21339ee-2 ┆ 2022-02-02 ┆ 18:21:05 ┆ … ┆ Čakalna    ┆            ┆           ┆ 2022-02-0 │\n",
       "│       ┆ 716-546d-9 ┆            ┆          ┆   ┆ doba je na ┆            ┆           ┆ 2         │\n",
       "│       ┆ 46d-5d069a ┆            ┆          ┆   ┆ mejnih     ┆            ┆           ┆ 18:21:05  │\n",
       "│       ┆ …          ┆            ┆          ┆   ┆ preh…      ┆            ┆           ┆           │\n",
       "│ 3719  ┆ 437f8c5d-d ┆ 2022-02-02 ┆ 18:21:19 ┆ … ┆ Čakalna    ┆            ┆           ┆ 2022-02-0 │\n",
       "│       ┆ 7ac-5d11-9 ┆            ┆          ┆   ┆ doba je na ┆            ┆           ┆ 2         │\n",
       "│       ┆ 259-fe4285 ┆            ┆          ┆   ┆ mejnih     ┆            ┆           ┆ 18:21:19  │\n",
       "│       ┆ …          ┆            ┆          ┆   ┆ preh…      ┆            ┆           ┆           │\n",
       "│ 3720  ┆ aedf07a6-5 ┆ 2022-02-02 ┆ 18:27:47 ┆ … ┆ Čakalna    ┆            ┆           ┆ 2022-02-0 │\n",
       "│       ┆ 537-56c8-8 ┆            ┆          ┆   ┆ doba je na ┆            ┆           ┆ 2         │\n",
       "│       ┆ bb1-d3bc89 ┆            ┆          ┆   ┆ mejnih     ┆            ┆           ┆ 18:27:47  │\n",
       "│       ┆ …          ┆            ┆          ┆   ┆ preh…      ┆            ┆           ┆           │\n",
       "└───────┴────────────┴────────────┴──────────┴───┴────────────┴────────────┴───────────┴───────────┘"
      ]
     },
     "execution_count": 64,
     "metadata": {},
     "output_type": "execute_result"
    }
   ],
   "source": [
    "# previous\n",
    "start_date = \"2022-02-02\"\n",
    "start_time = \"18:00:00\"\n",
    "\n",
    "# main item\n",
    "end_date = \"2022-02-02\"\n",
    "end_time = \"18:30:00\"\n",
    "\n",
    "get_all_inputs_between(start_date, start_time, end_date, end_time)"
   ]
  }
 ],
 "metadata": {
  "kernelspec": {
   "display_name": ".venv",
   "language": "python",
   "name": "python3"
  },
  "language_info": {
   "codemirror_mode": {
    "name": "ipython",
    "version": 3
   },
   "file_extension": ".py",
   "mimetype": "text/x-python",
   "name": "python",
   "nbconvert_exporter": "python",
   "pygments_lexer": "ipython3",
   "version": "3.12.9"
  }
 },
 "nbformat": 4,
 "nbformat_minor": 2
}

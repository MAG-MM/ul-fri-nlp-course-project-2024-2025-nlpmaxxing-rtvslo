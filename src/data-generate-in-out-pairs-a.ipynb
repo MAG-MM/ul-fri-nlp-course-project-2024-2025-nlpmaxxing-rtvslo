{
 "cells": [
  {
   "cell_type": "code",
   "execution_count": 81,
   "metadata": {},
   "outputs": [],
   "source": [
    "import os\n",
    "import pandas as pd\n",
    "import re\n",
    "from datetime import datetime, timedelta\n",
    "import json\n",
    "from tqdm import tqdm"
   ]
  },
  {
   "cell_type": "code",
   "execution_count": 82,
   "metadata": {},
   "outputs": [],
   "source": [
    "inputs_path = '../data/inputs-clean2.csv'\n",
    "outputs_path = '../data/outputs.csv'"
   ]
  },
  {
   "cell_type": "code",
   "execution_count": 83,
   "metadata": {},
   "outputs": [
    {
     "name": "stderr",
     "output_type": "stream",
     "text": [
      "/tmp/ipykernel_16394/3739053914.py:2: DtypeWarning: Columns (6,8,10,14,16,20) have mixed types. Specify dtype option on import or set low_memory=False.\n",
      "  df_in = pd.read_csv(inputs_path)\n"
     ]
    },
    {
     "name": "stdout",
     "output_type": "stream",
     "text": [
      "Inputs columns: ['id', 'date', 'time', 'A1', 'B1', 'C1', 'TitlePomembnoSLO', 'ContentPomembnoSLO', 'TitleNesreceSLO', 'ContentNesreceSLO', 'TitleZastojiSLO', 'ContentZastojiSLO', 'TitleVremeSLO', 'ContentVremeSLO', 'TitleOvireSLO', 'ContentOvireSLO', 'TitleDeloNaCestiSLO', 'ContentDeloNaCestiSLO', 'TitleOpozorilaSLO', 'ContentOpozorilaSLO', 'TitleMednarodneInformacijeSLO', 'ContentMednarodneInformacijeSLO', 'TitleSplosnoSLO', 'ContentSplosnoSLO']\n",
      "Outputs columns: ['id', 'date', 'time', 'nujna', 'nova', 'programs', 'content', 'file_name', 'year', 'month']\n"
     ]
    }
   ],
   "source": [
    "# Read the CSV files\n",
    "df_in = pd.read_csv(inputs_path)\n",
    "df_out = pd.read_csv(outputs_path)\n",
    "\n",
    "print(\"Inputs columns:\", df_in.columns.tolist())\n",
    "print(\"Outputs columns:\", df_out.columns.tolist())"
   ]
  },
  {
   "cell_type": "code",
   "execution_count": 84,
   "metadata": {},
   "outputs": [
    {
     "name": "stdout",
     "output_type": "stream",
     "text": [
      "                                         id           timestamp  \\\n",
      "0      f16895dd-6f45-50da-8ce6-966d44dbe3ef 2022-01-01 06:00:00   \n",
      "1      6e542c9c-2559-5837-9c0b-23b4558fc710 2022-01-01 06:30:00   \n",
      "2      376bf2cd-fd6a-51ff-bed5-ad53a48afe66 2022-01-01 07:00:00   \n",
      "3      ba3714f5-35dc-539d-8c25-7da7f9846c64 2022-01-01 08:00:00   \n",
      "4      3db9bb19-c329-5d58-a723-0394656d6ba5 2022-01-01 08:30:00   \n",
      "...                                     ...                 ...   \n",
      "27602  4cbae69e-1ccd-5a8f-97ef-eca72102c08c 2024-12-31 16:30:00   \n",
      "27603  48a23f37-3823-532f-87e9-4656db1bba74 2024-12-31 17:00:00   \n",
      "27604  88297f19-bb71-5c66-97d8-8c10c6d2fe0b 2024-12-31 17:30:00   \n",
      "27605  c6baf039-a305-5acd-bb0d-beed3dd46ffa 2024-12-31 18:30:00   \n",
      "27606  1bc35a0f-9597-52a5-8426-a75b49045332 2024-12-31 21:00:00   \n",
      "\n",
      "                                                 content  \n",
      "0      Prometne informacije       01. 01. 2022  \\t   ...  \n",
      "1      Prometne informacije       01. 01. 2022  \\t   ...  \n",
      "2      Prometne informacije       01. 01. 2022  \\t   ...  \n",
      "3      Prometne informacije       01. 01. 2022  \\t   ...  \n",
      "4      Prometne informacije       01. 01. 2022  \\t   ...  \n",
      "...                                                  ...  \n",
      "27602  \\nPrometne informacije           31. 12. 2024 ...  \n",
      "27603  Prometne informacije           31. 12. 2024   ...  \n",
      "27604  \\nPrometne informacije           31. 12. 2024 ...  \n",
      "27605  \\nPrometne informacije           31. 12. 2024 ...  \n",
      "27606  Prometne informacije           31. 12. 2024   ...  \n",
      "\n",
      "[24905 rows x 3 columns]\n"
     ]
    }
   ],
   "source": [
    "# remove duplicate timestamps preffering NOVE prometne info\n",
    "df_out['timestamp'] = pd.to_datetime(df_out['date'] + ' ' + df_out['time'], errors='coerce')\n",
    "\n",
    "df_out['prefer_nove'] = df_out['content'].str.contains('NOVE|NOVA', case=False, na=False)\n",
    "\n",
    "df_out_sorted = df_out.sort_values(by=['timestamp', 'prefer_nove'], ascending=[True, False])\n",
    "df_out_dedup = df_out_sorted.drop_duplicates(subset='timestamp', keep='first')\n",
    "\n",
    "df_out_dedup = df_out_dedup.drop(columns=['prefer_nove'])\n",
    "\n",
    "df_out = df_out_dedup\n",
    "\n",
    "print(df_out_dedup[['id', 'timestamp', 'content']])"
   ]
  },
  {
   "cell_type": "code",
   "execution_count": 101,
   "metadata": {
    "scrolled": true
   },
   "outputs": [
    {
     "name": "stderr",
     "output_type": "stream",
     "text": [
      "\n",
      "enerating input/output pairs: 100%|█████████████████████████| 24905/24905 [00:53<00:00, 464.50it/s]"
     ]
    },
    {
     "name": "stdout",
     "output_type": "stream",
     "text": [
      "            timestamp                                              input  \\\n",
      "0 2022-01-01 06:00:00  - 01. 01. 22 05.15 :\\n\\t- **Vreme**: Ponekod p...   \n",
      "1 2022-01-01 06:30:00  - 01. 01. 22 05.33 :\\n\\t- **Vreme**: Ponekod p...   \n",
      "2 2022-01-01 07:00:00  - 01. 01. 22 06.31 :\\n\\t- **Vreme**: Ponekod p...   \n",
      "3 2022-01-01 08:00:00  - 01. 01. 22 07.21 :\\n\\t- **Vreme**: Ponekod p...   \n",
      "4 2022-01-01 08:30:00  - 01. 01. 22 08.00 :\\n\\t- **Vreme**: Ponekod p...   \n",
      "\n",
      "                                              output  nujna programs  \n",
      "0  Prometne informacije       01. 01. 2022  \\t   ...      0      1,2  \n",
      "1  Prometne informacije       01. 01. 2022  \\t   ...      0      1,2  \n",
      "2  Prometne informacije       01. 01. 2022  \\t   ...      0      1,2  \n",
      "3  Prometne informacije       01. 01. 2022  \\t   ...      0      1,3  \n",
      "4  Prometne informacije       01. 01. 2022  \\t   ...      0        2  \n"
     ]
    }
   ],
   "source": [
    "df_in['Datum'] = pd.to_datetime(df_in['date'] + ' ' + df_in['time'], errors='coerce')\n",
    "df_out['row_dt'] = pd.to_datetime(df_out['date'] + ' ' + df_out['time'], errors='coerce')\n",
    "\n",
    "title_content_cols = [\n",
    "    'TitlePomembnoSLO', 'ContentPomembnoSLO',\n",
    "    'TitleNesreceSLO', 'ContentNesreceSLO',\n",
    "    'TitleZastojiSLO', 'ContentZastojiSLO',\n",
    "    'TitleVremeSLO', 'ContentVremeSLO',\n",
    "    'TitleOvireSLO', 'ContentOvireSLO',\n",
    "    'TitleDeloNaCestiSLO', 'ContentDeloNaCestiSLO',\n",
    "    'TitleOpozorilaSLO', 'ContentOpozorilaSLO',\n",
    "    'TitleMednarodneInformacijeSLO', 'ContentMednarodneInformacijeSLO',\n",
    "    'TitleSplosnoSLO', 'ContentSplosnoSLO'\n",
    "]\n",
    "\n",
    "def format_input_row(row):\n",
    "    lines = []\n",
    "    \n",
    "    def add_spaces_to_title(title):\n",
    "        return re.sub(r'(?<!^)(?=[A-Z])', ' ', title)\n",
    "\n",
    "    for i in range(0, len(title_content_cols), 2):\n",
    "        title_col = title_content_cols[i]\n",
    "        content_col = title_content_cols[i + 1] if i + 1 < len(title_content_cols) else None\n",
    "        \n",
    "        if pd.notnull(row.get(content_col)):\n",
    "            content = str(row[content_col]).strip()\n",
    "            \n",
    "            title = title_col.replace(\"Title\", \"\").replace(\"SLO\", \"\").strip()\n",
    "            title = add_spaces_to_title(title)\n",
    "\n",
    "            if pd.notnull(row.get(title_col)) and str(row[title_col]).strip():\n",
    "                subtitle = str(row[title_col]).strip()\n",
    "                subtitle = add_spaces_to_title(subtitle)\n",
    "                title = f\"{title} ({subtitle})\"\n",
    "\n",
    "            if title and content:\n",
    "                lines.append(f\"\\t- **{title}**: {content}\")\n",
    "    \n",
    "    return \"\\n\".join(lines)\n",
    "\n",
    "\n",
    "def clean_programs(programs):\n",
    "    if isinstance(programs, str):\n",
    "        if re.match(r\"^\\d{2},\", programs):\n",
    "            return programs[3:]\n",
    "    return programs\n",
    "\n",
    "    \n",
    "def generate_input_output_pair(ix):\n",
    "    row = df_out.loc[ix]\n",
    "    row_dt = row['row_dt']\n",
    "\n",
    "    # Adjust the time window as needed\n",
    "    start_window = row_dt - timedelta(hours=1)\n",
    "    end_window = row_dt - timedelta(minutes=1)\n",
    "\n",
    "    df_in_window = df_in[(df_in['Datum'] >= start_window) & (df_in['Datum'] < end_window)].copy()\n",
    "    df_in_window = df_in_window.sort_values(by='Datum')\n",
    "\n",
    "    input_texts = []\n",
    "    for _, input_row in df_in_window.iterrows():\n",
    "        formatted_block = format_input_row(input_row)\n",
    "        if formatted_block.strip():\n",
    "            timestamp_str = input_row['Datum'].strftime('%d. %m. %y %H.%M')\n",
    "            input_texts.append(f\"- {timestamp_str} :\\n{formatted_block}\")\n",
    "\n",
    "    combined_input = \"\\n\\n\".join(input_texts)\n",
    "\n",
    "    return {\n",
    "        'timestamp': row_dt,\n",
    "        'input': combined_input,\n",
    "        'output': row['content'],\n",
    "        'nujna': row['nujna'],\n",
    "        'programs': clean_programs(row['programs']),\n",
    "    }\n",
    "\n",
    "input_output_df = pd.DataFrame([\n",
    "    generate_input_output_pair(ix) for ix in tqdm(df_out.index, desc=\"Generating input/output pairs\")\n",
    "])\n",
    "\n",
    "# Preview\n",
    "print(input_output_df.head())"
   ]
  },
  {
   "cell_type": "code",
   "execution_count": 102,
   "metadata": {},
   "outputs": [
    {
     "name": "stdout",
     "output_type": "stream",
     "text": [
      "=== Timestamp ===\n",
      "2022-01-03 06:30:00\n",
      "\n",
      "=== Programs ===\n",
      "1,2\n",
      "\n",
      "=== Input ===\n",
      "- 03. 01. 22 05.30 :\n",
      "\t- **Zastoji**: Zastoj je na cesti Pijava Gorica - Škofljica.\n",
      "\t- **Vreme**: Megla v pasovih ponekod po Sloveniji zmanjšuje vidljivost.\n",
      "\t- **Opozorila (Omejitve za tovorna vozila)**: Od 30. decembra je v veljavi sprememba omejitve za tovorna vozila nad 7,5 ton. Več.\n",
      "\t- **Mednarodne Informacije**: Čakalna doba je na Gruškovju.\n",
      "\n",
      "- 03. 01. 22 05.36 :\n",
      "\t- **Zastoji**: Na dolenjski avtocesti od Grosuplja proti Ljubljani. Na cesti Pijava Gorica - Škofljica.\n",
      "\t- **Vreme**: Megla v pasovih ponekod po Sloveniji zmanjšuje vidljivost.\n",
      "\t- **Opozorila (Omejitve za tovorna vozila)**: Od 30. decembra je v veljavi sprememba omejitve za tovorna vozila nad 7,5 ton. Več.\n",
      "\t- **Mednarodne Informacije**: Čakalna doba je na Gruškovju.\n",
      "\n",
      "- 03. 01. 22 05.45 :\n",
      "\t- **Zastoji**: Na dolenjski avtocesti od Grosuplja proti Ljubljani. Na cesti Pijava Gorica - Škofljica.\n",
      "\t- **Vreme**: Megla v pasovih ponekod po Sloveniji zmanjšuje vidljivost.\n",
      "\t- **Ovire**: Na podravski avtocesti vozite previdno v okolici priključka Zakl. Po cestišču teka pes.\n",
      "\t- **Opozorila (Omejitve za tovorna vozila)**: Od 30. decembra je v veljavi sprememba omejitve za tovorna vozila nad 7,5 ton. Več.\n",
      "\t- **Mednarodne Informacije**: Čakalna doba je na Gruškovju.\n",
      "\n",
      "- 03. 01. 22 06.12 :\n",
      "\t- **Vreme**: Megla v pasovih ponekod po Sloveniji zmanjšuje vidljivost.\n",
      "\t- **Ovire**: Na podravski avtocesti vozite previdno v okolici priključka Zakl. Po cestišču teka pes.\n",
      "\t- **Opozorila (Omejitve za tovorna vozila)**: Od 30. decembra je v veljavi sprememba omejitve za tovorna vozila nad 7,5 ton. Več.\n",
      "\t- **Mednarodne Informacije**: Čakalna doba je na Gruškovju.\n",
      "\n",
      "=== Output ===\n",
      "Prometne informacije       03. 01. 2022  \t   06.30        1. in 2. program \n",
      "\n",
      "Podatki o prometu.\n",
      "Zaradi del je na vzhodni mariborski obvoznici proti Avstriji zaprt prehitevalni pas med razcepom Dragučova in krožiščem Pesnica. \n",
      "\n",
      "Na mejnem prehodu Gruškovje vozniki tovornih vozil na vstop v Slovenijo čakajo približno 2 uri. \n",
      "\n"
     ]
    }
   ],
   "source": [
    "example = input_output_df[input_output_df['nujna'] == False].iloc[48]\n",
    "\n",
    "print(\"=== Timestamp ===\")\n",
    "print(example['timestamp'])\n",
    "\n",
    "print(\"\\n=== Programs ===\")\n",
    "print(example['programs'])\n",
    "\n",
    "print(\"\\n=== Input ===\")\n",
    "print(example['input'])\n",
    "\n",
    "print(\"\\n=== Output ===\")\n",
    "print(example['output'])"
   ]
  },
  {
   "cell_type": "code",
   "execution_count": 103,
   "metadata": {},
   "outputs": [
    {
     "name": "stdout",
     "output_type": "stream",
     "text": [
      "Train set size: 22310 records\n",
      "Test set size: 2595 records\n"
     ]
    }
   ],
   "source": [
    "latest_timestamp = input_output_df['timestamp'].max()\n",
    "\n",
    "cutoff_timestamp = latest_timestamp - pd.DateOffset(months=4)\n",
    "\n",
    "train_input_output_df = input_output_df[input_output_df['timestamp'] < cutoff_timestamp]\n",
    "test_input_output_df = input_output_df[input_output_df['timestamp'] >= cutoff_timestamp]\n",
    "\n",
    "print(f\"Train set size: {len(train_input_output_df)} records\")\n",
    "print(f\"Test set size: {len(test_input_output_df)} records\")"
   ]
  },
  {
   "cell_type": "code",
   "execution_count": 104,
   "metadata": {},
   "outputs": [],
   "source": [
    "train_input_output_df.to_csv(\"../data/trainset.csv\", index=False)\n",
    "test_input_output_df.to_csv(\"../data/testset.csv\", index=False)"
   ]
  },
  {
   "cell_type": "code",
   "execution_count": 105,
   "metadata": {
    "scrolled": true
   },
   "outputs": [
    {
     "name": "stdout",
     "output_type": "stream",
     "text": [
      "Empty counts:\n",
      "{'input': np.int64(465), 'output': np.int64(0), 'timestamp': np.int64(0)}\n",
      "Timestamps of rows with empty input:\n",
      "                timestamp\n",
      "22369 2024-09-03 18:30:00\n",
      "22456 2024-09-08 07:00:00\n",
      "22545 2024-09-11 21:00:00\n",
      "22641 2024-09-16 11:30:00\n",
      "22811 2024-09-24 17:30:00\n",
      "...                   ...\n",
      "24888 2024-12-31 08:30:00\n",
      "24889 2024-12-31 09:00:00\n",
      "24890 2024-12-31 09:30:00\n",
      "24896 2024-12-31 12:30:00\n",
      "24897 2024-12-31 13:00:00\n",
      "\n",
      "[71 rows x 1 columns]\n",
      "\n",
      "--- Example 1 ---\n",
      "\n",
      "- 31. 08. 24 21.27 :\n",
      "\t- **Zastoji**: Na gorenjski avtocesti pred predorom Karavanke proti Avstriji, 1 km.Na štajerski avtocesti pred prehodom Šentilj proti Avstriji, 1 km.\n",
      "\t- **Ovire**: Na gorenjski avtocesti je zaradi okvare vozila zaprt prehitevalni pas pred izvozom Jesenice vzhod v smeri Karavank.\n",
      "\t- **Delo Na Cesti**: V ponedeljek, 2. 9., med 14.30 in 20.30, bo promet skozi predor Karavanke potekal izmenično enosmerno s čakanjem pred predorom.Cesta Litija - Zagorje danes ne bo zaprta pri Šklendrovcu.Cesta Ljubljana - Ig bo od nedelje, 1. 9., od 6. ure, do ponedeljka, 2. 9., do 4. ure, zaprta v križišču Ižanske ceste, Peruzzijeve ulice in Črne vasi, zaradi asfaltiranja.Več o delovnih zaporah v prometni napovedi.\n",
      "\t- **Mednarodne Informacije (Prireditve)**: Cesta Ilirska Bistrica - Knežak - Pivka bo med Šembijami in Gabrjem zaprta v nedeljo, 1. 9., med 6. in 24. uro.Ostale prireditve.\n",
      "\n",
      "- 31. 08. 24 21.39 :\n",
      "\t- **Zastoji**: Na gorenjski avtocesti pred predorom Karavanke proti Avstriji, 1 km.Na štajerski avtocesti pred prehodom Šentilj proti Avstriji, 1 km.\n",
      "\t- **Ovire**: Na gorenjski avtocesti je zaradi okvare vozila zaprt prehitevalni pas pred izvozom Jesenice vzhod v smeri Karavank.Na gorenjski avtocesti  je zaradi okvare vozila oviran promet med Šentvidom in Podutikom v smeri Kosez.\n",
      "\t- **Delo Na Cesti**: V ponedeljek, 2. 9., med 14.30 in 20.30, bo promet skozi predor Karavanke potekal izmenično enosmerno s čakanjem pred predorom.Cesta Litija - Zagorje danes ne bo zaprta pri Šklendrovcu.Cesta Ljubljana - Ig bo od nedelje, 1. 9., od 6. ure, do ponedeljka, 2. 9., do 4. ure, zaprta v križišču Ižanske ceste, Peruzzijeve ulice in Črne vasi, zaradi asfaltiranja.Več o delovnih zaporah v prometni napovedi.\n",
      "\t- **Mednarodne Informacije (Prireditve)**: Cesta Ilirska Bistrica - Knežak - Pivka bo med Šembijami in Gabrjem zaprta v nedeljo, 1. 9., med 6. in 24. uro.Ostale prireditve.\n",
      "\n",
      "--- Example 2 ---\n",
      "\n",
      "- 01. 09. 24 05.32 :\n",
      "\t- **Ovire**: Na štajerski avtocesti je zaradi živali na vozišču zaprt vozni pas v delovni zapori med Framom in počivališčem Polskava proti Ljubljani.Na dolenjski avtocesti je zaradi okvare vozila zaprt počasni pas med Višnjo Goro in Grosupljem proti Ljubljani.Na ljubljanski vzhodni obvoznici je zaradi okvare vozila zaprt počasni pas med pokritim vkopom Strmec in predorom Golovec proti Malencam.\n",
      "\t- **Delo Na Cesti**: V ponedeljek, 2. 9., med 14.30 in 20.30, bo promet skozi predor Karavanke potekal izmenično enosmerno s čakanjem pred predorom.Cesta Ljubljana - Ig bo do ponedeljka, 2. 9., do 4. ure, zaprta v križišču Ižanske ceste, Peruzzijeve ulice in Črne vasi, zaradi asfaltiranja.Več o delovnih zaporah v prometni napovedi.\n",
      "\t- **Mednarodne Informacije (Prireditve)**: Cesta Ilirska Bistrica - Knežak - Pivka bo med Šembijami in Gabrjem zaprta danes do polnoči.Ostale prireditve.\n",
      "\t- **Splosno (Tovorna vozila)**: Med 8. in 22. uro bo veljala omejitev prometa tovornih vozil, katerih največja dovoljena masa presega 7,5 tone.\n",
      "\n",
      "- 01. 09. 24 05.35 :\n",
      "\t- **Ovire**: Na štajerski avtocesti je zaradi živali na vozišču zaprt vozni pas v delovni zapori med Framom in počivališčem Polskava proti Ljubljani.Na dolenjski avtocesti je zaradi okvare vozila zaprt počasni pas med Višnjo Goro in Grosupljem proti Ljubljani.Na gorenjski avtocesti je zaradi okvare vozila oviran promet pred Naklim proti LJubljani.\n",
      "\t- **Delo Na Cesti**: V ponedeljek, 2. 9., med 14.30 in 20.30, bo promet skozi predor Karavanke potekal izmenično enosmerno s čakanjem pred predorom.Cesta Ljubljana - Ig bo do ponedeljka, 2. 9., do 4. ure, zaprta v križišču Ižanske ceste, Peruzzijeve ulice in Črne vasi, zaradi asfaltiranja.Več o delovnih zaporah v prometni napovedi.\n",
      "\t- **Mednarodne Informacije (Prireditve)**: Cesta Ilirska Bistrica - Knežak - Pivka bo med Šembijami in Gabrjem zaprta danes do polnoči.Ostale prireditve.\n",
      "\t- **Splosno (Tovorna vozila)**: Med 8. in 22. uro bo veljala omejitev prometa tovornih vozil, katerih največja dovoljena masa presega 7,5 tone.\n",
      "\n",
      "- 01. 09. 24 05.38 :\n",
      "\t- **Ovire**: Na štajerski avtocesti je zaradi živali na vozišču zaprt vozni pas v delovni zapori med Framom in počivališčem Polskava proti Ljubljani.Na gorenjski avtocesti je zaradi okvare vozila oviran promet pred Naklim proti LJubljani.\n",
      "\t- **Delo Na Cesti**: V ponedeljek, 2. 9., med 14.30 in 20.30, bo promet skozi predor Karavanke potekal izmenično enosmerno s čakanjem pred predorom.Cesta Ljubljana - Ig bo do ponedeljka, 2. 9., do 4. ure, zaprta v križišču Ižanske ceste, Peruzzijeve ulice in Črne vasi, zaradi asfaltiranja.Več o delovnih zaporah v prometni napovedi.\n",
      "\t- **Mednarodne Informacije (Prireditve)**: Cesta Ilirska Bistrica - Knežak - Pivka bo med Šembijami in Gabrjem zaprta danes do polnoči.Ostale prireditve.\n",
      "\t- **Splosno (Tovorna vozila)**: Med 8. in 22. uro bo veljala omejitev prometa tovornih vozil, katerih največja dovoljena masa presega 7,5 tone.\n",
      "\n",
      "- 01. 09. 24 05.40 :\n",
      "\t- **Ovire**: Na štajerski avtocesti je zaradi živali na vozišču oviran promet v delovni zapori med Framom in počivališčem Polskava proti Ljubljani.Na gorenjski avtocesti je zaradi okvare vozila oviran promet pred Naklim proti LJubljani.\n",
      "\t- **Delo Na Cesti**: V ponedeljek, 2. 9., med 14.30 in 20.30, bo promet skozi predor Karavanke potekal izmenično enosmerno s čakanjem pred predorom.Cesta Ljubljana - Ig bo do ponedeljka, 2. 9., do 4. ure, zaprta v križišču Ižanske ceste, Peruzzijeve ulice in Črne vasi, zaradi asfaltiranja.Več o delovnih zaporah v prometni napovedi.\n",
      "\t- **Mednarodne Informacije (Prireditve)**: Cesta Ilirska Bistrica - Knežak - Pivka bo med Šembijami in Gabrjem zaprta danes do polnoči.Ostale prireditve.\n",
      "\t- **Splosno (Tovorna vozila)**: Med 8. in 22. uro bo veljala omejitev prometa tovornih vozil, katerih največja dovoljena masa presega 7,5 tone.\n",
      "\n",
      "- 01. 09. 24 05.54 :\n",
      "\t- **Ovire**: Na gorenjski avtocesti je zaradi okvare vozila oviran promet pred Naklim proti LJubljani.\n",
      "\t- **Delo Na Cesti**: V ponedeljek, 2. 9., med 14.30 in 20.30, bo promet skozi predor Karavanke potekal izmenično enosmerno s čakanjem pred predorom.Cesta Ljubljana - Ig bo do ponedeljka, 2. 9., do 4. ure, zaprta v križišču Ižanske ceste, Peruzzijeve ulice in Črne vasi, zaradi asfaltiranja.Več o delovnih zaporah v prometni napovedi.\n",
      "\t- **Mednarodne Informacije (Prireditve)**: Cesta Ilirska Bistrica - Knežak - Pivka bo med Šembijami in Gabrjem zaprta danes do polnoči.Ostale prireditve.\n",
      "\t- **Splosno (Tovorna vozila)**: Med 8. in 22. uro bo veljala omejitev prometa tovornih vozil, katerih največja dovoljena masa presega 7,5 tone.\n",
      "\n",
      "- 01. 09. 24 06.18 :\n",
      "\t- **Ovire**: Na gorenjski avtocesti je zaradi okvare vozila oviran promet pred Naklim proti LJubljani.\n",
      "\t- **Delo Na Cesti**: V ponedeljek, 2. 9., med 14.30 in 20.30, bo promet skozi predor Karavanke potekal izmenično enosmerno s čakanjem pred predorom.Cesta Ljubljana - Ig bo do ponedeljka, 2. 9., do 4. ure, zaprta v križišču Ižanske ceste, Peruzzijeve ulice in Črne vasi, zaradi asfaltiranja.Več o delovnih zaporah v prometni napovedi.\n",
      "\t- **Mednarodne Informacije (Prireditve)**: Cesta Ilirska Bistrica - Knežak - Pivka bo med Šembijami in Gabrjem zaprta danes do polnoči.Ostale prireditve.\n",
      "\t- **Splosno (Tovorna vozila)**: Danes do 22. ure velja omejitev prometa tovornih vozil, katerih največja dovoljena masa presega 7,5 tone.\n",
      "\n",
      "- 01. 09. 24 06.18 :\n",
      "\t- **Ovire**: Na gorenjski avtocesti je zaradi okvare vozila oviran promet pred Naklim proti Ljubljani.\n",
      "\t- **Delo Na Cesti**: V ponedeljek, 2. 9., med 14.30 in 20.30, bo promet skozi predor Karavanke potekal izmenično enosmerno s čakanjem pred predorom.Cesta Ljubljana - Ig bo do ponedeljka, 2. 9., do 4. ure, zaprta v križišču Ižanske ceste, Peruzzijeve ulice in Črne vasi, zaradi asfaltiranja.Več o delovnih zaporah v prometni napovedi.\n",
      "\t- **Mednarodne Informacije (Prireditve)**: Cesta Ilirska Bistrica - Knežak - Pivka bo med Šembijami in Gabrjem zaprta danes do polnoči.Ostale prireditve.\n",
      "\t- **Splosno (Tovorna vozila)**: Danes do 22. ure velja omejitev prometa tovornih vozil, katerih največja dovoljena masa presega 7,5 tone.\n",
      "\n",
      "- 01. 09. 24 06.23 :\n",
      "\t- **Ovire**: Na primorski avtocesti je zaradi okvare vozila zaprt vozni pas pred počivališčem Ravbarkomanda proti Kopru.Na gorenjski avtocesti je zaradi okvare vozila oviran promet pred Naklim proti Ljubljani.\n",
      "\t- **Delo Na Cesti**: V ponedeljek, 2. 9., med 14.30 in 20.30, bo promet skozi predor Karavanke potekal izmenično enosmerno s čakanjem pred predorom.Cesta Ljubljana - Ig bo do ponedeljka, 2. 9., do 4. ure, zaprta v križišču Ižanske ceste, Peruzzijeve ulice in Črne vasi, zaradi asfaltiranja.Več o delovnih zaporah v prometni napovedi.\n",
      "\t- **Mednarodne Informacije (Prireditve)**: Cesta Ilirska Bistrica - Knežak - Pivka bo med Šembijami in Gabrjem zaprta danes do polnoči.Ostale prireditve.\n",
      "\t- **Splosno (Tovorna vozila)**: Danes do 22. ure velja omejitev prometa tovornih vozil, katerih največja dovoljena masa presega 7,5 tone.\n"
     ]
    }
   ],
   "source": [
    "empty_counts = {\n",
    "    col: (train_input_output_df[col].astype(str).str.strip() == '').sum()\n",
    "    for col in ['input', 'output', 'timestamp']\n",
    "}\n",
    "\n",
    "print(\"Empty counts:\")\n",
    "print(empty_counts)\n",
    "\n",
    "empty_input_rows = test_input_output_df[\n",
    "    test_input_output_df['input'].astype(str).str.strip() == ''\n",
    "]\n",
    "\n",
    "print(\"Timestamps of rows with empty input:\")\n",
    "print(empty_input_rows[['timestamp']])\n",
    "\n",
    "for i in range(2):\n",
    "    print(f\"\\n--- Example {i+1} ---\\n\")\n",
    "    print(test_input_output_df['input'].dropna().iloc[i])"
   ]
  },
  {
   "cell_type": "code",
   "execution_count": null,
   "metadata": {},
   "outputs": [],
   "source": []
  }
 ],
 "metadata": {
  "kernelspec": {
   "display_name": "Python 3 (ipykernel)",
   "language": "python",
   "name": "python3"
  },
  "language_info": {
   "codemirror_mode": {
    "name": "ipython",
    "version": 3
   },
   "file_extension": ".py",
   "mimetype": "text/x-python",
   "name": "python",
   "nbconvert_exporter": "python",
   "pygments_lexer": "ipython3",
   "version": "3.13.2"
  }
 },
 "nbformat": 4,
 "nbformat_minor": 4
}

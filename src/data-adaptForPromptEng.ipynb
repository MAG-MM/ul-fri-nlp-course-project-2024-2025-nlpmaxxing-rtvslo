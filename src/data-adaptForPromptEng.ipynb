{
 "cells": [
  {
   "cell_type": "code",
   "execution_count": null,
   "id": "1ca2b88c",
   "metadata": {},
   "outputs": [
    {
     "name": "stderr",
     "output_type": "stream",
     "text": [
      "/tmp/ipykernel_9367/3627065393.py:46: DtypeWarning: Columns (15,17,19,25) have mixed types. Specify dtype option on import or set low_memory=False.\n",
      "  df = pd.read_csv(input_csv)\n"
     ]
    },
    {
     "name": "stdout",
     "output_type": "stream",
     "text": [
      "Processed 4625 groups. Saved to dataset-test-promptEng.csv.\n"
     ]
    }
   ],
   "source": [
    "import pandas as pd\n",
    "\n",
    "\n",
    "def extract_traffic_context(group):\n",
    "    traffic_entries = []\n",
    "\n",
    "    group = group.sort_values(\"datetime_input\")\n",
    "\n",
    "    for _, row in group.iterrows():\n",
    "        if pd.isna(row['datetime_input']):\n",
    "            continue\n",
    "\n",
    "        row_block = []\n",
    "        current_title = None\n",
    "\n",
    "        for col in ['A1', 'B1', 'C1']:\n",
    "            if not pd.isna(row[col]):\n",
    "                part = str(row[col])\n",
    "                lines = part.splitlines()\n",
    "\n",
    "                for line in lines:\n",
    "                    line = line.strip()\n",
    "                    if not line:\n",
    "                        continue\n",
    "\n",
    "                    word_count = len(line.split())\n",
    "\n",
    "                    if word_count < 5:\n",
    "                        current_title = f\"**{line}**\"\n",
    "                        row_block.append(f\"\\t- {current_title}:\")\n",
    "                    else:\n",
    "                        if current_title:\n",
    "                            row_block.append(f\"\\t\\t- {line}\")\n",
    "                        else:\n",
    "                            row_block.append(f\"\\t- {line}\")\n",
    "\n",
    "        if row_block:\n",
    "            traffic_entries.append(f\"- [{row['datetime_input']}]:\\n\" + \"\\n\".join(row_block))\n",
    "\n",
    "    return \"\\n\\n\".join(traffic_entries) if traffic_entries else \"No valid traffic entries.\"\n",
    "\n",
    "# Read input CSV\n",
    "input_csv = \"../data/dataset-test.csv\"  # <-- your actual input\n",
    "output_csv = \"dataset-test-promptEng.csv\"  # <-- your desired output\n",
    "\n",
    "df = pd.read_csv(input_csv)\n",
    "\n",
    "# Group by 'id_output'\n",
    "grouped = df.groupby('id_output')\n",
    "\n",
    "# Prepare list of processed rows\n",
    "processed_rows = []\n",
    "\n",
    "for id_output, group in grouped:\n",
    "    row = {}\n",
    "\n",
    "    # Columns assumed constant across group\n",
    "    row['timestamp'] = group['datetime_output'].iloc[0]\n",
    "    row['output'] = group['content'].iloc[0]\n",
    "    row['programs'] = group['programs'].iloc[0]\n",
    "    row['nujna'] = group['nujna'].iloc[0]\n",
    "    row['nova'] = group['nova'].iloc[0]\n",
    "\n",
    "    # Process 'input'\n",
    "    row['input'] = extract_traffic_context(group)\n",
    "\n",
    "    processed_rows.append(row)\n",
    "\n",
    "# Save\n",
    "processed_df = pd.DataFrame(processed_rows)\n",
    "processed_df.to_csv(output_csv, index=False)\n",
    "\n",
    "print(f\"Processed {len(processed_df)} groups. Saved to {output_csv}.\")\n"
   ]
  },
  {
   "cell_type": "code",
   "execution_count": null,
   "id": "c7126d52",
   "metadata": {},
   "outputs": [],
   "source": []
  }
 ],
 "metadata": {
  "kernelspec": {
   "display_name": "Python 3",
   "language": "python",
   "name": "python3"
  },
  "language_info": {
   "codemirror_mode": {
    "name": "ipython",
    "version": 3
   },
   "file_extension": ".py",
   "mimetype": "text/x-python",
   "name": "python",
   "nbconvert_exporter": "python",
   "pygments_lexer": "ipython3",
   "version": "3.12.10"
  }
 },
 "nbformat": 4,
 "nbformat_minor": 5
}

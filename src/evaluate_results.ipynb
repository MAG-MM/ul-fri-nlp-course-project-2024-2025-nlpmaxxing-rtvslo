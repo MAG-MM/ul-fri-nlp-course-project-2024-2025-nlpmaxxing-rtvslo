{
 "cells": [
  {
   "cell_type": "code",
   "execution_count": 39,
   "id": "initial_id",
   "metadata": {
    "ExecuteTime": {
     "end_time": "2025-05-02T13:39:11.902331Z",
     "start_time": "2025-05-02T13:39:11.246828Z"
    },
    "collapsed": true
   },
   "outputs": [],
   "source": [
    "import pandas as pd\n",
    "from scripts.testing.evaluate_reports import TrafficReportEvaluator\n",
    "import torch"
   ]
  },
  {
   "cell_type": "code",
   "execution_count": 40,
   "id": "c301bb84",
   "metadata": {},
   "outputs": [],
   "source": [
    "results_to_csv = False"
   ]
  },
  {
   "cell_type": "code",
   "execution_count": 41,
   "id": "addd425e6fd2c7e5",
   "metadata": {
    "ExecuteTime": {
     "end_time": "2025-05-02T13:39:11.903339Z",
     "start_time": "2025-05-02T13:39:11.903339Z"
    },
    "collapsed": false
   },
   "outputs": [],
   "source": [
    "# results_file = '../outputs/test-results-GaMS-2B-len1024bs2-v2-MERGED.csv'\n",
    "# results_file = '../outputs/test-results-GaMS-2B-len1024bs4-v3-MERGED.csv'\n",
    "results_file = '../outputs/test-results-GaMS-9B-len1024bs2-v3-MERGED.csv'\n",
    "# results_file = '../outputs/promptEng-results-Gemma3-12b.csv'\n",
    "\n",
    "# output_file = '../outputs/test-results-GaMS-2B-len1024bs2-v2-MERGED-eval-v1.csv'\n",
    "# output_file = '../outputs/test-results-GaMS-2B-len1024bs4-v3-MERGED-eval-v1.csv'\n",
    "output_file = '../outputs/test-results-GaMS-9B-len1024bs2-v3-MERGED-eval-v1.csv'\n",
    "# output_file = '../outputs/promptEng-results-Gemma3-12b-eval-v1.csv'"
   ]
  },
  {
   "cell_type": "code",
   "execution_count": 42,
   "id": "76c1a26ea6fc70dd",
   "metadata": {
    "ExecuteTime": {
     "start_time": "2025-05-02T13:39:11.903339Z"
    },
    "collapsed": false
   },
   "outputs": [],
   "source": [
    "df = pd.read_csv(results_file)"
   ]
  },
  {
   "cell_type": "code",
   "execution_count": 43,
   "id": "c27bc4d9d47b4618",
   "metadata": {
    "ExecuteTime": {
     "start_time": "2025-05-02T13:39:11.904339Z"
    },
    "collapsed": false
   },
   "outputs": [],
   "source": [
    "generated = df['predicted'].tolist()\n",
    "references = df['target'].tolist()"
   ]
  },
  {
   "cell_type": "code",
   "execution_count": 44,
   "id": "ea58a117dc4e63e9",
   "metadata": {
    "ExecuteTime": {
     "start_time": "2025-05-02T13:39:11.905340Z"
    },
    "collapsed": false
   },
   "outputs": [],
   "source": [
    "evaluator = TrafficReportEvaluator()\n",
    "bertscore_results = evaluator.bert_scores(generated, references)\n",
    "length_average_diff, length_results = evaluator.length_diff(generated, references)"
   ]
  },
  {
   "cell_type": "code",
   "execution_count": 45,
   "id": "1f3516b7",
   "metadata": {},
   "outputs": [],
   "source": [
    "df['bertscore f1'] = bertscore_results['bertscore_f1'].tolist()\n",
    "df['bertscore precision'] = bertscore_results['bertscore_precision'].tolist()\n",
    "df['bertscore recall'] = bertscore_results['bertscore_recall'].tolist()\n",
    "df['length_difference'] = length_results"
   ]
  },
  {
   "cell_type": "code",
   "execution_count": 46,
   "id": "8598cb7f",
   "metadata": {},
   "outputs": [],
   "source": [
    "if results_to_csv:\n",
    "    df.to_csv(output_file, index=False)\n",
    "    print(f\"Updated dataset saved to {output_file}\")"
   ]
  },
  {
   "cell_type": "code",
   "execution_count": 47,
   "id": "58358fc2",
   "metadata": {
    "ExecuteTime": {
     "start_time": "2025-05-02T13:39:11.905340Z"
    }
   },
   "outputs": [
    {
     "name": "stdout",
     "output_type": "stream",
     "text": [
      "average bertscore f1: 0.7995\n",
      "average bertscore precision: 0.8255\n",
      "average bertscore recall: 0.7756\n",
      "average length diff: 0.9336\n"
     ]
    }
   ],
   "source": [
    "print(f\"average bertscore f1: {bertscore_results['bertscore_f1_mean']:.4f}\")\n",
    "print(f\"average bertscore precision: {bertscore_results['bertscore_precision_mean']:.4f}\")\n",
    "print(f\"average bertscore recall: {bertscore_results['bertscore_recall_mean']:.4f}\")\n",
    "print(f\"average length diff: {length_average_diff:.4f}\")"
   ]
  },
  {
   "cell_type": "code",
   "execution_count": 48,
   "id": "0d6547a0",
   "metadata": {
    "ExecuteTime": {
     "start_time": "2025-05-02T13:39:11.906339Z"
    }
   },
   "outputs": [
    {
     "name": "stdout",
     "output_type": "stream",
     "text": [
      "best f1 index: 166\n",
      "worst f1 index: 131\n",
      "best f1: 0.9600473642349243\n",
      "worst f1: 0.7284034490585327\n"
     ]
    }
   ],
   "source": [
    "best_f1_index = bertscore_results['bertscore_f1'].argmax().item()\n",
    "worst_f1_index = bertscore_results['bertscore_f1'].argmin().item()\n",
    "print(f\"best f1 index: {best_f1_index}\")\n",
    "print(f\"worst f1 index: {worst_f1_index}\")\n",
    "print(f\"best f1: {bertscore_results['bertscore_f1'][best_f1_index]}\")\n",
    "print(f\"worst f1: {bertscore_results['bertscore_f1'][worst_f1_index]}\")"
   ]
  },
  {
   "cell_type": "code",
   "execution_count": 49,
   "id": "a85d1629",
   "metadata": {
    "ExecuteTime": {
     "start_time": "2025-05-02T13:39:11.906339Z"
    }
   },
   "outputs": [
    {
     "name": "stdout",
     "output_type": "stream",
     "text": [
      "BEST:\n",
      "## Traffic Report:\n",
      "Prireditve\n",
      "\n",
      "\n",
      "\n",
      "\n",
      "\n",
      " \n",
      "Na primorski avtocesti je zaradi burje med priključkoma Kastelec in Kozina zaprt vozni pas proti Ljubljani. \n",
      "\n",
      " Zaradi zimskih razmer je na cesti Col-Črni Vrh-Godovič prepovedan promet za tovorna vozila s priklopniki in polpriklopnike. \n",
      "\n",
      " Cesta čez prelaz Vršič je prevozna samo za osebna vozila z verigami.\n",
      "<eos>\n",
      "---------------------------------\n",
      "\n",
      "\n",
      " Podatki o prometu.  \n",
      "\n",
      " Zaradi burje je primorska avtocesta zaprta med priključkoma Kastelec in Kozina proti Ljubljani. Obvoz je po vzporedni regionalni cesti. \n",
      "\n",
      " Na regionalni cesti Col-Črni Vrh-Godovič je prepovedan promet za tovorna vozila s priklopniki in polpriklopnike. \n",
      "\n",
      " Cesta čez prelaz Vršič je prevozna samo za osebna vozila z verigami.\n"
     ]
    }
   ],
   "source": [
    "print(\"BEST:\")\n",
    "print(generated[best_f1_index])\n",
    "print('---------------------------------')\n",
    "print(references[best_f1_index])"
   ]
  },
  {
   "cell_type": "code",
   "execution_count": 50,
   "id": "e86ff41b",
   "metadata": {
    "ExecuteTime": {
     "start_time": "2025-05-02T13:39:11.907339Z"
    }
   },
   "outputs": [
    {
     "name": "stdout",
     "output_type": "stream",
     "text": [
      "WORST:\n",
      "## Traffic Report:\n",
      "Zimske razmere\n",
      "\n",
      " read more\n",
      "\n",
      " read more\n",
      "\n",
      " read more\n",
      "\n",
      " read more\n",
      "\n",
      " read more\n",
      "\n",
      " read more\n",
      "\n",
      " read more\n",
      "\n",
      " read more\n",
      "\n",
      " read more\n",
      "\n",
      " read more\n",
      "\n",
      " read more\n",
      "\n",
      " read more\n",
      "\n",
      " read more\n",
      "\n",
      " read more\n",
      "\n",
      " read more\n",
      "\n",
      " read more\n",
      "\n",
      " read more\n",
      "\n",
      " read more\n",
      "\n",
      " read more\n",
      "\n",
      " read more\n",
      "\n",
      " read more\n",
      "\n",
      " read more\n",
      "\n",
      " read more\n",
      "\n",
      " read more\n",
      "\n",
      " read more\n",
      "\n",
      " read more\n",
      "\n",
      " read more\n",
      "\n",
      " read more\n",
      "\n",
      " read more\n",
      "\n",
      " read more\n",
      "\n",
      " read more\n",
      "\n",
      " read more\n",
      "\n",
      " read more\n",
      "\n",
      " read more\n",
      "\n",
      " read more\n",
      "\n",
      " read more\n",
      "\n",
      " read more\n",
      "\n",
      " read more\n",
      "\n",
      " read more\n",
      "\n",
      " read more\n",
      "\n",
      " read more\n",
      "\n",
      " read more\n",
      "\n",
      " read more\n",
      "\n",
      " read more\n",
      "\n",
      " read more\n",
      "\n",
      " read more\n",
      "\n",
      " read more\n",
      "\n",
      " read more\n",
      "\n",
      " read more\n",
      "\n",
      " read more\n",
      "\n",
      " read more\n",
      "\n",
      " read more\n",
      "\n",
      " read more\n",
      "\n",
      " read more\n",
      "\n",
      " read more\n",
      "\n",
      " read more\n",
      "\n",
      " read more\n",
      "\n",
      " read more\n",
      "\n",
      " read more\n",
      "\n",
      " read more\n",
      "\n",
      " read more\n",
      "\n",
      " read more\n",
      "\n",
      " read more\n",
      "\n",
      " read more\n",
      "\n",
      " read more\n",
      "\n",
      " read more\n",
      "\n",
      " read more\n",
      "\n",
      " read more\n",
      "\n",
      " read more\n",
      "\n",
      " read more\n",
      "\n",
      " read more\n",
      "\n",
      " read more\n",
      "\n",
      " read more\n",
      "\n",
      " read more\n",
      "\n",
      " read more\n",
      "\n",
      " read more\n",
      "\n",
      " read more\n",
      "\n",
      " read more\n",
      "\n",
      " read more\n",
      "\n",
      " read more\n",
      "\n",
      " read more\n",
      "\n",
      " read more\n",
      "\n",
      " read more\n",
      "\n",
      " read\n",
      "---------------------------------\n",
      "\n",
      "\n",
      " Podatki o prometu. \n",
      "\n",
      " Zaradi nesreče je na zahodni ljubljanski obvoznici na razcepu Koseze zaprt prehitevalni pas iz smeri Brda proti Bežigradu. Opozarjamo na nevarnost naleta. \n",
      "\n",
      " Na dolenjski avtocesti je zaradi pokvarjenega vozila oviran promet med priključkoma Grosuplje-vzhod in Višnja Gora proti Obrežju ter med priključkoma Dobruška vas in Kronovo proti Ljubljani.\n",
      "Med priključkom Drnovo in počivališčem Čatež pa promet proti Obrežju ni več oviran zaradi nesreče. Tudi zastoja tam ni več. \n",
      "\n",
      " Na regionalni cesti Col-Črni Vrh-Godovič je prepovedan promet za tovorna vozila s priklopniki in za polpriklopnike. \n",
      "\n",
      " Cesta čez prelaz Vršič je prevozna samo za osebna vozila z verigami. \n",
      "\n",
      " Jutri in v četrtek zaradi praznikov od 8-ih do 22-ih velja omejitev prometa tovornih vozil, težjih od 7-ih ton in pol. \n",
      "\n",
      " \n"
     ]
    }
   ],
   "source": [
    "print(\"WORST:\")\n",
    "print(generated[worst_f1_index])\n",
    "print('---------------------------------')\n",
    "print(references[worst_f1_index])"
   ]
  }
 ],
 "metadata": {
  "kernelspec": {
   "display_name": ".venv",
   "language": "python",
   "name": "python3"
  },
  "language_info": {
   "codemirror_mode": {
    "name": "ipython",
    "version": 3
   },
   "file_extension": ".py",
   "mimetype": "text/x-python",
   "name": "python",
   "nbconvert_exporter": "python",
   "pygments_lexer": "ipython3",
   "version": "3.12.2"
  }
 },
 "nbformat": 4,
 "nbformat_minor": 5
}

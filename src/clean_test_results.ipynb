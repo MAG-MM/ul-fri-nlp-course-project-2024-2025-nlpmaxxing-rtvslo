{
 "cells": [
  {
   "cell_type": "code",
   "execution_count": 58,
   "id": "3f3e90f1",
   "metadata": {},
   "outputs": [],
   "source": [
    "import polars as pl\n",
    "\n",
    "df_9B = pl.read_csv(\"../test/test-results-GaMS-9B-Instruct-v5-2048-MERGED.csv\")\n",
    "df_2B = pl.read_csv(\"../test/test-results-GaMS-2B-Instruct-v5-hash-4096-MERGED.csv\")"
   ]
  },
  {
   "cell_type": "code",
   "execution_count": 59,
   "id": "2b549aa8",
   "metadata": {},
   "outputs": [],
   "source": [
    "def clean_output(text):\n",
    "    parts = text.split(\"<start_of_turn>model\")\n",
    "\n",
    "    if len(parts) != 2:\n",
    "        return \"BAD OUTPUT\"\n",
    "    \n",
    "    out = parts[1].strip()\n",
    "\n",
    "    out = out.replace(\"## Traffic Report:\", \"\")\n",
    "    out = out.replace(\"<end_of_turn>\", \"\")\n",
    "    out = out.replace(\"<eos>\", \"\")\n",
    "\n",
    "    return out.strip()"
   ]
  },
  {
   "cell_type": "code",
   "execution_count": 60,
   "id": "0a53e102",
   "metadata": {},
   "outputs": [],
   "source": [
    "df_9B = df_9B.rename({\"predicted\": \"raw_output\"})\n",
    "\n",
    "df_2B = df_2B.rename({\"predicted\": \"raw_output\"})"
   ]
  },
  {
   "cell_type": "code",
   "execution_count": 61,
   "id": "23e097fb",
   "metadata": {},
   "outputs": [],
   "source": [
    "df_9B = df_9B.with_columns([\n",
    "    (pl.col(\"raw_output\").map_elements(lambda x: clean_output(x), return_dtype=pl.String).alias('predicted')),\n",
    "])\n",
    "\n",
    "df_2B = df_2B.with_columns([\n",
    "    (pl.col(\"raw_output\").map_elements(lambda x: clean_output(x), return_dtype=pl.String).alias('predicted')),\n",
    "])"
   ]
  },
  {
   "cell_type": "code",
   "execution_count": 62,
   "id": "1e013743",
   "metadata": {},
   "outputs": [],
   "source": [
    "df_9B = df_9B.drop(\"raw_output\")\n",
    "\n",
    "df_2B = df_2B.drop(\"raw_output\")"
   ]
  },
  {
   "cell_type": "code",
   "execution_count": 63,
   "id": "2615e04a",
   "metadata": {},
   "outputs": [],
   "source": [
    "df_9B.write_csv(\"../test/test-results-GaMS-9B-Instruct-v5-2048-FINAL.csv\")\n",
    "\n",
    "df_2B.write_csv(\"../test/test-results-GaMS-2B-Instruct-v5-hash-4096-FINAL.csv\")"
   ]
  }
 ],
 "metadata": {
  "kernelspec": {
   "display_name": ".venv",
   "language": "python",
   "name": "python3"
  },
  "language_info": {
   "codemirror_mode": {
    "name": "ipython",
    "version": 3
   },
   "file_extension": ".py",
   "mimetype": "text/x-python",
   "name": "python",
   "nbconvert_exporter": "python",
   "pygments_lexer": "ipython3",
   "version": "3.12.9"
  }
 },
 "nbformat": 4,
 "nbformat_minor": 5
}

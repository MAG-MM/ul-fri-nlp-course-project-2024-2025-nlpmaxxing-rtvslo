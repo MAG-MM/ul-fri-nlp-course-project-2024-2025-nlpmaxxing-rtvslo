{
 "cells": [
  {
   "cell_type": "code",
   "execution_count": 165,
   "metadata": {},
   "outputs": [],
   "source": [
    "import polars as pl"
   ]
  },
  {
   "cell_type": "code",
   "execution_count": 166,
   "metadata": {},
   "outputs": [
    {
     "name": "stderr",
     "output_type": "stream",
     "text": [
      "Could not determine dtype for column 5, falling back to string\n",
      "Could not determine dtype for column 6, falling back to string\n",
      "Could not determine dtype for column 7, falling back to string\n",
      "Could not determine dtype for column 8, falling back to string\n",
      "Could not determine dtype for column 9, falling back to string\n",
      "Could not determine dtype for column 11, falling back to string\n",
      "Could not determine dtype for column 13, falling back to string\n",
      "Could not determine dtype for column 15, falling back to string\n",
      "Could not determine dtype for column 17, falling back to string\n",
      "Could not determine dtype for column 23, falling back to string\n",
      "Could not determine dtype for column 25, falling back to string\n",
      "Could not determine dtype for column 26, falling back to string\n"
     ]
    }
   ],
   "source": [
    "df = pl.read_excel(\"../data/raw/Podatki - PrometnoPorocilo_2022_2023_2024.xlsx\")"
   ]
  },
  {
   "cell_type": "code",
   "execution_count": 167,
   "metadata": {},
   "outputs": [
    {
     "data": {
      "text/html": [
       "<div><style>\n",
       ".dataframe > thead > tr,\n",
       ".dataframe > tbody > tr {\n",
       "  text-align: right;\n",
       "  white-space: pre-wrap;\n",
       "}\n",
       "</style>\n",
       "<small>shape: (9, 28)</small><table border=\"1\" class=\"dataframe\"><thead><tr><th>statistic</th><th>LegacyId</th><th>Datum</th><th>Operater</th><th>A1</th><th>B1</th><th>C1</th><th>A2</th><th>B2</th><th>C2</th><th>TitlePomembnoSLO</th><th>ContentPomembnoSLO</th><th>TitleNesreceSLO</th><th>ContentNesreceSLO</th><th>TitleZastojiSLO</th><th>ContentZastojiSLO</th><th>TitleVremeSLO</th><th>ContentVremeSLO</th><th>TitleOvireSLO</th><th>ContentOvireSLO</th><th>TitleDeloNaCestiSLO</th><th>ContentDeloNaCestiSLO</th><th>TitleOpozorilaSLO</th><th>ContentOpozorilaSLO</th><th>TitleMednarodneInformacijeSLO</th><th>ContentMednarodneInformacijeSLO</th><th>TitleSplosnoSLO</th><th>ContentSplosnoSLO</th></tr><tr><td>str</td><td>f64</td><td>str</td><td>str</td><td>str</td><td>str</td><td>str</td><td>str</td><td>str</td><td>str</td><td>str</td><td>str</td><td>str</td><td>str</td><td>str</td><td>str</td><td>str</td><td>str</td><td>str</td><td>str</td><td>str</td><td>str</td><td>str</td><td>str</td><td>str</td><td>str</td><td>str</td><td>str</td></tr></thead><tbody><tr><td>&quot;count&quot;</td><td>55001.0</td><td>&quot;55001&quot;</td><td>&quot;55001&quot;</td><td>&quot;55001&quot;</td><td>&quot;55001&quot;</td><td>&quot;55001&quot;</td><td>&quot;54867&quot;</td><td>&quot;55001&quot;</td><td>&quot;55001&quot;</td><td>&quot;54867&quot;</td><td>&quot;54873&quot;</td><td>&quot;54867&quot;</td><td>&quot;54895&quot;</td><td>&quot;54867&quot;</td><td>&quot;54867&quot;</td><td>&quot;54867&quot;</td><td>&quot;55001&quot;</td><td>&quot;54867&quot;</td><td>&quot;54943&quot;</td><td>&quot;54867&quot;</td><td>&quot;55001&quot;</td><td>&quot;54867&quot;</td><td>&quot;55001&quot;</td><td>&quot;55001&quot;</td><td>&quot;54867&quot;</td><td>&quot;55001&quot;</td><td>&quot;55001&quot;</td></tr><tr><td>&quot;null_count&quot;</td><td>0.0</td><td>&quot;0&quot;</td><td>&quot;0&quot;</td><td>&quot;0&quot;</td><td>&quot;0&quot;</td><td>&quot;0&quot;</td><td>&quot;134&quot;</td><td>&quot;0&quot;</td><td>&quot;0&quot;</td><td>&quot;134&quot;</td><td>&quot;128&quot;</td><td>&quot;134&quot;</td><td>&quot;106&quot;</td><td>&quot;134&quot;</td><td>&quot;134&quot;</td><td>&quot;134&quot;</td><td>&quot;0&quot;</td><td>&quot;134&quot;</td><td>&quot;58&quot;</td><td>&quot;134&quot;</td><td>&quot;0&quot;</td><td>&quot;134&quot;</td><td>&quot;0&quot;</td><td>&quot;0&quot;</td><td>&quot;134&quot;</td><td>&quot;0&quot;</td><td>&quot;0&quot;</td></tr><tr><td>&quot;mean&quot;</td><td>1.3270e6</td><td>&quot;2022-07-04 07:43:10.201000&quot;</td><td>null</td><td>null</td><td>null</td><td>null</td><td>null</td><td>null</td><td>null</td><td>null</td><td>null</td><td>null</td><td>null</td><td>null</td><td>null</td><td>null</td><td>null</td><td>null</td><td>null</td><td>null</td><td>null</td><td>null</td><td>null</td><td>null</td><td>null</td><td>null</td><td>null</td></tr><tr><td>&quot;std&quot;</td><td>22141.727651</td><td>null</td><td>null</td><td>null</td><td>null</td><td>null</td><td>null</td><td>null</td><td>null</td><td>null</td><td>null</td><td>null</td><td>null</td><td>null</td><td>null</td><td>null</td><td>null</td><td>null</td><td>null</td><td>null</td><td>null</td><td>null</td><td>null</td><td>null</td><td>null</td><td>null</td><td>null</td></tr><tr><td>&quot;min&quot;</td><td>1.283516e6</td><td>&quot;2022-01-01 00:07:07&quot;</td><td>&quot; DARS Janko Poženel, GNC&quot;</td><td>&quot;&lt;p&gt;&lt;strong&gt;Dela bodo opravili …</td><td>&quot;&lt;p&gt;&lt;strong&gt;&lt;/strong&gt;&lt;/p&gt;&lt;p&gt;Dan…</td><td>&quot;NULL&quot;</td><td>&quot;&quot;</td><td>&quot;&quot;</td><td>&quot;&quot;</td><td>&quot;&quot;</td><td>&quot;&quot;</td><td>&quot;&quot;</td><td>&quot;&quot;</td><td>&quot;&quot;</td><td>&quot;&quot;</td><td>&quot;&quot;</td><td>&quot;&quot;</td><td>&quot;&quot;</td><td>&quot;&quot;</td><td>&quot;&quot;</td><td>&quot;&quot;</td><td>&quot;&quot;</td><td>&quot;&quot;</td><td>&quot;&quot;</td><td>&quot;&quot;</td><td>&quot;&quot;</td><td>&quot;&quot;</td></tr><tr><td>&quot;25%&quot;</td><td>1.317258e6</td><td>&quot;2022-04-17 09:09:33&quot;</td><td>null</td><td>null</td><td>null</td><td>null</td><td>null</td><td>null</td><td>null</td><td>null</td><td>null</td><td>null</td><td>null</td><td>null</td><td>null</td><td>null</td><td>null</td><td>null</td><td>null</td><td>null</td><td>null</td><td>null</td><td>null</td><td>null</td><td>null</td><td>null</td><td>null</td></tr><tr><td>&quot;50%&quot;</td><td>1.331008e6</td><td>&quot;2022-07-06 16:04:33&quot;</td><td>null</td><td>null</td><td>null</td><td>null</td><td>null</td><td>null</td><td>null</td><td>null</td><td>null</td><td>null</td><td>null</td><td>null</td><td>null</td><td>null</td><td>null</td><td>null</td><td>null</td><td>null</td><td>null</td><td>null</td><td>null</td><td>null</td><td>null</td><td>null</td><td>null</td></tr><tr><td>&quot;75%&quot;</td><td>1.344758e6</td><td>&quot;2022-09-19 05:33:45&quot;</td><td>null</td><td>null</td><td>null</td><td>null</td><td>null</td><td>null</td><td>null</td><td>null</td><td>null</td><td>null</td><td>null</td><td>null</td><td>null</td><td>null</td><td>null</td><td>null</td><td>null</td><td>null</td><td>null</td><td>null</td><td>null</td><td>null</td><td>null</td><td>null</td><td>null</td></tr><tr><td>&quot;max&quot;</td><td>1.358508e6</td><td>&quot;2022-12-31 23:28:04&quot;</td><td>&quot;ŠtudentPIC4&quot;</td><td>&quot;NULL&quot;</td><td>&quot;NULL&quot;</td><td>&quot;NULL&quot;</td><td>&quot;&lt;p&gt;&lt;strong&gt;Motorwvay A1, Marib…</td><td>&quot;&lt;p&gt;Buy vignette for Slovenia o…</td><td>&quot;&lt;p&gt;Traffic of heavy goods vehi…</td><td>&quot;Predor Karavanke&quot;</td><td>&quot;&lt;p&gt;Štajerska avtocesti je zapr…</td><td>&quot;Prometni nesreči, oviran prome…</td><td>&quot;&lt;p&gt;Štajerska avtocesta:&lt;br&gt;- o…</td><td>&quot;Zastoji, povečan promet&quot;</td><td>&quot;&lt;p&gt;Žival ovira promet na goren…</td><td>&quot;Zimske razmere&quot;</td><td>&quot;&lt;p&gt;Zaradi zimskih razmer na hr…</td><td>&quot;okvara avtobusa&quot;</td><td>&quot;&lt;ul&gt;&lt;li&gt;Okvara vozila:&lt;br&gt;- na…</td><td>&quot;Delo na cesti in prireditve&quot;</td><td>&quot;&lt;p&gt;Štajerska avtocesta bo zara…</td><td>&quot;Zmske razmere&quot;</td><td>&quot;&lt;p&gt;Žival na gorenjski avtocest…</td><td>&quot;Tovorni promet&quot;</td><td>&quot;&lt;p&gt;Čakalne dobe: Starod,Obrežj…</td><td>&quot;Zimske razmere&quot;</td><td>&quot;&lt;p&gt;Škofljica - Ig, do 19. ure.…</td></tr></tbody></table></div>"
      ],
      "text/plain": [
       "shape: (9, 28)\n",
       "┌───────────┬───────────┬───────────┬───────────┬───┬───────────┬───────────┬───────────┬──────────┐\n",
       "│ statistic ┆ LegacyId  ┆ Datum     ┆ Operater  ┆ … ┆ TitleMedn ┆ ContentMe ┆ TitleSplo ┆ ContentS │\n",
       "│ ---       ┆ ---       ┆ ---       ┆ ---       ┆   ┆ arodneInf ┆ dnarodneI ┆ snoSLO    ┆ plosnoSL │\n",
       "│ str       ┆ f64       ┆ str       ┆ str       ┆   ┆ ormacijeS ┆ nformacij ┆ ---       ┆ O        │\n",
       "│           ┆           ┆           ┆           ┆   ┆ LO        ┆ eSL…      ┆ str       ┆ ---      │\n",
       "│           ┆           ┆           ┆           ┆   ┆ ---       ┆ ---       ┆           ┆ str      │\n",
       "│           ┆           ┆           ┆           ┆   ┆ str       ┆ str       ┆           ┆          │\n",
       "╞═══════════╪═══════════╪═══════════╪═══════════╪═══╪═══════════╪═══════════╪═══════════╪══════════╡\n",
       "│ count     ┆ 55001.0   ┆ 55001     ┆ 55001     ┆ … ┆ 55001     ┆ 54867     ┆ 55001     ┆ 55001    │\n",
       "│ null_coun ┆ 0.0       ┆ 0         ┆ 0         ┆ … ┆ 0         ┆ 134       ┆ 0         ┆ 0        │\n",
       "│ t         ┆           ┆           ┆           ┆   ┆           ┆           ┆           ┆          │\n",
       "│ mean      ┆ 1.3270e6  ┆ 2022-07-0 ┆ null      ┆ … ┆ null      ┆ null      ┆ null      ┆ null     │\n",
       "│           ┆           ┆ 4 07:43:1 ┆           ┆   ┆           ┆           ┆           ┆          │\n",
       "│           ┆           ┆ 0.201000  ┆           ┆   ┆           ┆           ┆           ┆          │\n",
       "│ std       ┆ 22141.727 ┆ null      ┆ null      ┆ … ┆ null      ┆ null      ┆ null      ┆ null     │\n",
       "│           ┆ 651       ┆           ┆           ┆   ┆           ┆           ┆           ┆          │\n",
       "│ min       ┆ 1.283516e ┆ 2022-01-0 ┆ DARS      ┆ … ┆           ┆           ┆           ┆          │\n",
       "│           ┆ 6         ┆ 1         ┆ Janko     ┆   ┆           ┆           ┆           ┆          │\n",
       "│           ┆           ┆ 00:07:07  ┆ Poženel,  ┆   ┆           ┆           ┆           ┆          │\n",
       "│           ┆           ┆           ┆ GNC       ┆   ┆           ┆           ┆           ┆          │\n",
       "│ 25%       ┆ 1.317258e ┆ 2022-04-1 ┆ null      ┆ … ┆ null      ┆ null      ┆ null      ┆ null     │\n",
       "│           ┆ 6         ┆ 7         ┆           ┆   ┆           ┆           ┆           ┆          │\n",
       "│           ┆           ┆ 09:09:33  ┆           ┆   ┆           ┆           ┆           ┆          │\n",
       "│ 50%       ┆ 1.331008e ┆ 2022-07-0 ┆ null      ┆ … ┆ null      ┆ null      ┆ null      ┆ null     │\n",
       "│           ┆ 6         ┆ 6         ┆           ┆   ┆           ┆           ┆           ┆          │\n",
       "│           ┆           ┆ 16:04:33  ┆           ┆   ┆           ┆           ┆           ┆          │\n",
       "│ 75%       ┆ 1.344758e ┆ 2022-09-1 ┆ null      ┆ … ┆ null      ┆ null      ┆ null      ┆ null     │\n",
       "│           ┆ 6         ┆ 9         ┆           ┆   ┆           ┆           ┆           ┆          │\n",
       "│           ┆           ┆ 05:33:45  ┆           ┆   ┆           ┆           ┆           ┆          │\n",
       "│ max       ┆ 1.358508e ┆ 2022-12-3 ┆ ŠtudentPI ┆ … ┆ Tovorni   ┆ <p>Čakaln ┆ Zimske    ┆ <p>Škofl │\n",
       "│           ┆ 6         ┆ 1         ┆ C4        ┆   ┆ promet    ┆ e dobe:   ┆ razmere   ┆ jica -   │\n",
       "│           ┆           ┆ 23:28:04  ┆           ┆   ┆           ┆ Starod,Ob ┆           ┆ Ig, do   │\n",
       "│           ┆           ┆           ┆           ┆   ┆           ┆ režj…     ┆           ┆ 19.      │\n",
       "│           ┆           ┆           ┆           ┆   ┆           ┆           ┆           ┆ ure.…    │\n",
       "└───────────┴───────────┴───────────┴───────────┴───┴───────────┴───────────┴───────────┴──────────┘"
      ]
     },
     "execution_count": 167,
     "metadata": {},
     "output_type": "execute_result"
    }
   ],
   "source": [
    "df.describe()"
   ]
  },
  {
   "cell_type": "code",
   "execution_count": 168,
   "metadata": {},
   "outputs": [
    {
     "data": {
      "text/html": [
       "<div><style>\n",
       ".dataframe > thead > tr,\n",
       ".dataframe > tbody > tr {\n",
       "  text-align: right;\n",
       "  white-space: pre-wrap;\n",
       "}\n",
       "</style>\n",
       "<small>shape: (5, 27)</small><table border=\"1\" class=\"dataframe\"><thead><tr><th>LegacyId</th><th>Datum</th><th>Operater</th><th>A1</th><th>B1</th><th>C1</th><th>A2</th><th>B2</th><th>C2</th><th>TitlePomembnoSLO</th><th>ContentPomembnoSLO</th><th>TitleNesreceSLO</th><th>ContentNesreceSLO</th><th>TitleZastojiSLO</th><th>ContentZastojiSLO</th><th>TitleVremeSLO</th><th>ContentVremeSLO</th><th>TitleOvireSLO</th><th>ContentOvireSLO</th><th>TitleDeloNaCestiSLO</th><th>ContentDeloNaCestiSLO</th><th>TitleOpozorilaSLO</th><th>ContentOpozorilaSLO</th><th>TitleMednarodneInformacijeSLO</th><th>ContentMednarodneInformacijeSLO</th><th>TitleSplosnoSLO</th><th>ContentSplosnoSLO</th></tr><tr><td>i64</td><td>datetime[ms]</td><td>str</td><td>str</td><td>str</td><td>str</td><td>str</td><td>str</td><td>str</td><td>str</td><td>str</td><td>str</td><td>str</td><td>str</td><td>str</td><td>str</td><td>str</td><td>str</td><td>str</td><td>str</td><td>str</td><td>str</td><td>str</td><td>str</td><td>str</td><td>str</td><td>str</td></tr></thead><tbody><tr><td>1283516</td><td>2022-01-01 00:07:07</td><td>&quot;DARS Tjaša Krmac, GNC&quot;</td><td>&quot;NULL&quot;</td><td>&quot;&lt;p&gt;&lt;strong&gt;Vreme&lt;/strong&gt;&lt;/p&gt;&lt;…</td><td>&quot;NULL&quot;</td><td>&quot;&quot;</td><td>&quot;&quot;</td><td>&quot;&quot;</td><td>&quot;&quot;</td><td>&quot;&quot;</td><td>&quot;&quot;</td><td>&quot;&quot;</td><td>&quot;&quot;</td><td>&quot;&quot;</td><td>&quot;&quot;</td><td>&quot;&lt;p&gt;Ponekod po Sloveniji megla …</td><td>&quot;&quot;</td><td>&quot;&quot;</td><td>&quot;Dela&quot;</td><td>&quot;&lt;p&gt;Na primorski avtocesti je p…</td><td>&quot;Omejitve za tovorna vozila&quot;</td><td>&quot;&lt;p&gt;Po Sloveniji velja med praz…</td><td>&quot;&quot;</td><td>&quot;&quot;</td><td>&quot;&quot;</td><td>&quot;&quot;</td></tr><tr><td>1283517</td><td>2022-01-01 00:07:29</td><td>&quot;DARS Tjaša Krmac, GNC&quot;</td><td>&quot;NULL&quot;</td><td>&quot;&lt;p&gt;&lt;strong&gt;Vreme&lt;/strong&gt;&lt;/p&gt;&lt;…</td><td>&quot;NULL&quot;</td><td>&quot;&quot;</td><td>&quot;&quot;</td><td>&quot;&quot;</td><td>&quot;&quot;</td><td>&quot;&quot;</td><td>&quot;&quot;</td><td>&quot;&quot;</td><td>&quot;&quot;</td><td>&quot;&quot;</td><td>&quot;&quot;</td><td>&quot;&lt;p&gt;Ponekod po Sloveniji megla …</td><td>&quot;&quot;</td><td>&quot;&quot;</td><td>&quot;Dela&quot;</td><td>&quot;&lt;p&gt;Na primorski avtocesti je p…</td><td>&quot;Omejitve za tovorna vozila&quot;</td><td>&quot;&lt;p&gt;Po Sloveniji velja med praz…</td><td>&quot;&quot;</td><td>&quot;&quot;</td><td>&quot;&quot;</td><td>&quot;&quot;</td></tr><tr><td>1283518</td><td>2022-01-01 00:07:30</td><td>&quot;DARS Tjaša Krmac, GNC&quot;</td><td>&quot;NULL&quot;</td><td>&quot;&lt;p&gt;&lt;strong&gt;Vreme&lt;/strong&gt;&lt;/p&gt;&lt;…</td><td>&quot;NULL&quot;</td><td>&quot;&quot;</td><td>&quot;&quot;</td><td>&quot;&quot;</td><td>&quot;&quot;</td><td>&quot;&quot;</td><td>&quot;&quot;</td><td>&quot;&quot;</td><td>&quot;&quot;</td><td>&quot;&quot;</td><td>&quot;&quot;</td><td>&quot;&lt;p&gt;Ponekod po Sloveniji megla …</td><td>&quot;&quot;</td><td>&quot;&quot;</td><td>&quot;Dela&quot;</td><td>&quot;&lt;p&gt;Na primorski avtocesti je p…</td><td>&quot;Omejitve za tovorna vozila&quot;</td><td>&quot;&lt;p&gt;Po Sloveniji velja med praz…</td><td>&quot;&quot;</td><td>&quot;&quot;</td><td>&quot;&quot;</td><td>&quot;&quot;</td></tr><tr><td>1283519</td><td>2022-01-01 00:07:36</td><td>&quot;DARS Tjaša Krmac, GNC&quot;</td><td>&quot;NULL&quot;</td><td>&quot;&lt;p&gt;&lt;strong&gt;Vreme&lt;/strong&gt;&lt;/p&gt;&lt;…</td><td>&quot;NULL&quot;</td><td>&quot;&quot;</td><td>&quot;&quot;</td><td>&quot;&quot;</td><td>&quot;&quot;</td><td>&quot;&quot;</td><td>&quot;&quot;</td><td>&quot;&quot;</td><td>&quot;&quot;</td><td>&quot;&quot;</td><td>&quot;&quot;</td><td>&quot;&lt;p&gt;Ponekod po Sloveniji megla …</td><td>&quot;&quot;</td><td>&quot;&quot;</td><td>&quot;Dela&quot;</td><td>&quot;&lt;p&gt;Na primorski avtocesti je p…</td><td>&quot;Omejitve za tovorna vozila&quot;</td><td>&quot;&lt;p&gt;Po Sloveniji velja med praz…</td><td>&quot;&quot;</td><td>&quot;&quot;</td><td>&quot;&quot;</td><td>&quot;&quot;</td></tr><tr><td>1283520</td><td>2022-01-01 00:16:26</td><td>&quot;DARS Tjaša Krmac, GNC&quot;</td><td>&quot;NULL&quot;</td><td>&quot;&lt;p&gt;&lt;strong&gt;Vreme&lt;/strong&gt;&lt;/p&gt;&lt;…</td><td>&quot;NULL&quot;</td><td>&quot;&quot;</td><td>&quot;&quot;</td><td>&quot;&quot;</td><td>&quot;&quot;</td><td>&quot;&quot;</td><td>&quot;&quot;</td><td>&quot;&quot;</td><td>&quot;&quot;</td><td>&quot;&quot;</td><td>&quot;&quot;</td><td>&quot;&lt;p&gt;Ponekod po Sloveniji megla …</td><td>&quot;&quot;</td><td>&quot;&quot;</td><td>&quot;Dela&quot;</td><td>&quot;&lt;p&gt;Na primorski avtocesti je p…</td><td>&quot;Omejitve za tovorna vozila&quot;</td><td>&quot;&lt;p&gt;Po Sloveniji velja med praz…</td><td>&quot;&quot;</td><td>&quot;&quot;</td><td>&quot;&quot;</td><td>&quot;&quot;</td></tr></tbody></table></div>"
      ],
      "text/plain": [
       "shape: (5, 27)\n",
       "┌──────────┬────────────┬────────────┬──────┬───┬────────────┬────────────┬────────────┬───────────┐\n",
       "│ LegacyId ┆ Datum      ┆ Operater   ┆ A1   ┆ … ┆ TitleMedna ┆ ContentMed ┆ TitleSplos ┆ ContentSp │\n",
       "│ ---      ┆ ---        ┆ ---        ┆ ---  ┆   ┆ rodneInfor ┆ narodneInf ┆ noSLO      ┆ losnoSLO  │\n",
       "│ i64      ┆ datetime[m ┆ str        ┆ str  ┆   ┆ macijeSLO  ┆ ormacijeSL ┆ ---        ┆ ---       │\n",
       "│          ┆ s]         ┆            ┆      ┆   ┆ ---        ┆ …          ┆ str        ┆ str       │\n",
       "│          ┆            ┆            ┆      ┆   ┆ str        ┆ ---        ┆            ┆           │\n",
       "│          ┆            ┆            ┆      ┆   ┆            ┆ str        ┆            ┆           │\n",
       "╞══════════╪════════════╪════════════╪══════╪═══╪════════════╪════════════╪════════════╪═══════════╡\n",
       "│ 1283516  ┆ 2022-01-01 ┆ DARS Tjaša ┆ NULL ┆ … ┆            ┆            ┆            ┆           │\n",
       "│          ┆ 00:07:07   ┆ Krmac, GNC ┆      ┆   ┆            ┆            ┆            ┆           │\n",
       "│ 1283517  ┆ 2022-01-01 ┆ DARS Tjaša ┆ NULL ┆ … ┆            ┆            ┆            ┆           │\n",
       "│          ┆ 00:07:29   ┆ Krmac, GNC ┆      ┆   ┆            ┆            ┆            ┆           │\n",
       "│ 1283518  ┆ 2022-01-01 ┆ DARS Tjaša ┆ NULL ┆ … ┆            ┆            ┆            ┆           │\n",
       "│          ┆ 00:07:30   ┆ Krmac, GNC ┆      ┆   ┆            ┆            ┆            ┆           │\n",
       "│ 1283519  ┆ 2022-01-01 ┆ DARS Tjaša ┆ NULL ┆ … ┆            ┆            ┆            ┆           │\n",
       "│          ┆ 00:07:36   ┆ Krmac, GNC ┆      ┆   ┆            ┆            ┆            ┆           │\n",
       "│ 1283520  ┆ 2022-01-01 ┆ DARS Tjaša ┆ NULL ┆ … ┆            ┆            ┆            ┆           │\n",
       "│          ┆ 00:16:26   ┆ Krmac, GNC ┆      ┆   ┆            ┆            ┆            ┆           │\n",
       "└──────────┴────────────┴────────────┴──────┴───┴────────────┴────────────┴────────────┴───────────┘"
      ]
     },
     "execution_count": 168,
     "metadata": {},
     "output_type": "execute_result"
    }
   ],
   "source": [
    "df.head()"
   ]
  },
  {
   "cell_type": "code",
   "execution_count": 169,
   "metadata": {},
   "outputs": [],
   "source": [
    "from lxml.html import fromstring\n",
    "\n",
    "def extractText(s):\n",
    "    if s == \"\" or s == \" \":\n",
    "        return \"\"\n",
    "    tree = fromstring(s)\n",
    "    return tree.text_content()"
   ]
  },
  {
   "cell_type": "code",
   "execution_count": 170,
   "metadata": {},
   "outputs": [
    {
     "data": {
      "text/plain": [
       "'<p><strong>Vreme</strong></p><p>Ponekod po Sloveniji megla v pasovih zmanjšuje vidljivost. Prilagodite hitrost!</p><p><strong>Omejitve za tovorna vozila</strong></p><p>Po Sloveniji velja med prazniki omejitev za tovorna vozila z največjo dovoljeno maso nad 7,5 ton:<br>- v soboto, 1. 1., od 8. do 22. ure;<br>- v nedeljo, 2. 1., od 8. do 22. ure.</p><p>Od 30. decembra je v veljavi sprememba omejitve za tovorna vozila nad 7,5 ton. <a href=\"https://www.promet.si/sl/splosne-omejitve\" target=\"_blank\">Več.</a></p><p><strong>Dela</strong></p><p>Na primorski avtocesti je ponovno odprt priključek <strong>Črni</strong><strong> Kal </strong>v obe smeri.</p>'"
      ]
     },
     "execution_count": 170,
     "metadata": {},
     "output_type": "execute_result"
    }
   ],
   "source": [
    "df[0][\"B1\"][0]"
   ]
  },
  {
   "cell_type": "markdown",
   "metadata": {},
   "source": [
    "From the data, we can see that A1, B1, C1, A2, B2, C2 are generated from the rest of the columns TitleXXX and ContentXXX in pairs."
   ]
  },
  {
   "cell_type": "code",
   "execution_count": 171,
   "metadata": {},
   "outputs": [],
   "source": [
    "# strip html tags from important columns\n",
    "\n",
    "df = df.with_columns([\n",
    "    \n",
    "   pl.col('TitlePomembnoSLO').map_elements(lambda x: extractText(x), return_dtype=pl.String),\n",
    "   pl.col('ContentPomembnoSLO').map_elements(lambda x: extractText(x), return_dtype=pl.String),\n",
    "\n",
    "   pl.col('TitleNesreceSLO').map_elements(lambda x: extractText(x), return_dtype=pl.String),\n",
    "   pl.col('ContentNesreceSLO').map_elements(lambda x: extractText(x), return_dtype=pl.String),\n",
    "\n",
    "   pl.col('TitleZastojiSLO').map_elements(lambda x: extractText(x), return_dtype=pl.String),\n",
    "   pl.col('ContentZastojiSLO').map_elements(lambda x: extractText(x), return_dtype=pl.String),\n",
    "\n",
    "   pl.col('TitleVremeSLO').map_elements(lambda x: extractText(x), return_dtype=pl.String),\n",
    "   pl.col('ContentVremeSLO').map_elements(lambda x: extractText(x), return_dtype=pl.String),\n",
    "\n",
    "   pl.col('TitleOvireSLO').map_elements(lambda x: extractText(x), return_dtype=pl.String),\n",
    "   pl.col('ContentOvireSLO').map_elements(lambda x: extractText(x), return_dtype=pl.String),\n",
    "\n",
    "   pl.col('TitleDeloNaCestiSLO').map_elements(lambda x: extractText(x), return_dtype=pl.String),\n",
    "   pl.col('ContentDeloNaCestiSLO').map_elements(lambda x: extractText(x), return_dtype=pl.String),\n",
    "\n",
    "   pl.col('TitleOpozorilaSLO').map_elements(lambda x: extractText(x), return_dtype=pl.String),\n",
    "   pl.col('ContentOpozorilaSLO').map_elements(lambda x: extractText(x), return_dtype=pl.String),\n",
    "\n",
    "   pl.col('TitleMednarodneInformacijeSLO').map_elements(lambda x: extractText(x), return_dtype=pl.String),\n",
    "   pl.col('ContentMednarodneInformacijeSLO').map_elements(lambda x: extractText(x), return_dtype=pl.String),\n",
    "\n",
    "   pl.col('TitleSplosnoSLO').map_elements(lambda x: extractText(x), return_dtype=pl.String),\n",
    "   pl.col('ContentSplosnoSLO').map_elements(lambda x: extractText(x), return_dtype=pl.String),\n",
    "    \n",
    "])"
   ]
  },
  {
   "cell_type": "code",
   "execution_count": 172,
   "metadata": {},
   "outputs": [],
   "source": [
    "# remove non-important (for now) columns and english translations\n",
    "\n",
    "df = df.drop([\"Operater\", \"A2\", \"B2\", \"C2\"])"
   ]
  },
  {
   "cell_type": "code",
   "execution_count": 173,
   "metadata": {},
   "outputs": [],
   "source": [
    "from datetime import datetime\n",
    "\n",
    "def parseInputDate(dateString):\n",
    "    # https://docs.python.org/3/library/datetime.html#strftime-and-strptime-format-codes\n",
    "    possible_formats = [\n",
    "        '%Y-%m-%d %H:%M:%S',\n",
    "    ]\n",
    "\n",
    "    date = \"0000-00-00\"\n",
    "    time = \"00:00:00\"\n",
    "   \n",
    "    if type(dateString) == datetime:\n",
    "        dateString = dateString.strftime(\"%Y-%m-%d %H:%M:%S\")\n",
    "    \n",
    "\n",
    "    dt_string = dateString.replace(\".000\", \"\").replace(\"T\", \" \")\n",
    "    \n",
    "    for fmt in possible_formats:\n",
    "        try:\n",
    "            dt = datetime.strptime(dt_string, fmt)\n",
    "            date = dt.strftime('%Y-%m-%d')\n",
    "            time = dt.strftime('%H:%M:%S')\n",
    "            break\n",
    "        except ValueError:\n",
    "            continue\n",
    "\n",
    "    return {\n",
    "        'date': date,\n",
    "        'time': time\n",
    "    }"
   ]
  },
  {
   "cell_type": "code",
   "execution_count": 174,
   "metadata": {},
   "outputs": [],
   "source": [
    "import uuid\n",
    "\n",
    "def generate_id(content):\n",
    "    return str(uuid.uuid5(uuid.NAMESPACE_URL, content))"
   ]
  },
  {
   "cell_type": "code",
   "execution_count": 175,
   "metadata": {},
   "outputs": [],
   "source": [
    "df = df.with_columns([\n",
    "    (pl.col(\"Datum\").map_elements(lambda x: parseInputDate(x)['date'], return_dtype=pl.String).alias('date')),\n",
    "    (pl.col(\"Datum\").map_elements(lambda x: parseInputDate(x)['time'], return_dtype=pl.String).alias('time')),\n",
    "    (pl.col(\"Datum\").map_elements(lambda x: generate_id(str(x)), return_dtype=pl.String).alias('id')),\n",
    "])"
   ]
  },
  {
   "cell_type": "code",
   "execution_count": 176,
   "metadata": {},
   "outputs": [],
   "source": [
    "df = df.drop([\"LegacyId\", \"Datum\"])"
   ]
  },
  {
   "cell_type": "code",
   "execution_count": 177,
   "metadata": {},
   "outputs": [],
   "source": [
    "df = df.select([\"id\", \"date\", \"time\"] + [col for col in df.columns if (col != \"date\" and col != \"time\" and col != \"id\")])"
   ]
  },
  {
   "cell_type": "code",
   "execution_count": 178,
   "metadata": {},
   "outputs": [],
   "source": [
    "df = df.sort(\"date\", \"time\")"
   ]
  },
  {
   "cell_type": "code",
   "execution_count": 179,
   "metadata": {},
   "outputs": [
    {
     "data": {
      "text/html": [
       "<div><style>\n",
       ".dataframe > thead > tr,\n",
       ".dataframe > tbody > tr {\n",
       "  text-align: right;\n",
       "  white-space: pre-wrap;\n",
       "}\n",
       "</style>\n",
       "<small>shape: (5, 24)</small><table border=\"1\" class=\"dataframe\"><thead><tr><th>id</th><th>date</th><th>time</th><th>A1</th><th>B1</th><th>C1</th><th>TitlePomembnoSLO</th><th>ContentPomembnoSLO</th><th>TitleNesreceSLO</th><th>ContentNesreceSLO</th><th>TitleZastojiSLO</th><th>ContentZastojiSLO</th><th>TitleVremeSLO</th><th>ContentVremeSLO</th><th>TitleOvireSLO</th><th>ContentOvireSLO</th><th>TitleDeloNaCestiSLO</th><th>ContentDeloNaCestiSLO</th><th>TitleOpozorilaSLO</th><th>ContentOpozorilaSLO</th><th>TitleMednarodneInformacijeSLO</th><th>ContentMednarodneInformacijeSLO</th><th>TitleSplosnoSLO</th><th>ContentSplosnoSLO</th></tr><tr><td>str</td><td>str</td><td>str</td><td>str</td><td>str</td><td>str</td><td>str</td><td>str</td><td>str</td><td>str</td><td>str</td><td>str</td><td>str</td><td>str</td><td>str</td><td>str</td><td>str</td><td>str</td><td>str</td><td>str</td><td>str</td><td>str</td><td>str</td><td>str</td></tr></thead><tbody><tr><td>&quot;00ba9265-8dfa-5b5f-a3eb-8a79e2…</td><td>&quot;2022-01-01&quot;</td><td>&quot;00:07:07&quot;</td><td>&quot;NULL&quot;</td><td>&quot;&lt;p&gt;&lt;strong&gt;Vreme&lt;/strong&gt;&lt;/p&gt;&lt;…</td><td>&quot;NULL&quot;</td><td>&quot;&quot;</td><td>&quot;&quot;</td><td>&quot;&quot;</td><td>&quot;&quot;</td><td>&quot;&quot;</td><td>&quot;&quot;</td><td>&quot;&quot;</td><td>&quot;Ponekod po Sloveniji megla v p…</td><td>&quot;&quot;</td><td>&quot;&quot;</td><td>&quot;Dela&quot;</td><td>&quot;Na primorski avtocesti je pono…</td><td>&quot;Omejitve za tovorna vozila&quot;</td><td>&quot;Po Sloveniji velja med praznik…</td><td>&quot;&quot;</td><td>&quot;&quot;</td><td>&quot;&quot;</td><td>&quot;&quot;</td></tr><tr><td>&quot;b0486872-bbdb-5140-bac1-b11587…</td><td>&quot;2022-01-01&quot;</td><td>&quot;00:07:29&quot;</td><td>&quot;NULL&quot;</td><td>&quot;&lt;p&gt;&lt;strong&gt;Vreme&lt;/strong&gt;&lt;/p&gt;&lt;…</td><td>&quot;NULL&quot;</td><td>&quot;&quot;</td><td>&quot;&quot;</td><td>&quot;&quot;</td><td>&quot;&quot;</td><td>&quot;&quot;</td><td>&quot;&quot;</td><td>&quot;&quot;</td><td>&quot;Ponekod po Sloveniji megla v p…</td><td>&quot;&quot;</td><td>&quot;&quot;</td><td>&quot;Dela&quot;</td><td>&quot;Na primorski avtocesti je pono…</td><td>&quot;Omejitve za tovorna vozila&quot;</td><td>&quot;Po Sloveniji velja med praznik…</td><td>&quot;&quot;</td><td>&quot;&quot;</td><td>&quot;&quot;</td><td>&quot;&quot;</td></tr><tr><td>&quot;b2c448e1-e764-547f-bfa3-4b83cd…</td><td>&quot;2022-01-01&quot;</td><td>&quot;00:07:30&quot;</td><td>&quot;NULL&quot;</td><td>&quot;&lt;p&gt;&lt;strong&gt;Vreme&lt;/strong&gt;&lt;/p&gt;&lt;…</td><td>&quot;NULL&quot;</td><td>&quot;&quot;</td><td>&quot;&quot;</td><td>&quot;&quot;</td><td>&quot;&quot;</td><td>&quot;&quot;</td><td>&quot;&quot;</td><td>&quot;&quot;</td><td>&quot;Ponekod po Sloveniji megla v p…</td><td>&quot;&quot;</td><td>&quot;&quot;</td><td>&quot;Dela&quot;</td><td>&quot;Na primorski avtocesti je pono…</td><td>&quot;Omejitve za tovorna vozila&quot;</td><td>&quot;Po Sloveniji velja med praznik…</td><td>&quot;&quot;</td><td>&quot;&quot;</td><td>&quot;&quot;</td><td>&quot;&quot;</td></tr><tr><td>&quot;d5d4f176-58ff-5ebc-a8a7-404b54…</td><td>&quot;2022-01-01&quot;</td><td>&quot;00:07:36&quot;</td><td>&quot;NULL&quot;</td><td>&quot;&lt;p&gt;&lt;strong&gt;Vreme&lt;/strong&gt;&lt;/p&gt;&lt;…</td><td>&quot;NULL&quot;</td><td>&quot;&quot;</td><td>&quot;&quot;</td><td>&quot;&quot;</td><td>&quot;&quot;</td><td>&quot;&quot;</td><td>&quot;&quot;</td><td>&quot;&quot;</td><td>&quot;Ponekod po Sloveniji megla v p…</td><td>&quot;&quot;</td><td>&quot;&quot;</td><td>&quot;Dela&quot;</td><td>&quot;Na primorski avtocesti je pono…</td><td>&quot;Omejitve za tovorna vozila&quot;</td><td>&quot;Po Sloveniji velja med praznik…</td><td>&quot;&quot;</td><td>&quot;&quot;</td><td>&quot;&quot;</td><td>&quot;&quot;</td></tr><tr><td>&quot;9bff469f-a01b-58f8-a399-e39f58…</td><td>&quot;2022-01-01&quot;</td><td>&quot;00:16:26&quot;</td><td>&quot;NULL&quot;</td><td>&quot;&lt;p&gt;&lt;strong&gt;Vreme&lt;/strong&gt;&lt;/p&gt;&lt;…</td><td>&quot;NULL&quot;</td><td>&quot;&quot;</td><td>&quot;&quot;</td><td>&quot;&quot;</td><td>&quot;&quot;</td><td>&quot;&quot;</td><td>&quot;&quot;</td><td>&quot;&quot;</td><td>&quot;Ponekod po Sloveniji megla v p…</td><td>&quot;&quot;</td><td>&quot;&quot;</td><td>&quot;Dela&quot;</td><td>&quot;Na primorski avtocesti je pono…</td><td>&quot;Omejitve za tovorna vozila&quot;</td><td>&quot;Po Sloveniji velja med praznik…</td><td>&quot;&quot;</td><td>&quot;&quot;</td><td>&quot;&quot;</td><td>&quot;&quot;</td></tr></tbody></table></div>"
      ],
      "text/plain": [
       "shape: (5, 24)\n",
       "┌────────────┬────────────┬──────────┬──────┬───┬────────────┬────────────┬────────────┬───────────┐\n",
       "│ id         ┆ date       ┆ time     ┆ A1   ┆ … ┆ TitleMedna ┆ ContentMed ┆ TitleSplos ┆ ContentSp │\n",
       "│ ---        ┆ ---        ┆ ---      ┆ ---  ┆   ┆ rodneInfor ┆ narodneInf ┆ noSLO      ┆ losnoSLO  │\n",
       "│ str        ┆ str        ┆ str      ┆ str  ┆   ┆ macijeSLO  ┆ ormacijeSL ┆ ---        ┆ ---       │\n",
       "│            ┆            ┆          ┆      ┆   ┆ ---        ┆ …          ┆ str        ┆ str       │\n",
       "│            ┆            ┆          ┆      ┆   ┆ str        ┆ ---        ┆            ┆           │\n",
       "│            ┆            ┆          ┆      ┆   ┆            ┆ str        ┆            ┆           │\n",
       "╞════════════╪════════════╪══════════╪══════╪═══╪════════════╪════════════╪════════════╪═══════════╡\n",
       "│ 00ba9265-8 ┆ 2022-01-01 ┆ 00:07:07 ┆ NULL ┆ … ┆            ┆            ┆            ┆           │\n",
       "│ dfa-5b5f-a ┆            ┆          ┆      ┆   ┆            ┆            ┆            ┆           │\n",
       "│ 3eb-8a79e2 ┆            ┆          ┆      ┆   ┆            ┆            ┆            ┆           │\n",
       "│ …          ┆            ┆          ┆      ┆   ┆            ┆            ┆            ┆           │\n",
       "│ b0486872-b ┆ 2022-01-01 ┆ 00:07:29 ┆ NULL ┆ … ┆            ┆            ┆            ┆           │\n",
       "│ bdb-5140-b ┆            ┆          ┆      ┆   ┆            ┆            ┆            ┆           │\n",
       "│ ac1-b11587 ┆            ┆          ┆      ┆   ┆            ┆            ┆            ┆           │\n",
       "│ …          ┆            ┆          ┆      ┆   ┆            ┆            ┆            ┆           │\n",
       "│ b2c448e1-e ┆ 2022-01-01 ┆ 00:07:30 ┆ NULL ┆ … ┆            ┆            ┆            ┆           │\n",
       "│ 764-547f-b ┆            ┆          ┆      ┆   ┆            ┆            ┆            ┆           │\n",
       "│ fa3-4b83cd ┆            ┆          ┆      ┆   ┆            ┆            ┆            ┆           │\n",
       "│ …          ┆            ┆          ┆      ┆   ┆            ┆            ┆            ┆           │\n",
       "│ d5d4f176-5 ┆ 2022-01-01 ┆ 00:07:36 ┆ NULL ┆ … ┆            ┆            ┆            ┆           │\n",
       "│ 8ff-5ebc-a ┆            ┆          ┆      ┆   ┆            ┆            ┆            ┆           │\n",
       "│ 8a7-404b54 ┆            ┆          ┆      ┆   ┆            ┆            ┆            ┆           │\n",
       "│ …          ┆            ┆          ┆      ┆   ┆            ┆            ┆            ┆           │\n",
       "│ 9bff469f-a ┆ 2022-01-01 ┆ 00:16:26 ┆ NULL ┆ … ┆            ┆            ┆            ┆           │\n",
       "│ 01b-58f8-a ┆            ┆          ┆      ┆   ┆            ┆            ┆            ┆           │\n",
       "│ 399-e39f58 ┆            ┆          ┆      ┆   ┆            ┆            ┆            ┆           │\n",
       "│ …          ┆            ┆          ┆      ┆   ┆            ┆            ┆            ┆           │\n",
       "└────────────┴────────────┴──────────┴──────┴───┴────────────┴────────────┴────────────┴───────────┘"
      ]
     },
     "execution_count": 179,
     "metadata": {},
     "output_type": "execute_result"
    }
   ],
   "source": [
    "df.head()"
   ]
  },
  {
   "cell_type": "code",
   "execution_count": 180,
   "metadata": {},
   "outputs": [],
   "source": [
    "df.write_csv(\"../data/inputs-clean.csv\")"
   ]
  }
 ],
 "metadata": {
  "kernelspec": {
   "display_name": ".venv",
   "language": "python",
   "name": "python3"
  },
  "language_info": {
   "codemirror_mode": {
    "name": "ipython",
    "version": 3
   },
   "file_extension": ".py",
   "mimetype": "text/x-python",
   "name": "python",
   "nbconvert_exporter": "python",
   "pygments_lexer": "ipython3",
   "version": "3.12.9"
  }
 },
 "nbformat": 4,
 "nbformat_minor": 2
}

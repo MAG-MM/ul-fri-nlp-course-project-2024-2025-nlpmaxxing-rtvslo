{
 "cells": [
  {
   "cell_type": "code",
   "execution_count": 22,
   "metadata": {},
   "outputs": [],
   "source": [
    "import polars as pl"
   ]
  },
  {
   "cell_type": "code",
   "execution_count": 23,
   "metadata": {},
   "outputs": [
    {
     "name": "stderr",
     "output_type": "stream",
     "text": [
      "Could not determine dtype for column 5, falling back to string\n",
      "Could not determine dtype for column 6, falling back to string\n",
      "Could not determine dtype for column 7, falling back to string\n",
      "Could not determine dtype for column 8, falling back to string\n",
      "Could not determine dtype for column 9, falling back to string\n",
      "Could not determine dtype for column 11, falling back to string\n",
      "Could not determine dtype for column 13, falling back to string\n",
      "Could not determine dtype for column 15, falling back to string\n",
      "Could not determine dtype for column 17, falling back to string\n",
      "Could not determine dtype for column 23, falling back to string\n",
      "Could not determine dtype for column 25, falling back to string\n",
      "Could not determine dtype for column 26, falling back to string\n",
      "Could not determine dtype for column 3, falling back to string\n",
      "Could not determine dtype for column 5, falling back to string\n",
      "Could not determine dtype for column 6, falling back to string\n",
      "Could not determine dtype for column 9, falling back to string\n",
      "Could not determine dtype for column 10, falling back to string\n",
      "Could not determine dtype for column 11, falling back to string\n",
      "Could not determine dtype for column 13, falling back to string\n",
      "Could not determine dtype for column 15, falling back to string\n",
      "Could not determine dtype for column 17, falling back to string\n",
      "Could not determine dtype for column 19, falling back to string\n",
      "Could not determine dtype for column 21, falling back to string\n",
      "Could not determine dtype for column 24, falling back to string\n",
      "Could not determine dtype for column 3, falling back to string\n",
      "Could not determine dtype for column 5, falling back to string\n",
      "Could not determine dtype for column 6, falling back to string\n",
      "Could not determine dtype for column 7, falling back to string\n",
      "Could not determine dtype for column 9, falling back to string\n",
      "Could not determine dtype for column 10, falling back to string\n",
      "Could not determine dtype for column 11, falling back to string\n",
      "Could not determine dtype for column 13, falling back to string\n",
      "Could not determine dtype for column 14, falling back to string\n",
      "Could not determine dtype for column 17, falling back to string\n",
      "Could not determine dtype for column 19, falling back to string\n"
     ]
    }
   ],
   "source": [
    "sheetDfs = pl.read_excel(\"../data/raw/Podatki - PrometnoPorocilo_2022_2023_2024.xlsx\", sheet_id=0)"
   ]
  },
  {
   "cell_type": "code",
   "execution_count": 24,
   "metadata": {},
   "outputs": [
    {
     "data": {
      "text/html": [
       "<div><style>\n",
       ".dataframe > thead > tr,\n",
       ".dataframe > tbody > tr {\n",
       "  text-align: right;\n",
       "  white-space: pre-wrap;\n",
       "}\n",
       "</style>\n",
       "<small>shape: (9, 28)</small><table border=\"1\" class=\"dataframe\"><thead><tr><th>statistic</th><th>LegacyId</th><th>Datum</th><th>Operater</th><th>A1</th><th>B1</th><th>C1</th><th>A2</th><th>B2</th><th>C2</th><th>TitlePomembnoSLO</th><th>ContentPomembnoSLO</th><th>TitleNesreceSLO</th><th>ContentNesreceSLO</th><th>TitleZastojiSLO</th><th>ContentZastojiSLO</th><th>TitleVremeSLO</th><th>ContentVremeSLO</th><th>TitleOvireSLO</th><th>ContentOvireSLO</th><th>TitleDeloNaCestiSLO</th><th>ContentDeloNaCestiSLO</th><th>TitleOpozorilaSLO</th><th>ContentOpozorilaSLO</th><th>TitleMednarodneInformacijeSLO</th><th>ContentMednarodneInformacijeSLO</th><th>TitleSplosnoSLO</th><th>ContentSplosnoSLO</th></tr><tr><td>str</td><td>f64</td><td>str</td><td>str</td><td>str</td><td>str</td><td>str</td><td>str</td><td>str</td><td>str</td><td>str</td><td>str</td><td>str</td><td>str</td><td>str</td><td>str</td><td>str</td><td>str</td><td>str</td><td>str</td><td>str</td><td>str</td><td>str</td><td>str</td><td>str</td><td>str</td><td>str</td><td>str</td></tr></thead><tbody><tr><td>&quot;count&quot;</td><td>170373.0</td><td>&quot;170373&quot;</td><td>&quot;170373&quot;</td><td>&quot;170373&quot;</td><td>&quot;170373&quot;</td><td>&quot;170373&quot;</td><td>&quot;54867&quot;</td><td>&quot;104214&quot;</td><td>&quot;170373&quot;</td><td>&quot;54932&quot;</td><td>&quot;63662&quot;</td><td>&quot;55600&quot;</td><td>&quot;106042&quot;</td><td>&quot;55323&quot;</td><td>&quot;129964&quot;</td><td>&quot;65493&quot;</td><td>&quot;98449&quot;</td><td>&quot;55840&quot;</td><td>&quot;125870&quot;</td><td>&quot;67161&quot;</td><td>&quot;170373&quot;</td><td>&quot;103187&quot;</td><td>&quot;85576&quot;</td><td>&quot;128351&quot;</td><td>&quot;69809&quot;</td><td>&quot;160861&quot;</td><td>&quot;90886&quot;</td></tr><tr><td>&quot;null_count&quot;</td><td>0.0</td><td>&quot;0&quot;</td><td>&quot;0&quot;</td><td>&quot;0&quot;</td><td>&quot;0&quot;</td><td>&quot;0&quot;</td><td>&quot;115506&quot;</td><td>&quot;66159&quot;</td><td>&quot;0&quot;</td><td>&quot;115441&quot;</td><td>&quot;106711&quot;</td><td>&quot;114773&quot;</td><td>&quot;64331&quot;</td><td>&quot;115050&quot;</td><td>&quot;40409&quot;</td><td>&quot;104880&quot;</td><td>&quot;71924&quot;</td><td>&quot;114533&quot;</td><td>&quot;44503&quot;</td><td>&quot;103212&quot;</td><td>&quot;0&quot;</td><td>&quot;67186&quot;</td><td>&quot;84797&quot;</td><td>&quot;42022&quot;</td><td>&quot;100564&quot;</td><td>&quot;9512&quot;</td><td>&quot;79487&quot;</td></tr><tr><td>&quot;mean&quot;</td><td>1.4018e6</td><td>&quot;2023-07-11 17:45:20.997000&quot;</td><td>null</td><td>null</td><td>null</td><td>null</td><td>null</td><td>null</td><td>null</td><td>null</td><td>null</td><td>null</td><td>null</td><td>null</td><td>null</td><td>null</td><td>null</td><td>null</td><td>null</td><td>null</td><td>null</td><td>null</td><td>null</td><td>null</td><td>null</td><td>null</td><td>null</td></tr><tr><td>&quot;std&quot;</td><td>63377.558317</td><td>null</td><td>null</td><td>null</td><td>null</td><td>null</td><td>null</td><td>null</td><td>null</td><td>null</td><td>null</td><td>null</td><td>null</td><td>null</td><td>null</td><td>null</td><td>null</td><td>null</td><td>null</td><td>null</td><td>null</td><td>null</td><td>null</td><td>null</td><td>null</td><td>null</td><td>null</td></tr><tr><td>&quot;min&quot;</td><td>1.283516e6</td><td>&quot;2022-01-01 00:07:07&quot;</td><td>&quot; DARS Janko Poženel, GNC&quot;</td><td>&quot;&lt;p&gt;&lt;strong&gt;Dela bodo opravili …</td><td>&quot;&lt;p&gt;&lt;strong&gt;&lt;/strong&gt;&lt;/p&gt;&lt;p&gt;&lt;st…</td><td>&quot;NULL&quot;</td><td>&quot;&quot;</td><td>&quot;&quot;</td><td>&quot;&quot;</td><td>&quot;&quot;</td><td>&quot;&quot;</td><td>&quot;&quot;</td><td>&quot;&quot;</td><td>&quot;&quot;</td><td>&quot;&quot;</td><td>&quot;&quot;</td><td>&quot;&quot;</td><td>&quot;&quot;</td><td>&quot;&quot;</td><td>&quot;&quot;</td><td>&quot;&quot;</td><td>&quot;&quot;</td><td>&quot;&quot;</td><td>&quot;&quot;</td><td>&quot;&quot;</td><td>&quot;&quot;</td><td>&quot;&quot;</td></tr><tr><td>&quot;25%&quot;</td><td>1.346101e6</td><td>&quot;2022-09-28 17:09:08&quot;</td><td>null</td><td>null</td><td>null</td><td>null</td><td>null</td><td>null</td><td>null</td><td>null</td><td>null</td><td>null</td><td>null</td><td>null</td><td>null</td><td>null</td><td>null</td><td>null</td><td>null</td><td>null</td><td>null</td><td>null</td><td>null</td><td>null</td><td>null</td><td>null</td><td>null</td></tr><tr><td>&quot;50%&quot;</td><td>1.408688e6</td><td>&quot;2023-07-08 07:47:02&quot;</td><td>null</td><td>null</td><td>null</td><td>null</td><td>null</td><td>null</td><td>null</td><td>null</td><td>null</td><td>null</td><td>null</td><td>null</td><td>null</td><td>null</td><td>null</td><td>null</td><td>null</td><td>null</td><td>null</td><td>null</td><td>null</td><td>null</td><td>null</td><td>null</td><td>null</td></tr><tr><td>&quot;75%&quot;</td><td>1.46128e6</td><td>&quot;2024-04-24 13:39:16&quot;</td><td>null</td><td>null</td><td>null</td><td>null</td><td>null</td><td>null</td><td>null</td><td>null</td><td>null</td><td>null</td><td>null</td><td>null</td><td>null</td><td>null</td><td>null</td><td>null</td><td>null</td><td>null</td><td>null</td><td>null</td><td>null</td><td>null</td><td>null</td><td>null</td><td>null</td></tr><tr><td>&quot;max&quot;</td><td>1.503873e6</td><td>&quot;2024-12-31 23:29:15&quot;</td><td>&quot;ŠtudentPIC4&quot;</td><td>&quot;NULL&quot;</td><td>&quot;NULL&quot;</td><td>&quot;NULL&quot;</td><td>&quot;&lt;p&gt;&lt;strong&gt;Motorwvay A1, Marib…</td><td>&quot;&lt;p&gt;Buy vignette for Slovenia o…</td><td>&quot;&lt;p&gt;Traffic of heavy goods vehi…</td><td>&quot;Sneg&quot;</td><td>&quot;&lt;p&gt;Štajersko avtocesto med Rog…</td><td>&quot;Prometni nesreči, oviran prome…</td><td>&quot;&lt;p&gt;Žival na vozišču ovira prom…</td><td>&quot;Zastoji, povečan promet&quot;</td><td>&quot;&lt;p&gt;Žival ovira promet na goren…</td><td>&quot;Zimske razmere&quot;</td><td>&quot;&lt;p&gt;Zimske razmere:&lt;br&gt;- Cesta …</td><td>&quot;okvara avtobusa&quot;</td><td>&quot;&lt;ul&gt;&lt;li&gt;Spolzko vozišče zaradi…</td><td>&quot;Predvidena dela do 20. novembr…</td><td>&quot;&lt;p&gt;Štajerska avtocesta je zapr…</td><td>&quot;Želimo vam&quot;</td><td>&quot;&lt;p&gt;Žival na gorenjski avtocest…</td><td>&quot;tovorni promet&quot;</td><td>&quot;&lt;p&gt;• Zastoj tovornih vozil je …</td><td>&quot;Zimske razmere, obvezne verige&quot;</td><td>&quot;&lt;p&gt;Škofljica - Ig, do 19. ure.…</td></tr></tbody></table></div>"
      ],
      "text/plain": [
       "shape: (9, 28)\n",
       "┌───────────┬───────────┬───────────┬───────────┬───┬───────────┬───────────┬───────────┬──────────┐\n",
       "│ statistic ┆ LegacyId  ┆ Datum     ┆ Operater  ┆ … ┆ TitleMedn ┆ ContentMe ┆ TitleSplo ┆ ContentS │\n",
       "│ ---       ┆ ---       ┆ ---       ┆ ---       ┆   ┆ arodneInf ┆ dnarodneI ┆ snoSLO    ┆ plosnoSL │\n",
       "│ str       ┆ f64       ┆ str       ┆ str       ┆   ┆ ormacijeS ┆ nformacij ┆ ---       ┆ O        │\n",
       "│           ┆           ┆           ┆           ┆   ┆ LO        ┆ eSL…      ┆ str       ┆ ---      │\n",
       "│           ┆           ┆           ┆           ┆   ┆ ---       ┆ ---       ┆           ┆ str      │\n",
       "│           ┆           ┆           ┆           ┆   ┆ str       ┆ str       ┆           ┆          │\n",
       "╞═══════════╪═══════════╪═══════════╪═══════════╪═══╪═══════════╪═══════════╪═══════════╪══════════╡\n",
       "│ count     ┆ 170373.0  ┆ 170373    ┆ 170373    ┆ … ┆ 128351    ┆ 69809     ┆ 160861    ┆ 90886    │\n",
       "│ null_coun ┆ 0.0       ┆ 0         ┆ 0         ┆ … ┆ 42022     ┆ 100564    ┆ 9512      ┆ 79487    │\n",
       "│ t         ┆           ┆           ┆           ┆   ┆           ┆           ┆           ┆          │\n",
       "│ mean      ┆ 1.4018e6  ┆ 2023-07-1 ┆ null      ┆ … ┆ null      ┆ null      ┆ null      ┆ null     │\n",
       "│           ┆           ┆ 1 17:45:2 ┆           ┆   ┆           ┆           ┆           ┆          │\n",
       "│           ┆           ┆ 0.997000  ┆           ┆   ┆           ┆           ┆           ┆          │\n",
       "│ std       ┆ 63377.558 ┆ null      ┆ null      ┆ … ┆ null      ┆ null      ┆ null      ┆ null     │\n",
       "│           ┆ 317       ┆           ┆           ┆   ┆           ┆           ┆           ┆          │\n",
       "│ min       ┆ 1.283516e ┆ 2022-01-0 ┆ DARS      ┆ … ┆           ┆           ┆           ┆          │\n",
       "│           ┆ 6         ┆ 1         ┆ Janko     ┆   ┆           ┆           ┆           ┆          │\n",
       "│           ┆           ┆ 00:07:07  ┆ Poženel,  ┆   ┆           ┆           ┆           ┆          │\n",
       "│           ┆           ┆           ┆ GNC       ┆   ┆           ┆           ┆           ┆          │\n",
       "│ 25%       ┆ 1.346101e ┆ 2022-09-2 ┆ null      ┆ … ┆ null      ┆ null      ┆ null      ┆ null     │\n",
       "│           ┆ 6         ┆ 8         ┆           ┆   ┆           ┆           ┆           ┆          │\n",
       "│           ┆           ┆ 17:09:08  ┆           ┆   ┆           ┆           ┆           ┆          │\n",
       "│ 50%       ┆ 1.408688e ┆ 2023-07-0 ┆ null      ┆ … ┆ null      ┆ null      ┆ null      ┆ null     │\n",
       "│           ┆ 6         ┆ 8         ┆           ┆   ┆           ┆           ┆           ┆          │\n",
       "│           ┆           ┆ 07:47:02  ┆           ┆   ┆           ┆           ┆           ┆          │\n",
       "│ 75%       ┆ 1.46128e6 ┆ 2024-04-2 ┆ null      ┆ … ┆ null      ┆ null      ┆ null      ┆ null     │\n",
       "│           ┆           ┆ 4         ┆           ┆   ┆           ┆           ┆           ┆          │\n",
       "│           ┆           ┆ 13:39:16  ┆           ┆   ┆           ┆           ┆           ┆          │\n",
       "│ max       ┆ 1.503873e ┆ 2024-12-3 ┆ ŠtudentPI ┆ … ┆ tovorni   ┆ <p>•      ┆ Zimske    ┆ <p>Škofl │\n",
       "│           ┆ 6         ┆ 1         ┆ C4        ┆   ┆ promet    ┆ Zastoj    ┆ razmere,  ┆ jica -   │\n",
       "│           ┆           ┆ 23:29:15  ┆           ┆   ┆           ┆ tovornih  ┆ obvezne   ┆ Ig, do   │\n",
       "│           ┆           ┆           ┆           ┆   ┆           ┆ vozil je  ┆ verige    ┆ 19.      │\n",
       "│           ┆           ┆           ┆           ┆   ┆           ┆ …         ┆           ┆ ure.…    │\n",
       "└───────────┴───────────┴───────────┴───────────┴───┴───────────┴───────────┴───────────┴──────────┘"
      ]
     },
     "execution_count": 24,
     "metadata": {},
     "output_type": "execute_result"
    }
   ],
   "source": [
    "df = pl.concat([sheetDfs['2022'], sheetDfs['2023'], sheetDfs['2024']], how=\"vertical\")\n",
    "\n",
    "df.describe()"
   ]
  },
  {
   "cell_type": "code",
   "execution_count": 25,
   "metadata": {},
   "outputs": [
    {
     "data": {
      "text/html": [
       "<div><style>\n",
       ".dataframe > thead > tr,\n",
       ".dataframe > tbody > tr {\n",
       "  text-align: right;\n",
       "  white-space: pre-wrap;\n",
       "}\n",
       "</style>\n",
       "<small>shape: (5, 27)</small><table border=\"1\" class=\"dataframe\"><thead><tr><th>LegacyId</th><th>Datum</th><th>Operater</th><th>A1</th><th>B1</th><th>C1</th><th>A2</th><th>B2</th><th>C2</th><th>TitlePomembnoSLO</th><th>ContentPomembnoSLO</th><th>TitleNesreceSLO</th><th>ContentNesreceSLO</th><th>TitleZastojiSLO</th><th>ContentZastojiSLO</th><th>TitleVremeSLO</th><th>ContentVremeSLO</th><th>TitleOvireSLO</th><th>ContentOvireSLO</th><th>TitleDeloNaCestiSLO</th><th>ContentDeloNaCestiSLO</th><th>TitleOpozorilaSLO</th><th>ContentOpozorilaSLO</th><th>TitleMednarodneInformacijeSLO</th><th>ContentMednarodneInformacijeSLO</th><th>TitleSplosnoSLO</th><th>ContentSplosnoSLO</th></tr><tr><td>i64</td><td>datetime[ms]</td><td>str</td><td>str</td><td>str</td><td>str</td><td>str</td><td>str</td><td>str</td><td>str</td><td>str</td><td>str</td><td>str</td><td>str</td><td>str</td><td>str</td><td>str</td><td>str</td><td>str</td><td>str</td><td>str</td><td>str</td><td>str</td><td>str</td><td>str</td><td>str</td><td>str</td></tr></thead><tbody><tr><td>1283516</td><td>2022-01-01 00:07:07</td><td>&quot;DARS Tjaša Krmac, GNC&quot;</td><td>&quot;NULL&quot;</td><td>&quot;&lt;p&gt;&lt;strong&gt;Vreme&lt;/strong&gt;&lt;/p&gt;&lt;…</td><td>&quot;NULL&quot;</td><td>&quot;&quot;</td><td>&quot;&quot;</td><td>&quot;&quot;</td><td>&quot;&quot;</td><td>&quot;&quot;</td><td>&quot;&quot;</td><td>&quot;&quot;</td><td>&quot;&quot;</td><td>&quot;&quot;</td><td>&quot;&quot;</td><td>&quot;&lt;p&gt;Ponekod po Sloveniji megla …</td><td>&quot;&quot;</td><td>&quot;&quot;</td><td>&quot;Dela&quot;</td><td>&quot;&lt;p&gt;Na primorski avtocesti je p…</td><td>&quot;Omejitve za tovorna vozila&quot;</td><td>&quot;&lt;p&gt;Po Sloveniji velja med praz…</td><td>&quot;&quot;</td><td>&quot;&quot;</td><td>&quot;&quot;</td><td>&quot;&quot;</td></tr><tr><td>1283517</td><td>2022-01-01 00:07:29</td><td>&quot;DARS Tjaša Krmac, GNC&quot;</td><td>&quot;NULL&quot;</td><td>&quot;&lt;p&gt;&lt;strong&gt;Vreme&lt;/strong&gt;&lt;/p&gt;&lt;…</td><td>&quot;NULL&quot;</td><td>&quot;&quot;</td><td>&quot;&quot;</td><td>&quot;&quot;</td><td>&quot;&quot;</td><td>&quot;&quot;</td><td>&quot;&quot;</td><td>&quot;&quot;</td><td>&quot;&quot;</td><td>&quot;&quot;</td><td>&quot;&quot;</td><td>&quot;&lt;p&gt;Ponekod po Sloveniji megla …</td><td>&quot;&quot;</td><td>&quot;&quot;</td><td>&quot;Dela&quot;</td><td>&quot;&lt;p&gt;Na primorski avtocesti je p…</td><td>&quot;Omejitve za tovorna vozila&quot;</td><td>&quot;&lt;p&gt;Po Sloveniji velja med praz…</td><td>&quot;&quot;</td><td>&quot;&quot;</td><td>&quot;&quot;</td><td>&quot;&quot;</td></tr><tr><td>1283518</td><td>2022-01-01 00:07:30</td><td>&quot;DARS Tjaša Krmac, GNC&quot;</td><td>&quot;NULL&quot;</td><td>&quot;&lt;p&gt;&lt;strong&gt;Vreme&lt;/strong&gt;&lt;/p&gt;&lt;…</td><td>&quot;NULL&quot;</td><td>&quot;&quot;</td><td>&quot;&quot;</td><td>&quot;&quot;</td><td>&quot;&quot;</td><td>&quot;&quot;</td><td>&quot;&quot;</td><td>&quot;&quot;</td><td>&quot;&quot;</td><td>&quot;&quot;</td><td>&quot;&quot;</td><td>&quot;&lt;p&gt;Ponekod po Sloveniji megla …</td><td>&quot;&quot;</td><td>&quot;&quot;</td><td>&quot;Dela&quot;</td><td>&quot;&lt;p&gt;Na primorski avtocesti je p…</td><td>&quot;Omejitve za tovorna vozila&quot;</td><td>&quot;&lt;p&gt;Po Sloveniji velja med praz…</td><td>&quot;&quot;</td><td>&quot;&quot;</td><td>&quot;&quot;</td><td>&quot;&quot;</td></tr><tr><td>1283519</td><td>2022-01-01 00:07:36</td><td>&quot;DARS Tjaša Krmac, GNC&quot;</td><td>&quot;NULL&quot;</td><td>&quot;&lt;p&gt;&lt;strong&gt;Vreme&lt;/strong&gt;&lt;/p&gt;&lt;…</td><td>&quot;NULL&quot;</td><td>&quot;&quot;</td><td>&quot;&quot;</td><td>&quot;&quot;</td><td>&quot;&quot;</td><td>&quot;&quot;</td><td>&quot;&quot;</td><td>&quot;&quot;</td><td>&quot;&quot;</td><td>&quot;&quot;</td><td>&quot;&quot;</td><td>&quot;&lt;p&gt;Ponekod po Sloveniji megla …</td><td>&quot;&quot;</td><td>&quot;&quot;</td><td>&quot;Dela&quot;</td><td>&quot;&lt;p&gt;Na primorski avtocesti je p…</td><td>&quot;Omejitve za tovorna vozila&quot;</td><td>&quot;&lt;p&gt;Po Sloveniji velja med praz…</td><td>&quot;&quot;</td><td>&quot;&quot;</td><td>&quot;&quot;</td><td>&quot;&quot;</td></tr><tr><td>1283520</td><td>2022-01-01 00:16:26</td><td>&quot;DARS Tjaša Krmac, GNC&quot;</td><td>&quot;NULL&quot;</td><td>&quot;&lt;p&gt;&lt;strong&gt;Vreme&lt;/strong&gt;&lt;/p&gt;&lt;…</td><td>&quot;NULL&quot;</td><td>&quot;&quot;</td><td>&quot;&quot;</td><td>&quot;&quot;</td><td>&quot;&quot;</td><td>&quot;&quot;</td><td>&quot;&quot;</td><td>&quot;&quot;</td><td>&quot;&quot;</td><td>&quot;&quot;</td><td>&quot;&quot;</td><td>&quot;&lt;p&gt;Ponekod po Sloveniji megla …</td><td>&quot;&quot;</td><td>&quot;&quot;</td><td>&quot;Dela&quot;</td><td>&quot;&lt;p&gt;Na primorski avtocesti je p…</td><td>&quot;Omejitve za tovorna vozila&quot;</td><td>&quot;&lt;p&gt;Po Sloveniji velja med praz…</td><td>&quot;&quot;</td><td>&quot;&quot;</td><td>&quot;&quot;</td><td>&quot;&quot;</td></tr></tbody></table></div>"
      ],
      "text/plain": [
       "shape: (5, 27)\n",
       "┌──────────┬────────────┬────────────┬──────┬───┬────────────┬────────────┬────────────┬───────────┐\n",
       "│ LegacyId ┆ Datum      ┆ Operater   ┆ A1   ┆ … ┆ TitleMedna ┆ ContentMed ┆ TitleSplos ┆ ContentSp │\n",
       "│ ---      ┆ ---        ┆ ---        ┆ ---  ┆   ┆ rodneInfor ┆ narodneInf ┆ noSLO      ┆ losnoSLO  │\n",
       "│ i64      ┆ datetime[m ┆ str        ┆ str  ┆   ┆ macijeSLO  ┆ ormacijeSL ┆ ---        ┆ ---       │\n",
       "│          ┆ s]         ┆            ┆      ┆   ┆ ---        ┆ …          ┆ str        ┆ str       │\n",
       "│          ┆            ┆            ┆      ┆   ┆ str        ┆ ---        ┆            ┆           │\n",
       "│          ┆            ┆            ┆      ┆   ┆            ┆ str        ┆            ┆           │\n",
       "╞══════════╪════════════╪════════════╪══════╪═══╪════════════╪════════════╪════════════╪═══════════╡\n",
       "│ 1283516  ┆ 2022-01-01 ┆ DARS Tjaša ┆ NULL ┆ … ┆            ┆            ┆            ┆           │\n",
       "│          ┆ 00:07:07   ┆ Krmac, GNC ┆      ┆   ┆            ┆            ┆            ┆           │\n",
       "│ 1283517  ┆ 2022-01-01 ┆ DARS Tjaša ┆ NULL ┆ … ┆            ┆            ┆            ┆           │\n",
       "│          ┆ 00:07:29   ┆ Krmac, GNC ┆      ┆   ┆            ┆            ┆            ┆           │\n",
       "│ 1283518  ┆ 2022-01-01 ┆ DARS Tjaša ┆ NULL ┆ … ┆            ┆            ┆            ┆           │\n",
       "│          ┆ 00:07:30   ┆ Krmac, GNC ┆      ┆   ┆            ┆            ┆            ┆           │\n",
       "│ 1283519  ┆ 2022-01-01 ┆ DARS Tjaša ┆ NULL ┆ … ┆            ┆            ┆            ┆           │\n",
       "│          ┆ 00:07:36   ┆ Krmac, GNC ┆      ┆   ┆            ┆            ┆            ┆           │\n",
       "│ 1283520  ┆ 2022-01-01 ┆ DARS Tjaša ┆ NULL ┆ … ┆            ┆            ┆            ┆           │\n",
       "│          ┆ 00:16:26   ┆ Krmac, GNC ┆      ┆   ┆            ┆            ┆            ┆           │\n",
       "└──────────┴────────────┴────────────┴──────┴───┴────────────┴────────────┴────────────┴───────────┘"
      ]
     },
     "execution_count": 25,
     "metadata": {},
     "output_type": "execute_result"
    }
   ],
   "source": [
    "df.head()"
   ]
  },
  {
   "cell_type": "code",
   "execution_count": 26,
   "metadata": {},
   "outputs": [],
   "source": [
    "df = df.with_columns(pl.col(pl.String).replace(\"\", None))\n",
    "df = df.with_columns(pl.col(pl.String).replace(\"NULL\", None))"
   ]
  },
  {
   "cell_type": "code",
   "execution_count": 27,
   "metadata": {},
   "outputs": [
    {
     "data": {
      "text/html": [
       "<div><style>\n",
       ".dataframe > thead > tr,\n",
       ".dataframe > tbody > tr {\n",
       "  text-align: right;\n",
       "  white-space: pre-wrap;\n",
       "}\n",
       "</style>\n",
       "<small>shape: (5, 27)</small><table border=\"1\" class=\"dataframe\"><thead><tr><th>LegacyId</th><th>Datum</th><th>Operater</th><th>A1</th><th>B1</th><th>C1</th><th>A2</th><th>B2</th><th>C2</th><th>TitlePomembnoSLO</th><th>ContentPomembnoSLO</th><th>TitleNesreceSLO</th><th>ContentNesreceSLO</th><th>TitleZastojiSLO</th><th>ContentZastojiSLO</th><th>TitleVremeSLO</th><th>ContentVremeSLO</th><th>TitleOvireSLO</th><th>ContentOvireSLO</th><th>TitleDeloNaCestiSLO</th><th>ContentDeloNaCestiSLO</th><th>TitleOpozorilaSLO</th><th>ContentOpozorilaSLO</th><th>TitleMednarodneInformacijeSLO</th><th>ContentMednarodneInformacijeSLO</th><th>TitleSplosnoSLO</th><th>ContentSplosnoSLO</th></tr><tr><td>i64</td><td>datetime[ms]</td><td>str</td><td>str</td><td>str</td><td>str</td><td>str</td><td>str</td><td>str</td><td>str</td><td>str</td><td>str</td><td>str</td><td>str</td><td>str</td><td>str</td><td>str</td><td>str</td><td>str</td><td>str</td><td>str</td><td>str</td><td>str</td><td>str</td><td>str</td><td>str</td><td>str</td></tr></thead><tbody><tr><td>1283516</td><td>2022-01-01 00:07:07</td><td>&quot;DARS Tjaša Krmac, GNC&quot;</td><td>null</td><td>&quot;&lt;p&gt;&lt;strong&gt;Vreme&lt;/strong&gt;&lt;/p&gt;&lt;…</td><td>null</td><td>null</td><td>null</td><td>null</td><td>null</td><td>null</td><td>null</td><td>null</td><td>null</td><td>null</td><td>null</td><td>&quot;&lt;p&gt;Ponekod po Sloveniji megla …</td><td>null</td><td>null</td><td>&quot;Dela&quot;</td><td>&quot;&lt;p&gt;Na primorski avtocesti je p…</td><td>&quot;Omejitve za tovorna vozila&quot;</td><td>&quot;&lt;p&gt;Po Sloveniji velja med praz…</td><td>null</td><td>null</td><td>null</td><td>null</td></tr><tr><td>1283517</td><td>2022-01-01 00:07:29</td><td>&quot;DARS Tjaša Krmac, GNC&quot;</td><td>null</td><td>&quot;&lt;p&gt;&lt;strong&gt;Vreme&lt;/strong&gt;&lt;/p&gt;&lt;…</td><td>null</td><td>null</td><td>null</td><td>null</td><td>null</td><td>null</td><td>null</td><td>null</td><td>null</td><td>null</td><td>null</td><td>&quot;&lt;p&gt;Ponekod po Sloveniji megla …</td><td>null</td><td>null</td><td>&quot;Dela&quot;</td><td>&quot;&lt;p&gt;Na primorski avtocesti je p…</td><td>&quot;Omejitve za tovorna vozila&quot;</td><td>&quot;&lt;p&gt;Po Sloveniji velja med praz…</td><td>null</td><td>null</td><td>null</td><td>null</td></tr><tr><td>1283518</td><td>2022-01-01 00:07:30</td><td>&quot;DARS Tjaša Krmac, GNC&quot;</td><td>null</td><td>&quot;&lt;p&gt;&lt;strong&gt;Vreme&lt;/strong&gt;&lt;/p&gt;&lt;…</td><td>null</td><td>null</td><td>null</td><td>null</td><td>null</td><td>null</td><td>null</td><td>null</td><td>null</td><td>null</td><td>null</td><td>&quot;&lt;p&gt;Ponekod po Sloveniji megla …</td><td>null</td><td>null</td><td>&quot;Dela&quot;</td><td>&quot;&lt;p&gt;Na primorski avtocesti je p…</td><td>&quot;Omejitve za tovorna vozila&quot;</td><td>&quot;&lt;p&gt;Po Sloveniji velja med praz…</td><td>null</td><td>null</td><td>null</td><td>null</td></tr><tr><td>1283519</td><td>2022-01-01 00:07:36</td><td>&quot;DARS Tjaša Krmac, GNC&quot;</td><td>null</td><td>&quot;&lt;p&gt;&lt;strong&gt;Vreme&lt;/strong&gt;&lt;/p&gt;&lt;…</td><td>null</td><td>null</td><td>null</td><td>null</td><td>null</td><td>null</td><td>null</td><td>null</td><td>null</td><td>null</td><td>null</td><td>&quot;&lt;p&gt;Ponekod po Sloveniji megla …</td><td>null</td><td>null</td><td>&quot;Dela&quot;</td><td>&quot;&lt;p&gt;Na primorski avtocesti je p…</td><td>&quot;Omejitve za tovorna vozila&quot;</td><td>&quot;&lt;p&gt;Po Sloveniji velja med praz…</td><td>null</td><td>null</td><td>null</td><td>null</td></tr><tr><td>1283520</td><td>2022-01-01 00:16:26</td><td>&quot;DARS Tjaša Krmac, GNC&quot;</td><td>null</td><td>&quot;&lt;p&gt;&lt;strong&gt;Vreme&lt;/strong&gt;&lt;/p&gt;&lt;…</td><td>null</td><td>null</td><td>null</td><td>null</td><td>null</td><td>null</td><td>null</td><td>null</td><td>null</td><td>null</td><td>null</td><td>&quot;&lt;p&gt;Ponekod po Sloveniji megla …</td><td>null</td><td>null</td><td>&quot;Dela&quot;</td><td>&quot;&lt;p&gt;Na primorski avtocesti je p…</td><td>&quot;Omejitve za tovorna vozila&quot;</td><td>&quot;&lt;p&gt;Po Sloveniji velja med praz…</td><td>null</td><td>null</td><td>null</td><td>null</td></tr></tbody></table></div>"
      ],
      "text/plain": [
       "shape: (5, 27)\n",
       "┌──────────┬────────────┬────────────┬──────┬───┬────────────┬────────────┬────────────┬───────────┐\n",
       "│ LegacyId ┆ Datum      ┆ Operater   ┆ A1   ┆ … ┆ TitleMedna ┆ ContentMed ┆ TitleSplos ┆ ContentSp │\n",
       "│ ---      ┆ ---        ┆ ---        ┆ ---  ┆   ┆ rodneInfor ┆ narodneInf ┆ noSLO      ┆ losnoSLO  │\n",
       "│ i64      ┆ datetime[m ┆ str        ┆ str  ┆   ┆ macijeSLO  ┆ ormacijeSL ┆ ---        ┆ ---       │\n",
       "│          ┆ s]         ┆            ┆      ┆   ┆ ---        ┆ …          ┆ str        ┆ str       │\n",
       "│          ┆            ┆            ┆      ┆   ┆ str        ┆ ---        ┆            ┆           │\n",
       "│          ┆            ┆            ┆      ┆   ┆            ┆ str        ┆            ┆           │\n",
       "╞══════════╪════════════╪════════════╪══════╪═══╪════════════╪════════════╪════════════╪═══════════╡\n",
       "│ 1283516  ┆ 2022-01-01 ┆ DARS Tjaša ┆ null ┆ … ┆ null       ┆ null       ┆ null       ┆ null      │\n",
       "│          ┆ 00:07:07   ┆ Krmac, GNC ┆      ┆   ┆            ┆            ┆            ┆           │\n",
       "│ 1283517  ┆ 2022-01-01 ┆ DARS Tjaša ┆ null ┆ … ┆ null       ┆ null       ┆ null       ┆ null      │\n",
       "│          ┆ 00:07:29   ┆ Krmac, GNC ┆      ┆   ┆            ┆            ┆            ┆           │\n",
       "│ 1283518  ┆ 2022-01-01 ┆ DARS Tjaša ┆ null ┆ … ┆ null       ┆ null       ┆ null       ┆ null      │\n",
       "│          ┆ 00:07:30   ┆ Krmac, GNC ┆      ┆   ┆            ┆            ┆            ┆           │\n",
       "│ 1283519  ┆ 2022-01-01 ┆ DARS Tjaša ┆ null ┆ … ┆ null       ┆ null       ┆ null       ┆ null      │\n",
       "│          ┆ 00:07:36   ┆ Krmac, GNC ┆      ┆   ┆            ┆            ┆            ┆           │\n",
       "│ 1283520  ┆ 2022-01-01 ┆ DARS Tjaša ┆ null ┆ … ┆ null       ┆ null       ┆ null       ┆ null      │\n",
       "│          ┆ 00:16:26   ┆ Krmac, GNC ┆      ┆   ┆            ┆            ┆            ┆           │\n",
       "└──────────┴────────────┴────────────┴──────┴───┴────────────┴────────────┴────────────┴───────────┘"
      ]
     },
     "execution_count": 27,
     "metadata": {},
     "output_type": "execute_result"
    }
   ],
   "source": [
    "df.head()"
   ]
  },
  {
   "cell_type": "code",
   "execution_count": 28,
   "metadata": {},
   "outputs": [],
   "source": [
    "from lxml.html import fragments_fromstring, HtmlElement\n",
    "\n",
    "def extractText(s):\n",
    "    if s == \"\" or s == \" \":\n",
    "        return \"\"\n",
    "    \n",
    "    extracted_strings = []\n",
    "    for fragment in fragments_fromstring(s):\n",
    "        if type(fragment) == HtmlElement:\n",
    "            extracted_strings.append(fragment.text_content().strip())\n",
    "        else:\n",
    "            extracted_strings.append(fragment.strip())\n",
    "\n",
    "    return \" \\n\\n \".join(extracted_strings)"
   ]
  },
  {
   "cell_type": "code",
   "execution_count": 29,
   "metadata": {},
   "outputs": [
    {
     "data": {
      "text/plain": [
       "'<p><strong>Vreme</strong></p><p>Ponekod po Sloveniji megla v pasovih zmanjšuje vidljivost. Prilagodite hitrost!</p><p><strong>Omejitve za tovorna vozila</strong></p><p>Po Sloveniji velja med prazniki omejitev za tovorna vozila z največjo dovoljeno maso nad 7,5 ton:<br>- v soboto, 1. 1., od 8. do 22. ure;<br>- v nedeljo, 2. 1., od 8. do 22. ure.</p><p>Od 30. decembra je v veljavi sprememba omejitve za tovorna vozila nad 7,5 ton. <a href=\"https://www.promet.si/sl/splosne-omejitve\" target=\"_blank\">Več.</a></p><p><strong>Dela</strong></p><p>Na primorski avtocesti je ponovno odprt priključek <strong>Črni</strong><strong> Kal </strong>v obe smeri.</p>'"
      ]
     },
     "execution_count": 29,
     "metadata": {},
     "output_type": "execute_result"
    }
   ],
   "source": [
    "df[0][\"B1\"][0]"
   ]
  },
  {
   "cell_type": "code",
   "execution_count": 30,
   "metadata": {},
   "outputs": [
    {
     "data": {
      "text/plain": [
       "'Vreme \\n\\n Ponekod po Sloveniji megla v pasovih zmanjšuje vidljivost. Prilagodite hitrost! \\n\\n Omejitve za tovorna vozila \\n\\n Po Sloveniji velja med prazniki omejitev za tovorna vozila z največjo dovoljeno maso nad 7,5 ton:- v soboto, 1. 1., od 8. do 22. ure;- v nedeljo, 2. 1., od 8. do 22. ure. \\n\\n Od 30. decembra je v veljavi sprememba omejitve za tovorna vozila nad 7,5 ton. Več. \\n\\n Dela \\n\\n Na primorski avtocesti je ponovno odprt priključek Črni Kal v obe smeri.'"
      ]
     },
     "execution_count": 30,
     "metadata": {},
     "output_type": "execute_result"
    }
   ],
   "source": [
    "extractText(df[0][\"B1\"][0])"
   ]
  },
  {
   "cell_type": "code",
   "execution_count": 31,
   "metadata": {},
   "outputs": [
    {
     "data": {
      "text/plain": [
       "['LegacyId',\n",
       " 'Datum',\n",
       " 'Operater',\n",
       " 'A1',\n",
       " 'B1',\n",
       " 'C1',\n",
       " 'A2',\n",
       " 'B2',\n",
       " 'C2',\n",
       " 'TitlePomembnoSLO',\n",
       " 'ContentPomembnoSLO',\n",
       " 'TitleNesreceSLO',\n",
       " 'ContentNesreceSLO',\n",
       " 'TitleZastojiSLO',\n",
       " 'ContentZastojiSLO',\n",
       " 'TitleVremeSLO',\n",
       " 'ContentVremeSLO',\n",
       " 'TitleOvireSLO',\n",
       " 'ContentOvireSLO',\n",
       " 'TitleDeloNaCestiSLO',\n",
       " 'ContentDeloNaCestiSLO',\n",
       " 'TitleOpozorilaSLO',\n",
       " 'ContentOpozorilaSLO',\n",
       " 'TitleMednarodneInformacijeSLO',\n",
       " 'ContentMednarodneInformacijeSLO',\n",
       " 'TitleSplosnoSLO',\n",
       " 'ContentSplosnoSLO']"
      ]
     },
     "execution_count": 31,
     "metadata": {},
     "output_type": "execute_result"
    }
   ],
   "source": [
    "df.columns"
   ]
  },
  {
   "cell_type": "markdown",
   "metadata": {},
   "source": [
    "From the data, we can see that A1, B1, C1, A2, B2, C2 are generated from the rest of the columns TitleXXX and ContentXXX in pairs."
   ]
  },
  {
   "cell_type": "code",
   "execution_count": 32,
   "metadata": {},
   "outputs": [],
   "source": [
    "# strip html tags from important columns\n",
    "\n",
    "df = df.with_columns([\n",
    "    \n",
    "   pl.col('A1').map_elements(lambda x: extractText(x), return_dtype=pl.String),\n",
    "   pl.col('B1').map_elements(lambda x: extractText(x), return_dtype=pl.String),\n",
    "   pl.col('C1').map_elements(lambda x: extractText(x), return_dtype=pl.String),\n",
    "\n",
    "   pl.col('TitlePomembnoSLO').map_elements(lambda x: extractText(x), return_dtype=pl.String),\n",
    "   pl.col('ContentPomembnoSLO').map_elements(lambda x: extractText(x), return_dtype=pl.String),\n",
    "\n",
    "   pl.col('TitleNesreceSLO').map_elements(lambda x: extractText(x), return_dtype=pl.String),\n",
    "   pl.col('ContentNesreceSLO').map_elements(lambda x: extractText(x), return_dtype=pl.String),\n",
    "\n",
    "   pl.col('TitleZastojiSLO').map_elements(lambda x: extractText(x), return_dtype=pl.String),\n",
    "   pl.col('ContentZastojiSLO').map_elements(lambda x: extractText(x), return_dtype=pl.String),\n",
    "\n",
    "   pl.col('TitleVremeSLO').map_elements(lambda x: extractText(x), return_dtype=pl.String),\n",
    "   pl.col('ContentVremeSLO').map_elements(lambda x: extractText(x), return_dtype=pl.String),\n",
    "\n",
    "   pl.col('TitleOvireSLO').map_elements(lambda x: extractText(x), return_dtype=pl.String),\n",
    "   pl.col('ContentOvireSLO').map_elements(lambda x: extractText(x), return_dtype=pl.String),\n",
    "\n",
    "   pl.col('TitleDeloNaCestiSLO').map_elements(lambda x: extractText(x), return_dtype=pl.String),\n",
    "   pl.col('ContentDeloNaCestiSLO').map_elements(lambda x: extractText(x), return_dtype=pl.String),\n",
    "\n",
    "   pl.col('TitleOpozorilaSLO').map_elements(lambda x: extractText(x), return_dtype=pl.String),\n",
    "   pl.col('ContentOpozorilaSLO').map_elements(lambda x: extractText(x), return_dtype=pl.String),\n",
    "\n",
    "   pl.col('TitleMednarodneInformacijeSLO').map_elements(lambda x: extractText(x), return_dtype=pl.String),\n",
    "   pl.col('ContentMednarodneInformacijeSLO').map_elements(lambda x: extractText(x), return_dtype=pl.String),\n",
    "\n",
    "   pl.col('TitleSplosnoSLO').map_elements(lambda x: extractText(x), return_dtype=pl.String),\n",
    "   pl.col('ContentSplosnoSLO').map_elements(lambda x: extractText(x), return_dtype=pl.String),\n",
    "    \n",
    "])"
   ]
  },
  {
   "cell_type": "code",
   "execution_count": 33,
   "metadata": {},
   "outputs": [],
   "source": [
    "# remove non-important (for now) columns and english translations\n",
    "\n",
    "df = df.drop([\"Operater\", \"A2\", \"B2\", \"C2\"])"
   ]
  },
  {
   "cell_type": "code",
   "execution_count": 34,
   "metadata": {},
   "outputs": [],
   "source": [
    "from datetime import datetime\n",
    "\n",
    "def parseInputDate(dateString):\n",
    "    # https://docs.python.org/3/library/datetime.html#strftime-and-strptime-format-codes\n",
    "    possible_formats = [\n",
    "        '%Y-%m-%d %H:%M:%S',\n",
    "    ]\n",
    "\n",
    "    date = \"0000-00-00\"\n",
    "    time = \"00:00:00\"\n",
    "   \n",
    "    if type(dateString) == datetime:\n",
    "        dateString = dateString.strftime(\"%Y-%m-%d %H:%M:%S\")\n",
    "    \n",
    "\n",
    "    dt_string = dateString.replace(\".000\", \"\").replace(\"T\", \" \")\n",
    "    \n",
    "    for fmt in possible_formats:\n",
    "        try:\n",
    "            dt = datetime.strptime(dt_string, fmt)\n",
    "            date = dt.strftime('%Y-%m-%d')\n",
    "            time = dt.strftime('%H:%M:%S')\n",
    "            break\n",
    "        except ValueError:\n",
    "            continue\n",
    "\n",
    "    return {\n",
    "        'datetime': date + \" \" + time\n",
    "    }"
   ]
  },
  {
   "cell_type": "code",
   "execution_count": 35,
   "metadata": {},
   "outputs": [],
   "source": [
    "import uuid\n",
    "\n",
    "def generate_id(content):\n",
    "    return str(uuid.uuid5(uuid.NAMESPACE_URL, content))"
   ]
  },
  {
   "cell_type": "code",
   "execution_count": 36,
   "metadata": {},
   "outputs": [],
   "source": [
    "df = df.with_columns([\n",
    "    (pl.col(\"Datum\").map_elements(lambda x: parseInputDate(x)['datetime'], return_dtype=pl.String).alias('datetime')),\n",
    "    (pl.col(\"Datum\").map_elements(lambda x: generate_id(str(x)), return_dtype=pl.String).alias('id')),\n",
    "])"
   ]
  },
  {
   "cell_type": "code",
   "execution_count": 37,
   "metadata": {},
   "outputs": [],
   "source": [
    "df = df.drop([\"LegacyId\", \"Datum\"])"
   ]
  },
  {
   "cell_type": "code",
   "execution_count": 38,
   "metadata": {},
   "outputs": [],
   "source": [
    "df = df.select([\"id\", \"datetime\"] + [col for col in df.columns if (col != \"datetime\" and col != \"id\")])"
   ]
  },
  {
   "cell_type": "code",
   "execution_count": 39,
   "metadata": {},
   "outputs": [],
   "source": [
    "df = df.sort(\"datetime\")"
   ]
  },
  {
   "cell_type": "code",
   "execution_count": 40,
   "metadata": {},
   "outputs": [
    {
     "data": {
      "text/html": [
       "<div><style>\n",
       ".dataframe > thead > tr,\n",
       ".dataframe > tbody > tr {\n",
       "  text-align: right;\n",
       "  white-space: pre-wrap;\n",
       "}\n",
       "</style>\n",
       "<small>shape: (5, 23)</small><table border=\"1\" class=\"dataframe\"><thead><tr><th>id</th><th>datetime</th><th>A1</th><th>B1</th><th>C1</th><th>TitlePomembnoSLO</th><th>ContentPomembnoSLO</th><th>TitleNesreceSLO</th><th>ContentNesreceSLO</th><th>TitleZastojiSLO</th><th>ContentZastojiSLO</th><th>TitleVremeSLO</th><th>ContentVremeSLO</th><th>TitleOvireSLO</th><th>ContentOvireSLO</th><th>TitleDeloNaCestiSLO</th><th>ContentDeloNaCestiSLO</th><th>TitleOpozorilaSLO</th><th>ContentOpozorilaSLO</th><th>TitleMednarodneInformacijeSLO</th><th>ContentMednarodneInformacijeSLO</th><th>TitleSplosnoSLO</th><th>ContentSplosnoSLO</th></tr><tr><td>str</td><td>str</td><td>str</td><td>str</td><td>str</td><td>str</td><td>str</td><td>str</td><td>str</td><td>str</td><td>str</td><td>str</td><td>str</td><td>str</td><td>str</td><td>str</td><td>str</td><td>str</td><td>str</td><td>str</td><td>str</td><td>str</td><td>str</td></tr></thead><tbody><tr><td>&quot;00ba9265-8dfa-5b5f-a3eb-8a79e2…</td><td>&quot;2022-01-01 00:07:07&quot;</td><td>null</td><td>&quot;Vreme \n",
       "\n",
       " Ponekod po Sloveniji …</td><td>null</td><td>null</td><td>null</td><td>null</td><td>null</td><td>null</td><td>null</td><td>null</td><td>&quot;Ponekod po Sloveniji megla v p…</td><td>null</td><td>null</td><td>&quot;Dela&quot;</td><td>&quot;Na primorski avtocesti je pono…</td><td>&quot;Omejitve za tovorna vozila&quot;</td><td>&quot;Po Sloveniji velja med praznik…</td><td>null</td><td>null</td><td>null</td><td>null</td></tr><tr><td>&quot;b0486872-bbdb-5140-bac1-b11587…</td><td>&quot;2022-01-01 00:07:29&quot;</td><td>null</td><td>&quot;Vreme \n",
       "\n",
       " Ponekod po Sloveniji …</td><td>null</td><td>null</td><td>null</td><td>null</td><td>null</td><td>null</td><td>null</td><td>null</td><td>&quot;Ponekod po Sloveniji megla v p…</td><td>null</td><td>null</td><td>&quot;Dela&quot;</td><td>&quot;Na primorski avtocesti je pono…</td><td>&quot;Omejitve za tovorna vozila&quot;</td><td>&quot;Po Sloveniji velja med praznik…</td><td>null</td><td>null</td><td>null</td><td>null</td></tr><tr><td>&quot;b2c448e1-e764-547f-bfa3-4b83cd…</td><td>&quot;2022-01-01 00:07:30&quot;</td><td>null</td><td>&quot;Vreme \n",
       "\n",
       " Ponekod po Sloveniji …</td><td>null</td><td>null</td><td>null</td><td>null</td><td>null</td><td>null</td><td>null</td><td>null</td><td>&quot;Ponekod po Sloveniji megla v p…</td><td>null</td><td>null</td><td>&quot;Dela&quot;</td><td>&quot;Na primorski avtocesti je pono…</td><td>&quot;Omejitve za tovorna vozila&quot;</td><td>&quot;Po Sloveniji velja med praznik…</td><td>null</td><td>null</td><td>null</td><td>null</td></tr><tr><td>&quot;d5d4f176-58ff-5ebc-a8a7-404b54…</td><td>&quot;2022-01-01 00:07:36&quot;</td><td>null</td><td>&quot;Vreme \n",
       "\n",
       " Ponekod po Sloveniji …</td><td>null</td><td>null</td><td>null</td><td>null</td><td>null</td><td>null</td><td>null</td><td>null</td><td>&quot;Ponekod po Sloveniji megla v p…</td><td>null</td><td>null</td><td>&quot;Dela&quot;</td><td>&quot;Na primorski avtocesti je pono…</td><td>&quot;Omejitve za tovorna vozila&quot;</td><td>&quot;Po Sloveniji velja med praznik…</td><td>null</td><td>null</td><td>null</td><td>null</td></tr><tr><td>&quot;9bff469f-a01b-58f8-a399-e39f58…</td><td>&quot;2022-01-01 00:16:26&quot;</td><td>null</td><td>&quot;Vreme \n",
       "\n",
       " Ponekod po Sloveniji …</td><td>null</td><td>null</td><td>null</td><td>null</td><td>null</td><td>null</td><td>null</td><td>null</td><td>&quot;Ponekod po Sloveniji megla v p…</td><td>null</td><td>null</td><td>&quot;Dela&quot;</td><td>&quot;Na primorski avtocesti je pono…</td><td>&quot;Omejitve za tovorna vozila&quot;</td><td>&quot;Po Sloveniji velja med praznik…</td><td>null</td><td>null</td><td>null</td><td>null</td></tr></tbody></table></div>"
      ],
      "text/plain": [
       "shape: (5, 23)\n",
       "┌────────────┬────────────┬──────┬────────────┬───┬────────────┬───────────┬───────────┬───────────┐\n",
       "│ id         ┆ datetime   ┆ A1   ┆ B1         ┆ … ┆ TitleMedna ┆ ContentMe ┆ TitleSplo ┆ ContentSp │\n",
       "│ ---        ┆ ---        ┆ ---  ┆ ---        ┆   ┆ rodneInfor ┆ dnarodneI ┆ snoSLO    ┆ losnoSLO  │\n",
       "│ str        ┆ str        ┆ str  ┆ str        ┆   ┆ macijeSLO  ┆ nformacij ┆ ---       ┆ ---       │\n",
       "│            ┆            ┆      ┆            ┆   ┆ ---        ┆ eSL…      ┆ str       ┆ str       │\n",
       "│            ┆            ┆      ┆            ┆   ┆ str        ┆ ---       ┆           ┆           │\n",
       "│            ┆            ┆      ┆            ┆   ┆            ┆ str       ┆           ┆           │\n",
       "╞════════════╪════════════╪══════╪════════════╪═══╪════════════╪═══════════╪═══════════╪═══════════╡\n",
       "│ 00ba9265-8 ┆ 2022-01-01 ┆ null ┆ Vreme      ┆ … ┆ null       ┆ null      ┆ null      ┆ null      │\n",
       "│ dfa-5b5f-a ┆ 00:07:07   ┆      ┆            ┆   ┆            ┆           ┆           ┆           │\n",
       "│ 3eb-8a79e2 ┆            ┆      ┆ Ponekod po ┆   ┆            ┆           ┆           ┆           │\n",
       "│ …          ┆            ┆      ┆ Sloveniji  ┆   ┆            ┆           ┆           ┆           │\n",
       "│            ┆            ┆      ┆ …          ┆   ┆            ┆           ┆           ┆           │\n",
       "│ b0486872-b ┆ 2022-01-01 ┆ null ┆ Vreme      ┆ … ┆ null       ┆ null      ┆ null      ┆ null      │\n",
       "│ bdb-5140-b ┆ 00:07:29   ┆      ┆            ┆   ┆            ┆           ┆           ┆           │\n",
       "│ ac1-b11587 ┆            ┆      ┆ Ponekod po ┆   ┆            ┆           ┆           ┆           │\n",
       "│ …          ┆            ┆      ┆ Sloveniji  ┆   ┆            ┆           ┆           ┆           │\n",
       "│            ┆            ┆      ┆ …          ┆   ┆            ┆           ┆           ┆           │\n",
       "│ b2c448e1-e ┆ 2022-01-01 ┆ null ┆ Vreme      ┆ … ┆ null       ┆ null      ┆ null      ┆ null      │\n",
       "│ 764-547f-b ┆ 00:07:30   ┆      ┆            ┆   ┆            ┆           ┆           ┆           │\n",
       "│ fa3-4b83cd ┆            ┆      ┆ Ponekod po ┆   ┆            ┆           ┆           ┆           │\n",
       "│ …          ┆            ┆      ┆ Sloveniji  ┆   ┆            ┆           ┆           ┆           │\n",
       "│            ┆            ┆      ┆ …          ┆   ┆            ┆           ┆           ┆           │\n",
       "│ d5d4f176-5 ┆ 2022-01-01 ┆ null ┆ Vreme      ┆ … ┆ null       ┆ null      ┆ null      ┆ null      │\n",
       "│ 8ff-5ebc-a ┆ 00:07:36   ┆      ┆            ┆   ┆            ┆           ┆           ┆           │\n",
       "│ 8a7-404b54 ┆            ┆      ┆ Ponekod po ┆   ┆            ┆           ┆           ┆           │\n",
       "│ …          ┆            ┆      ┆ Sloveniji  ┆   ┆            ┆           ┆           ┆           │\n",
       "│            ┆            ┆      ┆ …          ┆   ┆            ┆           ┆           ┆           │\n",
       "│ 9bff469f-a ┆ 2022-01-01 ┆ null ┆ Vreme      ┆ … ┆ null       ┆ null      ┆ null      ┆ null      │\n",
       "│ 01b-58f8-a ┆ 00:16:26   ┆      ┆            ┆   ┆            ┆           ┆           ┆           │\n",
       "│ 399-e39f58 ┆            ┆      ┆ Ponekod po ┆   ┆            ┆           ┆           ┆           │\n",
       "│ …          ┆            ┆      ┆ Sloveniji  ┆   ┆            ┆           ┆           ┆           │\n",
       "│            ┆            ┆      ┆ …          ┆   ┆            ┆           ┆           ┆           │\n",
       "└────────────┴────────────┴──────┴────────────┴───┴────────────┴───────────┴───────────┴───────────┘"
      ]
     },
     "execution_count": 40,
     "metadata": {},
     "output_type": "execute_result"
    }
   ],
   "source": [
    "df.head()"
   ]
  },
  {
   "cell_type": "code",
   "execution_count": 41,
   "metadata": {},
   "outputs": [],
   "source": [
    "df.write_csv(\"../data/inputs-clean.csv\")"
   ]
  },
  {
   "cell_type": "code",
   "execution_count": 42,
   "metadata": {},
   "outputs": [
    {
     "data": {
      "text/plain": [
       "{'id': '00ba9265-8dfa-5b5f-a3eb-8a79e25c5902',\n",
       " 'datetime': '2022-01-01 00:07:07',\n",
       " 'A1': None,\n",
       " 'B1': 'Vreme \\n\\n Ponekod po Sloveniji megla v pasovih zmanjšuje vidljivost. Prilagodite hitrost! \\n\\n Omejitve za tovorna vozila \\n\\n Po Sloveniji velja med prazniki omejitev za tovorna vozila z največjo dovoljeno maso nad 7,5 ton:- v soboto, 1. 1., od 8. do 22. ure;- v nedeljo, 2. 1., od 8. do 22. ure. \\n\\n Od 30. decembra je v veljavi sprememba omejitve za tovorna vozila nad 7,5 ton. Več. \\n\\n Dela \\n\\n Na primorski avtocesti je ponovno odprt priključek Črni Kal v obe smeri.',\n",
       " 'C1': None,\n",
       " 'TitlePomembnoSLO': None,\n",
       " 'ContentPomembnoSLO': None,\n",
       " 'TitleNesreceSLO': None,\n",
       " 'ContentNesreceSLO': None,\n",
       " 'TitleZastojiSLO': None,\n",
       " 'ContentZastojiSLO': None,\n",
       " 'TitleVremeSLO': None,\n",
       " 'ContentVremeSLO': 'Ponekod po Sloveniji megla v pasovih zmanjšuje vidljivost. Prilagodite hitrost!',\n",
       " 'TitleOvireSLO': None,\n",
       " 'ContentOvireSLO': None,\n",
       " 'TitleDeloNaCestiSLO': 'Dela',\n",
       " 'ContentDeloNaCestiSLO': 'Na primorski avtocesti je ponovno odprt priključek Črni Kal v obe smeri.',\n",
       " 'TitleOpozorilaSLO': 'Omejitve za tovorna vozila',\n",
       " 'ContentOpozorilaSLO': 'Po Sloveniji velja med prazniki omejitev za tovorna vozila z največjo dovoljeno maso nad 7,5 ton:- v soboto, 1. 1., od 8. do 22. ure;- v nedeljo, 2. 1., od 8. do 22. ure. \\n\\n Od 30. decembra je v veljavi sprememba omejitve za tovorna vozila nad 7,5 ton. Več.',\n",
       " 'TitleMednarodneInformacijeSLO': None,\n",
       " 'ContentMednarodneInformacijeSLO': None,\n",
       " 'TitleSplosnoSLO': None,\n",
       " 'ContentSplosnoSLO': None}"
      ]
     },
     "execution_count": 42,
     "metadata": {},
     "output_type": "execute_result"
    }
   ],
   "source": [
    "df.row(0, named=True)"
   ]
  }
 ],
 "metadata": {
  "kernelspec": {
   "display_name": ".venv",
   "language": "python",
   "name": "python3"
  },
  "language_info": {
   "codemirror_mode": {
    "name": "ipython",
    "version": 3
   },
   "file_extension": ".py",
   "mimetype": "text/x-python",
   "name": "python",
   "nbconvert_exporter": "python",
   "pygments_lexer": "ipython3",
   "version": "3.12.9"
  }
 },
 "nbformat": 4,
 "nbformat_minor": 2
}

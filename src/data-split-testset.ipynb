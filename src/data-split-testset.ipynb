{
 "cells": [
  {
   "cell_type": "code",
   "execution_count": 1,
   "metadata": {},
   "outputs": [],
   "source": [
    "import polars as pl\n",
    "\n",
    "from sklearn.model_selection import train_test_split"
   ]
  },
  {
   "cell_type": "markdown",
   "metadata": {},
   "source": [
    "### Split test on validation and test\n",
    "\n",
    "...\n",
    "\n",
    "### Extract a portion of dataset-test as dataset-test-mini"
   ]
  },
  {
   "cell_type": "code",
   "execution_count": 2,
   "metadata": {},
   "outputs": [],
   "source": [
    "test = pl.read_csv(\"../data/dataset-test.csv\")"
   ]
  },
  {
   "cell_type": "code",
   "execution_count": 3,
   "metadata": {},
   "outputs": [],
   "source": [
    "unique_outputs = test.select([\"id_output\", \"datetime_output\"]).unique(subset=\"id_output\", maintain_order=True)"
   ]
  },
  {
   "cell_type": "code",
   "execution_count": 4,
   "metadata": {},
   "outputs": [],
   "source": [
    "large_subset, small_subset = train_test_split(unique_outputs, test_size=0.05, shuffle=False)"
   ]
  },
  {
   "cell_type": "code",
   "execution_count": 5,
   "metadata": {},
   "outputs": [],
   "source": [
    "df_test = test.filter(\n",
    "    pl.col(\"id_output\").is_in(small_subset[\"id_output\"]),\n",
    ")"
   ]
  },
  {
   "cell_type": "code",
   "execution_count": 6,
   "metadata": {},
   "outputs": [],
   "source": [
    "df_test.write_csv(\"../data/dataset-test-mini.csv\")"
   ]
  },
  {
   "cell_type": "code",
   "execution_count": 7,
   "metadata": {},
   "outputs": [
    {
     "data": {
      "text/html": [
       "<div><style>\n",
       ".dataframe > thead > tr,\n",
       ".dataframe > tbody > tr {\n",
       "  text-align: right;\n",
       "  white-space: pre-wrap;\n",
       "}\n",
       "</style>\n",
       "<small>shape: (9, 30)</small><table border=\"1\" class=\"dataframe\"><thead><tr><th>statistic</th><th>id_output</th><th>id_input</th><th>datetime_input</th><th>datetime_output</th><th>nujna</th><th>nova</th><th>programs</th><th>content</th><th>A1</th><th>B1</th><th>C1</th><th>TitlePomembnoSLO</th><th>ContentPomembnoSLO</th><th>TitleNesreceSLO</th><th>ContentNesreceSLO</th><th>TitleZastojiSLO</th><th>ContentZastojiSLO</th><th>TitleVremeSLO</th><th>ContentVremeSLO</th><th>TitleOvireSLO</th><th>ContentOvireSLO</th><th>TitleDeloNaCestiSLO</th><th>ContentDeloNaCestiSLO</th><th>TitleOpozorilaSLO</th><th>ContentOpozorilaSLO</th><th>TitleMednarodneInformacijeSLO</th><th>ContentMednarodneInformacijeSLO</th><th>TitleSplosnoSLO</th><th>ContentSplosnoSLO</th></tr><tr><td>str</td><td>str</td><td>str</td><td>str</td><td>str</td><td>f64</td><td>f64</td><td>str</td><td>str</td><td>str</td><td>str</td><td>str</td><td>str</td><td>str</td><td>str</td><td>str</td><td>str</td><td>str</td><td>str</td><td>str</td><td>str</td><td>str</td><td>str</td><td>str</td><td>str</td><td>str</td><td>str</td><td>str</td><td>str</td><td>str</td></tr></thead><tbody><tr><td>&quot;count&quot;</td><td>&quot;232&quot;</td><td>&quot;232&quot;</td><td>&quot;232&quot;</td><td>&quot;232&quot;</td><td>232.0</td><td>232.0</td><td>&quot;232&quot;</td><td>&quot;232&quot;</td><td>&quot;19&quot;</td><td>&quot;232&quot;</td><td>&quot;0&quot;</td><td>&quot;0&quot;</td><td>&quot;19&quot;</td><td>&quot;0&quot;</td><td>&quot;81&quot;</td><td>&quot;0&quot;</td><td>&quot;88&quot;</td><td>&quot;0&quot;</td><td>&quot;137&quot;</td><td>&quot;0&quot;</td><td>&quot;128&quot;</td><td>&quot;232&quot;</td><td>&quot;232&quot;</td><td>&quot;81&quot;</td><td>&quot;92&quot;</td><td>&quot;0&quot;</td><td>&quot;0&quot;</td><td>&quot;232&quot;</td><td>&quot;148&quot;</td></tr><tr><td>&quot;null_count&quot;</td><td>&quot;0&quot;</td><td>&quot;0&quot;</td><td>&quot;0&quot;</td><td>&quot;0&quot;</td><td>0.0</td><td>0.0</td><td>&quot;0&quot;</td><td>&quot;0&quot;</td><td>&quot;213&quot;</td><td>&quot;0&quot;</td><td>&quot;232&quot;</td><td>&quot;232&quot;</td><td>&quot;213&quot;</td><td>&quot;232&quot;</td><td>&quot;151&quot;</td><td>&quot;232&quot;</td><td>&quot;144&quot;</td><td>&quot;232&quot;</td><td>&quot;95&quot;</td><td>&quot;232&quot;</td><td>&quot;104&quot;</td><td>&quot;0&quot;</td><td>&quot;0&quot;</td><td>&quot;151&quot;</td><td>&quot;140&quot;</td><td>&quot;232&quot;</td><td>&quot;232&quot;</td><td>&quot;0&quot;</td><td>&quot;84&quot;</td></tr><tr><td>&quot;mean&quot;</td><td>null</td><td>null</td><td>null</td><td>null</td><td>0.00431</td><td>0.017241</td><td>null</td><td>null</td><td>null</td><td>null</td><td>null</td><td>null</td><td>null</td><td>null</td><td>null</td><td>null</td><td>null</td><td>null</td><td>null</td><td>null</td><td>null</td><td>null</td><td>null</td><td>null</td><td>null</td><td>null</td><td>null</td><td>null</td><td>null</td></tr><tr><td>&quot;std&quot;</td><td>null</td><td>null</td><td>null</td><td>null</td><td>0.065653</td><td>0.130451</td><td>null</td><td>null</td><td>null</td><td>null</td><td>null</td><td>null</td><td>null</td><td>null</td><td>null</td><td>null</td><td>null</td><td>null</td><td>null</td><td>null</td><td>null</td><td>null</td><td>null</td><td>null</td><td>null</td><td>null</td><td>null</td><td>null</td><td>null</td></tr><tr><td>&quot;min&quot;</td><td>&quot;006d8a07-8103-516c-bc84-724464…</td><td>&quot;01d2285d-1ae2-5a26-9d96-b62ef5…</td><td>&quot;2024-12-18 10:00:39&quot;</td><td>&quot;2024-12-18 10:30:00&quot;</td><td>0.0</td><td>0.0</td><td>&quot;&quot;</td><td>&quot;NOVAPrometna informacija&nbsp;&nbsp;&nbsp;&nbsp;&nbsp;&nbsp;…</td><td>&quot;Pozor! \n",
       "\n",
       " Na gorenjski avtoces…</td><td>&quot;Delovne zapore \n",
       "\n",
       " Na primorski…</td><td>null</td><td>null</td><td>&quot;Na gorenjski avtocesti je za v…</td><td>null</td><td>&quot;Cesta Celje - Slovenske Konjic…</td><td>null</td><td>&quot;- na Celovški cesti v obe smer…</td><td>null</td><td>&quot;Burja se je umirila. Primorska…</td><td>null</td><td>&quot;A1, Ljubljana - Maribor, prikl…</td><td>&quot;Delovne zapore&quot;</td><td>&quot;Cesta Spodnji Hotič - Vače - K…</td><td>&quot;Prireditve&quot;</td><td>&quot; \n",
       "\n",
       " Več.&quot;</td><td>null</td><td>null</td><td>&quot;Tovorna vozila&quot;</td><td>&quot;Danes med 8. in 22. uro velja …</td></tr><tr><td>&quot;25%&quot;</td><td>null</td><td>null</td><td>null</td><td>null</td><td>0.0</td><td>0.0</td><td>null</td><td>null</td><td>null</td><td>null</td><td>null</td><td>null</td><td>null</td><td>null</td><td>null</td><td>null</td><td>null</td><td>null</td><td>null</td><td>null</td><td>null</td><td>null</td><td>null</td><td>null</td><td>null</td><td>null</td><td>null</td><td>null</td><td>null</td></tr><tr><td>&quot;50%&quot;</td><td>null</td><td>null</td><td>null</td><td>null</td><td>0.0</td><td>0.0</td><td>null</td><td>null</td><td>null</td><td>null</td><td>null</td><td>null</td><td>null</td><td>null</td><td>null</td><td>null</td><td>null</td><td>null</td><td>null</td><td>null</td><td>null</td><td>null</td><td>null</td><td>null</td><td>null</td><td>null</td><td>null</td><td>null</td><td>null</td></tr><tr><td>&quot;75%&quot;</td><td>null</td><td>null</td><td>null</td><td>null</td><td>0.0</td><td>0.0</td><td>null</td><td>null</td><td>null</td><td>null</td><td>null</td><td>null</td><td>null</td><td>null</td><td>null</td><td>null</td><td>null</td><td>null</td><td>null</td><td>null</td><td>null</td><td>null</td><td>null</td><td>null</td><td>null</td><td>null</td><td>null</td><td>null</td><td>null</td></tr><tr><td>&quot;max&quot;</td><td>&quot;ff17e12f-d9b5-5baf-b8e9-19c226…</td><td>&quot;fff576bb-0549-5248-aa6c-cbd42b…</td><td>&quot;2024-12-31 19:10:04&quot;</td><td>&quot;2024-12-31 21:00:00&quot;</td><td>1.0</td><td>1.0</td><td>&quot;3&quot;</td><td>&quot;Prometne informacije&nbsp;&nbsp;&nbsp;&nbsp;&nbsp;20. 1…</td><td>&quot;Pozor! \n",
       "\n",
       " Zaprta vipavska hitr…</td><td>&quot;Zastoji \n",
       "\n",
       " Zgoščen promet je n…</td><td>null</td><td>null</td><td>&quot;Zaprta vipavska hitra cesta me…</td><td>null</td><td>&quot;Zaprta je cesta Hrastnik - Šma…</td><td>null</td><td>&quot;Zgoščen promet je na primorski…</td><td>null</td><td>&quot;Zimske razmere:- Prepoved za p…</td><td>null</td><td>&quot;Žival na cestišču na gorenjski…</td><td>&quot;Delovne zapore&quot;</td><td>&quot;Zaradi nujnih vzdrževalni del …</td><td>&quot;Prireditve&quot;</td><td>&quot;Zaradi napovedanih vremenskih …</td><td>null</td><td>null</td><td>&quot;Tovorna vozila&quot;</td><td>&quot;V sredo in četrtek zaradi praz…</td></tr></tbody></table></div>"
      ],
      "text/plain": [
       "shape: (9, 30)\n",
       "┌───────────┬───────────┬───────────┬───────────┬───┬───────────┬───────────┬───────────┬──────────┐\n",
       "│ statistic ┆ id_output ┆ id_input  ┆ datetime_ ┆ … ┆ TitleMedn ┆ ContentMe ┆ TitleSplo ┆ ContentS │\n",
       "│ ---       ┆ ---       ┆ ---       ┆ input     ┆   ┆ arodneInf ┆ dnarodneI ┆ snoSLO    ┆ plosnoSL │\n",
       "│ str       ┆ str       ┆ str       ┆ ---       ┆   ┆ ormacijeS ┆ nformacij ┆ ---       ┆ O        │\n",
       "│           ┆           ┆           ┆ str       ┆   ┆ LO        ┆ eSL…      ┆ str       ┆ ---      │\n",
       "│           ┆           ┆           ┆           ┆   ┆ ---       ┆ ---       ┆           ┆ str      │\n",
       "│           ┆           ┆           ┆           ┆   ┆ str       ┆ str       ┆           ┆          │\n",
       "╞═══════════╪═══════════╪═══════════╪═══════════╪═══╪═══════════╪═══════════╪═══════════╪══════════╡\n",
       "│ count     ┆ 232       ┆ 232       ┆ 232       ┆ … ┆ 0         ┆ 0         ┆ 232       ┆ 148      │\n",
       "│ null_coun ┆ 0         ┆ 0         ┆ 0         ┆ … ┆ 232       ┆ 232       ┆ 0         ┆ 84       │\n",
       "│ t         ┆           ┆           ┆           ┆   ┆           ┆           ┆           ┆          │\n",
       "│ mean      ┆ null      ┆ null      ┆ null      ┆ … ┆ null      ┆ null      ┆ null      ┆ null     │\n",
       "│ std       ┆ null      ┆ null      ┆ null      ┆ … ┆ null      ┆ null      ┆ null      ┆ null     │\n",
       "│ min       ┆ 006d8a07- ┆ 01d2285d- ┆ 2024-12-1 ┆ … ┆ null      ┆ null      ┆ Tovorna   ┆ Danes    │\n",
       "│           ┆ 8103-516c ┆ 1ae2-5a26 ┆ 8         ┆   ┆           ┆           ┆ vozila    ┆ med 8.   │\n",
       "│           ┆ -bc84-724 ┆ -9d96-b62 ┆ 10:00:39  ┆   ┆           ┆           ┆           ┆ in 22.   │\n",
       "│           ┆ 464…      ┆ ef5…      ┆           ┆   ┆           ┆           ┆           ┆ uro      │\n",
       "│           ┆           ┆           ┆           ┆   ┆           ┆           ┆           ┆ velja …  │\n",
       "│ 25%       ┆ null      ┆ null      ┆ null      ┆ … ┆ null      ┆ null      ┆ null      ┆ null     │\n",
       "│ 50%       ┆ null      ┆ null      ┆ null      ┆ … ┆ null      ┆ null      ┆ null      ┆ null     │\n",
       "│ 75%       ┆ null      ┆ null      ┆ null      ┆ … ┆ null      ┆ null      ┆ null      ┆ null     │\n",
       "│ max       ┆ ff17e12f- ┆ fff576bb- ┆ 2024-12-3 ┆ … ┆ null      ┆ null      ┆ Tovorna   ┆ V sredo  │\n",
       "│           ┆ d9b5-5baf ┆ 0549-5248 ┆ 1         ┆   ┆           ┆           ┆ vozila    ┆ in       │\n",
       "│           ┆ -b8e9-19c ┆ -aa6c-cbd ┆ 19:10:04  ┆   ┆           ┆           ┆           ┆ četrtek  │\n",
       "│           ┆ 226…      ┆ 42b…      ┆           ┆   ┆           ┆           ┆           ┆ zaradi   │\n",
       "│           ┆           ┆           ┆           ┆   ┆           ┆           ┆           ┆ praz…    │\n",
       "└───────────┴───────────┴───────────┴───────────┴───┴───────────┴───────────┴───────────┴──────────┘"
      ]
     },
     "execution_count": 7,
     "metadata": {},
     "output_type": "execute_result"
    }
   ],
   "source": [
    "df_test.unique(subset=\"id_output\", maintain_order=True).describe()"
   ]
  },
  {
   "cell_type": "code",
   "execution_count": 8,
   "metadata": {},
   "outputs": [
    {
     "data": {
      "text/html": [
       "<div><style>\n",
       ".dataframe > thead > tr,\n",
       ".dataframe > tbody > tr {\n",
       "  text-align: right;\n",
       "  white-space: pre-wrap;\n",
       "}\n",
       "</style>\n",
       "<small>shape: (9, 30)</small><table border=\"1\" class=\"dataframe\"><thead><tr><th>statistic</th><th>id_output</th><th>id_input</th><th>datetime_input</th><th>datetime_output</th><th>nujna</th><th>nova</th><th>programs</th><th>content</th><th>A1</th><th>B1</th><th>C1</th><th>TitlePomembnoSLO</th><th>ContentPomembnoSLO</th><th>TitleNesreceSLO</th><th>ContentNesreceSLO</th><th>TitleZastojiSLO</th><th>ContentZastojiSLO</th><th>TitleVremeSLO</th><th>ContentVremeSLO</th><th>TitleOvireSLO</th><th>ContentOvireSLO</th><th>TitleDeloNaCestiSLO</th><th>ContentDeloNaCestiSLO</th><th>TitleOpozorilaSLO</th><th>ContentOpozorilaSLO</th><th>TitleMednarodneInformacijeSLO</th><th>ContentMednarodneInformacijeSLO</th><th>TitleSplosnoSLO</th><th>ContentSplosnoSLO</th></tr><tr><td>str</td><td>str</td><td>str</td><td>str</td><td>str</td><td>f64</td><td>f64</td><td>str</td><td>str</td><td>str</td><td>str</td><td>str</td><td>str</td><td>str</td><td>str</td><td>str</td><td>str</td><td>str</td><td>str</td><td>str</td><td>str</td><td>str</td><td>str</td><td>str</td><td>str</td><td>str</td><td>str</td><td>str</td><td>str</td><td>str</td></tr></thead><tbody><tr><td>&quot;count&quot;</td><td>&quot;1553&quot;</td><td>&quot;1553&quot;</td><td>&quot;1553&quot;</td><td>&quot;1553&quot;</td><td>1553.0</td><td>1553.0</td><td>&quot;1553&quot;</td><td>&quot;1553&quot;</td><td>&quot;164&quot;</td><td>&quot;1553&quot;</td><td>&quot;0&quot;</td><td>&quot;0&quot;</td><td>&quot;164&quot;</td><td>&quot;0&quot;</td><td>&quot;738&quot;</td><td>&quot;0&quot;</td><td>&quot;676&quot;</td><td>&quot;0&quot;</td><td>&quot;936&quot;</td><td>&quot;0&quot;</td><td>&quot;941&quot;</td><td>&quot;1553&quot;</td><td>&quot;1553&quot;</td><td>&quot;324&quot;</td><td>&quot;788&quot;</td><td>&quot;0&quot;</td><td>&quot;1&quot;</td><td>&quot;1553&quot;</td><td>&quot;787&quot;</td></tr><tr><td>&quot;null_count&quot;</td><td>&quot;0&quot;</td><td>&quot;0&quot;</td><td>&quot;0&quot;</td><td>&quot;0&quot;</td><td>0.0</td><td>0.0</td><td>&quot;0&quot;</td><td>&quot;0&quot;</td><td>&quot;1389&quot;</td><td>&quot;0&quot;</td><td>&quot;1553&quot;</td><td>&quot;1553&quot;</td><td>&quot;1389&quot;</td><td>&quot;1553&quot;</td><td>&quot;815&quot;</td><td>&quot;1553&quot;</td><td>&quot;877&quot;</td><td>&quot;1553&quot;</td><td>&quot;617&quot;</td><td>&quot;1553&quot;</td><td>&quot;612&quot;</td><td>&quot;0&quot;</td><td>&quot;0&quot;</td><td>&quot;1229&quot;</td><td>&quot;765&quot;</td><td>&quot;1553&quot;</td><td>&quot;1552&quot;</td><td>&quot;0&quot;</td><td>&quot;766&quot;</td></tr><tr><td>&quot;mean&quot;</td><td>null</td><td>null</td><td>null</td><td>null</td><td>0.000644</td><td>0.01803</td><td>null</td><td>null</td><td>null</td><td>null</td><td>null</td><td>null</td><td>null</td><td>null</td><td>null</td><td>null</td><td>null</td><td>null</td><td>null</td><td>null</td><td>null</td><td>null</td><td>null</td><td>null</td><td>null</td><td>null</td><td>null</td><td>null</td><td>null</td></tr><tr><td>&quot;std&quot;</td><td>null</td><td>null</td><td>null</td><td>null</td><td>0.025375</td><td>0.133101</td><td>null</td><td>null</td><td>null</td><td>null</td><td>null</td><td>null</td><td>null</td><td>null</td><td>null</td><td>null</td><td>null</td><td>null</td><td>null</td><td>null</td><td>null</td><td>null</td><td>null</td><td>null</td><td>null</td><td>null</td><td>null</td><td>null</td><td>null</td></tr><tr><td>&quot;min&quot;</td><td>&quot;006d8a07-8103-516c-bc84-724464…</td><td>&quot;0019c00a-ee48-5be3-8624-4ddbce…</td><td>&quot;2024-12-18 10:00:39&quot;</td><td>&quot;2024-12-18 10:30:00&quot;</td><td>0.0</td><td>0.0</td><td>&quot;&quot;</td><td>&quot;NOVAPrometna informacija&nbsp;&nbsp;&nbsp;&nbsp;&nbsp;&nbsp;…</td><td>&quot;Pozor! \n",
       "\n",
       " Na gorenjski avtoces…</td><td>&quot;Delovne zapore \n",
       "\n",
       " Glavna cesta…</td><td>null</td><td>null</td><td>&quot;Na gorenjski avtocesti je za v…</td><td>null</td><td>&quot;- na celovški cesti v obe smer…</td><td>null</td><td>&quot;- na Celovški cesti v obe smer…</td><td>null</td><td>&quot; \n",
       "\n",
       " Zimske razmere:- Prepoved …</td><td>null</td><td>&quot; \n",
       "\n",
       " A1, Ljubljana - Maribor, p…</td><td>&quot;Delovne zapore&quot;</td><td>&quot;Cesta Spodnji Hotič - Vače - K…</td><td>&quot;Prireditve&quot;</td><td>&quot; \n",
       "\n",
       " Več.&quot;</td><td>null</td><td>&quot;Srečno in varno na poti v letu…</td><td>&quot;Tovorna vozila&quot;</td><td>&quot;Danes med 8. in 22. uro velja …</td></tr><tr><td>&quot;25%&quot;</td><td>null</td><td>null</td><td>null</td><td>null</td><td>0.0</td><td>0.0</td><td>null</td><td>null</td><td>null</td><td>null</td><td>null</td><td>null</td><td>null</td><td>null</td><td>null</td><td>null</td><td>null</td><td>null</td><td>null</td><td>null</td><td>null</td><td>null</td><td>null</td><td>null</td><td>null</td><td>null</td><td>null</td><td>null</td><td>null</td></tr><tr><td>&quot;50%&quot;</td><td>null</td><td>null</td><td>null</td><td>null</td><td>0.0</td><td>0.0</td><td>null</td><td>null</td><td>null</td><td>null</td><td>null</td><td>null</td><td>null</td><td>null</td><td>null</td><td>null</td><td>null</td><td>null</td><td>null</td><td>null</td><td>null</td><td>null</td><td>null</td><td>null</td><td>null</td><td>null</td><td>null</td><td>null</td><td>null</td></tr><tr><td>&quot;75%&quot;</td><td>null</td><td>null</td><td>null</td><td>null</td><td>0.0</td><td>0.0</td><td>null</td><td>null</td><td>null</td><td>null</td><td>null</td><td>null</td><td>null</td><td>null</td><td>null</td><td>null</td><td>null</td><td>null</td><td>null</td><td>null</td><td>null</td><td>null</td><td>null</td><td>null</td><td>null</td><td>null</td><td>null</td><td>null</td><td>null</td></tr><tr><td>&quot;max&quot;</td><td>&quot;ff17e12f-d9b5-5baf-b8e9-19c226…</td><td>&quot;fff576bb-0549-5248-aa6c-cbd42b…</td><td>&quot;2024-12-31 20:24:03&quot;</td><td>&quot;2024-12-31 21:00:00&quot;</td><td>1.0</td><td>1.0</td><td>&quot;3&quot;</td><td>&quot;Prometne informacije&nbsp;&nbsp;&nbsp;&nbsp;&nbsp;20. 1…</td><td>&quot;Pozor! \n",
       "\n",
       " Zaprta vipavska hitr…</td><td>&quot;Zastoji \n",
       "\n",
       " Zgoščen promet je n…</td><td>null</td><td>null</td><td>&quot;Zaprta vipavska hitra cesta me…</td><td>null</td><td>&quot;Zaprta je cesta Hrastnik - Šma…</td><td>null</td><td>&quot;Zgoščen promet je na primorski…</td><td>null</td><td>&quot;Zimske razmere:- Prepoved za p…</td><td>null</td><td>&quot;Žival na cestišču na gorenjski…</td><td>&quot;Delovne zapore&quot;</td><td>&quot;Zaradi nujnih vzdrževalni del …</td><td>&quot;Prireditve&quot;</td><td>&quot;Zaradi napovedanih vremenskih …</td><td>null</td><td>&quot;Srečno in varno na poti v letu…</td><td>&quot;Tovorna vozila&quot;</td><td>&quot;V sredo in četrtek zaradi praz…</td></tr></tbody></table></div>"
      ],
      "text/plain": [
       "shape: (9, 30)\n",
       "┌───────────┬───────────┬───────────┬───────────┬───┬───────────┬───────────┬───────────┬──────────┐\n",
       "│ statistic ┆ id_output ┆ id_input  ┆ datetime_ ┆ … ┆ TitleMedn ┆ ContentMe ┆ TitleSplo ┆ ContentS │\n",
       "│ ---       ┆ ---       ┆ ---       ┆ input     ┆   ┆ arodneInf ┆ dnarodneI ┆ snoSLO    ┆ plosnoSL │\n",
       "│ str       ┆ str       ┆ str       ┆ ---       ┆   ┆ ormacijeS ┆ nformacij ┆ ---       ┆ O        │\n",
       "│           ┆           ┆           ┆ str       ┆   ┆ LO        ┆ eSL…      ┆ str       ┆ ---      │\n",
       "│           ┆           ┆           ┆           ┆   ┆ ---       ┆ ---       ┆           ┆ str      │\n",
       "│           ┆           ┆           ┆           ┆   ┆ str       ┆ str       ┆           ┆          │\n",
       "╞═══════════╪═══════════╪═══════════╪═══════════╪═══╪═══════════╪═══════════╪═══════════╪══════════╡\n",
       "│ count     ┆ 1553      ┆ 1553      ┆ 1553      ┆ … ┆ 0         ┆ 1         ┆ 1553      ┆ 787      │\n",
       "│ null_coun ┆ 0         ┆ 0         ┆ 0         ┆ … ┆ 1553      ┆ 1552      ┆ 0         ┆ 766      │\n",
       "│ t         ┆           ┆           ┆           ┆   ┆           ┆           ┆           ┆          │\n",
       "│ mean      ┆ null      ┆ null      ┆ null      ┆ … ┆ null      ┆ null      ┆ null      ┆ null     │\n",
       "│ std       ┆ null      ┆ null      ┆ null      ┆ … ┆ null      ┆ null      ┆ null      ┆ null     │\n",
       "│ min       ┆ 006d8a07- ┆ 0019c00a- ┆ 2024-12-1 ┆ … ┆ null      ┆ Srečno in ┆ Tovorna   ┆ Danes    │\n",
       "│           ┆ 8103-516c ┆ ee48-5be3 ┆ 8         ┆   ┆           ┆ varno na  ┆ vozila    ┆ med 8.   │\n",
       "│           ┆ -bc84-724 ┆ -8624-4dd ┆ 10:00:39  ┆   ┆           ┆ poti v    ┆           ┆ in 22.   │\n",
       "│           ┆ 464…      ┆ bce…      ┆           ┆   ┆           ┆ letu…     ┆           ┆ uro      │\n",
       "│           ┆           ┆           ┆           ┆   ┆           ┆           ┆           ┆ velja …  │\n",
       "│ 25%       ┆ null      ┆ null      ┆ null      ┆ … ┆ null      ┆ null      ┆ null      ┆ null     │\n",
       "│ 50%       ┆ null      ┆ null      ┆ null      ┆ … ┆ null      ┆ null      ┆ null      ┆ null     │\n",
       "│ 75%       ┆ null      ┆ null      ┆ null      ┆ … ┆ null      ┆ null      ┆ null      ┆ null     │\n",
       "│ max       ┆ ff17e12f- ┆ fff576bb- ┆ 2024-12-3 ┆ … ┆ null      ┆ Srečno in ┆ Tovorna   ┆ V sredo  │\n",
       "│           ┆ d9b5-5baf ┆ 0549-5248 ┆ 1         ┆   ┆           ┆ varno na  ┆ vozila    ┆ in       │\n",
       "│           ┆ -b8e9-19c ┆ -aa6c-cbd ┆ 20:24:03  ┆   ┆           ┆ poti v    ┆           ┆ četrtek  │\n",
       "│           ┆ 226…      ┆ 42b…      ┆           ┆   ┆           ┆ letu…     ┆           ┆ zaradi   │\n",
       "│           ┆           ┆           ┆           ┆   ┆           ┆           ┆           ┆ praz…    │\n",
       "└───────────┴───────────┴───────────┴───────────┴───┴───────────┴───────────┴───────────┴──────────┘"
      ]
     },
     "execution_count": 8,
     "metadata": {},
     "output_type": "execute_result"
    }
   ],
   "source": [
    "df_test.describe()"
   ]
  }
 ],
 "metadata": {
  "kernelspec": {
   "display_name": ".venv",
   "language": "python",
   "name": "python3"
  },
  "language_info": {
   "codemirror_mode": {
    "name": "ipython",
    "version": 3
   },
   "file_extension": ".py",
   "mimetype": "text/x-python",
   "name": "python",
   "nbconvert_exporter": "python",
   "pygments_lexer": "ipython3",
   "version": "3.12.9"
  }
 },
 "nbformat": 4,
 "nbformat_minor": 2
}

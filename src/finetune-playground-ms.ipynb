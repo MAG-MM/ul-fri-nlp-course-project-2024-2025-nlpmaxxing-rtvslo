{
 "cells": [
  {
   "cell_type": "code",
   "execution_count": 1,
   "id": "bbef8120",
   "metadata": {},
   "outputs": [],
   "source": [
    "import torch\n",
    "\n",
    "device = 'cuda' if torch.cuda.is_available() else 'mps' if torch.backends.mps.is_available() else 'cpu'"
   ]
  },
  {
   "cell_type": "code",
   "execution_count": 2,
   "id": "c5a5faa1",
   "metadata": {},
   "outputs": [],
   "source": [
    "#model_id = \"cjvt/GaMS-9B\"\n",
    "model_id = \"cjvt/GaMS-2B\""
   ]
  },
  {
   "cell_type": "code",
   "execution_count": 3,
   "id": "3b16a8b3",
   "metadata": {},
   "outputs": [],
   "source": [
    "from datasets import Dataset\n",
    "\n",
    "train_dataset = Dataset.load_from_disk(\"../data/hf/dataset-tiny\")"
   ]
  },
  {
   "cell_type": "code",
   "execution_count": 4,
   "id": "93ef43d6",
   "metadata": {},
   "outputs": [],
   "source": [
    "from transformers import BitsAndBytesConfig\n",
    "\n",
    "bnb_config = BitsAndBytesConfig(\n",
    "    load_in_4bit=True,\n",
    "    bnb_4bit_quant_type=\"nf4\",\n",
    "    bnb_4bit_compute_dtype=torch.bfloat16\n",
    ")"
   ]
  },
  {
   "cell_type": "code",
   "execution_count": 5,
   "id": "2ec75c6f",
   "metadata": {},
   "outputs": [],
   "source": [
    "from transformers import AutoTokenizer\n",
    "\n",
    "tokenizer = AutoTokenizer.from_pretrained(model_id)"
   ]
  },
  {
   "cell_type": "code",
   "execution_count": 6,
   "id": "ab058345",
   "metadata": {},
   "outputs": [],
   "source": [
    "input_tags = [\n",
    "    \"A1\",\n",
    "    \"B1\",\n",
    "    \"C1\",\n",
    "    \"TitlePomembno\",\n",
    "    \"ContentPomembno\",\n",
    "    \"TitleNesrece\",\n",
    "    \"ContentNesrece\",\n",
    "    \"TitleZastoji\",\n",
    "    \"ContentZastoji\",\n",
    "    \"TitleVreme\",\n",
    "    \"ContentVreme\",\n",
    "    \"TitleOvire\",\n",
    "    \"ContentOvire\",\n",
    "    \"TitleDeloNaCesti\",\n",
    "    \"ContentDeloNaCesti\",\n",
    "    \"TitleOpozorila\",\n",
    "    \"ContentOpozorila\",\n",
    "    \"TitleMednarodneInformacije\",\n",
    "    \"ContentMednarodneInformacije\",\n",
    "    \"TitleSplosno\",\n",
    "    \"ContentSplosno\"\n",
    "]"
   ]
  },
  {
   "cell_type": "code",
   "execution_count": 7,
   "id": "4f290d6a",
   "metadata": {},
   "outputs": [],
   "source": [
    "def format_training_prompt(input_data):\n",
    "    return f\"\"\"\n",
    "Generate a traffic report from the following input data.\n",
    "\n",
    "## Inputs:\n",
    "\n",
    "{input_data['input']}\n",
    "\n",
    "## Traffic Report:\n",
    "\n",
    "{input_data['target']}\n",
    "\"\"\"\n",
    "\n",
    "def format_inference_prompt(input_data):\n",
    "    return f\"\"\"\n",
    "Generate a traffic report from the following input data.\n",
    "\n",
    "## Inputs:\n",
    "\n",
    "{input_data['input']}\n",
    "\n",
    "## Traffic Report:\n",
    "\"\"\"\n",
    "\n",
    "\n",
    "def format_single_input(input_item, i):\n",
    "    input_string = f\"### Input {i+1}:\\n\"\n",
    "    for tag in input_tags:\n",
    "        if input_item[tag] != None:\n",
    "            input_string = input_string + f\"\\n#### {tag}:\\n{input_item[tag]}\\n\"\n",
    "\n",
    "    return input_string.strip()\n",
    "\n",
    "def format_sample(example):\n",
    "    inputs = \"\"\n",
    "    for i in range(0, len(example['inputs'])):\n",
    "        inputs = inputs + format_single_input(example['inputs'][i], i)\n",
    "\n",
    "    return {\n",
    "        \"input\": inputs,\n",
    "        \"target\": example['output']['content']\n",
    "    }"
   ]
  },
  {
   "cell_type": "code",
   "execution_count": 8,
   "id": "f21aa419",
   "metadata": {},
   "outputs": [
    {
     "data": {
      "application/vnd.jupyter.widget-view+json": {
       "model_id": "0a4b073d6812444e99a178c7bd740df4",
       "version_major": 2,
       "version_minor": 0
      },
      "text/plain": [
       "Map:   0%|          | 0/183 [00:00<?, ? examples/s]"
      ]
     },
     "metadata": {},
     "output_type": "display_data"
    }
   ],
   "source": [
    "ds = train_dataset.map(format_sample, remove_columns=[\"inputs\", \"output\"])"
   ]
  },
  {
   "cell_type": "code",
   "execution_count": 9,
   "id": "56e3f249",
   "metadata": {},
   "outputs": [
    {
     "data": {
      "application/vnd.jupyter.widget-view+json": {
       "model_id": "74714b2d81e64fcf805aaa60dfcddd36",
       "version_major": 2,
       "version_minor": 0
      },
      "text/plain": [
       "Loading checkpoint shards:   0%|          | 0/3 [00:00<?, ?it/s]"
      ]
     },
     "metadata": {},
     "output_type": "display_data"
    },
    {
     "data": {
      "text/plain": [
       "Gemma2ForCausalLM(\n",
       "  (model): Gemma2Model(\n",
       "    (embed_tokens): Embedding(256000, 2304, padding_idx=0)\n",
       "    (layers): ModuleList(\n",
       "      (0-25): 26 x Gemma2DecoderLayer(\n",
       "        (self_attn): Gemma2Attention(\n",
       "          (q_proj): Linear4bit(in_features=2304, out_features=2048, bias=False)\n",
       "          (k_proj): Linear4bit(in_features=2304, out_features=1024, bias=False)\n",
       "          (v_proj): Linear4bit(in_features=2304, out_features=1024, bias=False)\n",
       "          (o_proj): Linear4bit(in_features=2048, out_features=2304, bias=False)\n",
       "        )\n",
       "        (mlp): Gemma2MLP(\n",
       "          (gate_proj): Linear4bit(in_features=2304, out_features=9216, bias=False)\n",
       "          (up_proj): Linear4bit(in_features=2304, out_features=9216, bias=False)\n",
       "          (down_proj): Linear4bit(in_features=9216, out_features=2304, bias=False)\n",
       "          (act_fn): PytorchGELUTanh()\n",
       "        )\n",
       "        (input_layernorm): Gemma2RMSNorm((2304,), eps=1e-06)\n",
       "        (post_attention_layernorm): Gemma2RMSNorm((2304,), eps=1e-06)\n",
       "        (pre_feedforward_layernorm): Gemma2RMSNorm((2304,), eps=1e-06)\n",
       "        (post_feedforward_layernorm): Gemma2RMSNorm((2304,), eps=1e-06)\n",
       "      )\n",
       "    )\n",
       "    (norm): Gemma2RMSNorm((2304,), eps=1e-06)\n",
       "    (rotary_emb): Gemma2RotaryEmbedding()\n",
       "  )\n",
       "  (lm_head): Linear(in_features=2304, out_features=256000, bias=False)\n",
       ")"
      ]
     },
     "execution_count": 9,
     "metadata": {},
     "output_type": "execute_result"
    }
   ],
   "source": [
    "from transformers import AutoModelForCausalLM\n",
    "\n",
    "model = AutoModelForCausalLM.from_pretrained(\n",
    "    model_id,\n",
    "    quantization_config=bnb_config,\n",
    "    attn_implementation='eager',\n",
    "    #device_map=device\n",
    "    device_map=\"auto\"\n",
    ")\n",
    "\n",
    "model.to(\"cuda\")"
   ]
  },
  {
   "cell_type": "code",
   "execution_count": 10,
   "id": "132156b1",
   "metadata": {},
   "outputs": [],
   "source": [
    "#aaa = ds.select(range(1))[\"txt\"][0]\n",
    "\n",
    "#print(train_dataset.select(range(1))[0][\"inputs\"][0][\"B1\"])\n",
    "\n",
    "#print(ds.select(range(1))[\"input\"][0])\n",
    "\n",
    "#print(format_training_prompt({\n",
    "#    \"input\": ds.select(range(1))[\"input\"][0],\n",
    "#    \"target\": ds.select(range(1))[\"target\"][0],\n",
    "#}))\n"
   ]
  },
  {
   "cell_type": "code",
   "execution_count": 11,
   "id": "ca56d529",
   "metadata": {},
   "outputs": [],
   "source": [
    "def zero_shot():\n",
    "    #sample = train_dataset.select(range(1))[0][\"inputs\"][0][\"B1\"]\n",
    "    sample = ds.select(range(1))[\"input\"][0]\n",
    "    target = train_dataset.select(range(1))[0][\"output\"][\"content\"]\n",
    "    prompt = f\"\"\"\n",
    "    Generate a traffic report from the following input data.\n",
    "\n",
    "    ## Inputs:\n",
    "\n",
    "    {sample}\n",
    "\n",
    "    ## Traffic Report:\n",
    "    \"\"\"\n",
    "\n",
    "    \n",
    "    inputs = tokenizer(prompt, return_tensors='pt').to(\"cuda\")\n",
    "\n",
    "    output = tokenizer.decode(\n",
    "        model.generate(\n",
    "            inputs[\"input_ids\"], \n",
    "            max_new_tokens=200,\n",
    "        )[0], \n",
    "        skip_special_tokens=True\n",
    "    )\n",
    "\n",
    "\n",
    "    dash_line = '-'.join('' for x in range(100))\n",
    "    print(dash_line)\n",
    "    print(f'INPUT PROMPT:\\n{prompt}')\n",
    "    print(dash_line)\n",
    "    print(f'BASELINE HUMAN REPORT:\\n{target}\\n')\n",
    "    print(dash_line)\n",
    "    print(f'MODEL GENERATION - ZERO SHOT:\\n{output}')"
   ]
  },
  {
   "cell_type": "code",
   "execution_count": 12,
   "id": "1daba0af",
   "metadata": {},
   "outputs": [],
   "source": [
    "#zero_shot()"
   ]
  },
  {
   "cell_type": "code",
   "execution_count": 13,
   "id": "df46292e",
   "metadata": {},
   "outputs": [],
   "source": [
    "from peft import LoraConfig\n",
    "\n",
    "# LoRA configuration\n",
    "peft_config = LoraConfig(\n",
    "    r=8,\n",
    "    lora_alpha=32,\n",
    "    target_modules=[\"q_proj\", \"o_proj\", \"k_proj\", \"v_proj\"],\n",
    "    lora_dropout=0.05,\n",
    "    task_type=\"CAUSAL_LM\"\n",
    ")"
   ]
  },
  {
   "cell_type": "code",
   "execution_count": 14,
   "id": "e04f3798",
   "metadata": {},
   "outputs": [],
   "source": [
    "def formatting_prompts_func(example):\n",
    "    return format_training_prompt(example)"
   ]
  },
  {
   "cell_type": "code",
   "execution_count": 15,
   "id": "2deda334",
   "metadata": {},
   "outputs": [
    {
     "data": {
      "application/vnd.jupyter.widget-view+json": {
       "model_id": "1c62788e43e54239afe8c7a2cfd6baf9",
       "version_major": 2,
       "version_minor": 0
      },
      "text/plain": [
       "Applying formatting function to train dataset:   0%|          | 0/183 [00:00<?, ? examples/s]"
      ]
     },
     "metadata": {},
     "output_type": "display_data"
    },
    {
     "data": {
      "application/vnd.jupyter.widget-view+json": {
       "model_id": "364985d2fde44d0d98d0f1fb53334642",
       "version_major": 2,
       "version_minor": 0
      },
      "text/plain": [
       "Converting train dataset to ChatML:   0%|          | 0/183 [00:00<?, ? examples/s]"
      ]
     },
     "metadata": {},
     "output_type": "display_data"
    },
    {
     "data": {
      "application/vnd.jupyter.widget-view+json": {
       "model_id": "7a10e8dafde449308727e45845174f1c",
       "version_major": 2,
       "version_minor": 0
      },
      "text/plain": [
       "Adding EOS to train dataset:   0%|          | 0/183 [00:00<?, ? examples/s]"
      ]
     },
     "metadata": {},
     "output_type": "display_data"
    },
    {
     "data": {
      "application/vnd.jupyter.widget-view+json": {
       "model_id": "5c18c7fd612b4bb1bacde3b9b7c6d846",
       "version_major": 2,
       "version_minor": 0
      },
      "text/plain": [
       "Tokenizing train dataset:   0%|          | 0/183 [00:00<?, ? examples/s]"
      ]
     },
     "metadata": {},
     "output_type": "display_data"
    },
    {
     "data": {
      "application/vnd.jupyter.widget-view+json": {
       "model_id": "cb7ac8ab7c424f6f9d800522ab74a078",
       "version_major": 2,
       "version_minor": 0
      },
      "text/plain": [
       "Truncating train dataset:   0%|          | 0/183 [00:00<?, ? examples/s]"
      ]
     },
     "metadata": {},
     "output_type": "display_data"
    },
    {
     "name": "stderr",
     "output_type": "stream",
     "text": [
      "No label_names provided for model class `PeftModelForCausalLM`. Since `PeftModel` hides base models input arguments, if label_names is not given, label_names can't be set automatically within `Trainer`. Note that empty label_names list will be used instead.\n"
     ]
    }
   ],
   "source": [
    "from trl import SFTTrainer, SFTConfig\n",
    "\n",
    "training_args = SFTConfig(output_dir=\"../outputs/gemma-2b-finetune\",\n",
    "    per_device_train_batch_size=2, # 4 with 512\n",
    "    gradient_accumulation_steps=2,\n",
    "    learning_rate=2e-4,\n",
    "    logging_steps=10,\n",
    "    num_train_epochs=1, # 3\n",
    "    fp16=True,\n",
    "    save_strategy=\"epoch\",\n",
    "    max_length=1024, # 1024 or 2048\n",
    "    #tokenizer=tokenizer\n",
    ")\n",
    "\n",
    "# Create trainer\n",
    "trainer = SFTTrainer(\n",
    "    model=model,\n",
    "    train_dataset=ds, # add eval dataset later\n",
    "    peft_config=peft_config,\n",
    "    formatting_func=formatting_prompts_func,\n",
    "    args=training_args\n",
    ")"
   ]
  },
  {
   "cell_type": "code",
   "execution_count": 16,
   "id": "11835cd0",
   "metadata": {},
   "outputs": [
    {
     "data": {
      "text/html": [
       "\n",
       "    <div>\n",
       "      \n",
       "      <progress value='46' max='46' style='width:300px; height:20px; vertical-align: middle;'></progress>\n",
       "      [46/46 13:37, Epoch 1/1]\n",
       "    </div>\n",
       "    <table border=\"1\" class=\"dataframe\">\n",
       "  <thead>\n",
       " <tr style=\"text-align: left;\">\n",
       "      <th>Step</th>\n",
       "      <th>Training Loss</th>\n",
       "    </tr>\n",
       "  </thead>\n",
       "  <tbody>\n",
       "    <tr>\n",
       "      <td>10</td>\n",
       "      <td>0.590900</td>\n",
       "    </tr>\n",
       "    <tr>\n",
       "      <td>20</td>\n",
       "      <td>0.288900</td>\n",
       "    </tr>\n",
       "    <tr>\n",
       "      <td>30</td>\n",
       "      <td>0.200600</td>\n",
       "    </tr>\n",
       "    <tr>\n",
       "      <td>40</td>\n",
       "      <td>0.191600</td>\n",
       "    </tr>\n",
       "  </tbody>\n",
       "</table><p>"
      ],
      "text/plain": [
       "<IPython.core.display.HTML object>"
      ]
     },
     "metadata": {},
     "output_type": "display_data"
    },
    {
     "data": {
      "text/plain": [
       "TrainOutput(global_step=46, training_loss=0.29740623935409216, metrics={'train_runtime': 836.2324, 'train_samples_per_second': 0.219, 'train_steps_per_second': 0.055, 'total_flos': 2196961897319424.0, 'train_loss': 0.29740623935409216})"
      ]
     },
     "execution_count": 16,
     "metadata": {},
     "output_type": "execute_result"
    }
   ],
   "source": [
    "trainer.train()"
   ]
  },
  {
   "cell_type": "code",
   "execution_count": 17,
   "id": "0b8048bc",
   "metadata": {},
   "outputs": [],
   "source": [
    "# Save model\n",
    "#trainer.save_model(\"../models/nlpmaxxing-GaMS-9B-rtvslo-trfc\")"
   ]
  },
  {
   "cell_type": "code",
   "execution_count": 18,
   "id": "2454129d",
   "metadata": {},
   "outputs": [
    {
     "data": {
      "application/vnd.jupyter.widget-view+json": {
       "model_id": "f2a4fcd945a64ba590cd5b5c313cecca",
       "version_major": 2,
       "version_minor": 0
      },
      "text/plain": [
       "Loading checkpoint shards:   0%|          | 0/3 [00:00<?, ?it/s]"
      ]
     },
     "metadata": {},
     "output_type": "display_data"
    }
   ],
   "source": [
    "from transformers import TextStreamer, AutoModelForCausalLM, AutoTokenizer\n",
    "\n",
    "finetuned_model = AutoModelForCausalLM.from_pretrained(\"../models/nlpmaxxing-GaMS-9B-rtvslo-trfc\")\n",
    "finetuned_model.to(\"cuda\")\n",
    "\n",
    "tokenizer = AutoTokenizer.from_pretrained(\"../models/nlpmaxxing-GaMS-9B-rtvslo-trfc\")"
   ]
  },
  {
   "cell_type": "code",
   "execution_count": 19,
   "id": "fbd1f34a",
   "metadata": {},
   "outputs": [],
   "source": [
    "def trained():\n",
    "\n",
    "    prompt = format_inference_prompt({\n",
    "        \"input\": ds.select(range(1))[\"input\"][0],\n",
    "        \"target\": ds.select(range(1))[\"target\"][0],\n",
    "    })\n",
    "\n",
    "    target = ds.select(range(1))[\"target\"][0]\n",
    "\n",
    "    \n",
    "    inputs = tokenizer(prompt, return_tensors='pt').to(\"cuda\")\n",
    "\n",
    "    input_size = inputs.input_ids.shape[1] - 5 # to include '## Traffic Report:'\n",
    "\n",
    "    generated_tokens = finetuned_model.generate(inputs[\"input_ids\"], max_new_tokens=200)\n",
    "\n",
    "    \n",
    "\n",
    "    output = tokenizer.decode(\n",
    "        generated_tokens[0][input_size:], \n",
    "        skip_special_tokens=True\n",
    "    )\n",
    "\n",
    "\n",
    "    dash_line = '-'.join('' for x in range(100))\n",
    "    print(dash_line)\n",
    "    print(f'INPUT PROMPT:\\n{prompt}')\n",
    "    print(dash_line)\n",
    "    print(f'BASELINE HUMAN REPORT:\\n{target}\\n')\n",
    "    print(dash_line)\n",
    "    print(f'MODEL GENERATION - ZERO SHOT:\\n{output}')"
   ]
  },
  {
   "cell_type": "code",
   "execution_count": 20,
   "id": "ee1d8826",
   "metadata": {},
   "outputs": [],
   "source": [
    "from transformers import pipeline\n",
    "\n",
    "#pipe = pipeline(model=\"../models/nlpmaxxing-GaMS-9B-rtvslo-trfc\", return_full_text=False)"
   ]
  },
  {
   "cell_type": "code",
   "execution_count": 21,
   "id": "0372c8de",
   "metadata": {},
   "outputs": [],
   "source": [
    "prompt = format_inference_prompt({\n",
    "    \"input\": ds.select(range(1))[\"input\"][0],\n",
    "    \"target\": ds.select(range(1))[\"target\"][0],\n",
    "})\n",
    "\n",
    "#print(pipe(prompt))"
   ]
  },
  {
   "cell_type": "code",
   "execution_count": 22,
   "id": "1bcf9b86",
   "metadata": {},
   "outputs": [
    {
     "name": "stdout",
     "output_type": "stream",
     "text": [
      "---------------------------------------------------------------------------------------------------\n",
      "INPUT PROMPT:\n",
      "\n",
      "Generate a traffic report from the following input data.\n",
      "\n",
      "## Inputs:\n",
      "\n",
      "### Input 1:\n",
      "\n",
      "#### B1:\n",
      "Vreme \n",
      "\n",
      " Ponekod po Sloveniji megla v pasovih zmanjšuje vidljivost. Prilagodite hitrost! \n",
      "\n",
      " Omejitve za tovorna vozila \n",
      "\n",
      " Po Sloveniji velja med prazniki omejitev za tovorna vozila z največjo dovoljeno maso nad 7,5 ton:- danes, 1. 1., od 8. do 22. ure;- v nedeljo, 2. 1., od 8. do 22. ure. \n",
      "\n",
      " Od 30. decembra je v veljavi sprememba omejitve za tovorna vozila nad 7,5 ton. Več. \n",
      "\n",
      " Dela \n",
      "\n",
      " Na primorski avtocesti je ponovno odprt priključek Črni Kal v obe smeri.\n",
      "\n",
      "#### ContentVreme:\n",
      "Ponekod po Sloveniji megla v pasovih zmanjšuje vidljivost. Prilagodite hitrost!\n",
      "\n",
      "#### TitleDeloNaCesti:\n",
      "Dela\n",
      "\n",
      "#### ContentDeloNaCesti:\n",
      "Na primorski avtocesti je ponovno odprt priključek Črni Kal v obe smeri.\n",
      "\n",
      "#### TitleOpozorila:\n",
      "Omejitve za tovorna vozila\n",
      "\n",
      "#### ContentOpozorila:\n",
      "Po Sloveniji velja med prazniki omejitev za tovorna vozila z največjo dovoljeno maso nad 7,5 ton:- danes, 1. 1., od 8. do 22. ure;- v nedeljo, 2. 1., od 8. do 22. ure. \n",
      "\n",
      " Od 30. decembra je v veljavi sprememba omejitve za tovorna vozila nad 7,5 ton. Več.### Input 2:\n",
      "\n",
      "#### B1:\n",
      "Vreme \n",
      "\n",
      " Ponekod po Sloveniji megla v pasovih zmanjšuje vidljivost. Prilagodite hitrost! \n",
      "\n",
      " Omejitve za tovorna vozila \n",
      "\n",
      " Po Sloveniji velja med prazniki omejitev za tovorna vozila z največjo dovoljeno maso nad 7,5 ton:- danes, 1. 1., od 8. do 22. ure;- v nedeljo, 2. 1., od 8. do 22. ure. \n",
      "\n",
      " Od 30. decembra je v veljavi sprememba omejitve za tovorna vozila nad 7,5 ton. Več. \n",
      "\n",
      " Dela \n",
      "\n",
      " Na primorski avtocesti je ponovno odprt priključek Črni Kal v obe smeri.\n",
      "\n",
      "#### ContentVreme:\n",
      "Ponekod po Sloveniji megla v pasovih zmanjšuje vidljivost. Prilagodite hitrost!\n",
      "\n",
      "#### TitleDeloNaCesti:\n",
      "Dela\n",
      "\n",
      "#### ContentDeloNaCesti:\n",
      "Na primorski avtocesti je ponovno odprt priključek Črni Kal v obe smeri.\n",
      "\n",
      "#### TitleOpozorila:\n",
      "Omejitve za tovorna vozila\n",
      "\n",
      "#### ContentOpozorila:\n",
      "Po Sloveniji velja med prazniki omejitev za tovorna vozila z največjo dovoljeno maso nad 7,5 ton:- danes, 1. 1., od 8. do 22. ure;- v nedeljo, 2. 1., od 8. do 22. ure. \n",
      "\n",
      " Od 30. decembra je v veljavi sprememba omejitve za tovorna vozila nad 7,5 ton. Več.### Input 3:\n",
      "\n",
      "#### B1:\n",
      "Vreme \n",
      "\n",
      " Ponekod po Sloveniji megla v pasovih zmanjšuje vidljivost. Prilagodite hitrost! \n",
      "\n",
      " Omejitve za tovorna vozila \n",
      "\n",
      " Po Sloveniji velja med prazniki omejitev za tovorna vozila z največjo dovoljeno maso nad 7,5 ton:- danes, 1. 1., od 8. do 22. ure;- v nedeljo, 2. 1., od 8. do 22. ure. \n",
      "\n",
      " Od 30. decembra je v veljavi sprememba omejitve za tovorna vozila nad 7,5 ton. Več. \n",
      "\n",
      " Dela \n",
      "\n",
      " Na primorski avtocesti je ponovno odprt priključek Črni Kal v obe smeri.\n",
      "\n",
      "#### ContentVreme:\n",
      "Ponekod po Sloveniji megla v pasovih zmanjšuje vidljivost. Prilagodite hitrost!\n",
      "\n",
      "#### TitleDeloNaCesti:\n",
      "Dela\n",
      "\n",
      "#### ContentDeloNaCesti:\n",
      "Na primorski avtocesti je ponovno odprt priključek Črni Kal v obe smeri.\n",
      "\n",
      "#### TitleOpozorila:\n",
      "Omejitve za tovorna vozila\n",
      "\n",
      "#### ContentOpozorila:\n",
      "Po Sloveniji velja med prazniki omejitev za tovorna vozila z največjo dovoljeno maso nad 7,5 ton:- danes, 1. 1., od 8. do 22. ure;- v nedeljo, 2. 1., od 8. do 22. ure. \n",
      "\n",
      " Od 30. decembra je v veljavi sprememba omejitve za tovorna vozila nad 7,5 ton. Več.### Input 4:\n",
      "\n",
      "#### B1:\n",
      "Vreme \n",
      "\n",
      " Ponekod po Sloveniji megla v pasovih zmanjšuje vidljivost. Prilagodite hitrost! \n",
      "\n",
      " Omejitve za tovorna vozila \n",
      "\n",
      " Po Sloveniji velja med prazniki omejitev za tovorna vozila z največjo dovoljeno maso nad 7,5 ton:- danes, 1. 1., od 8. do 22. ure;- v nedeljo, 2. 1., od 8. do 22. ure. \n",
      "\n",
      " Od 30. decembra je v veljavi sprememba omejitve za tovorna vozila nad 7,5 ton. Več. \n",
      "\n",
      " Dela \n",
      "\n",
      " Na primorski avtocesti je ponovno odprt priključek Črni Kal v obe smeri.\n",
      "\n",
      "#### ContentVreme:\n",
      "Ponekod po Sloveniji megla v pasovih zmanjšuje vidljivost. Prilagodite hitrost!\n",
      "\n",
      "#### TitleDeloNaCesti:\n",
      "Dela\n",
      "\n",
      "#### ContentDeloNaCesti:\n",
      "Na primorski avtocesti je ponovno odprt priključek Črni Kal v obe smeri.\n",
      "\n",
      "#### TitleOpozorila:\n",
      "Omejitve za tovorna vozila\n",
      "\n",
      "#### ContentOpozorila:\n",
      "Po Sloveniji velja med prazniki omejitev za tovorna vozila z največjo dovoljeno maso nad 7,5 ton:- danes, 1. 1., od 8. do 22. ure;- v nedeljo, 2. 1., od 8. do 22. ure. \n",
      "\n",
      " Od 30. decembra je v veljavi sprememba omejitve za tovorna vozila nad 7,5 ton. Več.### Input 5:\n",
      "\n",
      "#### B1:\n",
      "Vreme \n",
      "\n",
      " Ponekod po Sloveniji megla v pasovih zmanjšuje vidljivost. Prilagodite hitrost! \n",
      "\n",
      " Omejitve za tovorna vozila \n",
      "\n",
      " Po Sloveniji velja med prazniki omejitev za tovorna vozila z največjo dovoljeno maso nad 7,5 ton:- danes, 1. 1., od 8. do 22. ure;- v nedeljo, 2. 1., od 8. do 22. ure. \n",
      "\n",
      " Od 30. decembra je v veljavi sprememba omejitve za tovorna vozila nad 7,5 ton. Več. \n",
      "\n",
      " Dela \n",
      "\n",
      " Na primorski avtocesti je ponovno odprt priključek Črni Kal v obe smeri.\n",
      "\n",
      "#### ContentVreme:\n",
      "Ponekod po Sloveniji megla v pasovih zmanjšuje vidljivost. Prilagodite hitrost!\n",
      "\n",
      "#### TitleDeloNaCesti:\n",
      "Dela\n",
      "\n",
      "#### ContentDeloNaCesti:\n",
      "Na primorski avtocesti je ponovno odprt priključek Črni Kal v obe smeri.\n",
      "\n",
      "#### TitleOpozorila:\n",
      "Omejitve za tovorna vozila\n",
      "\n",
      "#### ContentOpozorila:\n",
      "Po Sloveniji velja med prazniki omejitev za tovorna vozila z največjo dovoljeno maso nad 7,5 ton:- danes, 1. 1., od 8. do 22. ure;- v nedeljo, 2. 1., od 8. do 22. ure. \n",
      "\n",
      " Od 30. decembra je v veljavi sprememba omejitve za tovorna vozila nad 7,5 ton. Več.### Input 6:\n",
      "\n",
      "#### B1:\n",
      "Vreme \n",
      "\n",
      " Ponekod po Sloveniji megla zmanjšuje vidljivost. Prilagodite hitrost! \n",
      "\n",
      " Omejitve za tovorna vozila \n",
      "\n",
      " Po Sloveniji velja med prazniki omejitev za tovorna vozila z največjo dovoljeno maso nad 7,5 ton:- danes, 1. 1., od 8. do 22. ure;- v nedeljo, 2. 1., od 8. do 22. ure. \n",
      "\n",
      " Od 30. decembra je v veljavi sprememba omejitve za tovorna vozila nad 7,5 ton. Več. \n",
      "\n",
      " Dela \n",
      "\n",
      " Na primorski avtocesti je ponovno odprt priključek Črni Kal v obe smeri.\n",
      "\n",
      "#### ContentVreme:\n",
      "Ponekod po Sloveniji megla zmanjšuje vidljivost. Prilagodite hitrost!\n",
      "\n",
      "#### TitleDeloNaCesti:\n",
      "Dela\n",
      "\n",
      "#### ContentDeloNaCesti:\n",
      "Na primorski avtocesti je ponovno odprt priključek Črni Kal v obe smeri.\n",
      "\n",
      "#### TitleOpozorila:\n",
      "Omejitve za tovorna vozila\n",
      "\n",
      "#### ContentOpozorila:\n",
      "Po Sloveniji velja med prazniki omejitev za tovorna vozila z največjo dovoljeno maso nad 7,5 ton:- danes, 1. 1., od 8. do 22. ure;- v nedeljo, 2. 1., od 8. do 22. ure. \n",
      "\n",
      " Od 30. decembra je v veljavi sprememba omejitve za tovorna vozila nad 7,5 ton. Več.### Input 7:\n",
      "\n",
      "#### B1:\n",
      "Vreme \n",
      "\n",
      " Ponekod po Sloveniji megla v pasovih zmanjšuje vidljivost. Prilagodite hitrost! \n",
      "\n",
      " Omejitve za tovorna vozila \n",
      "\n",
      " Po Sloveniji velja med prazniki omejitev za tovorna vozila z največjo dovoljeno maso nad 7,5 ton:- danes, 1. 1., od 8. do 22. ure;- v nedeljo, 2. 1., od 8. do 22. ure. \n",
      "\n",
      " Od 30. decembra je v veljavi sprememba omejitve za tovorna vozila nad 7,5 ton. Več. \n",
      "\n",
      " Dela \n",
      "\n",
      " Na primorski avtocesti je ponovno odprt priključek Črni Kal v obe smeri.\n",
      "\n",
      "#### ContentVreme:\n",
      "Ponekod po Sloveniji megla v pasovih zmanjšuje vidljivost. Prilagodite hitrost!\n",
      "\n",
      "#### TitleDeloNaCesti:\n",
      "Dela\n",
      "\n",
      "#### ContentDeloNaCesti:\n",
      "Na primorski avtocesti je ponovno odprt priključek Črni Kal v obe smeri.\n",
      "\n",
      "#### TitleOpozorila:\n",
      "Omejitve za tovorna vozila\n",
      "\n",
      "#### ContentOpozorila:\n",
      "Po Sloveniji velja med prazniki omejitev za tovorna vozila z največjo dovoljeno maso nad 7,5 ton:- danes, 1. 1., od 8. do 22. ure;- v nedeljo, 2. 1., od 8. do 22. ure. \n",
      "\n",
      " Od 30. decembra je v veljavi sprememba omejitve za tovorna vozila nad 7,5 ton. Več.### Input 8:\n",
      "\n",
      "#### B1:\n",
      "Vreme \n",
      "\n",
      " Ponekod po Sloveniji megla v pasovih zmanjšuje vidljivost. Prilagodite hitrost! \n",
      "\n",
      " Omejitve za tovorna vozila \n",
      "\n",
      " Po Sloveniji velja med prazniki omejitev za tovorna vozila z največjo dovoljeno maso nad 7,5 ton:- danes, od 8. do 22. ure;- v nedeljo, 2. 1., od 8. do 22. ure. \n",
      "\n",
      " Od 30. decembra je v veljavi sprememba omejitve za tovorna vozila nad 7,5 ton. Več. \n",
      "\n",
      " Dela \n",
      "\n",
      " Na primorski avtocesti je ponovno odprt priključek Črni Kal v obe smeri.\n",
      "\n",
      "#### ContentVreme:\n",
      "Ponekod po Sloveniji megla v pasovih zmanjšuje vidljivost. Prilagodite hitrost!\n",
      "\n",
      "#### TitleDeloNaCesti:\n",
      "Dela\n",
      "\n",
      "#### ContentDeloNaCesti:\n",
      "Na primorski avtocesti je ponovno odprt priključek Črni Kal v obe smeri.\n",
      "\n",
      "#### TitleOpozorila:\n",
      "Omejitve za tovorna vozila\n",
      "\n",
      "#### ContentOpozorila:\n",
      "Po Sloveniji velja med prazniki omejitev za tovorna vozila z največjo dovoljeno maso nad 7,5 ton:- danes, od 8. do 22. ure;- v nedeljo, 2. 1., od 8. do 22. ure. \n",
      "\n",
      " Od 30. decembra je v veljavi sprememba omejitve za tovorna vozila nad 7,5 ton. Več.\n",
      "\n",
      "## Traffic Report:\n",
      "\n",
      "---------------------------------------------------------------------------------------------------\n",
      "BASELINE HUMAN REPORT:\n",
      "Prometne informacije       01. 01. 2022  \t   06.00           1. in 2. program  \n",
      "\n",
      " Podatki o prometu. \n",
      "\n",
      " Ponekod po državi megla zmanjšuje vidljivost. \n",
      "\n",
      " Zaradi del je na vzhodni mariborski obvoznici v obe smeri zaprt prehitevalni pas med razcepom Dragučova in priključkom Pesnica.\n",
      "\n",
      "---------------------------------------------------------------------------------------------------\n",
      "MODEL GENERATION - ZERO SHOT:\n",
      "## Traffic Report:\n",
      " \n",
      "\n",
      "Vreme \n",
      "\n",
      " Ponekod po Sloveniji megla v pasovih zmanjšuje vidljivost. Prilagodite hitrost! \n",
      "\n",
      " Omejitve za tovorna vozila \n",
      "\n",
      " Po Sloveniji velja med prazniki omejitev za tovorna vozila z največjo dovoljeno maso nad 7,5 ton:- danes, od 8. do 22. ure;- v nedeljo, 2. 1., od 8. do 22. ure. \n",
      "\n",
      " Od 30. decembra je v veljavi sprememba omejitve za tovorna vozila nad 7,5 ton. Več. \n",
      "\n",
      " Dela \n",
      "\n",
      " Na primorski avtocesti je ponovno odprt priključek Črni Kal v obe smeri.\n",
      "\n",
      "## External Links:\n",
      "\n",
      "Mednarodne informacije o prometu:\n",
      "  \n",
      "\n",
      "Slovenske informacije o prometu\n"
     ]
    }
   ],
   "source": [
    "trained()"
   ]
  }
 ],
 "metadata": {
  "kernelspec": {
   "display_name": ".venv",
   "language": "python",
   "name": "python3"
  },
  "language_info": {
   "codemirror_mode": {
    "name": "ipython",
    "version": 3
   },
   "file_extension": ".py",
   "mimetype": "text/x-python",
   "name": "python",
   "nbconvert_exporter": "python",
   "pygments_lexer": "ipython3",
   "version": "3.12.9"
  }
 },
 "nbformat": 4,
 "nbformat_minor": 5
}

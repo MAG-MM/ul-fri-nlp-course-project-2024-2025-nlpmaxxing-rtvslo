{
 "cells": [
  {
   "cell_type": "markdown",
   "id": "d48b61e3",
   "metadata": {},
   "source": [
    "### This file converts the raw csv dataset into a hugging face dataset."
   ]
  },
  {
   "cell_type": "code",
   "execution_count": 1,
   "id": "eeb5dfed",
   "metadata": {},
   "outputs": [],
   "source": [
    "import polars as pl\n",
    "\n",
    "#df_full = pl.read_csv(\"../data/dataset-train.csv\")\n",
    "\n",
    "#df_tiny = df_full.limit(1000)\n",
    "\n",
    "#df_tiny.write_csv(\"../data/dataset-tiny.csv\")\n",
    "\n",
    "df_tiny = pl.read_csv(\"../data/dataset-tiny.csv\")\n",
    "df_train = pl.read_csv(\"../data/dataset-train.csv\")\n",
    "df_test = pl.read_csv(\"../data/dataset-test.csv\")\n",
    "df_test_mini = pl.read_csv(\"../data/dataset-test-mini.csv\")"
   ]
  },
  {
   "cell_type": "code",
   "execution_count": 2,
   "id": "114b1ad6",
   "metadata": {},
   "outputs": [
    {
     "data": {
      "text/plain": [
       "'\\nStructure:\\n  ...\\n  Example:\\n    ...\\n    Input_1_of_X:\\n      Input_ID:\\n      Input_Datetime:\\n      A1:\\n      B1:\\n      C1:\\n      ...\\n\\n    Output:\\n      OutputID:\\n      Output_Datetime:\\n      Nujna:\\n      Nova:\\n      Programs:\\n      Content:\\n\\n'"
      ]
     },
     "execution_count": 2,
     "metadata": {},
     "output_type": "execute_result"
    }
   ],
   "source": [
    "'''\n",
    "Structure:\n",
    "  ...\n",
    "  Example:\n",
    "    ...\n",
    "    Input_1_of_X:\n",
    "      Input_ID:\n",
    "      Input_Datetime:\n",
    "      A1:\n",
    "      B1:\n",
    "      C1:\n",
    "      ...\n",
    "        \n",
    "    Output:\n",
    "      OutputID:\n",
    "      Output_Datetime:\n",
    "      Nujna:\n",
    "      Nova:\n",
    "      Programs:\n",
    "      Content:\n",
    "\n",
    "'''"
   ]
  },
  {
   "cell_type": "code",
   "execution_count": 12,
   "id": "01cf1bd5",
   "metadata": {},
   "outputs": [],
   "source": [
    "def extract_sample(row):\n",
    "    return {\n",
    "        \"output\": {\n",
    "            \"id\": row['id_output'],\n",
    "            \"datetime\": row['datetime_output'],\n",
    "            \"nujna\": row['nujna'],\n",
    "            \"nova\": row['nova'],\n",
    "            \"programs\": row['programs'],\n",
    "            \"content\": row['content']\n",
    "        },\n",
    "        \"inputs\": []\n",
    "    }\n",
    "\n",
    "def extract_input(row):\n",
    "    return {\n",
    "        \"id\": row['id_input'],\n",
    "        \"datetime\": row['datetime_input'],\n",
    "        \"A1\": row['A1'],\n",
    "        \"B1\": row['B1'],\n",
    "        \"C1\": row['C1'],\n",
    "        \"TitlePomembno\": row['TitlePomembnoSLO'],\n",
    "        \"ContentPomembno\": row['ContentPomembnoSLO'],\n",
    "        \"TitleNesrece\": row['TitleNesreceSLO'],\n",
    "        \"ContentNesrece\": row['ContentNesreceSLO'],\n",
    "        \"TitleZastoji\": row['TitleZastojiSLO'],\n",
    "        \"ContentZastoji\": row['ContentZastojiSLO'],\n",
    "        \"TitleVreme\": row['TitleVremeSLO'],\n",
    "        \"ContentVreme\": row['ContentVremeSLO'],\n",
    "        \"TitleOvire\": row['TitleOvireSLO'],\n",
    "        \"ContentOvire\": row['ContentOvireSLO'],\n",
    "        \"TitleDeloNaCesti\": row['TitleDeloNaCestiSLO'],\n",
    "        \"ContentDeloNaCesti\": row['ContentDeloNaCestiSLO'],\n",
    "        \"TitleOpozorila\": row['TitleOpozorilaSLO'],\n",
    "        \"ContentOpozorila\": row['ContentOpozorilaSLO'],\n",
    "        \"TitleMednarodneInformacije\": row['TitleMednarodneInformacijeSLO'],\n",
    "        \"ContentMednarodneInformacije\": row['ContentMednarodneInformacijeSLO'],\n",
    "        \"TitleSplosno\": row['TitleSplosnoSLO'],\n",
    "        \"ContentSplosno\": row['ContentSplosnoSLO'],\n",
    "    }\n",
    "\n",
    "def find_sample_index(samples, id):\n",
    "    for index, element in enumerate(samples):\n",
    "        if element['output']['id'] == id:\n",
    "            return index\n",
    "        \n",
    "    return None\n",
    "\n",
    "def build_dataset(df):\n",
    "    samples = []\n",
    "\n",
    "    for row in df.iter_rows(named=True):\n",
    "        index = find_sample_index(samples, row['id_output'])\n",
    "        if index == None:\n",
    "            samples.append(extract_sample(row))\n",
    "            index = find_sample_index(samples, row['id_output'])\n",
    "\n",
    "        if index != None:\n",
    "            samples[index]['inputs'].append(extract_input(row))\n",
    "\n",
    "    return split_inputs(samples)\n",
    "\n",
    "def split_inputs(merged_list):\n",
    "    s_list = []\n",
    "\n",
    "    for sample in merged_list:\n",
    "        total_inputs = len(sample['inputs'])\n",
    "        current_input = 1\n",
    "        for i in sample['inputs']:\n",
    "            extended_input = {\n",
    "                **i,\n",
    "                \"input_index\": current_input,\n",
    "                \"total_inputs\": total_inputs\n",
    "            }\n",
    "            s_list.append({\n",
    "                \"input\": extended_input,\n",
    "                \"output\": sample['output'],\n",
    "            })\n",
    "            current_input = current_input + 1\n",
    "\n",
    "    return s_list\n",
    "\n"
   ]
  },
  {
   "cell_type": "code",
   "execution_count": 14,
   "id": "51005540",
   "metadata": {},
   "outputs": [],
   "source": [
    "# build_dataset(df_tiny)"
   ]
  },
  {
   "cell_type": "code",
   "execution_count": 16,
   "id": "0fce7628",
   "metadata": {},
   "outputs": [],
   "source": [
    "from datasets import Dataset\n",
    "\n",
    "d_tiny = build_dataset(df_tiny)\n",
    "d_test = build_dataset(df_test)\n",
    "d_test_mini = build_dataset(df_test_mini)\n",
    "d_train = build_dataset(df_train)\n",
    "\n",
    "ds_tiny = Dataset.from_list(d_tiny)\n",
    "ds_test = Dataset.from_list(d_test)\n",
    "ds_test_mini = Dataset.from_list(d_test_mini)\n",
    "ds_train = Dataset.from_list(d_train)"
   ]
  },
  {
   "cell_type": "code",
   "execution_count": 5,
   "id": "61981caa",
   "metadata": {},
   "outputs": [],
   "source": [
    "#print(d[0][\"inputs\"][0][\"B1\"])"
   ]
  },
  {
   "cell_type": "code",
   "execution_count": 17,
   "id": "3b16a8b3",
   "metadata": {},
   "outputs": [
    {
     "data": {
      "text/plain": [
       "Dataset({\n",
       "    features: ['input', 'output'],\n",
       "    num_rows: 1000\n",
       "})"
      ]
     },
     "execution_count": 17,
     "metadata": {},
     "output_type": "execute_result"
    }
   ],
   "source": [
    "ds_tiny"
   ]
  },
  {
   "cell_type": "code",
   "execution_count": 18,
   "id": "241ef1f7",
   "metadata": {},
   "outputs": [
    {
     "data": {
      "application/vnd.jupyter.widget-view+json": {
       "model_id": "ec615d006c7f48368d7db72a64eba43c",
       "version_major": 2,
       "version_minor": 0
      },
      "text/plain": [
       "Saving the dataset (0/1 shards):   0%|          | 0/1000 [00:00<?, ? examples/s]"
      ]
     },
     "metadata": {},
     "output_type": "display_data"
    },
    {
     "data": {
      "application/vnd.jupyter.widget-view+json": {
       "model_id": "d57c11e4521f4a0d858eb7f2ce628ba7",
       "version_major": 2,
       "version_minor": 0
      },
      "text/plain": [
       "Saving the dataset (0/1 shards):   0%|          | 0/35009 [00:00<?, ? examples/s]"
      ]
     },
     "metadata": {},
     "output_type": "display_data"
    },
    {
     "data": {
      "application/vnd.jupyter.widget-view+json": {
       "model_id": "94fdaf345e3e4ef78f96b88460fc736b",
       "version_major": 2,
       "version_minor": 0
      },
      "text/plain": [
       "Saving the dataset (0/1 shards):   0%|          | 0/1553 [00:00<?, ? examples/s]"
      ]
     },
     "metadata": {},
     "output_type": "display_data"
    },
    {
     "data": {
      "application/vnd.jupyter.widget-view+json": {
       "model_id": "fe5177dd5747432d8e4802bb205330a9",
       "version_major": 2,
       "version_minor": 0
      },
      "text/plain": [
       "Saving the dataset (0/1 shards):   0%|          | 0/115757 [00:00<?, ? examples/s]"
      ]
     },
     "metadata": {},
     "output_type": "display_data"
    }
   ],
   "source": [
    "ds_tiny.save_to_disk(\"../data/hf-split/dataset-tiny\")\n",
    "ds_test.save_to_disk(\"../data/hf-split/dataset-test\")\n",
    "ds_test_mini.save_to_disk(\"../data/hf-split/dataset-test-mini\")\n",
    "ds_train.save_to_disk(\"../data/hf-split/dataset-train\")"
   ]
  }
 ],
 "metadata": {
  "kernelspec": {
   "display_name": ".venv",
   "language": "python",
   "name": "python3"
  },
  "language_info": {
   "codemirror_mode": {
    "name": "ipython",
    "version": 3
   },
   "file_extension": ".py",
   "mimetype": "text/x-python",
   "name": "python",
   "nbconvert_exporter": "python",
   "pygments_lexer": "ipython3",
   "version": "3.12.9"
  }
 },
 "nbformat": 4,
 "nbformat_minor": 5
}
